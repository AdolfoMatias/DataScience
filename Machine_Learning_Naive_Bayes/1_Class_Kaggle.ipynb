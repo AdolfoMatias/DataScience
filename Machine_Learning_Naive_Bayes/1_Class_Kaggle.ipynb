{
  "nbformat": 4,
  "nbformat_minor": 0,
  "metadata": {
    "colab": {
      "name": "Aula 6- Extra Class : Kaggle.ipynb",
      "provenance": [],
      "collapsed_sections": []
    },
    "kernelspec": {
      "name": "python3",
      "display_name": "Python 3"
    },
    "language_info": {
      "name": "python"
    }
  },
  "cells": [
    {
      "cell_type": "markdown",
      "source": [
        "# <center>PREVISÃO DE TRANSPORTADOS - COMPETIÇÃO KAGGLE</center>\n"
      ],
      "metadata": {
        "id": "ozEi8zdtZCQt"
      }
    },
    {
      "cell_type": "markdown",
      "source": [
        "As competições kaggle são muito úteis para o desenvolvimento de habilidades e treinamento de profissionais na área de dados. Diante de tudo isso, iremos utilizar um conjunto de dados intitulado \"Spaceship-Titanic\".<br>\n",
        "Segundo as informações do conjunto de dados, era uma nave que transportava passageiros, mas de alguma forma a nave colidiu com algum objeto estranho. Porém alguns dados do sistema computacional foram restaurados.<br>\n",
        "Baseado nisto, nossa missão será de fazer a previsão dos passageiros transportados para outra dimensão sobrevivendo a colisão.<br>\n",
        "\n",
        "\n"
      ],
      "metadata": {
        "id": "6Y7gtS5qZSJu"
      }
    },
    {
      "cell_type": "markdown",
      "source": [
        "Para darmos ínicio ao projeto, você precisará criar uma conta no kaggle e baixar sua API que fora ensinado no nosso tutorial no MEDIUM. Feito o download você pode anexar em arquivos ao lado ou utilizar diretamente do seu drive.<br>\n",
        "Ao anexar a sua chave do kaggle, você precisará ter a biblioteca do kaggle instalada no seu colab, mas já deixei tudo pronto logo abaixo. Inclusive a permissão de uso da chave kaggle com chmod e também o código de donwload do conjunto de dados do Spaceship-Titanic. Assim, daremos ínicio ao nosso projeto.<br>\n"
      ],
      "metadata": {
        "id": "1ve_Wpj2C15o"
      }
    },
    {
      "cell_type": "markdown",
      "source": [
        "## PREPARAÇÃO AMBIENTE"
      ],
      "metadata": {
        "id": "NBTwqZN2jwHQ"
      }
    },
    {
      "cell_type": "code",
      "execution_count": 1,
      "metadata": {
        "id": "vl_S4vlnQ8Hd"
      },
      "outputs": [],
      "source": [
        " #instalando a biblioteca do kaggle mais recente no seu colab, retirar o # antes do !pip\n",
        " #!pip install kaggle --upgrade"
      ]
    },
    {
      "cell_type": "code",
      "source": [
        " #criando um diretório para sua chave kaggle e vendo se deu certo com o comando ls\n",
        " !mkdir -p ~/.kaggle\n",
        " !cp kaggle.json ~/.kaggle/\n",
        " !ls ~/.kaggle"
      ],
      "metadata": {
        "id": "rS8UeI3uRDQm",
        "colab": {
          "base_uri": "https://localhost:8080/"
        },
        "outputId": "39926dc5-4b31-4a1a-f8c7-75a119cbfb6a"
      },
      "execution_count": 2,
      "outputs": [
        {
          "output_type": "stream",
          "name": "stdout",
          "text": [
            "kaggle.json\n"
          ]
        }
      ]
    },
    {
      "cell_type": "code",
      "source": [
        "#autorizando o uso da chave kaggle\n",
        "#!chmod 600 ~/.kaggle.json"
      ],
      "metadata": {
        "id": "h5GGSETDRZ8V"
      },
      "execution_count": 36,
      "outputs": []
    },
    {
      "cell_type": "code",
      "source": [
        " #Download do conjunto de dados do Spaceship-Titanic\n",
        " !kaggle competitions download -c spaceship-titanic"
      ],
      "metadata": {
        "id": "flvx5DwvR_Tc",
        "colab": {
          "base_uri": "https://localhost:8080/"
        },
        "outputId": "ea581bf9-22d7-4b52-eec6-50fb383c2b78"
      },
      "execution_count": 4,
      "outputs": [
        {
          "output_type": "stream",
          "name": "stdout",
          "text": [
            "Warning: Your Kaggle API key is readable by other users on this system! To fix this, you can run 'chmod 600 /root/.kaggle/kaggle.json'\n",
            "Downloading spaceship-titanic.zip to /content\n",
            "  0% 0.00/299k [00:00<?, ?B/s]\n",
            "100% 299k/299k [00:00<00:00, 54.7MB/s]\n"
          ]
        }
      ]
    },
    {
      "cell_type": "markdown",
      "source": [
        "<strong>Alerta:</strong> Se der \"401 - Unauthorized\" você precisará baixar uma chave kaggle.json mais recente."
      ],
      "metadata": {
        "id": "5wyk46pIm822"
      }
    },
    {
      "cell_type": "code",
      "source": [
        "# a base de dados vem em formato zip, basta apenas rodar o comando unzip\n",
        "! unzip spaceship-titanic.zip"
      ],
      "metadata": {
        "colab": {
          "base_uri": "https://localhost:8080/"
        },
        "id": "K_VdMm3kwDR_",
        "outputId": "2967684a-d3da-4a65-a99c-7e813869b604"
      },
      "execution_count": 5,
      "outputs": [
        {
          "output_type": "stream",
          "name": "stdout",
          "text": [
            "Archive:  spaceship-titanic.zip\n",
            "  inflating: sample_submission.csv   \n",
            "  inflating: test.csv                \n",
            "  inflating: train.csv               \n"
          ]
        }
      ]
    },
    {
      "cell_type": "markdown",
      "source": [
        "\n",
        "# 1 - COMPETIÇÃO KAGGLE"
      ],
      "metadata": {
        "id": "ANndMyi_rLli"
      }
    },
    {
      "cell_type": "markdown",
      "source": [
        "Os dados estão dividos em três arquivos: \n",
        "- sample_submission.csv\n",
        "- train.csv\n",
        "- test.csv\n",
        "\n",
        "\n",
        "O que são?\n",
        "_____\n",
        "- train.csv: Registros pessoais de cerca de dois terços (8700) dos passageiros, para serem usados ​​como dados de treinamento.<br>\n",
        "- test.csv: Registros pessoais para o terço restante (~4300) dos passageiros, para serem usados ​​como dados de teste. Sua tarefa é prever o valor de Transportado para os passageiros neste conjunto.\n",
        "- sample_submission.csv - Um arquivo exemplo de envio no formato correto.\n"
      ],
      "metadata": {
        "id": "J0mw7BkrrJxy"
      }
    },
    {
      "cell_type": "markdown",
      "source": [
        "### 1.1 Dados das colunsa no conjunto de Train e Test"
      ],
      "metadata": {
        "id": "MrPq9NZ4hGB8"
      }
    },
    {
      "cell_type": "markdown",
      "source": [
        "\n",
        "- PassengerId - Um ID exclusivo para cada passageiro. Cada Id assume o formato gggg_pp, onde gggg indica um grupo com o qual o passageiro está viajando e pp é seu número dentro do grupo. As pessoas em um grupo geralmente são membros da família, mas nem sempre.\n",
        "- HomePlanet - O planeta de onde o passageiro partiu, normalmente seu planeta de residência permanente.\n",
        "- CryoSleep - Indica se o passageiro optou por ser colocado em animação suspensa durante a viagem. Os passageiros em sono criogênico estão confinados em suas cabines.\n",
        "- Cabin - O número da cabine onde o passageiro está hospedado. Assume o formato deck/num/side, onde o lado pode ser P para bombordo ou S para estibordo.\n",
        "- Destino - O planeta para o qual o passageiro irá desembarcar.\n",
        "- Age - A idade do passageiro.\n",
        "- VIP - Se o passageiro pagou pelo serviço VIP especial durante a viagem.\n",
        "- RoomService, FoodCourt, ShoppingMall, Spa, VRDeck - Valor que o passageiro cobrou em cada uma das muitas comodidades de luxo da Spaceship Titanic.\n",
        "- Name - O nome e sobrenome do passageiro.\n",
        "- Transportaded - Se o passageiro foi transportado para outra dimensão. Este é o alvo, a coluna que você está tentando prever. (Este valor só tem no conjunto de dados treinamento)\n"
      ],
      "metadata": {
        "id": "vZ0DMmxBqcjz"
      }
    },
    {
      "cell_type": "markdown",
      "source": [
        "### CARREGANDO BIBLITOECAS NECESSÁRIAS"
      ],
      "metadata": {
        "id": "IWx0leo6qW7S"
      }
    },
    {
      "cell_type": "code",
      "source": [
        "import pandas as pd #biblioteca para manipulação dos dados\n",
        "import numpy as np #biblioteca que nos permitirá fazer cálculos estatísticos\n",
        "import matplotlib.pyplot as plt #biblioteca de geração de gráficos\n",
        "\n",
        "#bibliotecas para encodar os dados(dummy)\n",
        "from sklearn.preprocessing import LabelEncoder, LabelBinarizer, StandardScaler\n",
        "#nosso modelo classificador Naive Bayes\n",
        "from sklearn.naive_bayes import GaussianNB\n",
        "#separação entre teste e treino\n",
        "from sklearn.model_selection import train_test_split\n",
        "\n",
        "#biblioteca de métricas\n",
        "from sklearn.metrics import confusion_matrix, accuracy_score, precision_score, recall_score, f1_score\n",
        "\n",
        "#geração de validação cruzada e avaliador\n",
        "from sklearn.model_selection import KFold\n",
        "from sklearn.model_selection import cross_val_score\n"
      ],
      "metadata": {
        "id": "jXXBotmUSHzF"
      },
      "execution_count": 6,
      "outputs": []
    },
    {
      "cell_type": "code",
      "source": [
        "#base de treino do nosso conjunto de dados\n",
        "base_treino = pd.read_csv(\"train.csv\")\n",
        "base_treino.info()"
      ],
      "metadata": {
        "colab": {
          "base_uri": "https://localhost:8080/"
        },
        "id": "YcxpVjpXSNQF",
        "outputId": "c84c9660-703d-47de-fd2f-3e8960ea097a"
      },
      "execution_count": 7,
      "outputs": [
        {
          "output_type": "stream",
          "name": "stdout",
          "text": [
            "<class 'pandas.core.frame.DataFrame'>\n",
            "RangeIndex: 8693 entries, 0 to 8692\n",
            "Data columns (total 14 columns):\n",
            " #   Column        Non-Null Count  Dtype  \n",
            "---  ------        --------------  -----  \n",
            " 0   PassengerId   8693 non-null   object \n",
            " 1   HomePlanet    8492 non-null   object \n",
            " 2   CryoSleep     8476 non-null   object \n",
            " 3   Cabin         8494 non-null   object \n",
            " 4   Destination   8511 non-null   object \n",
            " 5   Age           8514 non-null   float64\n",
            " 6   VIP           8490 non-null   object \n",
            " 7   RoomService   8512 non-null   float64\n",
            " 8   FoodCourt     8510 non-null   float64\n",
            " 9   ShoppingMall  8485 non-null   float64\n",
            " 10  Spa           8510 non-null   float64\n",
            " 11  VRDeck        8505 non-null   float64\n",
            " 12  Name          8493 non-null   object \n",
            " 13  Transported   8693 non-null   bool   \n",
            "dtypes: bool(1), float64(6), object(7)\n",
            "memory usage: 891.5+ KB\n"
          ]
        }
      ]
    },
    {
      "cell_type": "code",
      "source": [
        "#cabeçalho contendo as 5 primeiras linhas do conjunto de dados\n",
        "base_treino.head()"
      ],
      "metadata": {
        "id": "pkw3ubi_narQ",
        "colab": {
          "base_uri": "https://localhost:8080/",
          "height": 357
        },
        "outputId": "c61d04d9-d467-4cc0-881a-4b94869f85fe"
      },
      "execution_count": 8,
      "outputs": [
        {
          "output_type": "execute_result",
          "data": {
            "text/plain": [
              "  PassengerId HomePlanet CryoSleep  Cabin  Destination   Age    VIP  \\\n",
              "0     0001_01     Europa     False  B/0/P  TRAPPIST-1e  39.0  False   \n",
              "1     0002_01      Earth     False  F/0/S  TRAPPIST-1e  24.0  False   \n",
              "2     0003_01     Europa     False  A/0/S  TRAPPIST-1e  58.0   True   \n",
              "3     0003_02     Europa     False  A/0/S  TRAPPIST-1e  33.0  False   \n",
              "4     0004_01      Earth     False  F/1/S  TRAPPIST-1e  16.0  False   \n",
              "\n",
              "   RoomService  FoodCourt  ShoppingMall     Spa  VRDeck               Name  \\\n",
              "0          0.0        0.0           0.0     0.0     0.0    Maham Ofracculy   \n",
              "1        109.0        9.0          25.0   549.0    44.0       Juanna Vines   \n",
              "2         43.0     3576.0           0.0  6715.0    49.0      Altark Susent   \n",
              "3          0.0     1283.0         371.0  3329.0   193.0       Solam Susent   \n",
              "4        303.0       70.0         151.0   565.0     2.0  Willy Santantines   \n",
              "\n",
              "   Transported  \n",
              "0        False  \n",
              "1         True  \n",
              "2        False  \n",
              "3        False  \n",
              "4         True  "
            ],
            "text/html": [
              "\n",
              "  <div id=\"df-21ef8d2b-be27-4cec-98ca-a00aaa4ae520\">\n",
              "    <div class=\"colab-df-container\">\n",
              "      <div>\n",
              "<style scoped>\n",
              "    .dataframe tbody tr th:only-of-type {\n",
              "        vertical-align: middle;\n",
              "    }\n",
              "\n",
              "    .dataframe tbody tr th {\n",
              "        vertical-align: top;\n",
              "    }\n",
              "\n",
              "    .dataframe thead th {\n",
              "        text-align: right;\n",
              "    }\n",
              "</style>\n",
              "<table border=\"1\" class=\"dataframe\">\n",
              "  <thead>\n",
              "    <tr style=\"text-align: right;\">\n",
              "      <th></th>\n",
              "      <th>PassengerId</th>\n",
              "      <th>HomePlanet</th>\n",
              "      <th>CryoSleep</th>\n",
              "      <th>Cabin</th>\n",
              "      <th>Destination</th>\n",
              "      <th>Age</th>\n",
              "      <th>VIP</th>\n",
              "      <th>RoomService</th>\n",
              "      <th>FoodCourt</th>\n",
              "      <th>ShoppingMall</th>\n",
              "      <th>Spa</th>\n",
              "      <th>VRDeck</th>\n",
              "      <th>Name</th>\n",
              "      <th>Transported</th>\n",
              "    </tr>\n",
              "  </thead>\n",
              "  <tbody>\n",
              "    <tr>\n",
              "      <th>0</th>\n",
              "      <td>0001_01</td>\n",
              "      <td>Europa</td>\n",
              "      <td>False</td>\n",
              "      <td>B/0/P</td>\n",
              "      <td>TRAPPIST-1e</td>\n",
              "      <td>39.0</td>\n",
              "      <td>False</td>\n",
              "      <td>0.0</td>\n",
              "      <td>0.0</td>\n",
              "      <td>0.0</td>\n",
              "      <td>0.0</td>\n",
              "      <td>0.0</td>\n",
              "      <td>Maham Ofracculy</td>\n",
              "      <td>False</td>\n",
              "    </tr>\n",
              "    <tr>\n",
              "      <th>1</th>\n",
              "      <td>0002_01</td>\n",
              "      <td>Earth</td>\n",
              "      <td>False</td>\n",
              "      <td>F/0/S</td>\n",
              "      <td>TRAPPIST-1e</td>\n",
              "      <td>24.0</td>\n",
              "      <td>False</td>\n",
              "      <td>109.0</td>\n",
              "      <td>9.0</td>\n",
              "      <td>25.0</td>\n",
              "      <td>549.0</td>\n",
              "      <td>44.0</td>\n",
              "      <td>Juanna Vines</td>\n",
              "      <td>True</td>\n",
              "    </tr>\n",
              "    <tr>\n",
              "      <th>2</th>\n",
              "      <td>0003_01</td>\n",
              "      <td>Europa</td>\n",
              "      <td>False</td>\n",
              "      <td>A/0/S</td>\n",
              "      <td>TRAPPIST-1e</td>\n",
              "      <td>58.0</td>\n",
              "      <td>True</td>\n",
              "      <td>43.0</td>\n",
              "      <td>3576.0</td>\n",
              "      <td>0.0</td>\n",
              "      <td>6715.0</td>\n",
              "      <td>49.0</td>\n",
              "      <td>Altark Susent</td>\n",
              "      <td>False</td>\n",
              "    </tr>\n",
              "    <tr>\n",
              "      <th>3</th>\n",
              "      <td>0003_02</td>\n",
              "      <td>Europa</td>\n",
              "      <td>False</td>\n",
              "      <td>A/0/S</td>\n",
              "      <td>TRAPPIST-1e</td>\n",
              "      <td>33.0</td>\n",
              "      <td>False</td>\n",
              "      <td>0.0</td>\n",
              "      <td>1283.0</td>\n",
              "      <td>371.0</td>\n",
              "      <td>3329.0</td>\n",
              "      <td>193.0</td>\n",
              "      <td>Solam Susent</td>\n",
              "      <td>False</td>\n",
              "    </tr>\n",
              "    <tr>\n",
              "      <th>4</th>\n",
              "      <td>0004_01</td>\n",
              "      <td>Earth</td>\n",
              "      <td>False</td>\n",
              "      <td>F/1/S</td>\n",
              "      <td>TRAPPIST-1e</td>\n",
              "      <td>16.0</td>\n",
              "      <td>False</td>\n",
              "      <td>303.0</td>\n",
              "      <td>70.0</td>\n",
              "      <td>151.0</td>\n",
              "      <td>565.0</td>\n",
              "      <td>2.0</td>\n",
              "      <td>Willy Santantines</td>\n",
              "      <td>True</td>\n",
              "    </tr>\n",
              "  </tbody>\n",
              "</table>\n",
              "</div>\n",
              "      <button class=\"colab-df-convert\" onclick=\"convertToInteractive('df-21ef8d2b-be27-4cec-98ca-a00aaa4ae520')\"\n",
              "              title=\"Convert this dataframe to an interactive table.\"\n",
              "              style=\"display:none;\">\n",
              "        \n",
              "  <svg xmlns=\"http://www.w3.org/2000/svg\" height=\"24px\"viewBox=\"0 0 24 24\"\n",
              "       width=\"24px\">\n",
              "    <path d=\"M0 0h24v24H0V0z\" fill=\"none\"/>\n",
              "    <path d=\"M18.56 5.44l.94 2.06.94-2.06 2.06-.94-2.06-.94-.94-2.06-.94 2.06-2.06.94zm-11 1L8.5 8.5l.94-2.06 2.06-.94-2.06-.94L8.5 2.5l-.94 2.06-2.06.94zm10 10l.94 2.06.94-2.06 2.06-.94-2.06-.94-.94-2.06-.94 2.06-2.06.94z\"/><path d=\"M17.41 7.96l-1.37-1.37c-.4-.4-.92-.59-1.43-.59-.52 0-1.04.2-1.43.59L10.3 9.45l-7.72 7.72c-.78.78-.78 2.05 0 2.83L4 21.41c.39.39.9.59 1.41.59.51 0 1.02-.2 1.41-.59l7.78-7.78 2.81-2.81c.8-.78.8-2.07 0-2.86zM5.41 20L4 18.59l7.72-7.72 1.47 1.35L5.41 20z\"/>\n",
              "  </svg>\n",
              "      </button>\n",
              "      \n",
              "  <style>\n",
              "    .colab-df-container {\n",
              "      display:flex;\n",
              "      flex-wrap:wrap;\n",
              "      gap: 12px;\n",
              "    }\n",
              "\n",
              "    .colab-df-convert {\n",
              "      background-color: #E8F0FE;\n",
              "      border: none;\n",
              "      border-radius: 50%;\n",
              "      cursor: pointer;\n",
              "      display: none;\n",
              "      fill: #1967D2;\n",
              "      height: 32px;\n",
              "      padding: 0 0 0 0;\n",
              "      width: 32px;\n",
              "    }\n",
              "\n",
              "    .colab-df-convert:hover {\n",
              "      background-color: #E2EBFA;\n",
              "      box-shadow: 0px 1px 2px rgba(60, 64, 67, 0.3), 0px 1px 3px 1px rgba(60, 64, 67, 0.15);\n",
              "      fill: #174EA6;\n",
              "    }\n",
              "\n",
              "    [theme=dark] .colab-df-convert {\n",
              "      background-color: #3B4455;\n",
              "      fill: #D2E3FC;\n",
              "    }\n",
              "\n",
              "    [theme=dark] .colab-df-convert:hover {\n",
              "      background-color: #434B5C;\n",
              "      box-shadow: 0px 1px 3px 1px rgba(0, 0, 0, 0.15);\n",
              "      filter: drop-shadow(0px 1px 2px rgba(0, 0, 0, 0.3));\n",
              "      fill: #FFFFFF;\n",
              "    }\n",
              "  </style>\n",
              "\n",
              "      <script>\n",
              "        const buttonEl =\n",
              "          document.querySelector('#df-21ef8d2b-be27-4cec-98ca-a00aaa4ae520 button.colab-df-convert');\n",
              "        buttonEl.style.display =\n",
              "          google.colab.kernel.accessAllowed ? 'block' : 'none';\n",
              "\n",
              "        async function convertToInteractive(key) {\n",
              "          const element = document.querySelector('#df-21ef8d2b-be27-4cec-98ca-a00aaa4ae520');\n",
              "          const dataTable =\n",
              "            await google.colab.kernel.invokeFunction('convertToInteractive',\n",
              "                                                     [key], {});\n",
              "          if (!dataTable) return;\n",
              "\n",
              "          const docLinkHtml = 'Like what you see? Visit the ' +\n",
              "            '<a target=\"_blank\" href=https://colab.research.google.com/notebooks/data_table.ipynb>data table notebook</a>'\n",
              "            + ' to learn more about interactive tables.';\n",
              "          element.innerHTML = '';\n",
              "          dataTable['output_type'] = 'display_data';\n",
              "          await google.colab.output.renderOutput(dataTable, element);\n",
              "          const docLink = document.createElement('div');\n",
              "          docLink.innerHTML = docLinkHtml;\n",
              "          element.appendChild(docLink);\n",
              "        }\n",
              "      </script>\n",
              "    </div>\n",
              "  </div>\n",
              "  "
            ]
          },
          "metadata": {},
          "execution_count": 8
        }
      ]
    },
    {
      "cell_type": "code",
      "source": [
        "#chamando nossa base de teste e verificado as informações do conjunto de dados\n",
        "base_teste = pd.read_csv(\"test.csv\")\n",
        "base_teste.info()"
      ],
      "metadata": {
        "id": "s7M_UF7hSqk-",
        "colab": {
          "base_uri": "https://localhost:8080/"
        },
        "outputId": "749ad1ee-b8a8-4ed9-a61a-7ad110d81337"
      },
      "execution_count": 9,
      "outputs": [
        {
          "output_type": "stream",
          "name": "stdout",
          "text": [
            "<class 'pandas.core.frame.DataFrame'>\n",
            "RangeIndex: 4277 entries, 0 to 4276\n",
            "Data columns (total 13 columns):\n",
            " #   Column        Non-Null Count  Dtype  \n",
            "---  ------        --------------  -----  \n",
            " 0   PassengerId   4277 non-null   object \n",
            " 1   HomePlanet    4190 non-null   object \n",
            " 2   CryoSleep     4184 non-null   object \n",
            " 3   Cabin         4177 non-null   object \n",
            " 4   Destination   4185 non-null   object \n",
            " 5   Age           4186 non-null   float64\n",
            " 6   VIP           4184 non-null   object \n",
            " 7   RoomService   4195 non-null   float64\n",
            " 8   FoodCourt     4171 non-null   float64\n",
            " 9   ShoppingMall  4179 non-null   float64\n",
            " 10  Spa           4176 non-null   float64\n",
            " 11  VRDeck        4197 non-null   float64\n",
            " 12  Name          4183 non-null   object \n",
            "dtypes: float64(6), object(7)\n",
            "memory usage: 434.5+ KB\n"
          ]
        }
      ]
    },
    {
      "cell_type": "code",
      "source": [
        "base_treino.shape, base_teste.shape"
      ],
      "metadata": {
        "id": "4ba73u84xUmn",
        "colab": {
          "base_uri": "https://localhost:8080/"
        },
        "outputId": "804704b7-e443-45c3-a015-596007782444"
      },
      "execution_count": 10,
      "outputs": [
        {
          "output_type": "execute_result",
          "data": {
            "text/plain": [
              "((8693, 14), (4277, 13))"
            ]
          },
          "metadata": {},
          "execution_count": 10
        }
      ]
    },
    {
      "cell_type": "markdown",
      "source": [
        "### 2 - ANÁLISE EXPLORATÓRIA\n"
      ],
      "metadata": {
        "id": "7DqYnrZntSJB"
      }
    },
    {
      "cell_type": "code",
      "source": [
        "#Nulos na base de treino\n",
        "base_treino.isnull().sum()"
      ],
      "metadata": {
        "id": "vXF39R7TVBOL",
        "colab": {
          "base_uri": "https://localhost:8080/"
        },
        "outputId": "a2043649-44eb-44b5-f1ca-71210a634e0a"
      },
      "execution_count": 11,
      "outputs": [
        {
          "output_type": "execute_result",
          "data": {
            "text/plain": [
              "PassengerId       0\n",
              "HomePlanet      201\n",
              "CryoSleep       217\n",
              "Cabin           199\n",
              "Destination     182\n",
              "Age             179\n",
              "VIP             203\n",
              "RoomService     181\n",
              "FoodCourt       183\n",
              "ShoppingMall    208\n",
              "Spa             183\n",
              "VRDeck          188\n",
              "Name            200\n",
              "Transported       0\n",
              "dtype: int64"
            ]
          },
          "metadata": {},
          "execution_count": 11
        }
      ]
    },
    {
      "cell_type": "code",
      "source": [
        "#Nulos na base de teste\n",
        "base_teste.isnull().sum()"
      ],
      "metadata": {
        "id": "HsENpF9bVRaM",
        "colab": {
          "base_uri": "https://localhost:8080/"
        },
        "outputId": "9c3c22f8-e6eb-4084-86f5-e3b97b559c32"
      },
      "execution_count": 12,
      "outputs": [
        {
          "output_type": "execute_result",
          "data": {
            "text/plain": [
              "PassengerId       0\n",
              "HomePlanet       87\n",
              "CryoSleep        93\n",
              "Cabin           100\n",
              "Destination      92\n",
              "Age              91\n",
              "VIP              93\n",
              "RoomService      82\n",
              "FoodCourt       106\n",
              "ShoppingMall     98\n",
              "Spa             101\n",
              "VRDeck           80\n",
              "Name             94\n",
              "dtype: int64"
            ]
          },
          "metadata": {},
          "execution_count": 12
        }
      ]
    },
    {
      "cell_type": "markdown",
      "source": [
        "Avalição de info: Tirando a coluna do passageiro e a coluna alvo, vemos que a maioria dos dados contém dados nulos."
      ],
      "metadata": {
        "id": "6TerwC_atka4"
      }
    },
    {
      "cell_type": "code",
      "source": [
        "#pedimos a descrição em treino para verificarmos se apresenta dado Nulo\n",
        "base_treino.describe()"
      ],
      "metadata": {
        "id": "fkmds0p3tRga",
        "colab": {
          "base_uri": "https://localhost:8080/",
          "height": 300
        },
        "outputId": "4cb5de16-019e-4384-d29a-91c3fcd8d911"
      },
      "execution_count": 13,
      "outputs": [
        {
          "output_type": "execute_result",
          "data": {
            "text/plain": [
              "               Age   RoomService     FoodCourt  ShoppingMall           Spa  \\\n",
              "count  8514.000000   8512.000000   8510.000000   8485.000000   8510.000000   \n",
              "mean     28.827930    224.687617    458.077203    173.729169    311.138778   \n",
              "std      14.489021    666.717663   1611.489240    604.696458   1136.705535   \n",
              "min       0.000000      0.000000      0.000000      0.000000      0.000000   \n",
              "25%      19.000000      0.000000      0.000000      0.000000      0.000000   \n",
              "50%      27.000000      0.000000      0.000000      0.000000      0.000000   \n",
              "75%      38.000000     47.000000     76.000000     27.000000     59.000000   \n",
              "max      79.000000  14327.000000  29813.000000  23492.000000  22408.000000   \n",
              "\n",
              "             VRDeck  \n",
              "count   8505.000000  \n",
              "mean     304.854791  \n",
              "std     1145.717189  \n",
              "min        0.000000  \n",
              "25%        0.000000  \n",
              "50%        0.000000  \n",
              "75%       46.000000  \n",
              "max    24133.000000  "
            ],
            "text/html": [
              "\n",
              "  <div id=\"df-59991f01-a331-43b9-b58d-7f8114f01c4e\">\n",
              "    <div class=\"colab-df-container\">\n",
              "      <div>\n",
              "<style scoped>\n",
              "    .dataframe tbody tr th:only-of-type {\n",
              "        vertical-align: middle;\n",
              "    }\n",
              "\n",
              "    .dataframe tbody tr th {\n",
              "        vertical-align: top;\n",
              "    }\n",
              "\n",
              "    .dataframe thead th {\n",
              "        text-align: right;\n",
              "    }\n",
              "</style>\n",
              "<table border=\"1\" class=\"dataframe\">\n",
              "  <thead>\n",
              "    <tr style=\"text-align: right;\">\n",
              "      <th></th>\n",
              "      <th>Age</th>\n",
              "      <th>RoomService</th>\n",
              "      <th>FoodCourt</th>\n",
              "      <th>ShoppingMall</th>\n",
              "      <th>Spa</th>\n",
              "      <th>VRDeck</th>\n",
              "    </tr>\n",
              "  </thead>\n",
              "  <tbody>\n",
              "    <tr>\n",
              "      <th>count</th>\n",
              "      <td>8514.000000</td>\n",
              "      <td>8512.000000</td>\n",
              "      <td>8510.000000</td>\n",
              "      <td>8485.000000</td>\n",
              "      <td>8510.000000</td>\n",
              "      <td>8505.000000</td>\n",
              "    </tr>\n",
              "    <tr>\n",
              "      <th>mean</th>\n",
              "      <td>28.827930</td>\n",
              "      <td>224.687617</td>\n",
              "      <td>458.077203</td>\n",
              "      <td>173.729169</td>\n",
              "      <td>311.138778</td>\n",
              "      <td>304.854791</td>\n",
              "    </tr>\n",
              "    <tr>\n",
              "      <th>std</th>\n",
              "      <td>14.489021</td>\n",
              "      <td>666.717663</td>\n",
              "      <td>1611.489240</td>\n",
              "      <td>604.696458</td>\n",
              "      <td>1136.705535</td>\n",
              "      <td>1145.717189</td>\n",
              "    </tr>\n",
              "    <tr>\n",
              "      <th>min</th>\n",
              "      <td>0.000000</td>\n",
              "      <td>0.000000</td>\n",
              "      <td>0.000000</td>\n",
              "      <td>0.000000</td>\n",
              "      <td>0.000000</td>\n",
              "      <td>0.000000</td>\n",
              "    </tr>\n",
              "    <tr>\n",
              "      <th>25%</th>\n",
              "      <td>19.000000</td>\n",
              "      <td>0.000000</td>\n",
              "      <td>0.000000</td>\n",
              "      <td>0.000000</td>\n",
              "      <td>0.000000</td>\n",
              "      <td>0.000000</td>\n",
              "    </tr>\n",
              "    <tr>\n",
              "      <th>50%</th>\n",
              "      <td>27.000000</td>\n",
              "      <td>0.000000</td>\n",
              "      <td>0.000000</td>\n",
              "      <td>0.000000</td>\n",
              "      <td>0.000000</td>\n",
              "      <td>0.000000</td>\n",
              "    </tr>\n",
              "    <tr>\n",
              "      <th>75%</th>\n",
              "      <td>38.000000</td>\n",
              "      <td>47.000000</td>\n",
              "      <td>76.000000</td>\n",
              "      <td>27.000000</td>\n",
              "      <td>59.000000</td>\n",
              "      <td>46.000000</td>\n",
              "    </tr>\n",
              "    <tr>\n",
              "      <th>max</th>\n",
              "      <td>79.000000</td>\n",
              "      <td>14327.000000</td>\n",
              "      <td>29813.000000</td>\n",
              "      <td>23492.000000</td>\n",
              "      <td>22408.000000</td>\n",
              "      <td>24133.000000</td>\n",
              "    </tr>\n",
              "  </tbody>\n",
              "</table>\n",
              "</div>\n",
              "      <button class=\"colab-df-convert\" onclick=\"convertToInteractive('df-59991f01-a331-43b9-b58d-7f8114f01c4e')\"\n",
              "              title=\"Convert this dataframe to an interactive table.\"\n",
              "              style=\"display:none;\">\n",
              "        \n",
              "  <svg xmlns=\"http://www.w3.org/2000/svg\" height=\"24px\"viewBox=\"0 0 24 24\"\n",
              "       width=\"24px\">\n",
              "    <path d=\"M0 0h24v24H0V0z\" fill=\"none\"/>\n",
              "    <path d=\"M18.56 5.44l.94 2.06.94-2.06 2.06-.94-2.06-.94-.94-2.06-.94 2.06-2.06.94zm-11 1L8.5 8.5l.94-2.06 2.06-.94-2.06-.94L8.5 2.5l-.94 2.06-2.06.94zm10 10l.94 2.06.94-2.06 2.06-.94-2.06-.94-.94-2.06-.94 2.06-2.06.94z\"/><path d=\"M17.41 7.96l-1.37-1.37c-.4-.4-.92-.59-1.43-.59-.52 0-1.04.2-1.43.59L10.3 9.45l-7.72 7.72c-.78.78-.78 2.05 0 2.83L4 21.41c.39.39.9.59 1.41.59.51 0 1.02-.2 1.41-.59l7.78-7.78 2.81-2.81c.8-.78.8-2.07 0-2.86zM5.41 20L4 18.59l7.72-7.72 1.47 1.35L5.41 20z\"/>\n",
              "  </svg>\n",
              "      </button>\n",
              "      \n",
              "  <style>\n",
              "    .colab-df-container {\n",
              "      display:flex;\n",
              "      flex-wrap:wrap;\n",
              "      gap: 12px;\n",
              "    }\n",
              "\n",
              "    .colab-df-convert {\n",
              "      background-color: #E8F0FE;\n",
              "      border: none;\n",
              "      border-radius: 50%;\n",
              "      cursor: pointer;\n",
              "      display: none;\n",
              "      fill: #1967D2;\n",
              "      height: 32px;\n",
              "      padding: 0 0 0 0;\n",
              "      width: 32px;\n",
              "    }\n",
              "\n",
              "    .colab-df-convert:hover {\n",
              "      background-color: #E2EBFA;\n",
              "      box-shadow: 0px 1px 2px rgba(60, 64, 67, 0.3), 0px 1px 3px 1px rgba(60, 64, 67, 0.15);\n",
              "      fill: #174EA6;\n",
              "    }\n",
              "\n",
              "    [theme=dark] .colab-df-convert {\n",
              "      background-color: #3B4455;\n",
              "      fill: #D2E3FC;\n",
              "    }\n",
              "\n",
              "    [theme=dark] .colab-df-convert:hover {\n",
              "      background-color: #434B5C;\n",
              "      box-shadow: 0px 1px 3px 1px rgba(0, 0, 0, 0.15);\n",
              "      filter: drop-shadow(0px 1px 2px rgba(0, 0, 0, 0.3));\n",
              "      fill: #FFFFFF;\n",
              "    }\n",
              "  </style>\n",
              "\n",
              "      <script>\n",
              "        const buttonEl =\n",
              "          document.querySelector('#df-59991f01-a331-43b9-b58d-7f8114f01c4e button.colab-df-convert');\n",
              "        buttonEl.style.display =\n",
              "          google.colab.kernel.accessAllowed ? 'block' : 'none';\n",
              "\n",
              "        async function convertToInteractive(key) {\n",
              "          const element = document.querySelector('#df-59991f01-a331-43b9-b58d-7f8114f01c4e');\n",
              "          const dataTable =\n",
              "            await google.colab.kernel.invokeFunction('convertToInteractive',\n",
              "                                                     [key], {});\n",
              "          if (!dataTable) return;\n",
              "\n",
              "          const docLinkHtml = 'Like what you see? Visit the ' +\n",
              "            '<a target=\"_blank\" href=https://colab.research.google.com/notebooks/data_table.ipynb>data table notebook</a>'\n",
              "            + ' to learn more about interactive tables.';\n",
              "          element.innerHTML = '';\n",
              "          dataTable['output_type'] = 'display_data';\n",
              "          await google.colab.output.renderOutput(dataTable, element);\n",
              "          const docLink = document.createElement('div');\n",
              "          docLink.innerHTML = docLinkHtml;\n",
              "          element.appendChild(docLink);\n",
              "        }\n",
              "      </script>\n",
              "    </div>\n",
              "  </div>\n",
              "  "
            ]
          },
          "metadata": {},
          "execution_count": 13
        }
      ]
    },
    {
      "cell_type": "code",
      "source": [
        "#criamos uma base amostral apenas para visualizarmos o boxplot das colunas númericas\n",
        "datanum = pd.DataFrame(base_treino.iloc[:,7:12])\n",
        "#atribuindo titulo e vendo o boxplot que nos mostra os quartis, isso representa a concentração dos dados\n",
        "plt.title(\"Dados Boxplot\")\n",
        "datanum.boxplot()\n",
        "plt.show()"
      ],
      "metadata": {
        "id": "r1Bdf2YezGKd",
        "colab": {
          "base_uri": "https://localhost:8080/",
          "height": 336
        },
        "outputId": "904f2a74-380d-4582-f619-9830ea4193ba"
      },
      "execution_count": 14,
      "outputs": [
        {
          "output_type": "stream",
          "name": "stderr",
          "text": [
            "/usr/local/lib/python3.7/dist-packages/matplotlib/cbook/__init__.py:1376: VisibleDeprecationWarning: Creating an ndarray from ragged nested sequences (which is a list-or-tuple of lists-or-tuples-or ndarrays with different lengths or shapes) is deprecated. If you meant to do this, you must specify 'dtype=object' when creating the ndarray.\n",
            "  X = np.atleast_1d(X.T if isinstance(X, np.ndarray) else np.asarray(X))\n"
          ]
        },
        {
          "output_type": "display_data",
          "data": {
            "text/plain": [
              "<Figure size 432x288 with 1 Axes>"
            ],
            "image/png": "[encoded data removed]"
          },
          "metadata": {
            "needs_background": "light"
          }
        }
      ]
    },
    {
      "cell_type": "markdown",
      "source": [
        "<strong>Avaliação Describe:</strong> Estes dados correspondem aos valores dos serviços usufruidos pelos usuários da espaçonave, em muitos dos casos há uma discrepância gigantesca de valores pagos."
      ],
      "metadata": {
        "id": "asMrv6R8tiih"
      }
    },
    {
      "cell_type": "markdown",
      "source": [
        "### 3 PRE-PROCESSAMENTO DE DADOS"
      ],
      "metadata": {
        "id": "wolMit_H1opL"
      }
    },
    {
      "cell_type": "markdown",
      "source": [
        "Um dado muito importante e que precisamos transformar em númerico é o a idade (Age) assim podemos usar o .astype('int32') ou o pd.to_numeric:"
      ],
      "metadata": {
        "id": "xi557wHhJuyC"
      }
    },
    {
      "cell_type": "code",
      "source": [
        "#Tranformando a coluna Age em inteiro\n",
        "base_treino[\"Age\"] = pd.to_numeric(base_treino[\"Age\"], errors='coerce')\n",
        "\n",
        "#precisamos transformar no conjunto de teste também\n",
        "base_teste[\"Age\"] = pd.to_numeric(base_teste[\"Age\"], errors='coerce')\n",
        "base_teste.describe()"
      ],
      "metadata": {
        "id": "oH7ToPEcAgqf",
        "colab": {
          "base_uri": "https://localhost:8080/",
          "height": 300
        },
        "outputId": "3a11591f-a4bc-47c7-fdaf-cacd6cb9c1f0"
      },
      "execution_count": 15,
      "outputs": [
        {
          "output_type": "execute_result",
          "data": {
            "text/plain": [
              "               Age   RoomService     FoodCourt  ShoppingMall           Spa  \\\n",
              "count  4186.000000   4195.000000   4171.000000   4179.000000   4176.000000   \n",
              "mean     28.658146    219.266269    439.484296    177.295525    303.052443   \n",
              "std      14.179072    607.011289   1527.663045    560.821123   1117.186015   \n",
              "min       0.000000      0.000000      0.000000      0.000000      0.000000   \n",
              "25%      19.000000      0.000000      0.000000      0.000000      0.000000   \n",
              "50%      26.000000      0.000000      0.000000      0.000000      0.000000   \n",
              "75%      37.000000     53.000000     78.000000     33.000000     50.000000   \n",
              "max      79.000000  11567.000000  25273.000000   8292.000000  19844.000000   \n",
              "\n",
              "             VRDeck  \n",
              "count   4197.000000  \n",
              "mean     310.710031  \n",
              "std     1246.994742  \n",
              "min        0.000000  \n",
              "25%        0.000000  \n",
              "50%        0.000000  \n",
              "75%       36.000000  \n",
              "max    22272.000000  "
            ],
            "text/html": [
              "\n",
              "  <div id=\"df-4b360063-6b2d-4518-9fa1-73e394e94494\">\n",
              "    <div class=\"colab-df-container\">\n",
              "      <div>\n",
              "<style scoped>\n",
              "    .dataframe tbody tr th:only-of-type {\n",
              "        vertical-align: middle;\n",
              "    }\n",
              "\n",
              "    .dataframe tbody tr th {\n",
              "        vertical-align: top;\n",
              "    }\n",
              "\n",
              "    .dataframe thead th {\n",
              "        text-align: right;\n",
              "    }\n",
              "</style>\n",
              "<table border=\"1\" class=\"dataframe\">\n",
              "  <thead>\n",
              "    <tr style=\"text-align: right;\">\n",
              "      <th></th>\n",
              "      <th>Age</th>\n",
              "      <th>RoomService</th>\n",
              "      <th>FoodCourt</th>\n",
              "      <th>ShoppingMall</th>\n",
              "      <th>Spa</th>\n",
              "      <th>VRDeck</th>\n",
              "    </tr>\n",
              "  </thead>\n",
              "  <tbody>\n",
              "    <tr>\n",
              "      <th>count</th>\n",
              "      <td>4186.000000</td>\n",
              "      <td>4195.000000</td>\n",
              "      <td>4171.000000</td>\n",
              "      <td>4179.000000</td>\n",
              "      <td>4176.000000</td>\n",
              "      <td>4197.000000</td>\n",
              "    </tr>\n",
              "    <tr>\n",
              "      <th>mean</th>\n",
              "      <td>28.658146</td>\n",
              "      <td>219.266269</td>\n",
              "      <td>439.484296</td>\n",
              "      <td>177.295525</td>\n",
              "      <td>303.052443</td>\n",
              "      <td>310.710031</td>\n",
              "    </tr>\n",
              "    <tr>\n",
              "      <th>std</th>\n",
              "      <td>14.179072</td>\n",
              "      <td>607.011289</td>\n",
              "      <td>1527.663045</td>\n",
              "      <td>560.821123</td>\n",
              "      <td>1117.186015</td>\n",
              "      <td>1246.994742</td>\n",
              "    </tr>\n",
              "    <tr>\n",
              "      <th>min</th>\n",
              "      <td>0.000000</td>\n",
              "      <td>0.000000</td>\n",
              "      <td>0.000000</td>\n",
              "      <td>0.000000</td>\n",
              "      <td>0.000000</td>\n",
              "      <td>0.000000</td>\n",
              "    </tr>\n",
              "    <tr>\n",
              "      <th>25%</th>\n",
              "      <td>19.000000</td>\n",
              "      <td>0.000000</td>\n",
              "      <td>0.000000</td>\n",
              "      <td>0.000000</td>\n",
              "      <td>0.000000</td>\n",
              "      <td>0.000000</td>\n",
              "    </tr>\n",
              "    <tr>\n",
              "      <th>50%</th>\n",
              "      <td>26.000000</td>\n",
              "      <td>0.000000</td>\n",
              "      <td>0.000000</td>\n",
              "      <td>0.000000</td>\n",
              "      <td>0.000000</td>\n",
              "      <td>0.000000</td>\n",
              "    </tr>\n",
              "    <tr>\n",
              "      <th>75%</th>\n",
              "      <td>37.000000</td>\n",
              "      <td>53.000000</td>\n",
              "      <td>78.000000</td>\n",
              "      <td>33.000000</td>\n",
              "      <td>50.000000</td>\n",
              "      <td>36.000000</td>\n",
              "    </tr>\n",
              "    <tr>\n",
              "      <th>max</th>\n",
              "      <td>79.000000</td>\n",
              "      <td>11567.000000</td>\n",
              "      <td>25273.000000</td>\n",
              "      <td>8292.000000</td>\n",
              "      <td>19844.000000</td>\n",
              "      <td>22272.000000</td>\n",
              "    </tr>\n",
              "  </tbody>\n",
              "</table>\n",
              "</div>\n",
              "      <button class=\"colab-df-convert\" onclick=\"convertToInteractive('df-4b360063-6b2d-4518-9fa1-73e394e94494')\"\n",
              "              title=\"Convert this dataframe to an interactive table.\"\n",
              "              style=\"display:none;\">\n",
              "        \n",
              "  <svg xmlns=\"http://www.w3.org/2000/svg\" height=\"24px\"viewBox=\"0 0 24 24\"\n",
              "       width=\"24px\">\n",
              "    <path d=\"M0 0h24v24H0V0z\" fill=\"none\"/>\n",
              "    <path d=\"M18.56 5.44l.94 2.06.94-2.06 2.06-.94-2.06-.94-.94-2.06-.94 2.06-2.06.94zm-11 1L8.5 8.5l.94-2.06 2.06-.94-2.06-.94L8.5 2.5l-.94 2.06-2.06.94zm10 10l.94 2.06.94-2.06 2.06-.94-2.06-.94-.94-2.06-.94 2.06-2.06.94z\"/><path d=\"M17.41 7.96l-1.37-1.37c-.4-.4-.92-.59-1.43-.59-.52 0-1.04.2-1.43.59L10.3 9.45l-7.72 7.72c-.78.78-.78 2.05 0 2.83L4 21.41c.39.39.9.59 1.41.59.51 0 1.02-.2 1.41-.59l7.78-7.78 2.81-2.81c.8-.78.8-2.07 0-2.86zM5.41 20L4 18.59l7.72-7.72 1.47 1.35L5.41 20z\"/>\n",
              "  </svg>\n",
              "      </button>\n",
              "      \n",
              "  <style>\n",
              "    .colab-df-container {\n",
              "      display:flex;\n",
              "      flex-wrap:wrap;\n",
              "      gap: 12px;\n",
              "    }\n",
              "\n",
              "    .colab-df-convert {\n",
              "      background-color: #E8F0FE;\n",
              "      border: none;\n",
              "      border-radius: 50%;\n",
              "      cursor: pointer;\n",
              "      display: none;\n",
              "      fill: #1967D2;\n",
              "      height: 32px;\n",
              "      padding: 0 0 0 0;\n",
              "      width: 32px;\n",
              "    }\n",
              "\n",
              "    .colab-df-convert:hover {\n",
              "      background-color: #E2EBFA;\n",
              "      box-shadow: 0px 1px 2px rgba(60, 64, 67, 0.3), 0px 1px 3px 1px rgba(60, 64, 67, 0.15);\n",
              "      fill: #174EA6;\n",
              "    }\n",
              "\n",
              "    [theme=dark] .colab-df-convert {\n",
              "      background-color: #3B4455;\n",
              "      fill: #D2E3FC;\n",
              "    }\n",
              "\n",
              "    [theme=dark] .colab-df-convert:hover {\n",
              "      background-color: #434B5C;\n",
              "      box-shadow: 0px 1px 3px 1px rgba(0, 0, 0, 0.15);\n",
              "      filter: drop-shadow(0px 1px 2px rgba(0, 0, 0, 0.3));\n",
              "      fill: #FFFFFF;\n",
              "    }\n",
              "  </style>\n",
              "\n",
              "      <script>\n",
              "        const buttonEl =\n",
              "          document.querySelector('#df-4b360063-6b2d-4518-9fa1-73e394e94494 button.colab-df-convert');\n",
              "        buttonEl.style.display =\n",
              "          google.colab.kernel.accessAllowed ? 'block' : 'none';\n",
              "\n",
              "        async function convertToInteractive(key) {\n",
              "          const element = document.querySelector('#df-4b360063-6b2d-4518-9fa1-73e394e94494');\n",
              "          const dataTable =\n",
              "            await google.colab.kernel.invokeFunction('convertToInteractive',\n",
              "                                                     [key], {});\n",
              "          if (!dataTable) return;\n",
              "\n",
              "          const docLinkHtml = 'Like what you see? Visit the ' +\n",
              "            '<a target=\"_blank\" href=https://colab.research.google.com/notebooks/data_table.ipynb>data table notebook</a>'\n",
              "            + ' to learn more about interactive tables.';\n",
              "          element.innerHTML = '';\n",
              "          dataTable['output_type'] = 'display_data';\n",
              "          await google.colab.output.renderOutput(dataTable, element);\n",
              "          const docLink = document.createElement('div');\n",
              "          docLink.innerHTML = docLinkHtml;\n",
              "          element.appendChild(docLink);\n",
              "        }\n",
              "      </script>\n",
              "    </div>\n",
              "  </div>\n",
              "  "
            ]
          },
          "metadata": {},
          "execution_count": 15
        }
      ]
    },
    {
      "cell_type": "markdown",
      "source": [
        "Descobrindo e sustituindo dados Dados Nulos, também removerei Outliers em RoomService"
      ],
      "metadata": {
        "id": "8z_fzt5g1vJs"
      }
    },
    {
      "cell_type": "code",
      "source": [
        "#Criando um laço que no intervalo de 7 a 12 subtituirá os Nulos pela média\n",
        "for item in range(7,12):\n",
        "  nome_col = base_treino.columns[item] #nome das colunas definidas pelo range(7 a 12)\n",
        "  media_treino = np.nanmean(base_treino.iloc[:, item]) #média da coluna pela iteração\n",
        "  base_treino[nome_col] = base_treino[nome_col].fillna(media_treino) #preenchendo os valores pela média\n",
        "\n",
        "  #mesmo procedimento será feito nas colunas na base de teste\n",
        "  nome_col = base_teste.columns[item]\n",
        "  media_teste = np.nanmean(base_teste.iloc[:, item])\n",
        "  base_teste[nome_col] = base_teste[nome_col].fillna(media_teste)\n",
        "\n",
        "#A coluna de Age ficou de fora por estar separada dos valores 7 a 12 porém passamos individualmente:\n",
        "base_treino[\"Age\"] = base_treino[\"Age\"].fillna(media_treino)\n",
        "base_teste[\"Age\"] = base_teste[\"Age\"].fillna(media_teste)"
      ],
      "metadata": {
        "id": "9Ga4geL51aZa"
      },
      "execution_count": 16,
      "outputs": []
    },
    {
      "cell_type": "markdown",
      "source": [
        "Porque usar média e não a mediana? Se você analisar pelo describe, todos os valores nos atributos de dados são compostos de gastos 0 em serviços usufruidos ou paradoxalmente um gasto elevado (75% de quartil) não tendo um valor mediano entre 0 e um número elevado. Então optei por usar a média em valores Nan."
      ],
      "metadata": {
        "id": "Tj0ngsCCKFqp"
      }
    },
    {
      "cell_type": "markdown",
      "source": [
        "Agora vamos encontrar a moda para subtituir nas colunas categóricas os valores NaN"
      ],
      "metadata": {
        "id": "B9L2_RqTKejJ"
      }
    },
    {
      "cell_type": "code",
      "source": [
        "#encontrando a mediana e subtituindo colunas com moda usando um laço\n",
        "for item in range(1,5):\n",
        "\n",
        "  nome_col = base_treino.columns[item] #nome das colunas definidas pelo range(1 a 5)\n",
        "  moda_treino = str(base_treino[nome_col].mode(dropna=True)) #procurando a moda\n",
        "  base_treino[nome_col] = base_treino[nome_col].fillna(moda_treino) #substituindo os valores NA pela moda\n",
        "\n",
        "  #aplicando o mesmo procedimento em teste\n",
        "  nome_col = base_teste.columns[item]\n",
        "  moda_teste = str(base_teste[nome_col].mode(dropna=True))\n",
        "  base_teste[nome_col] = base_teste[nome_col].fillna(moda_teste)\n",
        "\n",
        "# A coluna VIP apresenta problema por estar deslocada das demais então passaremos o valor manualmente\n",
        "base_treino[\"VIP\"] = base_treino[\"VIP\"].fillna(moda_treino)\n",
        "base_teste[\"VIP\"] = base_teste[\"VIP\"].fillna(moda_teste)\n",
        "\n",
        "# verificando se deu certo\n",
        "base_teste.isnull().sum()\n",
        "\n"
      ],
      "metadata": {
        "id": "36smd-BZ45Qq",
        "colab": {
          "base_uri": "https://localhost:8080/"
        },
        "outputId": "a8b3c972-6702-42f9-835b-9213e1caebd1"
      },
      "execution_count": 17,
      "outputs": [
        {
          "output_type": "execute_result",
          "data": {
            "text/plain": [
              "PassengerId      0\n",
              "HomePlanet       0\n",
              "CryoSleep        0\n",
              "Cabin            0\n",
              "Destination      0\n",
              "Age              0\n",
              "VIP              0\n",
              "RoomService      0\n",
              "FoodCourt        0\n",
              "ShoppingMall     0\n",
              "Spa              0\n",
              "VRDeck           0\n",
              "Name            94\n",
              "dtype: int64"
            ]
          },
          "metadata": {},
          "execution_count": 17
        }
      ]
    },
    {
      "cell_type": "markdown",
      "source": [
        "Utilizaremos posteriormente o classificador naive bayes, para isso precisaremos que as features estejam em um mesmo tipo de variável númerico. <br>\n",
        "Com isso,  dentre as opções usarei o labelencoder, pois temos muitos atributos para utilizar ficando inviável com o OneHotEncoding. Todavia, duas colunas apresentam valores booleanos que nos permite realizar o preprocessamento com LabelBinarizer que gera valores 0 ou 1.\n",
        "\n"
      ],
      "metadata": {
        "id": "Qt1oNFUdLJLX"
      }
    },
    {
      "cell_type": "code",
      "source": [
        "#encodador das colunas LabelEncoder: Gera números de 0 a n\n",
        "labele = LabelEncoder()\n",
        "#Colunas que não devem receber labelencoder pois já são númericas\n",
        "listanao = [\"Age\", \"Name\", \"PassengerId\", \"VIP\",\"CryoSleep\"]\n",
        "\n",
        "#se for objeto procura e usa o label\n",
        "lista_base = [base_treino, base_teste] #adicionamos as listas a outra lista para iterar sobre ela\n",
        "\n",
        "\n",
        "def encodador_label():\n",
        "#criando função que tem um laço que percorrer as listas dentro da lista e trasforma os valores que não são object  \n",
        "  for valor in lista_base:\n",
        "    for item in valor.select_dtypes(include=\"object\"): #valores que não são do tipo object\n",
        "        if item not in listanao:\n",
        "          valor[item] = labele.fit_transform(valor[item]) #substitua os valores\n",
        "          \n",
        "#padronizador que gera valores binários entre 0 e 1      \n",
        "binarizer = LabelBinarizer()  \n",
        "\n",
        "\n",
        "def encodador_binarizer():\n",
        "#Aqui criamos a binarização, mas precisamos de fato tornar os registros \"False\" e \"True\" em um valor booleano\n",
        "\n",
        "  base_treino[\"CryoSleep\"]= base_treino[\"CryoSleep\"].astype(\"bool\") #transforma os valores da coluna em booleano\n",
        "  base_treino[\"CryoSleep\"] = binarizer.fit_transform(base_treino[\"CryoSleep\"]) #faz a transformação em binário\n",
        "\n",
        "  #mesmos procedimentos executados nas duas linhas acima\n",
        "  base_treino[\"VIP\"]= base_treino[\"VIP\"].astype(\"bool\")\n",
        "  base_treino[\"VIP\"] = binarizer.fit_transform(base_treino[\"VIP\"])\n",
        "\n",
        "  base_teste[\"CryoSleep\"]= base_teste[\"CryoSleep\"].astype(\"bool\")\n",
        "  base_teste[\"CryoSleep\"] = binarizer.fit_transform(base_teste[\"CryoSleep\"])\n",
        "\n",
        "  base_teste[\"VIP\"]= base_teste[\"VIP\"].astype(\"bool\")\n",
        "  base_teste[\"VIP\"] = binarizer.fit_transform(base_teste[\"VIP\"])\n",
        "\n",
        "#chamando as funções\n",
        "encodador_label()\n",
        "encodador_binarizer()"
      ],
      "metadata": {
        "id": "nHEWK6FnAHvX"
      },
      "execution_count": 18,
      "outputs": []
    },
    {
      "cell_type": "code",
      "source": [
        "#verificando o resultado\n",
        "base_treino.head()"
      ],
      "metadata": {
        "id": "mPdGOLSeZ9jB",
        "colab": {
          "base_uri": "https://localhost:8080/",
          "height": 357
        },
        "outputId": "afa41a39-edcd-4203-ebee-4580ebe128e3"
      },
      "execution_count": 19,
      "outputs": [
        {
          "output_type": "execute_result",
          "data": {
            "text/plain": [
              "  PassengerId  HomePlanet  CryoSleep  Cabin  Destination   Age  VIP  \\\n",
              "0     0001_01           2          0    150            3  39.0    0   \n",
              "1     0002_01           1          0   2185            3  24.0    0   \n",
              "2     0003_01           2          0      2            3  58.0    1   \n",
              "3     0003_02           2          0      2            3  33.0    0   \n",
              "4     0004_01           1          0   2187            3  16.0    0   \n",
              "\n",
              "   RoomService  FoodCourt  ShoppingMall     Spa  VRDeck               Name  \\\n",
              "0          0.0        0.0           0.0     0.0     0.0    Maham Ofracculy   \n",
              "1        109.0        9.0          25.0   549.0    44.0       Juanna Vines   \n",
              "2         43.0     3576.0           0.0  6715.0    49.0      Altark Susent   \n",
              "3          0.0     1283.0         371.0  3329.0   193.0       Solam Susent   \n",
              "4        303.0       70.0         151.0   565.0     2.0  Willy Santantines   \n",
              "\n",
              "   Transported  \n",
              "0        False  \n",
              "1         True  \n",
              "2        False  \n",
              "3        False  \n",
              "4         True  "
            ],
            "text/html": [
              "\n",
              "  <div id=\"df-edc0d530-0d0c-4b31-bbda-c5dd0cc087e8\">\n",
              "    <div class=\"colab-df-container\">\n",
              "      <div>\n",
              "<style scoped>\n",
              "    .dataframe tbody tr th:only-of-type {\n",
              "        vertical-align: middle;\n",
              "    }\n",
              "\n",
              "    .dataframe tbody tr th {\n",
              "        vertical-align: top;\n",
              "    }\n",
              "\n",
              "    .dataframe thead th {\n",
              "        text-align: right;\n",
              "    }\n",
              "</style>\n",
              "<table border=\"1\" class=\"dataframe\">\n",
              "  <thead>\n",
              "    <tr style=\"text-align: right;\">\n",
              "      <th></th>\n",
              "      <th>PassengerId</th>\n",
              "      <th>HomePlanet</th>\n",
              "      <th>CryoSleep</th>\n",
              "      <th>Cabin</th>\n",
              "      <th>Destination</th>\n",
              "      <th>Age</th>\n",
              "      <th>VIP</th>\n",
              "      <th>RoomService</th>\n",
              "      <th>FoodCourt</th>\n",
              "      <th>ShoppingMall</th>\n",
              "      <th>Spa</th>\n",
              "      <th>VRDeck</th>\n",
              "      <th>Name</th>\n",
              "      <th>Transported</th>\n",
              "    </tr>\n",
              "  </thead>\n",
              "  <tbody>\n",
              "    <tr>\n",
              "      <th>0</th>\n",
              "      <td>0001_01</td>\n",
              "      <td>2</td>\n",
              "      <td>0</td>\n",
              "      <td>150</td>\n",
              "      <td>3</td>\n",
              "      <td>39.0</td>\n",
              "      <td>0</td>\n",
              "      <td>0.0</td>\n",
              "      <td>0.0</td>\n",
              "      <td>0.0</td>\n",
              "      <td>0.0</td>\n",
              "      <td>0.0</td>\n",
              "      <td>Maham Ofracculy</td>\n",
              "      <td>False</td>\n",
              "    </tr>\n",
              "    <tr>\n",
              "      <th>1</th>\n",
              "      <td>0002_01</td>\n",
              "      <td>1</td>\n",
              "      <td>0</td>\n",
              "      <td>2185</td>\n",
              "      <td>3</td>\n",
              "      <td>24.0</td>\n",
              "      <td>0</td>\n",
              "      <td>109.0</td>\n",
              "      <td>9.0</td>\n",
              "      <td>25.0</td>\n",
              "      <td>549.0</td>\n",
              "      <td>44.0</td>\n",
              "      <td>Juanna Vines</td>\n",
              "      <td>True</td>\n",
              "    </tr>\n",
              "    <tr>\n",
              "      <th>2</th>\n",
              "      <td>0003_01</td>\n",
              "      <td>2</td>\n",
              "      <td>0</td>\n",
              "      <td>2</td>\n",
              "      <td>3</td>\n",
              "      <td>58.0</td>\n",
              "      <td>1</td>\n",
              "      <td>43.0</td>\n",
              "      <td>3576.0</td>\n",
              "      <td>0.0</td>\n",
              "      <td>6715.0</td>\n",
              "      <td>49.0</td>\n",
              "      <td>Altark Susent</td>\n",
              "      <td>False</td>\n",
              "    </tr>\n",
              "    <tr>\n",
              "      <th>3</th>\n",
              "      <td>0003_02</td>\n",
              "      <td>2</td>\n",
              "      <td>0</td>\n",
              "      <td>2</td>\n",
              "      <td>3</td>\n",
              "      <td>33.0</td>\n",
              "      <td>0</td>\n",
              "      <td>0.0</td>\n",
              "      <td>1283.0</td>\n",
              "      <td>371.0</td>\n",
              "      <td>3329.0</td>\n",
              "      <td>193.0</td>\n",
              "      <td>Solam Susent</td>\n",
              "      <td>False</td>\n",
              "    </tr>\n",
              "    <tr>\n",
              "      <th>4</th>\n",
              "      <td>0004_01</td>\n",
              "      <td>1</td>\n",
              "      <td>0</td>\n",
              "      <td>2187</td>\n",
              "      <td>3</td>\n",
              "      <td>16.0</td>\n",
              "      <td>0</td>\n",
              "      <td>303.0</td>\n",
              "      <td>70.0</td>\n",
              "      <td>151.0</td>\n",
              "      <td>565.0</td>\n",
              "      <td>2.0</td>\n",
              "      <td>Willy Santantines</td>\n",
              "      <td>True</td>\n",
              "    </tr>\n",
              "  </tbody>\n",
              "</table>\n",
              "</div>\n",
              "      <button class=\"colab-df-convert\" onclick=\"convertToInteractive('df-edc0d530-0d0c-4b31-bbda-c5dd0cc087e8')\"\n",
              "              title=\"Convert this dataframe to an interactive table.\"\n",
              "              style=\"display:none;\">\n",
              "        \n",
              "  <svg xmlns=\"http://www.w3.org/2000/svg\" height=\"24px\"viewBox=\"0 0 24 24\"\n",
              "       width=\"24px\">\n",
              "    <path d=\"M0 0h24v24H0V0z\" fill=\"none\"/>\n",
              "    <path d=\"M18.56 5.44l.94 2.06.94-2.06 2.06-.94-2.06-.94-.94-2.06-.94 2.06-2.06.94zm-11 1L8.5 8.5l.94-2.06 2.06-.94-2.06-.94L8.5 2.5l-.94 2.06-2.06.94zm10 10l.94 2.06.94-2.06 2.06-.94-2.06-.94-.94-2.06-.94 2.06-2.06.94z\"/><path d=\"M17.41 7.96l-1.37-1.37c-.4-.4-.92-.59-1.43-.59-.52 0-1.04.2-1.43.59L10.3 9.45l-7.72 7.72c-.78.78-.78 2.05 0 2.83L4 21.41c.39.39.9.59 1.41.59.51 0 1.02-.2 1.41-.59l7.78-7.78 2.81-2.81c.8-.78.8-2.07 0-2.86zM5.41 20L4 18.59l7.72-7.72 1.47 1.35L5.41 20z\"/>\n",
              "  </svg>\n",
              "      </button>\n",
              "      \n",
              "  <style>\n",
              "    .colab-df-container {\n",
              "      display:flex;\n",
              "      flex-wrap:wrap;\n",
              "      gap: 12px;\n",
              "    }\n",
              "\n",
              "    .colab-df-convert {\n",
              "      background-color: #E8F0FE;\n",
              "      border: none;\n",
              "      border-radius: 50%;\n",
              "      cursor: pointer;\n",
              "      display: none;\n",
              "      fill: #1967D2;\n",
              "      height: 32px;\n",
              "      padding: 0 0 0 0;\n",
              "      width: 32px;\n",
              "    }\n",
              "\n",
              "    .colab-df-convert:hover {\n",
              "      background-color: #E2EBFA;\n",
              "      box-shadow: 0px 1px 2px rgba(60, 64, 67, 0.3), 0px 1px 3px 1px rgba(60, 64, 67, 0.15);\n",
              "      fill: #174EA6;\n",
              "    }\n",
              "\n",
              "    [theme=dark] .colab-df-convert {\n",
              "      background-color: #3B4455;\n",
              "      fill: #D2E3FC;\n",
              "    }\n",
              "\n",
              "    [theme=dark] .colab-df-convert:hover {\n",
              "      background-color: #434B5C;\n",
              "      box-shadow: 0px 1px 3px 1px rgba(0, 0, 0, 0.15);\n",
              "      filter: drop-shadow(0px 1px 2px rgba(0, 0, 0, 0.3));\n",
              "      fill: #FFFFFF;\n",
              "    }\n",
              "  </style>\n",
              "\n",
              "      <script>\n",
              "        const buttonEl =\n",
              "          document.querySelector('#df-edc0d530-0d0c-4b31-bbda-c5dd0cc087e8 button.colab-df-convert');\n",
              "        buttonEl.style.display =\n",
              "          google.colab.kernel.accessAllowed ? 'block' : 'none';\n",
              "\n",
              "        async function convertToInteractive(key) {\n",
              "          const element = document.querySelector('#df-edc0d530-0d0c-4b31-bbda-c5dd0cc087e8');\n",
              "          const dataTable =\n",
              "            await google.colab.kernel.invokeFunction('convertToInteractive',\n",
              "                                                     [key], {});\n",
              "          if (!dataTable) return;\n",
              "\n",
              "          const docLinkHtml = 'Like what you see? Visit the ' +\n",
              "            '<a target=\"_blank\" href=https://colab.research.google.com/notebooks/data_table.ipynb>data table notebook</a>'\n",
              "            + ' to learn more about interactive tables.';\n",
              "          element.innerHTML = '';\n",
              "          dataTable['output_type'] = 'display_data';\n",
              "          await google.colab.output.renderOutput(dataTable, element);\n",
              "          const docLink = document.createElement('div');\n",
              "          docLink.innerHTML = docLinkHtml;\n",
              "          element.appendChild(docLink);\n",
              "        }\n",
              "      </script>\n",
              "    </div>\n",
              "  </div>\n",
              "  "
            ]
          },
          "metadata": {},
          "execution_count": 19
        }
      ]
    },
    {
      "cell_type": "markdown",
      "source": [
        "ESCALAS DIFERENTE O QUE FAZER? \n",
        "O dataset apresenta um conjunto de valores bem discrepantes em termos de números decimais a valores gigantescos em inteiros. Assim, precisarei aplicar um técnica de padronização, nesse caso o Standarscaler(Padronização) que aproxima os dados de média a 0 e desvio padrão igual a 1."
      ],
      "metadata": {
        "id": "4dlxHkafJSy7"
      }
    },
    {
      "cell_type": "code",
      "source": [
        "#Assim utilizo aqui o StandardScaler nas colunas desejadas\n",
        "padrao = StandardScaler() #chamando o standard\n",
        "base_treino.iloc[:, 1:12]= padrao.fit_transform(base_treino.iloc[:, 1:12]) #aplicando nas colunas desejadas em treino\n",
        "base_treino.head()# verificando se o resultado gerado deu certo"
      ],
      "metadata": {
        "id": "9UaHF6GQK0LB",
        "colab": {
          "base_uri": "https://localhost:8080/",
          "height": 357
        },
        "outputId": "6eab165b-75db-43c2-c388-6105724fdb91"
      },
      "execution_count": 20,
      "outputs": [
        {
          "output_type": "execute_result",
          "data": {
            "text/plain": [
              "  PassengerId  HomePlanet  CryoSleep     Cabin  Destination       Age  \\\n",
              "0     0001_01    0.451063   -0.77348 -1.457967     0.641629  0.107533   \n",
              "1     0002_01   -0.757285   -0.77348 -0.444889     0.641629 -0.251843   \n",
              "2     0003_01    0.451063   -0.77348 -1.531645     0.641629  0.562742   \n",
              "3     0003_02    0.451063   -0.77348 -1.531645     0.641629 -0.036217   \n",
              "4     0004_01   -0.757285   -0.77348 -0.443894     0.641629 -0.443510   \n",
              "\n",
              "        VIP  RoomService  FoodCourt  ShoppingMall       Spa    VRDeck  \\\n",
              "0 -0.220196    -0.340590  -0.287314     -0.290817 -0.276663 -0.269023   \n",
              "1 -0.220196    -0.175364  -0.281669     -0.248968  0.211505 -0.230194   \n",
              "2  4.541407    -0.275409   1.955616     -0.290817  5.694289 -0.225782   \n",
              "3 -0.220196    -0.340590   0.517406      0.330225  2.683471 -0.098708   \n",
              "4 -0.220196     0.118709  -0.243409     -0.038048  0.225732 -0.267258   \n",
              "\n",
              "                Name  Transported  \n",
              "0    Maham Ofracculy        False  \n",
              "1       Juanna Vines         True  \n",
              "2      Altark Susent        False  \n",
              "3       Solam Susent        False  \n",
              "4  Willy Santantines         True  "
            ],
            "text/html": [
              "\n",
              "  <div id=\"df-e9387819-7ef7-4390-bead-519c16d76adf\">\n",
              "    <div class=\"colab-df-container\">\n",
              "      <div>\n",
              "<style scoped>\n",
              "    .dataframe tbody tr th:only-of-type {\n",
              "        vertical-align: middle;\n",
              "    }\n",
              "\n",
              "    .dataframe tbody tr th {\n",
              "        vertical-align: top;\n",
              "    }\n",
              "\n",
              "    .dataframe thead th {\n",
              "        text-align: right;\n",
              "    }\n",
              "</style>\n",
              "<table border=\"1\" class=\"dataframe\">\n",
              "  <thead>\n",
              "    <tr style=\"text-align: right;\">\n",
              "      <th></th>\n",
              "      <th>PassengerId</th>\n",
              "      <th>HomePlanet</th>\n",
              "      <th>CryoSleep</th>\n",
              "      <th>Cabin</th>\n",
              "      <th>Destination</th>\n",
              "      <th>Age</th>\n",
              "      <th>VIP</th>\n",
              "      <th>RoomService</th>\n",
              "      <th>FoodCourt</th>\n",
              "      <th>ShoppingMall</th>\n",
              "      <th>Spa</th>\n",
              "      <th>VRDeck</th>\n",
              "      <th>Name</th>\n",
              "      <th>Transported</th>\n",
              "    </tr>\n",
              "  </thead>\n",
              "  <tbody>\n",
              "    <tr>\n",
              "      <th>0</th>\n",
              "      <td>0001_01</td>\n",
              "      <td>0.451063</td>\n",
              "      <td>-0.77348</td>\n",
              "      <td>-1.457967</td>\n",
              "      <td>0.641629</td>\n",
              "      <td>0.107533</td>\n",
              "      <td>-0.220196</td>\n",
              "      <td>-0.340590</td>\n",
              "      <td>-0.287314</td>\n",
              "      <td>-0.290817</td>\n",
              "      <td>-0.276663</td>\n",
              "      <td>-0.269023</td>\n",
              "      <td>Maham Ofracculy</td>\n",
              "      <td>False</td>\n",
              "    </tr>\n",
              "    <tr>\n",
              "      <th>1</th>\n",
              "      <td>0002_01</td>\n",
              "      <td>-0.757285</td>\n",
              "      <td>-0.77348</td>\n",
              "      <td>-0.444889</td>\n",
              "      <td>0.641629</td>\n",
              "      <td>-0.251843</td>\n",
              "      <td>-0.220196</td>\n",
              "      <td>-0.175364</td>\n",
              "      <td>-0.281669</td>\n",
              "      <td>-0.248968</td>\n",
              "      <td>0.211505</td>\n",
              "      <td>-0.230194</td>\n",
              "      <td>Juanna Vines</td>\n",
              "      <td>True</td>\n",
              "    </tr>\n",
              "    <tr>\n",
              "      <th>2</th>\n",
              "      <td>0003_01</td>\n",
              "      <td>0.451063</td>\n",
              "      <td>-0.77348</td>\n",
              "      <td>-1.531645</td>\n",
              "      <td>0.641629</td>\n",
              "      <td>0.562742</td>\n",
              "      <td>4.541407</td>\n",
              "      <td>-0.275409</td>\n",
              "      <td>1.955616</td>\n",
              "      <td>-0.290817</td>\n",
              "      <td>5.694289</td>\n",
              "      <td>-0.225782</td>\n",
              "      <td>Altark Susent</td>\n",
              "      <td>False</td>\n",
              "    </tr>\n",
              "    <tr>\n",
              "      <th>3</th>\n",
              "      <td>0003_02</td>\n",
              "      <td>0.451063</td>\n",
              "      <td>-0.77348</td>\n",
              "      <td>-1.531645</td>\n",
              "      <td>0.641629</td>\n",
              "      <td>-0.036217</td>\n",
              "      <td>-0.220196</td>\n",
              "      <td>-0.340590</td>\n",
              "      <td>0.517406</td>\n",
              "      <td>0.330225</td>\n",
              "      <td>2.683471</td>\n",
              "      <td>-0.098708</td>\n",
              "      <td>Solam Susent</td>\n",
              "      <td>False</td>\n",
              "    </tr>\n",
              "    <tr>\n",
              "      <th>4</th>\n",
              "      <td>0004_01</td>\n",
              "      <td>-0.757285</td>\n",
              "      <td>-0.77348</td>\n",
              "      <td>-0.443894</td>\n",
              "      <td>0.641629</td>\n",
              "      <td>-0.443510</td>\n",
              "      <td>-0.220196</td>\n",
              "      <td>0.118709</td>\n",
              "      <td>-0.243409</td>\n",
              "      <td>-0.038048</td>\n",
              "      <td>0.225732</td>\n",
              "      <td>-0.267258</td>\n",
              "      <td>Willy Santantines</td>\n",
              "      <td>True</td>\n",
              "    </tr>\n",
              "  </tbody>\n",
              "</table>\n",
              "</div>\n",
              "      <button class=\"colab-df-convert\" onclick=\"convertToInteractive('df-e9387819-7ef7-4390-bead-519c16d76adf')\"\n",
              "              title=\"Convert this dataframe to an interactive table.\"\n",
              "              style=\"display:none;\">\n",
              "        \n",
              "  <svg xmlns=\"http://www.w3.org/2000/svg\" height=\"24px\"viewBox=\"0 0 24 24\"\n",
              "       width=\"24px\">\n",
              "    <path d=\"M0 0h24v24H0V0z\" fill=\"none\"/>\n",
              "    <path d=\"M18.56 5.44l.94 2.06.94-2.06 2.06-.94-2.06-.94-.94-2.06-.94 2.06-2.06.94zm-11 1L8.5 8.5l.94-2.06 2.06-.94-2.06-.94L8.5 2.5l-.94 2.06-2.06.94zm10 10l.94 2.06.94-2.06 2.06-.94-2.06-.94-.94-2.06-.94 2.06-2.06.94z\"/><path d=\"M17.41 7.96l-1.37-1.37c-.4-.4-.92-.59-1.43-.59-.52 0-1.04.2-1.43.59L10.3 9.45l-7.72 7.72c-.78.78-.78 2.05 0 2.83L4 21.41c.39.39.9.59 1.41.59.51 0 1.02-.2 1.41-.59l7.78-7.78 2.81-2.81c.8-.78.8-2.07 0-2.86zM5.41 20L4 18.59l7.72-7.72 1.47 1.35L5.41 20z\"/>\n",
              "  </svg>\n",
              "      </button>\n",
              "      \n",
              "  <style>\n",
              "    .colab-df-container {\n",
              "      display:flex;\n",
              "      flex-wrap:wrap;\n",
              "      gap: 12px;\n",
              "    }\n",
              "\n",
              "    .colab-df-convert {\n",
              "      background-color: #E8F0FE;\n",
              "      border: none;\n",
              "      border-radius: 50%;\n",
              "      cursor: pointer;\n",
              "      display: none;\n",
              "      fill: #1967D2;\n",
              "      height: 32px;\n",
              "      padding: 0 0 0 0;\n",
              "      width: 32px;\n",
              "    }\n",
              "\n",
              "    .colab-df-convert:hover {\n",
              "      background-color: #E2EBFA;\n",
              "      box-shadow: 0px 1px 2px rgba(60, 64, 67, 0.3), 0px 1px 3px 1px rgba(60, 64, 67, 0.15);\n",
              "      fill: #174EA6;\n",
              "    }\n",
              "\n",
              "    [theme=dark] .colab-df-convert {\n",
              "      background-color: #3B4455;\n",
              "      fill: #D2E3FC;\n",
              "    }\n",
              "\n",
              "    [theme=dark] .colab-df-convert:hover {\n",
              "      background-color: #434B5C;\n",
              "      box-shadow: 0px 1px 3px 1px rgba(0, 0, 0, 0.15);\n",
              "      filter: drop-shadow(0px 1px 2px rgba(0, 0, 0, 0.3));\n",
              "      fill: #FFFFFF;\n",
              "    }\n",
              "  </style>\n",
              "\n",
              "      <script>\n",
              "        const buttonEl =\n",
              "          document.querySelector('#df-e9387819-7ef7-4390-bead-519c16d76adf button.colab-df-convert');\n",
              "        buttonEl.style.display =\n",
              "          google.colab.kernel.accessAllowed ? 'block' : 'none';\n",
              "\n",
              "        async function convertToInteractive(key) {\n",
              "          const element = document.querySelector('#df-e9387819-7ef7-4390-bead-519c16d76adf');\n",
              "          const dataTable =\n",
              "            await google.colab.kernel.invokeFunction('convertToInteractive',\n",
              "                                                     [key], {});\n",
              "          if (!dataTable) return;\n",
              "\n",
              "          const docLinkHtml = 'Like what you see? Visit the ' +\n",
              "            '<a target=\"_blank\" href=https://colab.research.google.com/notebooks/data_table.ipynb>data table notebook</a>'\n",
              "            + ' to learn more about interactive tables.';\n",
              "          element.innerHTML = '';\n",
              "          dataTable['output_type'] = 'display_data';\n",
              "          await google.colab.output.renderOutput(dataTable, element);\n",
              "          const docLink = document.createElement('div');\n",
              "          docLink.innerHTML = docLinkHtml;\n",
              "          element.appendChild(docLink);\n",
              "        }\n",
              "      </script>\n",
              "    </div>\n",
              "  </div>\n",
              "  "
            ]
          },
          "metadata": {},
          "execution_count": 20
        }
      ]
    },
    {
      "cell_type": "markdown",
      "source": [
        "\n",
        "\n",
        "```\n",
        "# Isto está formatado como código\n",
        "```\n",
        "\n",
        "AVALIAÇÃO PRÉ-PROCESSAMENTO: Fiz todo o procedimento básico \n",
        "1º - Removemos os valores nulos das colunas substituindo pela média nos númericos e pela moda nos categóricos. A média foi utilizada ao invés da mediana devido os valores estarem bem mais concentrados próximo a zero, tornando a mediana praticamente 0.\n",
        "\n",
        "2º - Utilizei LabelEncoder e BinarizeEncoder para transformar os dados em númericos;\n",
        "\n",
        "3º - Utilizei a padronização para tornar possível a criação do modelo de NaiveBayes."
      ],
      "metadata": {
        "id": "KqYyWvMf_YkG"
      }
    },
    {
      "cell_type": "markdown",
      "source": [
        "### 4 - SEPARANDO OS DADOS DE TESTE E TREINO"
      ],
      "metadata": {
        "id": "f0CNhvHDK1SN"
      }
    },
    {
      "cell_type": "markdown",
      "source": [
        "Para executarmos nosso modelo, precisamos ter uma coluna alvo e as colunas que permitem a previsão da coluna alvo, então criaremos os valores com as colunas previsores e a coluna alvo com a coluna classe"
      ],
      "metadata": {
        "id": "XBAeid7o-Zcy"
      }
    },
    {
      "cell_type": "code",
      "source": [
        "previsores = base_treino.iloc[:, 1:12].values #nossos atributos que treinam para prever\n",
        "classe = base_treino.iloc[:, 13].values #alvo a ser atingido"
      ],
      "metadata": {
        "id": "Tnq7eLwJLq8M"
      },
      "execution_count": 21,
      "outputs": []
    },
    {
      "cell_type": "markdown",
      "source": [
        "Para tornarmos modelo possível e generalizado, isso é gerar um modelo que possa ser utilizado no mundo real sem causar super ajustes ou ajustes insuficientes na previsão, utilizareos o train_test_split que separa os dados.\n",
        "Mas porque generalizar? Porque dados ajustados se saem bem no treino, mas se diante de usa base de dados que nunca viu os dados não conseguem prever por terem sido adaptados demais ao seu conjunto de treino. Caso o modelo seja insuficiente ele nem consegue performar bem nem no treino nem no teste."
      ],
      "metadata": {
        "id": "7FnJv2Jr_Pxb"
      }
    },
    {
      "cell_type": "code",
      "source": [
        "#aqui separamos os dados em treino e teste com aleatoriedade nula e um tamanho  70% para treino e 30% de teste\n",
        "X_train,X_test,y_train,y_test = train_test_split(previsores, \n",
        "                                                 classe,\n",
        "                                                 random_state=0, test_size=0.3)"
      ],
      "metadata": {
        "id": "T8HeGZf9LLbs"
      },
      "execution_count": 22,
      "outputs": []
    },
    {
      "cell_type": "markdown",
      "source": [
        "### 5 - MONTANDO A PREVISÃO DO MODELO EM X_TEST"
      ],
      "metadata": {
        "id": "e7TGOTAeQJSW"
      }
    },
    {
      "cell_type": "markdown",
      "source": [
        "O modelo que usaremos é o modelo de naive bayes que realiza uma aprendizagem de máquina supondo que os atributos são independentes. Assim, atráves de modelos probabilísticos ele classifica os atributos e seus valores númericos gerando uma previsão, sua base central está no Teorema de Bayes. Para mais conhecimento e informações deixarei o [acesso aqui](https://www.digitalhouse.com/br/blog/naive-bayes/.) de um documento contendo informações do classificador."
      ],
      "metadata": {
        "id": "iry5nPe8AP9G"
      }
    },
    {
      "cell_type": "code",
      "source": [
        "#criando nosso modelo\n",
        "modelo = GaussianNB()\n",
        "modelo_final = modelo.fit(X_train, y_train)"
      ],
      "metadata": {
        "id": "HlxxCw3gKxd2"
      },
      "execution_count": 23,
      "outputs": []
    },
    {
      "cell_type": "code",
      "source": [
        "#fazendo a previsão, o resultado será um array contendo os valores False ou True\n",
        "previsao = modelo_final.predict(X_test)"
      ],
      "metadata": {
        "id": "LNhunE1YOiRa"
      },
      "execution_count": 24,
      "outputs": []
    },
    {
      "cell_type": "markdown",
      "source": [
        "AVALIAÇÃO DE CRIAÇÃO DE MODELO: Fiz a separação da base de testes e treino do conjunto de dados de train.csv, vulgo \"base_treino\". Como temos um modelo com mais de 1000 linhas utilizei 70 para treino e 30 para teste.\n",
        "- X_train: Corresponde os dados de treino dos previsores;\n",
        "\n",
        "- X_test: Corresponde aos 30% restante de valores não treinados que serão usados para prever a acurácia de previsão do modelo;\n",
        "\n",
        "- y_train: Corresponde ao valores alvo que o modelo precisa prever;\n",
        "\n",
        "- y_test: Corresponde aos valores que testam a acurácia entre os valores atuais e os valores previstos."
      ],
      "metadata": {
        "id": "ZolXRlqBMCrY"
      }
    },
    {
      "cell_type": "markdown",
      "source": [
        "### 6 - REAMOSTRAGEM, VALIDAÇÃO CRUZADA (CROSS-VALIDATION)"
      ],
      "metadata": {
        "id": "n1_kQx3qo-sv"
      }
    },
    {
      "cell_type": "markdown",
      "source": [
        "O que é validação? Validação é o processo de utilizar dados nunca vistos pelo modelo. Dessa forma, antes de colocar o modelo em prática base_teste é interessante que o modelo passe por uma validação para que o modelo não passe por um overfitting/underfitting no mundo real.\n",
        "\n",
        "Dessa forma, real podemos usar a validação cruzada com os dados de treino e teste diferentes separando em os dados em subdivisões e diferentes iterações. Um dos modelos de validação cruzada mais utilizados é o Kfold, para mais explicações do Kfold é só [clicar aqui.](https://drigols.medium.com/introdu%C3%A7%C3%A3o-a-valida%C3%A7%C3%A3o-cruzada-k-fold-2a6bced32a90)"
      ],
      "metadata": {
        "id": "QMCA9T4rV7NJ"
      }
    },
    {
      "cell_type": "code",
      "source": [
        "kf = KFold(10, shuffle=True, random_state=0)#faremos 10 iterações, com shuffle verdadeiro, tornando aleatorio a separação\n",
        "\n",
        "scoring = \"accuracy\" # o método de score será acurácia\n",
        "score= cross_val_score(modelo, previsores, classe, cv=kf, n_jobs=1, scoring=scoring)\n",
        "print(score) #todos os valores da iteração\n",
        "\n",
        "round(np.mean(score)*100, 2)#vendo o percentual medio dos 10 valores"
      ],
      "metadata": {
        "id": "2Wfw2eCGoBzd",
        "colab": {
          "base_uri": "https://localhost:8080/"
        },
        "outputId": "20870db7-995d-48ca-d01b-2d299b52a387"
      },
      "execution_count": 25,
      "outputs": [
        {
          "output_type": "stream",
          "name": "stdout",
          "text": [
            "[0.6954023  0.69310345 0.67356322 0.70425777 0.68699655 0.71921749\n",
            " 0.71576525 0.72382048 0.70655926 0.6858458 ]\n"
          ]
        },
        {
          "output_type": "execute_result",
          "data": {
            "text/plain": [
              "70.05"
            ]
          },
          "metadata": {},
          "execution_count": 25
        }
      ]
    },
    {
      "cell_type": "markdown",
      "source": [
        "O Kfold não gera um modelo pronto e sim os score, agora podemos comparar se os valores estão próximos entre si e possuem uma média razoável ao treino. Caso não ocorra isso, devemos reajustar os parâmetros do modelo de treino e refazermos o processo de validação."
      ],
      "metadata": {
        "id": "z6e_40wwDGUk"
      }
    },
    {
      "cell_type": "markdown",
      "source": [
        "### 7 - AVALIANDO MODELO\n",
        "\n"
      ],
      "metadata": {
        "id": "gZu2nGCm_3tQ"
      }
    },
    {
      "cell_type": "markdown",
      "source": [
        "A matriz de confusão nos diz o quanto o modelo acertou e errou comparando labels de resultados obtidos e resultados esperados."
      ],
      "metadata": {
        "id": "HZnV_4mjKy90"
      }
    },
    {
      "cell_type": "code",
      "source": [
        "#gerando a matriz de confusão\n",
        "matriz = confusion_matrix(y_test, previsao)\n",
        "\n",
        "#inserindo a matriz em um DataFrame Pandas\n",
        "gerar_matriz = pd.DataFrame(matriz)\n",
        "gerar_matriz"
      ],
      "metadata": {
        "id": "QOsBFxBYPD30",
        "colab": {
          "base_uri": "https://localhost:8080/",
          "height": 112
        },
        "outputId": "975bc9db-f869-406b-ef68-3364ce1d8cc5"
      },
      "execution_count": 26,
      "outputs": [
        {
          "output_type": "execute_result",
          "data": {
            "text/plain": [
              "     0     1\n",
              "0  571   732\n",
              "1   84  1221"
            ],
            "text/html": [
              "\n",
              "  <div id=\"df-b9dad675-c05f-4d58-89af-fcd89e85b714\">\n",
              "    <div class=\"colab-df-container\">\n",
              "      <div>\n",
              "<style scoped>\n",
              "    .dataframe tbody tr th:only-of-type {\n",
              "        vertical-align: middle;\n",
              "    }\n",
              "\n",
              "    .dataframe tbody tr th {\n",
              "        vertical-align: top;\n",
              "    }\n",
              "\n",
              "    .dataframe thead th {\n",
              "        text-align: right;\n",
              "    }\n",
              "</style>\n",
              "<table border=\"1\" class=\"dataframe\">\n",
              "  <thead>\n",
              "    <tr style=\"text-align: right;\">\n",
              "      <th></th>\n",
              "      <th>0</th>\n",
              "      <th>1</th>\n",
              "    </tr>\n",
              "  </thead>\n",
              "  <tbody>\n",
              "    <tr>\n",
              "      <th>0</th>\n",
              "      <td>571</td>\n",
              "      <td>732</td>\n",
              "    </tr>\n",
              "    <tr>\n",
              "      <th>1</th>\n",
              "      <td>84</td>\n",
              "      <td>1221</td>\n",
              "    </tr>\n",
              "  </tbody>\n",
              "</table>\n",
              "</div>\n",
              "      <button class=\"colab-df-convert\" onclick=\"convertToInteractive('df-b9dad675-c05f-4d58-89af-fcd89e85b714')\"\n",
              "              title=\"Convert this dataframe to an interactive table.\"\n",
              "              style=\"display:none;\">\n",
              "        \n",
              "  <svg xmlns=\"http://www.w3.org/2000/svg\" height=\"24px\"viewBox=\"0 0 24 24\"\n",
              "       width=\"24px\">\n",
              "    <path d=\"M0 0h24v24H0V0z\" fill=\"none\"/>\n",
              "    <path d=\"M18.56 5.44l.94 2.06.94-2.06 2.06-.94-2.06-.94-.94-2.06-.94 2.06-2.06.94zm-11 1L8.5 8.5l.94-2.06 2.06-.94-2.06-.94L8.5 2.5l-.94 2.06-2.06.94zm10 10l.94 2.06.94-2.06 2.06-.94-2.06-.94-.94-2.06-.94 2.06-2.06.94z\"/><path d=\"M17.41 7.96l-1.37-1.37c-.4-.4-.92-.59-1.43-.59-.52 0-1.04.2-1.43.59L10.3 9.45l-7.72 7.72c-.78.78-.78 2.05 0 2.83L4 21.41c.39.39.9.59 1.41.59.51 0 1.02-.2 1.41-.59l7.78-7.78 2.81-2.81c.8-.78.8-2.07 0-2.86zM5.41 20L4 18.59l7.72-7.72 1.47 1.35L5.41 20z\"/>\n",
              "  </svg>\n",
              "      </button>\n",
              "      \n",
              "  <style>\n",
              "    .colab-df-container {\n",
              "      display:flex;\n",
              "      flex-wrap:wrap;\n",
              "      gap: 12px;\n",
              "    }\n",
              "\n",
              "    .colab-df-convert {\n",
              "      background-color: #E8F0FE;\n",
              "      border: none;\n",
              "      border-radius: 50%;\n",
              "      cursor: pointer;\n",
              "      display: none;\n",
              "      fill: #1967D2;\n",
              "      height: 32px;\n",
              "      padding: 0 0 0 0;\n",
              "      width: 32px;\n",
              "    }\n",
              "\n",
              "    .colab-df-convert:hover {\n",
              "      background-color: #E2EBFA;\n",
              "      box-shadow: 0px 1px 2px rgba(60, 64, 67, 0.3), 0px 1px 3px 1px rgba(60, 64, 67, 0.15);\n",
              "      fill: #174EA6;\n",
              "    }\n",
              "\n",
              "    [theme=dark] .colab-df-convert {\n",
              "      background-color: #3B4455;\n",
              "      fill: #D2E3FC;\n",
              "    }\n",
              "\n",
              "    [theme=dark] .colab-df-convert:hover {\n",
              "      background-color: #434B5C;\n",
              "      box-shadow: 0px 1px 3px 1px rgba(0, 0, 0, 0.15);\n",
              "      filter: drop-shadow(0px 1px 2px rgba(0, 0, 0, 0.3));\n",
              "      fill: #FFFFFF;\n",
              "    }\n",
              "  </style>\n",
              "\n",
              "      <script>\n",
              "        const buttonEl =\n",
              "          document.querySelector('#df-b9dad675-c05f-4d58-89af-fcd89e85b714 button.colab-df-convert');\n",
              "        buttonEl.style.display =\n",
              "          google.colab.kernel.accessAllowed ? 'block' : 'none';\n",
              "\n",
              "        async function convertToInteractive(key) {\n",
              "          const element = document.querySelector('#df-b9dad675-c05f-4d58-89af-fcd89e85b714');\n",
              "          const dataTable =\n",
              "            await google.colab.kernel.invokeFunction('convertToInteractive',\n",
              "                                                     [key], {});\n",
              "          if (!dataTable) return;\n",
              "\n",
              "          const docLinkHtml = 'Like what you see? Visit the ' +\n",
              "            '<a target=\"_blank\" href=https://colab.research.google.com/notebooks/data_table.ipynb>data table notebook</a>'\n",
              "            + ' to learn more about interactive tables.';\n",
              "          element.innerHTML = '';\n",
              "          dataTable['output_type'] = 'display_data';\n",
              "          await google.colab.output.renderOutput(dataTable, element);\n",
              "          const docLink = document.createElement('div');\n",
              "          docLink.innerHTML = docLinkHtml;\n",
              "          element.appendChild(docLink);\n",
              "        }\n",
              "      </script>\n",
              "    </div>\n",
              "  </div>\n",
              "  "
            ]
          },
          "metadata": {},
          "execution_count": 26
        }
      ]
    },
    {
      "cell_type": "markdown",
      "source": [
        "- Verdadeiro Positivo: Total de acertos em prever positivos. No nosso resultado era 0 e marcou 0;\n",
        "- Falso Negativo: Total de erros previstos como negativo, mas o valor era positivo. No nosos resultado era 0 e marcou 1 ;\n",
        "- Verdadeiro Negativo: Total de acertos em prever negativo: No nosso modelo era 1 e marcou 1;\n",
        "- Falso Positivo: Total de erros previstos como positivo, mas o valor era negativo. Nosso modelo era 1 e marcou 0.\n",
        "\n"
      ],
      "metadata": {
        "id": "z2mMVDY0LbXM"
      }
    },
    {
      "cell_type": "markdown",
      "source": [
        "A matriz de confusão, embora seja ótima para visualizar erros e acertos, não nos diz o grau de acertos e erros sobre todo o modelo, para isso podemos usar algumas métricas de avaliação. Desta forma selecionei algumas métricas neste projeto:"
      ],
      "metadata": {
        "id": "3QHcOU39QOgn"
      }
    },
    {
      "cell_type": "markdown",
      "source": [
        "##### Acurácia\n",
        "Acurácia: O quanto o modelo teve ao analisar o quanto o modelo classificou corretamente. Assim, calcula-se:\n",
        "\n",
        "  (VP + VN) / (VP + VN + FP + FN)"
      ],
      "metadata": {
        "id": "0fwrfpnOQaTF"
      }
    },
    {
      "cell_type": "code",
      "source": [
        "#usando os valores que quero prever e previsão na acurácia\n",
        "acuracia = accuracy_score(y_test, previsao)\n",
        "acuracia"
      ],
      "metadata": {
        "id": "hTPOCJCrAbya",
        "colab": {
          "base_uri": "https://localhost:8080/"
        },
        "outputId": "d1f6ccae-b176-4a26-82aa-eb55ee56c9ce"
      },
      "execution_count": 27,
      "outputs": [
        {
          "output_type": "execute_result",
          "data": {
            "text/plain": [
              "0.6871165644171779"
            ]
          },
          "metadata": {},
          "execution_count": 27
        }
      ]
    },
    {
      "cell_type": "markdown",
      "source": [
        "#### Precisão\n",
        "Precisão: Dos valores da class positivo quanto de verdade o modelo acertou. Cálculo:\n",
        "\n",
        "VP / (VP + FP)"
      ],
      "metadata": {
        "id": "NvZCmDHgUX3c"
      }
    },
    {
      "cell_type": "code",
      "source": [
        "#usando os valores que quero prever e previsão na precisão\n",
        "precisao = precision_score(y_test, previsao)\n",
        "precisao"
      ],
      "metadata": {
        "id": "qXOLXgTWDfKk",
        "colab": {
          "base_uri": "https://localhost:8080/"
        },
        "outputId": "a5343da9-4496-44f8-a231-22d4fd582b05"
      },
      "execution_count": 28,
      "outputs": [
        {
          "output_type": "execute_result",
          "data": {
            "text/plain": [
              "0.6251920122887865"
            ]
          },
          "metadata": {},
          "execution_count": 28
        }
      ]
    },
    {
      "cell_type": "markdown",
      "source": [
        "#### Recall\n",
        "\n",
        "Dos valores que eram realmente positivo o quanto realmente estão corretos. Cálculo:\n",
        "\n",
        "VP/ (VP +FN)"
      ],
      "metadata": {
        "id": "Av6TDUFBWNWF"
      }
    },
    {
      "cell_type": "code",
      "source": [
        "#usando os valores que quero prever e previsão no recall ou revocação\n",
        "recalling = recall_score(y_test, previsao)\n",
        "recalling"
      ],
      "metadata": {
        "id": "flRnbhkYGAXd",
        "colab": {
          "base_uri": "https://localhost:8080/"
        },
        "outputId": "f3321928-a0ba-4de7-f27b-27d9b06e87f8"
      },
      "execution_count": 29,
      "outputs": [
        {
          "output_type": "execute_result",
          "data": {
            "text/plain": [
              "0.9356321839080459"
            ]
          },
          "metadata": {},
          "execution_count": 29
        }
      ]
    },
    {
      "cell_type": "markdown",
      "source": [
        "#### F1-score\n",
        "\n",
        "Mensura a média harmônica entre a precisão e recall. Cálculo:\n",
        "\n",
        "2* (  (Precisão * Recall) / (Precisão + Recall)  )"
      ],
      "metadata": {
        "id": "biUQmvCRWry1"
      }
    },
    {
      "cell_type": "code",
      "source": [
        "#usando os valores que quero prever e previsão no f1_score\n",
        "f1pontos = f1_score(y_test, previsao)\n",
        "f1pontos"
      ],
      "metadata": {
        "id": "y3jFm1hoGJYR",
        "colab": {
          "base_uri": "https://localhost:8080/"
        },
        "outputId": "256a2af4-1f92-44b5-f52c-3f3c977dee99"
      },
      "execution_count": 30,
      "outputs": [
        {
          "output_type": "execute_result",
          "data": {
            "text/plain": [
              "0.7495395948434622"
            ]
          },
          "metadata": {},
          "execution_count": 30
        }
      ]
    },
    {
      "cell_type": "markdown",
      "source": [
        "### Qual Selecionar?\n",
        "A resposta para essa pergunta dependerá do seu modelo de negócio ou projeto. Por exemplo, ao usar a acurácia, ainda que ela desemepnhe uma taxa 99% se em termos de números os 1% corresponderem a um número elevado de afetados que o modelo não identificou você pode acabar declarando um modelo ruim para seu negócio, pois ela pode não estar identificando um grande problema.<br>\n",
        "<br>\n",
        "A precisão você deve se preocupar mais com os casos em que o falso positivo seja mais preocupante que o falso negativo. Ou seja, declarar algo bom sem ele realmente ser.<br>\n",
        "<br>\n",
        "<i>Recall</i> você deve considerar se os falsos negativos são mais prejudiciais ao seu negócio.<br>\n",
        "<br>\n",
        "E por fim o <i>f1-score</i> avalia a média harmônica entre precisão e  reacall e nos pode dizer se quando um valor estiver muito baixo, observar qual métrica pode estar saindo com baixa performance.\n"
      ],
      "metadata": {
        "id": "7PA5h979Xbtn"
      }
    },
    {
      "cell_type": "markdown",
      "source": [
        "### 8 - CRIANDO MODELO DE DEPLOY\n"
      ],
      "metadata": {
        "id": "W_Mirp9s5Tp5"
      }
    },
    {
      "cell_type": "markdown",
      "source": [
        "Agora que temos o modelo pronto vamos apenas preparar para subir nosso conjunto de dados para o Kaggle."
      ],
      "metadata": {
        "id": "YG1ViqDlb11Y"
      }
    },
    {
      "cell_type": "code",
      "source": [
        "#revendo as colunas de ID e Nome dos passageiros e criando um dataset para a previsão: test_base\n",
        "test_base = base_teste.drop([\"PassengerId\",\"Name\"], axis=1)\n",
        "test_base.head()"
      ],
      "metadata": {
        "id": "2p8JnPkUDDi3",
        "colab": {
          "base_uri": "https://localhost:8080/",
          "height": 250
        },
        "outputId": "6b9c8b88-c0e2-4a48-e2ef-38f8926e191a"
      },
      "execution_count": 31,
      "outputs": [
        {
          "output_type": "execute_result",
          "data": {
            "text/plain": [
              "   HomePlanet  CryoSleep  Cabin  Destination   Age  VIP  RoomService  \\\n",
              "0           1          1   2785            3  27.0    0          0.0   \n",
              "1           1          0   1868            3  19.0    0          0.0   \n",
              "2           2          1    258            1  31.0    0          0.0   \n",
              "3           2          0    260            3  38.0    0          0.0   \n",
              "4           1          0   1941            3  20.0    0         10.0   \n",
              "\n",
              "   FoodCourt  ShoppingMall     Spa  VRDeck  \n",
              "0        0.0           0.0     0.0     0.0  \n",
              "1        9.0           0.0  2823.0     0.0  \n",
              "2        0.0           0.0     0.0     0.0  \n",
              "3     6652.0           0.0   181.0   585.0  \n",
              "4        0.0         635.0     0.0     0.0  "
            ],
            "text/html": [
              "\n",
              "  <div id=\"df-fd0f6b51-d580-47aa-ba49-148d911e9c7e\">\n",
              "    <div class=\"colab-df-container\">\n",
              "      <div>\n",
              "<style scoped>\n",
              "    .dataframe tbody tr th:only-of-type {\n",
              "        vertical-align: middle;\n",
              "    }\n",
              "\n",
              "    .dataframe tbody tr th {\n",
              "        vertical-align: top;\n",
              "    }\n",
              "\n",
              "    .dataframe thead th {\n",
              "        text-align: right;\n",
              "    }\n",
              "</style>\n",
              "<table border=\"1\" class=\"dataframe\">\n",
              "  <thead>\n",
              "    <tr style=\"text-align: right;\">\n",
              "      <th></th>\n",
              "      <th>HomePlanet</th>\n",
              "      <th>CryoSleep</th>\n",
              "      <th>Cabin</th>\n",
              "      <th>Destination</th>\n",
              "      <th>Age</th>\n",
              "      <th>VIP</th>\n",
              "      <th>RoomService</th>\n",
              "      <th>FoodCourt</th>\n",
              "      <th>ShoppingMall</th>\n",
              "      <th>Spa</th>\n",
              "      <th>VRDeck</th>\n",
              "    </tr>\n",
              "  </thead>\n",
              "  <tbody>\n",
              "    <tr>\n",
              "      <th>0</th>\n",
              "      <td>1</td>\n",
              "      <td>1</td>\n",
              "      <td>2785</td>\n",
              "      <td>3</td>\n",
              "      <td>27.0</td>\n",
              "      <td>0</td>\n",
              "      <td>0.0</td>\n",
              "      <td>0.0</td>\n",
              "      <td>0.0</td>\n",
              "      <td>0.0</td>\n",
              "      <td>0.0</td>\n",
              "    </tr>\n",
              "    <tr>\n",
              "      <th>1</th>\n",
              "      <td>1</td>\n",
              "      <td>0</td>\n",
              "      <td>1868</td>\n",
              "      <td>3</td>\n",
              "      <td>19.0</td>\n",
              "      <td>0</td>\n",
              "      <td>0.0</td>\n",
              "      <td>9.0</td>\n",
              "      <td>0.0</td>\n",
              "      <td>2823.0</td>\n",
              "      <td>0.0</td>\n",
              "    </tr>\n",
              "    <tr>\n",
              "      <th>2</th>\n",
              "      <td>2</td>\n",
              "      <td>1</td>\n",
              "      <td>258</td>\n",
              "      <td>1</td>\n",
              "      <td>31.0</td>\n",
              "      <td>0</td>\n",
              "      <td>0.0</td>\n",
              "      <td>0.0</td>\n",
              "      <td>0.0</td>\n",
              "      <td>0.0</td>\n",
              "      <td>0.0</td>\n",
              "    </tr>\n",
              "    <tr>\n",
              "      <th>3</th>\n",
              "      <td>2</td>\n",
              "      <td>0</td>\n",
              "      <td>260</td>\n",
              "      <td>3</td>\n",
              "      <td>38.0</td>\n",
              "      <td>0</td>\n",
              "      <td>0.0</td>\n",
              "      <td>6652.0</td>\n",
              "      <td>0.0</td>\n",
              "      <td>181.0</td>\n",
              "      <td>585.0</td>\n",
              "    </tr>\n",
              "    <tr>\n",
              "      <th>4</th>\n",
              "      <td>1</td>\n",
              "      <td>0</td>\n",
              "      <td>1941</td>\n",
              "      <td>3</td>\n",
              "      <td>20.0</td>\n",
              "      <td>0</td>\n",
              "      <td>10.0</td>\n",
              "      <td>0.0</td>\n",
              "      <td>635.0</td>\n",
              "      <td>0.0</td>\n",
              "      <td>0.0</td>\n",
              "    </tr>\n",
              "  </tbody>\n",
              "</table>\n",
              "</div>\n",
              "      <button class=\"colab-df-convert\" onclick=\"convertToInteractive('df-fd0f6b51-d580-47aa-ba49-148d911e9c7e')\"\n",
              "              title=\"Convert this dataframe to an interactive table.\"\n",
              "              style=\"display:none;\">\n",
              "        \n",
              "  <svg xmlns=\"http://www.w3.org/2000/svg\" height=\"24px\"viewBox=\"0 0 24 24\"\n",
              "       width=\"24px\">\n",
              "    <path d=\"M0 0h24v24H0V0z\" fill=\"none\"/>\n",
              "    <path d=\"M18.56 5.44l.94 2.06.94-2.06 2.06-.94-2.06-.94-.94-2.06-.94 2.06-2.06.94zm-11 1L8.5 8.5l.94-2.06 2.06-.94-2.06-.94L8.5 2.5l-.94 2.06-2.06.94zm10 10l.94 2.06.94-2.06 2.06-.94-2.06-.94-.94-2.06-.94 2.06-2.06.94z\"/><path d=\"M17.41 7.96l-1.37-1.37c-.4-.4-.92-.59-1.43-.59-.52 0-1.04.2-1.43.59L10.3 9.45l-7.72 7.72c-.78.78-.78 2.05 0 2.83L4 21.41c.39.39.9.59 1.41.59.51 0 1.02-.2 1.41-.59l7.78-7.78 2.81-2.81c.8-.78.8-2.07 0-2.86zM5.41 20L4 18.59l7.72-7.72 1.47 1.35L5.41 20z\"/>\n",
              "  </svg>\n",
              "      </button>\n",
              "      \n",
              "  <style>\n",
              "    .colab-df-container {\n",
              "      display:flex;\n",
              "      flex-wrap:wrap;\n",
              "      gap: 12px;\n",
              "    }\n",
              "\n",
              "    .colab-df-convert {\n",
              "      background-color: #E8F0FE;\n",
              "      border: none;\n",
              "      border-radius: 50%;\n",
              "      cursor: pointer;\n",
              "      display: none;\n",
              "      fill: #1967D2;\n",
              "      height: 32px;\n",
              "      padding: 0 0 0 0;\n",
              "      width: 32px;\n",
              "    }\n",
              "\n",
              "    .colab-df-convert:hover {\n",
              "      background-color: #E2EBFA;\n",
              "      box-shadow: 0px 1px 2px rgba(60, 64, 67, 0.3), 0px 1px 3px 1px rgba(60, 64, 67, 0.15);\n",
              "      fill: #174EA6;\n",
              "    }\n",
              "\n",
              "    [theme=dark] .colab-df-convert {\n",
              "      background-color: #3B4455;\n",
              "      fill: #D2E3FC;\n",
              "    }\n",
              "\n",
              "    [theme=dark] .colab-df-convert:hover {\n",
              "      background-color: #434B5C;\n",
              "      box-shadow: 0px 1px 3px 1px rgba(0, 0, 0, 0.15);\n",
              "      filter: drop-shadow(0px 1px 2px rgba(0, 0, 0, 0.3));\n",
              "      fill: #FFFFFF;\n",
              "    }\n",
              "  </style>\n",
              "\n",
              "      <script>\n",
              "        const buttonEl =\n",
              "          document.querySelector('#df-fd0f6b51-d580-47aa-ba49-148d911e9c7e button.colab-df-convert');\n",
              "        buttonEl.style.display =\n",
              "          google.colab.kernel.accessAllowed ? 'block' : 'none';\n",
              "\n",
              "        async function convertToInteractive(key) {\n",
              "          const element = document.querySelector('#df-fd0f6b51-d580-47aa-ba49-148d911e9c7e');\n",
              "          const dataTable =\n",
              "            await google.colab.kernel.invokeFunction('convertToInteractive',\n",
              "                                                     [key], {});\n",
              "          if (!dataTable) return;\n",
              "\n",
              "          const docLinkHtml = 'Like what you see? Visit the ' +\n",
              "            '<a target=\"_blank\" href=https://colab.research.google.com/notebooks/data_table.ipynb>data table notebook</a>'\n",
              "            + ' to learn more about interactive tables.';\n",
              "          element.innerHTML = '';\n",
              "          dataTable['output_type'] = 'display_data';\n",
              "          await google.colab.output.renderOutput(dataTable, element);\n",
              "          const docLink = document.createElement('div');\n",
              "          docLink.innerHTML = docLinkHtml;\n",
              "          element.appendChild(docLink);\n",
              "        }\n",
              "      </script>\n",
              "    </div>\n",
              "  </div>\n",
              "  "
            ]
          },
          "metadata": {},
          "execution_count": 31
        }
      ]
    },
    {
      "cell_type": "code",
      "source": [
        "#Prevendo o modelo apenas com as colunas de test_base\n",
        "prever = modelo.predict(test_base)\n",
        "prever"
      ],
      "metadata": {
        "id": "mPnM-jGc-gNa",
        "colab": {
          "base_uri": "https://localhost:8080/"
        },
        "outputId": "1e05f815-fecd-4c50-af10-d65241032543"
      },
      "execution_count": 32,
      "outputs": [
        {
          "output_type": "stream",
          "name": "stderr",
          "text": [
            "/usr/local/lib/python3.7/dist-packages/sklearn/base.py:444: UserWarning: X has feature names, but GaussianNB was fitted without feature names\n",
            "  f\"X has feature names, but {self.__class__.__name__} was fitted without\"\n"
          ]
        },
        {
          "output_type": "execute_result",
          "data": {
            "text/plain": [
              "array([ True, False,  True, ...,  True,  True,  True])"
            ]
          },
          "metadata": {},
          "execution_count": 32
        }
      ]
    },
    {
      "cell_type": "code",
      "source": [
        "#adicionando um array com o modelo previsto em uma nova coluna na base de testes\n",
        "base_teste[\"Transported\"]=prever"
      ],
      "metadata": {
        "id": "wgcbDE505Yl-"
      },
      "execution_count": 33,
      "outputs": []
    },
    {
      "cell_type": "code",
      "source": [
        "#criando o dataframe com o ID e os atributos do valor previsto para gerar um csv e submeter no kaggle\n",
        "submissao = pd.DataFrame(base_teste, columns=[\"PassengerId\", \"Transported\"])\n",
        "submissao.head()"
      ],
      "metadata": {
        "id": "WkXzOXZCClea",
        "colab": {
          "base_uri": "https://localhost:8080/",
          "height": 206
        },
        "outputId": "c1b3748a-13c9-4765-aadc-619eed756392"
      },
      "execution_count": 34,
      "outputs": [
        {
          "output_type": "execute_result",
          "data": {
            "text/plain": [
              "  PassengerId  Transported\n",
              "0     0013_01         True\n",
              "1     0018_01        False\n",
              "2     0019_01         True\n",
              "3     0021_01         True\n",
              "4     0023_01         True"
            ],
            "text/html": [
              "\n",
              "  <div id=\"df-3165335d-5dd2-4cd5-98ae-5790a0c40569\">\n",
              "    <div class=\"colab-df-container\">\n",
              "      <div>\n",
              "<style scoped>\n",
              "    .dataframe tbody tr th:only-of-type {\n",
              "        vertical-align: middle;\n",
              "    }\n",
              "\n",
              "    .dataframe tbody tr th {\n",
              "        vertical-align: top;\n",
              "    }\n",
              "\n",
              "    .dataframe thead th {\n",
              "        text-align: right;\n",
              "    }\n",
              "</style>\n",
              "<table border=\"1\" class=\"dataframe\">\n",
              "  <thead>\n",
              "    <tr style=\"text-align: right;\">\n",
              "      <th></th>\n",
              "      <th>PassengerId</th>\n",
              "      <th>Transported</th>\n",
              "    </tr>\n",
              "  </thead>\n",
              "  <tbody>\n",
              "    <tr>\n",
              "      <th>0</th>\n",
              "      <td>0013_01</td>\n",
              "      <td>True</td>\n",
              "    </tr>\n",
              "    <tr>\n",
              "      <th>1</th>\n",
              "      <td>0018_01</td>\n",
              "      <td>False</td>\n",
              "    </tr>\n",
              "    <tr>\n",
              "      <th>2</th>\n",
              "      <td>0019_01</td>\n",
              "      <td>True</td>\n",
              "    </tr>\n",
              "    <tr>\n",
              "      <th>3</th>\n",
              "      <td>0021_01</td>\n",
              "      <td>True</td>\n",
              "    </tr>\n",
              "    <tr>\n",
              "      <th>4</th>\n",
              "      <td>0023_01</td>\n",
              "      <td>True</td>\n",
              "    </tr>\n",
              "  </tbody>\n",
              "</table>\n",
              "</div>\n",
              "      <button class=\"colab-df-convert\" onclick=\"convertToInteractive('df-3165335d-5dd2-4cd5-98ae-5790a0c40569')\"\n",
              "              title=\"Convert this dataframe to an interactive table.\"\n",
              "              style=\"display:none;\">\n",
              "        \n",
              "  <svg xmlns=\"http://www.w3.org/2000/svg\" height=\"24px\"viewBox=\"0 0 24 24\"\n",
              "       width=\"24px\">\n",
              "    <path d=\"M0 0h24v24H0V0z\" fill=\"none\"/>\n",
              "    <path d=\"M18.56 5.44l.94 2.06.94-2.06 2.06-.94-2.06-.94-.94-2.06-.94 2.06-2.06.94zm-11 1L8.5 8.5l.94-2.06 2.06-.94-2.06-.94L8.5 2.5l-.94 2.06-2.06.94zm10 10l.94 2.06.94-2.06 2.06-.94-2.06-.94-.94-2.06-.94 2.06-2.06.94z\"/><path d=\"M17.41 7.96l-1.37-1.37c-.4-.4-.92-.59-1.43-.59-.52 0-1.04.2-1.43.59L10.3 9.45l-7.72 7.72c-.78.78-.78 2.05 0 2.83L4 21.41c.39.39.9.59 1.41.59.51 0 1.02-.2 1.41-.59l7.78-7.78 2.81-2.81c.8-.78.8-2.07 0-2.86zM5.41 20L4 18.59l7.72-7.72 1.47 1.35L5.41 20z\"/>\n",
              "  </svg>\n",
              "      </button>\n",
              "      \n",
              "  <style>\n",
              "    .colab-df-container {\n",
              "      display:flex;\n",
              "      flex-wrap:wrap;\n",
              "      gap: 12px;\n",
              "    }\n",
              "\n",
              "    .colab-df-convert {\n",
              "      background-color: #E8F0FE;\n",
              "      border: none;\n",
              "      border-radius: 50%;\n",
              "      cursor: pointer;\n",
              "      display: none;\n",
              "      fill: #1967D2;\n",
              "      height: 32px;\n",
              "      padding: 0 0 0 0;\n",
              "      width: 32px;\n",
              "    }\n",
              "\n",
              "    .colab-df-convert:hover {\n",
              "      background-color: #E2EBFA;\n",
              "      box-shadow: 0px 1px 2px rgba(60, 64, 67, 0.3), 0px 1px 3px 1px rgba(60, 64, 67, 0.15);\n",
              "      fill: #174EA6;\n",
              "    }\n",
              "\n",
              "    [theme=dark] .colab-df-convert {\n",
              "      background-color: #3B4455;\n",
              "      fill: #D2E3FC;\n",
              "    }\n",
              "\n",
              "    [theme=dark] .colab-df-convert:hover {\n",
              "      background-color: #434B5C;\n",
              "      box-shadow: 0px 1px 3px 1px rgba(0, 0, 0, 0.15);\n",
              "      filter: drop-shadow(0px 1px 2px rgba(0, 0, 0, 0.3));\n",
              "      fill: #FFFFFF;\n",
              "    }\n",
              "  </style>\n",
              "\n",
              "      <script>\n",
              "        const buttonEl =\n",
              "          document.querySelector('#df-3165335d-5dd2-4cd5-98ae-5790a0c40569 button.colab-df-convert');\n",
              "        buttonEl.style.display =\n",
              "          google.colab.kernel.accessAllowed ? 'block' : 'none';\n",
              "\n",
              "        async function convertToInteractive(key) {\n",
              "          const element = document.querySelector('#df-3165335d-5dd2-4cd5-98ae-5790a0c40569');\n",
              "          const dataTable =\n",
              "            await google.colab.kernel.invokeFunction('convertToInteractive',\n",
              "                                                     [key], {});\n",
              "          if (!dataTable) return;\n",
              "\n",
              "          const docLinkHtml = 'Like what you see? Visit the ' +\n",
              "            '<a target=\"_blank\" href=https://colab.research.google.com/notebooks/data_table.ipynb>data table notebook</a>'\n",
              "            + ' to learn more about interactive tables.';\n",
              "          element.innerHTML = '';\n",
              "          dataTable['output_type'] = 'display_data';\n",
              "          await google.colab.output.renderOutput(dataTable, element);\n",
              "          const docLink = document.createElement('div');\n",
              "          docLink.innerHTML = docLinkHtml;\n",
              "          element.appendChild(docLink);\n",
              "        }\n",
              "      </script>\n",
              "    </div>\n",
              "  </div>\n",
              "  "
            ]
          },
          "metadata": {},
          "execution_count": 34
        }
      ]
    },
    {
      "cell_type": "code",
      "source": [
        "#Gerando o modelo \n",
        "submissao.to_csv(\"submission.csv\", index=False)"
      ],
      "metadata": {
        "id": "flhypgefHc7k"
      },
      "execution_count": 35,
      "outputs": []
    },
    {
      "cell_type": "markdown",
      "source": [
        "## 9 - ENVIANDO O ARQUIVO NO KAGGLE"
      ],
      "metadata": {
        "id": "i0b_ITvrf0cg"
      }
    },
    {
      "cell_type": "markdown",
      "source": [
        "Na sua conta, na área de competições basta você entrar na competição que você baixou o arquivo. No meu caso Spaceship Titanic."
      ],
      "metadata": {
        "id": "vEJFYN3wf9vZ"
      }
    },
    {
      "cell_type": "markdown",
      "source": [
        "![image.png](data:image/png;base64,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)"
      ],
      "metadata": {
        "id": "gcR7ySmBfkwI"
      }
    },
    {
      "cell_type": "markdown",
      "source": [
        "A acessar o conteúdo, na área de submit predictions, basta clicar na área aponta para cima como você vê na figura abaixo"
      ],
      "metadata": {
        "id": "lvTLacvEgNY2"
      }
    },
    {
      "cell_type": "markdown",
      "source": [
        "![image.png](data:image/png;base64,iVBORw0KGgoAAAANSUhEUgAAA7EAAAKRCAYAAACC+C7bAAAAAXNSR0IArs4c6QAAAARnQU1BAACxjwv8YQUAAAAJcEhZcwAADsMAAA7DAcdvqGQAAL6mSURBVHhe7P0LnBvXfSf4/mhRJmTJ6qL1aNii2ZDloeCsTSMzpoLE5hiZkDayS42Qjzk3SKR7jQx1R33NfEaIPGMi3B2pLWcpyBNL8H5CG86KMbxLhvANvUKuuCPYZCI4rZgw6Vgw7bEgRjaraT3QepjVephFvfr+T1UBKKDx6m70A83f14aIQhVOnTrn1KnzRz161bQAERERERER0TJyWp+AZ83bcemll+Hit1+Mi972NrxNvZz5RERERERERMuKef41vPnmG5h+6y2o86/qxSCWiIiIiIiIlqXp6XrwyiCWiIiIiIiIlrW3JGhVL3UPbPU+WN4TS0REREQ0Rz/72c/wd3//CP7x0e9h8rlJGMaUvAycP3/eWYKouzVr1kDTNHkNYfjqYXz0Y7+F3/k3v43rrrvOWeLCpO6JfePNN7BWykaV0erVq3HRRRcxiCUiIiIimq2/PpjF1772v+PMmTPOJ0T9t379eoyO/gf8QfT3nU8uLCqIVffDakNDWOPxWAEsg1giIiIioll49B//EXf+lzEZXOvOJ0QL733ve5+0u/8ZH//4v3Y+uTAwiCUiIiIimqPXXnsNn7/7C/jrv846nxAtvj/8wyju/vyYFchdCNoFsXywExERERFRB2fPnsUf/OEtDGBpyak2+OlP/3urTV7IGMQSEREREbWhHtx047/9Pfzwh485nxAtrX/83vesNqna5oWKQSwRERERUQuvv/46diV24+mnn3Y+IVoeVJv8wp/tsdrohYhBLBERERFRC2Njd+Of/umHzhTR8vLd7/6D1UYvRAxiiYiIiIiaqABB/RkdouVMtVHVVi80DGKJiIiIiFzefPNN/Nn/useZIlre7kne67y7cDCIJSIiIiJyefDBHJ588sJ9aA4NlieeOIWHHjrsTF0YGMQSEREREbkcOHDQeUc0GP7qrzLOuwvDAgSxJoxKGcViGRXDdD5bYkYJ+ZLhTCx3Un6G4XotkzKcL9OAXiqgpBuyhX0iaS5l8ZgN9dRuuwyU8iX573JmQi8UUF7GTc0q60XOn1rnfFfZjzT6ZWHz0txvzWFdan9epv1d877e+FqeeaYF0kM77Ut/5Rwzi+XKHPZbtT/2t12aegGFPhwk+pXOQnvuuedQ+tGPnCmiwaDa7OTkpDO18vU1iDVLaUR8l2BtMIZEIobg2kvgi2WWfHBczo7id0ezKDvTy1oxhbVr17pel2CV149oqjjLQMhERQ6A5SWPnnTk4yF4L/EjHB9DPOzHJd4Q4nndmT93xdRaxHIVZ2qxFZFqqKe1uGSVF/5oCkV3mZezGP3dUWSXc+MzCkhGo0gVlmuoXUEutth1ba9Tdrt56Eca/bLAeZnRb8n+IP1WLFPueQBeycWwNpaTnC43dtk1b1/ttSzzTAvFaqdrg0iVnA+a6RlEpF3Mvb8yUUpH4PMFEZNjZmI0BJ8cMxOz6Z/V/tjXdmmgkIzKOKQwzx9k+5XOwjty5KjzbuH90V//E07//J9rrx/99aedOb35r0fs7x39ovNBH7RKU+Wzbd7+aD9+5NoG96uf+bIlcVSlXdqPP3JP/zyP/2pN9+CLeZw+knQmFqYMl8rRo3/nvFv5+hfE6lnEwhn4089iWi+iUChCn34WaW8aoVhWQpml4x8tYro4Cr8zvfzdg2PT05iuviQQChcjsh35WXT8crAY+23kljR4MlGUA1asEkPhbAXlgvoFtoKzhRgqsSiSpeX/a2w39xxz1dN0GdlwERH/KPLVipL3xekiRpdz49PCSFcqSIc15wOiuWjqt0opaKmoBM6Dvp97Ec3Vt+vYPfLRPcfq25mLyhJ0YfkRktlCyx9oSrkUvu28nwuzMIZwJohsuSzjKDlmFsrQC1GUfzuO3JJFfhrC6Qoq6bC8m49+pbPwHnus3a8UfSbB1J3By50J2+XB/2XWgWy//eet/wLXvu9fYMvn7GkVwDbns1fXbV/o4DCBLZLXa98Xxn92PulIBbDbr3MmbM3bO8h++tPHnXcrX5+CWAP5ZBxGMotk2H049yKsPjPiSBfs7r5SSCOVb4qsjCIyqVz9jK1RRi4dRywUQzwtn7s6bj2fQqaooywHitFIHPlK9zSNYgapTOOZTKOcQzoekwBb8iaRXnWeKZ+nsiXXwUlHPpVC1hVwmaVs0zILTAsglskhVkwg4+5XKwXZxmo5ZVG/YtrOc04HCplU47a3/c4CKGcQT8nBOBOD33XE0vwxpNN+/GnKHZRXJK8JqdMIRhMZFFr8hFwpSrmPRhAZlW1reXq/exoLS0MglkEuVkSiWlFWO8w0nJ2tbke17TVuSfttUG0/1XAG20BR6tf9kaHnkVHtOjIqeWg6e29Iu8iourfTrufJbi+NJ8c7lKW1TXnopuynqVFEZF1qf1jIptSLSiGDhNU+ZD+ZUfmG9Bnp+nzZ2MZyN6R8pb3GQojFVdnMsn05ZVJW/6ryT7t3VNPpr9q1y27ttkPe2663l+1ZYN4wYtEKUjIIV1r1w3Z/3r7ltOunbRUUs6pc1Tam2/QJi6jDccvSoe+1y0EG93Iss9qBc+wynf3Z7vPalxMtsk9/GuF7M/UfK6vMArJJLz75SWda7dtp6VtnDE9kX5jR99sqegmT0qaDrmOmRx0zH5PjqDPdy7FAMav9woz9R/X50i9UVP6cPtzKj+n0G04bbGqj7nV2PNZ02Ddn5r1T/+fk01Db5+w7GXXscWZbFqYfeP75F5x3C+u//rodTP3skB1EXXvIfpDU5b+21T7LWD3DWTvrWD9zOyMwXOc+G+o6K6mCNvXZkf04WGqaX50nL3fg7D4z6Q5gVYDtzssML30fd1sBpf26u/iS9fFV61Ta9TOmR530q2dDG89G/xMONq2gmp9qnhq1OhNb/cx5Vc+6ugPY6z5V+06rM7Hudc7Ik6teDrqWa/zxoSkPLbZrITz//PPOu5WvT0FsGYWvBaWD8TnTbj7pQIO4N28PrryaiUwiD/cQT8+NIVHR4PPIREWCtUAMeY8MgMakgzQzCAcScGJgVEp/gsxYHImiFxHpQAPS0XdL09Rz+BOJ6Kpdm7ocKBDLwxOOYUwGeWYmjEDC/lXVI2kV4q609AKSf/IniDv5V0r5OHKmBpXdReMJIhqDDM6dfJRSCL47gaIWlkAxjjByCIeTsGNt2e5AED5VNoEAAgGfndeO3+k/vZTH92NRhFoUlBbJYDoTsX+NNUtIhYJIVmQb43FEgxUkJf/uM7V6NopAvCDfiyMe9aGckIOu+9LIpjQi/hLGghFkmg7qC8+DoF1RdhsydeT+JFc76Br5UXs7oklps2EYaWnnWSeTzjaMlfzStqUcAuWGbVBt/09K7iO8DDhyf4LaR1K/4WAKlVBcBssy4ClKHSeLTruXtMNBpCohGQSkEPMXEZe6t0+SVVCSNl5Lp1t9WNskQVUiDcMfRXw0iHLq1xFue33dQjNl02XQl6xI2Uv7iPhRGgsiUqt8A/lRvwR4BoKxMdnnAyjL/PrlfuqKgTCCqYr0VWOIhaX6YonGsx7d2pdVJinEZRBlykBrzNUXFiXQT5R9zveKSASiqFZ597bfJe8t19vD9iwStRVeZ/9v7ocV1aZzjSPSmk79tF0uAcQLGqLJDBJhA2lZrlaui63Lcatb32sd15IJJK12In1EcVTqLoaE1KE3EsNosIzkB2T73Ls/LR0JKmO78hIYNjY4QwLAe8OjGA05H8ALTdpCwjV+kKMZcmMJVDTnuNzE6wtgOJtp2i88ciwP1X4M7nosUIwcErEM4Ow/RjrkOh6oPj+DZCKJsk/14QEUJdMx6SdSFRlbxUYRLCfxgVhWlrQ1rLPjsabzvtmQTtf+z85nSuYVtIjsWxF4szEEZYxmd2cL1w8sViDw0+ftIO+67U4A9rmwHQAGbsHXrTm9uy74G6ifK70O25uDzet+A/WTqWr+P+FHrjOSlwf/46IEWWrd1zmr/dljiRZneS9H8L/UA1I1333i9Lrtn5IUOlHBY9MyKmB1XT7cjQpgG0/Wqjy1CKAvlzJ1LVcvw0/jYKk5n43btVCeeupp512/PI/igf+Ke794EMXabtHrZwtsuh+ePTh9E+6ZPuZMznBs1zRuOjj9rDVxevrrnxyevqe2sD2965Fz1tRj9394+pNfP229r3J/duweTOO2h6ftpas6p/nswZtc639s+v4Pf3K6cRXuzxrTUt+96Z57pm/68P2ylKKW/XjT9/vo2D3TaFOW1nZUM3bu7PTjp8/a7y2S749Lvu1MimenD94EV5mIrt/pL1VXNx20S70Ta7s+/eC0O2fnHrl9eviTX5ccWhPTu4ab6kw+u324nv7ZBz89PXz7Iw3twvpsV+Nn/XNs+h7ZfRrKt8q9P1jvb5quFoNdJq4NOfvs9Gkngyq/zeXw7CNfnb7/YXt5q+03rLCxjq1y3OWaL/X97FkncSsfu1zt6pys+qxTNo3b0rU+rLQ+Pv3Vx61ZNmm3w7V9pN/s7Wzbls4+OP3p4dunnd3dZn22q/bZudOP18pZUduD33/Q7hNOf336k83fV5+5yqRr+2pVJk6+m793+uufrH2va1mr6U55b7XeHran75r7LWl7p499dfr3h39j+n6nUVjbWuuHbe4+onF+t35atVnZr1zzzz57uqGcF8rM/VBy1uW41a3vtdJ0t5PTql5vm3649pVnpx/8fUzf3lCptBSsdqrq/7H7pz/c0OfVxx3udq32vY8Pu/YNa/+s900znZt+/ODt8h1Mj/zGTdO33X9w+pGGttOqDTYd7639sdUx073/NLan02q7ZGxVb3IPTv8+6v2Ie51WGbQ71nTZN2ek07H/s/N528OuwrL6vOq+sXD9wIc2BqZ9175/4V93F6ennHXWPHlo5vyp4vTnnc8+f8z+xpN/Y0//zZPWpOt7h6btj6amj90t0/UFpv/Gnab6xErjC9NOkjPSrE5X1zl17AvOOpperbajxslHLV/1dOvrdvKmXs7K7XW1+E41c7UyqS5jp1HN68zycNZR27h6OTdsb21bZuapts7aMtVtay7DFtu1SC/VdvvpyX2fqKf/O1+3yrLXz/rl56f16X9+8snp559/fvqll1+efvVXv5o2z5+f7uODndr/zG+a7l8UfQhFA0gVnNNoegHZSgJR63SdjlLOhF/+te8FsV96RcO3S65f8H3NZ0E7pdlELyFn+q1l6uvQUdG+jZL1y6dKy49sUf1yaqBUMBCJRhHx5mS+831EEGh10nkxeTT4fR5UykUU8lmk1SXP5Un71Ec7c/nOvHVL3ES5+Lf4/Uiw4R4ZTyCMyLeL9uVMFR1Fb7ixzD1BqRfnvaRRKnwDQZ+JoqvdqB97J4tSt85Sy4E/cBuK8Rhi6Zz91EnNa1+B4GzDbdFQQzl4Q6OIh3trbF5/CL9xr7TVZBZ5aayGpOTVnH3A60foN+5FNJJENl+CLuWqeVtdTdBDfVg0aO4FfD4Ef6QuRlt8ZqmAbwR9MIuufdqufOk77GU8Pj+8pvQvMi+XSWEsI32F0y+Zsk9/OyLty10YvhCiH3fe99y+msrEEQkHGsrZJ2XplTpQF+/1Utad8m5rXG/37Vkof4rfXLUKq9TrkrW4NpJDIJdHPODMno2u/bQfgduKiMdiSOekrCqmtOfWZ7YWXg/HrV76Xq+nnn/rjc9Vr154pRz1SvvjLC2yQARxr/Sn1dPtpRxSrcYdsu/FAinUhydZVBKtr1CyeawHBBYq51DKxBFCAcmQ9N/xvLSwWfhw8zEzgHDk23Lcqbchr6eeCbvJSV9iTQmvFwFZY6sm1/FY0/O+2euxRmXL9W1JKyi9rn2HxML1A+fPv+a8W2BfvwUfft+30PDXaNVZw06X7Lb0Eop/nXDeJ/CYleDluOoD1ge2n5Xse0a//hTsE2U/w2PWPaDfwFMLduZM8vWFf4U/aDitXF2v8gFcZZ2EvQ7bq5fdOqdAL1eZ/6N1uEpNvPR9HKh+53OlxvJq8mt2gtZZXtvs7pn9o60fsM5ov1Q8WF/+cwdhXRl9+ZX4NfsT20uP4zvWtn0D3/mpfVbdVp12bdes65S66U8QKwPk4LB0IG16WHWPx3BQBmLOtC8cQzCVsy61sjr0WEg6S8WQg7w60JdQKtVfujeC+2VE5j7eN2ufZhOjgrJHXq70S9IJeyP3y6DPXoNPDk7IqYF+EbmiClhVYAur868UczDapb3AdL2Ij8uBRTGLSYTU0z9lm1Vw7QtGIMeCjubynfnw+X8ffyuD/Nb1Vv0TAIaqEvic7aqR0ZtWPVCpOrOm3WTAVztS2WmY5bKrTuVlBnB/ZAkeuaJL0P1xGXQ6k25aOC0H7jGEZWCSdp46mbSu6bW3weMaVMxaII7isznEvBIAjEURuMSHWO1ytwDixWeRi3llrDWGaEA9OTzXYlDUQ30sM4Zd+U37tInA/RGnDnTZbp+0d3VPeQmGFkA0XLvez/6+lHtzyUvc4Zhf+9LcEaaifriwAv5eyrpz3lvpvj0LxfVgp8fux29IEBZw3ww/G7INnftp9YCYMopjYUDdRxrywRuqXh6/2Loftxa776XF4ENkNIx7M/alraVCBt64jBfsmS4+hGNBpHLqUngdhWwFsVAvIwgPNAkWo/E08uUcggUJ1GrXp/fA5206Zkq/Ih/05U8fdjzW9Lpv9uNYs3D9wFVXXem8WwzVIEtezj2xuPwD+ESbiKcapDVqCliXStM9sde+rzmAnYWr1i1J0Pf1PkX0X//Df2WVQbVK1aXHdy7CfbFXXWmF/X1z3b/fj4Nf+A8YHb0bBw/GrEuke/1sofXpTKz6ldBAKl29J8LFLCKdMpAIuzpt9cCPcAb5YgmFjLtD98If+pHMHkU8Hm98yUGg43CobZpN1BmpH3kRHm1KX16x6pMUAiHEDAmIc3nkokHroKQC22I+D/XU5WiwlwNQn+lZpFIB575jQ7bxT+FLl5BPJxEfjSIc9MHT8Uf6uXxnfrwyULvpy/YDpprpmQj81j00MqAPftiqtwa6HJiGg/Cr45uqs+82/jKrBvdl55dt1W58gWGYsr7mOo3HwzKEWEw6sqkUAjEJUJ1PmmnqrNhoChn11MmMH386mkbJKYdCqekJIK6/hev1Np9Ka3Gk9gYQiSWtX6X1xxPQfy/peviIF4FIDEl1Flh/HAn995Cc8WSSHupjmbHuITOD1n3EzfVvncQu5TBWistAUPYh+SwWCcl21MvO+n5BnRl1MXUU/9Z5P8/2VWz6dc/Ui/jb3/fL93oo6y55b6X79iyCwCiS0RwSrmOCOkMyQ7v+p5d+Wo4IvlAUo6kMClLGGf+fYrThgVqLpdtxa/H7XlocWjiGXXn1MCH1QKcARiOtewOvLBeWYLdYKiBjxhFpO4SwH9DkfpCkxSP7Q3ASumE3mp6OBX8rx4CGj9UxcxjBfnXiHY81veyb/TrWLEw/0O9AoDV132TTA3+qZ/ya1c4AJuE8C2qG6369es9ndZmX8Pyyf1Dt47BvC/4ZDjUEv/JS9wVXzxpLAHizcz/qH/311o4BUu0+409Uz3y2KOdOHn9BSk5WGfyD+v2rX/wD+37il17AT+1PelZ98rH9kKvL8WtbF/bJ01dd1e+2exWCN/9n7PqclEEt6V4/W1h9CmI9CMbTiBYiiCQLqDgdp/qj1slIBIVoGqMNnbaGUDSCjHo4j8fdoatBy+3IJtx/a1OCgqgP0a5PtGiXZhMJdkdvzyLh/rurEiBGfVHXQzMCCEaLSCTk82rAGggimpNBSS6GxYxh1R9N1wspRELq6c8pxKxjpCaB0DAqlXqZGIU00t91JlyqB73ZfKdvvFGkDnoQj47KQbmaDwOl7CiiCQ2p0ZB1tigQicObTLoexiB1nkjATITtX7W9IcRuk8G8DIirqejZMYy5RumBaBIe+U49DRkMJOVAKIHyolDBprT3lAQZcSOJlF1RTSrIRrzSlutBjVUfPvus7YxyMMtIR9ci7owMvL4ghrNZ64ncVjlmxpBwbV4x6UNQtrdW0hUdxrBzSWIxKQOGZH2/MirSNobhaz5LKLrWx3ITiCLpSSDhKldDtjfol+1VE14ZLElZ1C6Lk3LNprPOhAiEkfAkkax9X9pOagzZYWdSzKd9lcckrVrSRaSkX7ktFmpd5zPafpe8t9LD9iw8D0LxJLx/Wt92jwTXn/zbrPOUXROVvNRZxp43Q7d+upJFRPqXerlVZF9qcVZnUXQ7bi1B30uLwxOSY1kFCQmiMjEJVNv90q7JchH19PQUPB1+4FRtxYs8/mB0zOnnFbWvJDH2tZsQCdrtu9uxwDKcxZhr/9Gzsr+ZCbjPJ8xVx2PNLPbNeR9rFrAfWJwzsdVLTu2HBtlPsP1fnGDJuUy1dulv9bLUDg81sp6261qmdqlr/1hPJ254CvB8VcvAddmt87IfopTAASeqV3+qR33e7U/9fP0Pj9iXG1tnPtV3nDL92ZHGs8JWebUIbL9+C75jJTDzEueffafXB241P5m4mu+X8NMj37AXWSDr1l3jvFv5+ndPrCeIRD6HcGkUgUvs+6IuCY6iFM4hnwjOuLRNk04/pn9f4pzGDt0TSqIQl4OCfxV8fj+8q0LIeNNIRrt3Su3SbCSDKwm045UE/Kt88Pu9WBXKwJtOwr2KoASNmIxIh1/NuQS2kUlMRsMINm9M39XvLbtkbQDRVBnhTAn5WP2PjQajGfizIaySg1lQgqBIMYDYTc5Mi3yWuAfl2FqsCqSsJ+V2/07/+WSdhbgHmYjkw9qmtYhkJLAtZGRAWl0ohmwuiGxolRycfXadB+QAXbuZTkM4lUesGMVarx9+yXtMH0VaqqjGnYa0G98qP2Il+Sy+sNfs/elv1u8BDERTKIczKOXrfwqhkQSwKdXWgpLHkNTBKgQzPjyccv7OpNqGbACZajlcEkYu+IgExvbIyBMalXklxN6t1hlAShuFxFE1wbj6M0xSRlK/IWnXa2NljObjsBYJxq0//RNdK4OPkOxXa2Moj+bRsni61sfS+Ns/eLfThqqviPPDkw+xbA5B1bat9rEK/piUU9bZdm8EY2M6Rtd64Ve3NUhwq0Viao4jgHjWrpdVPvm+N4C0LJNyl8082lc8PQo9JsGo6s/WRlGM5ZGqjna7lXXXvLfSw/YsBgk4x+6RvjzpPElUppNflUP7B1RfIAFeKYKEex9u0KWfVj+QZbxIy6DeHwpKfQSR8T2MVA/HiYXQ7bi1FH0vLQ4ViAUmvUjIuKP90ED9yB7F978vfVWXZxz4Ylkci+qIB6r93CUIxHXEHpNjptO8ux0LLMEUkv40Ak6fGEx7kZE+sR+9eMdjzWz2zfkeaxawH/j1X/91593CUpecVv8MTY26JLf2dOIEttSuRxUy71DLU7USYBW/b51BtP0Mh+bwhON2aoHhAmhVBi8V/6z2N1vV/IYikO3snBd1eXbTfcaqTLc698i2O9vtos6eutcpCaD4hdn8HdkWeRA/OzSPy6t79Gu/thyuK18cq9RTn5z3faTud5Ru230z/qzZ90x6tAX8UzbWpZqeeeZzaakztaZHw2w2YS7f6Yde1quWUT/ntl1E1Zk6s9EljaXYvtnolseu5dBJx3Y9u/1qXvlYCl23vXO/1EvbmWv76laWnefPrU+da16XlT6254XXOT8roj5oTsxCAr5MEOXqn5brym5L6mb2+bWXufUdPVk2x5r+9wM///nP8Ttban/wl2hgHP/+9xbgkuKldVqfwJtvvgFtaAhrPB5cdNFF1muBglgiIiKiC5wEehVDR240DD2uI9n+scS0zPze721H6Uc/cqaIlr/Ahz+MBx885EytHO2C2D7+iR0iIiIiqlJPpo5Gx1CK5DHGAHag3HzzHzjviAbDv//33W43Wll4JpaIiIiIyOXNN9/E/7Tt3+KJJ045nxAtXxs2/At8O//fnKmVhWdiiYiIiIh6oAbJd/xJ26fPES0ru//UeXDVBYRBLBERERFRk098Yit+///x75wpouXpD/8gio9//F87UxcOBrFERERERC184Qufx7/6V//SmSJaXn791wMYG7vTmbqwMIglIiIiImrh4osvxtfSX8W1vs5/45dosfl8I3jgf/+a1UYvRAxiiYiIiIjauOKKd+Fb3/r/4qO/9VvOJ0RL6zd/M4j/61t/g3e9613OJxceBrFERERERB2sXbsW3/jGX+EP/zDqfEK0NNR92v/n/5Gx2uSFjH9ih4iIiIioR9/97j/g7i/8r/j5z3/ufEK08NSf0fkv/+V/xsc++lHnkwtDuz+xwyCWiIiIiGiWDma/iXT6L3HmzBnnE6L+W79+PW677f9tPYX4QsQgloiIiIioz372s5/h7/7+Efzjo9/D5HOTMIwpeRk4f/68swRRd2vWrIGmafIawvDVw/jox34Lv/NvfhvXXXeds8SFiUEsERERERERDYx2QSwf7EREREREREQDg0EsERERERERDQwGsURERERERDQwGMQSERERERHRsmQ9wGnVKuv9KvnXev38tM4HOxEREREREdGy89Zbb2Fo6HJ4qg92etvbsOrIkaMMYomIiIiIiGhZWCWB6tsuehteP/86PvCB63HZZe/E299+sf1kYhXE/vCxxxjEEhERERER0ZJSlwqr4FT9e9Gqt+HlV1/Fdde9D563vx0XX+wKYn/+858ziCUiIiIiIqIlVw1i3yavXxov4X2+9Vi9ejXe5lxKbAWxTz/9NINYIiIiIiIiWnoSvCoqiH3hxV/iWt+IdXlxNYC1gthKZZJBLBERERERES0NO26tsZ5ALP+qINYnQawKaK2zsyqAVe+ff/4FBrFERERERES0NJqCWKUaxFpnYp0gVv5jB7QvvvhLBrFERERERES0NFxBrBWsTtshqjuIVarB7CrDMBjEEhERERER0ZKrBqzKcy+8gGtHGoNY69+XXnqJQSwREREREREtK889/wLed63PmbJZZ2JffvllBrFERERERES0rKgg1n05cdWqV155hUEsERERERERLSvVILbZ25x/iYiIiIiIiJY9BrFEREREREQ0MBjEEhERERER0cBgEEtEREREREQDg0EsERERERERDQwGsURERERERDQwGMQSERERERHRwGAQS0REtAJMHB/HE4YzQe2ZExg/8gRYVEREg2ueQawJ0zSd9806zZufhUp3vjqVhTHxBCaMRci35KG/a5nE8SPjmOhDoubEOI4cn3SmLlCTx3FkfKLnOhqoMut722tDrafty1nG6n+cty2ZmDjZez2sHAYmJyYw2cPoXZXnIDDVPnXkCPuWiSPYe2INRjRnukYdf7rUuWlgYmJyVkGdMTnR5ZjWw3qr1L7rvJ3B3Q7Vcu1eziJupjFpb1fzTM8Irp76Co4+4UwTEdHAWfXKK69MO+9nTw6ad+46hOE77sXOG9xHTgPje0axd80dSH/2Bsw4ps6HcRxfGr0PG+7N4sYR57MlpgZR+/feh6OngJub8mU+cQj33XcIJ6fs6aGN27DzM7dgY18LpWoCD0V34dQdaXy2oT7mYeIh3LbrADZKmo11PFsGju8dxX0nb8a9X7sRy6TqFt3EQ7dh14GNuCO9E92LczHKzMTkExLMDV/fYvA7G5LXL0leN9yL7ILumM56TjiTzTbZfY4shNHxze37n0npu24fx+Yv342tw85ny5k5iScm1+D6eVTSxJEv4b5DkxhWaRgSXIzcgt07N6Pl5lv9rJRP+rM9tNMlpOrxzhPYtONTGBkexsb5NeIBZuLkAzGc3JzFLdc7Hwnj5H58Ze8JmCPD8Fh1vgOf3+neJwyc3P8VCX5NKT+PNItJjOz4fOe+Xo77X5Jj2uTwCDRplxOeLdi9u7F/6r5eN3ufHt/c6riljmkyxrDaoX18O+DMmeFmV99j5XEfTmADNkoDnzwpB+dNO3DHZ7fW86mObYeH8WXJl8f5iIiIlp/nnn8B1/pmji3nF8SKiYc+h12HN+LzX7sF1WOnefIB3L7nOdyS3o3N/R5TLLMg1hjfg137gc3b1uPMgcP4kDtfTl6n5OC6Wz70yAH/yN7bse/8TqR3b+5vcG9ZgCBWUb9i9+ko38ekBtZsy2Bhy6xfbWaxgthGEw9FsQsz12l0C2IHjQy4o4eG5749Mqj/3N4p7Lh7O663GpMEPftvx+ER6ZtaddKDEsTOt1xWCvMkHogdxw2ZW7Gx2lk4dXiD1KFdxepHsV04urFe5/Z+coOUn3M8ku/s3XUUG+91H7vdPZD0F5/bi/M77sZ2uyFJFdyJPVM342vV6LmH9TbqNYh1PrJ0+I61DYcxvPMObK/9WizB+qH7sHdyG+6tBdNPYH/0MDYs9zZORHSBaxfEXrR79+4x5/2caNevh3n4L1HwbMJvX6eOBE8ge+df4fz2OxD7sHNkkODt+CM55L55BCfN1bjiimugVY+J6t6UR05g6orrMFw7+J7EkfFTWH3NCLTVzmdV5tM4dvgYrti6DdqpR5DN5vDDV1fjmmuuwWWuZU1J49jhh3Do4R/imVffwBXOfHV55iMnJrH6OsmDs2w1D5OXXYdrLlMfGHhi/DByhx7GD595E6vfM1LPW5PJMwY23Xwr/s2IieNWvmSQ6CRsnPgG/vLUZvzHz/4WvOqD1ZfhumuGcPzAw/Bs2gqruGYwrPuaDue+iSMnJ/Hmpe/ByJX2yu28T+GK64ZrQwrj5BGMn5LtH9GwGlM4degoXvzNbfi1F8exf7+UjeT/Usm/k0QtjcuuMfFY9gAOHZ+Sclbbrbb5EL55YBynMIwNVnrWFzA+3lg/xsRxjB/O4ZtHTmLyzUvxnpEr60GWKYOFY4fx0KEcjv1cBj/D10jadsWovB6r5dVmPKG29RByx34u46T1GJaV1OY523aF5xTGc7I+aRMY3oARV6Oo1XPuGOzVNbaDmmo7u+wKGMf24xvffBHXbL7OagPqTPojTvomhqQtufLnzkM2i/xP35QsSLt8Q7XpLLK5H+LV1ddIvVoNx2ZM4LhqP9+UsjTPY80VjeU/XqtDKasjsszqK+A5NY6c1Lm9ifV231BmtW24BuZjORxS7VO1fWnLrrWrQsX4oW/igFNew1PHZrQbi5XeEZx47Od4cbXMmZL9xN22OtSNouYf+uYBJ8/DePXEYRy7YqsMbqsNu96Wx0+ZOL/mCqctq0vUj+Gnb1yB66oFI6yyPqny4GpPXUydOoSjcK/TZj59DIfPjGDrddJfSL19U22Du+1Y2/5jSMHWy1q160P2sqbsAw116mLtQ2c8uMZ8DNkDBzA5vNnel2v9nKr3mW3RaquHDuGAtd9cgfe59gOlWt4P//CZmfv9kRN47MyLUi5TeKO2L9rleyj7TWdfq/ZfM5lnHsE3Jjcg+q+vccp2NdaYp7DvxetmlJ3F6mfPYGTrdXj6mLTzb8r+5e4XHI37zrDsO5fV5lv5toq4cX86YV5j1UP7clR9yCEcOiDHi8k3ccX7WhwHhNVexh+rlcuLsh+OaK/IPnUC5hUenBqXfB9bjV/baLfpTnm183UFhial3/yGc0xR+5XU2bjUmd1P1vuyZva2DOE6yLFL2lvuh69itRznrmnKeLs6Np6QbXnRtT84+7opdV39yFrmGVmm1cHo6eP42nPrsP23R2r7jjr+fHMkgp3/8krnEylr+e5D+5/BBqlXTdrPiW98EyORnagvco20rYew/5kNsu9IZajg+JbP4mtrNuFG1U6eOIy7Tt+A//h719XWo41cijNfPAHPtn+JYdnc7uttZkobO4wzI9vwW9c0b5s6pv0Ul237LTTOavcd9ePMHvz439yJ2xoiUw+Gf+198Bz6Bp7ZUD32qjb4lzh1zXZsrGaViIiWnVd/9Sus1WYePfrwYKfrsW3HZkzuO4TjhvrB/wAOYxturp4ZUb+K3n47DpwENmzaKIHnYezatQdHJuzZ1sBv3z5MOJfbWqYmsG/fcUzKuKydHx/Yi/0yeB6RAcpzh+7D7XuOoJbkyQewa3QfjpvXY/PWjcCJfTL/IWu+Z0hN7sMJ170w5qkj2LtPEpN51i+/d47ivvFJjGzejOvNcewdvRMPVRNvMrL5xlrQ2sjEmSdkozfJwNn5xDKyATfgjAzOWt0oZP9iveuwhJGbPoXNI5M4ctcuPHDSLgg1CNu3b0IO63VTE/uw7/ikrK1u8vB9+Mr4lJTNCM6f2o+7du216kax0ziEvXsPy6BRBnfPHcJ9d+6V6a/g6KQMUtebOCF52FOtoKb6MY7vlfo7jFPDm/CpzSOYPHIXdj1w0lm/lJ26jHwc2Lh1GzZ5TmDf7fW6bs6r+gV/9L5xTGobVTFhfO+oKy1n+Yf24Sv7JHCTAGS9eQJ7d7nqYuIh7Bndi3FsxNZtm+Cx6rneDho427H/S/fhW6c0bNwwZA3C1PbcfvsBGXpuxJZNwzh1eBdu33tcasJWy4PV2IZhnpDt36PKa58E+yMY8TyHQ/fdWasjdcZrj7Tvo6eGsUnyNCxta2b5V+twChOSp4f2fQX7JMgc3rDeTv9Ou61aS7jLzNmGQ3vvw6GJIYyMeOy2/6V6fu3134VDk0NSpsOYkPn7Do/PaDfddKsbY/xL2HXXIUwObcKG4QkpgwM4cd6ZaZnAkT3Sjo6qtixtYfiU1Zb3WgUxjKGpQ9j3rR/X8y3Ln9i/D0ekVlruTnMxeRj7j5zH8OZt+NSmIYzvcbUdqyzrfYzVZ+w7Cc/mW/CZ7RthHt3j5HUmqw4PS70cNrFhy6esyxXtsz97cdIj7ehTW7BBWuWeXYdQ62asejkMY8M2fGbHVgw/sQ97XJ3KxJE9uOtbBtZLXrfdIPX2rbvwpXF7/Z6h9Vg/Ip2TNoz169c7Aay6fHQX9p30YPMtn8H2jSaOSrtsk2V41ks9njqFM9UKlJI/deIMtkibbm8Sh/cfwXkJLrd9ahOGxvfgTleerb5gr5TZxi341JaN8JyUfcm171jl1NQ3qfZ83Cn0luXotJvDxgZs+8wObB1+AvucvruZZ7ixXNYPqYJR+9Q4DuzbjzNDN2Db5vVWe+qWV5Wv8UNy7DozjM3btmLk1D7cuVeOMYenMLRpC7ZeP4HDt7cvX2tb5NhXbW/W8u7jnGioY8mX8a1dtfLUPCYOSb9fS16C4r2yrx8+Vf1E6kvKanJN673DmDyFqavtPq1qckJ6tfVN9auOP2dOOvepTmLi5EbMXESOUCed+2OlPd94xx3YvdU+ihnPncHQh+wyrfFswKZNRzHh3JLcfb0LaRKnjm7Alg+1KqcRbP3iF+FsitDU71qYnFrwTBER0QLoy9OJtRtuxo5NErB8ZY8MHiaxZef22qXFTxyVwcHITnz+s7dg69at2L5zN+7YeFIGLscbBjeztnkHPnvLVknzFuy+YzuGTp3AmeqxaP1W7Lj38zJ/M27YeAO2y2BokwTPJ9V4QfuQBCtTOPLj6vDSxKnjR4Etm63LsIzxAzhg7sDu3Tux9YYbZIC4G7t3mDhwyBUo9MSEqaKG4caBhbLG+XcG8xROSPC5/Wa17utxw9ad2P3lO7B1fXMKnZ0Z3oY7pA62bt2Onbt3Y8eQBDHj7mHgELbt2Intav4dO7B5ahxTGz+DndulPG/5LKQ4cao6iGkgZXVClt1+M3ZuvQHX37BV0v8y7ti63t7GiVMSvG3ELZ/ZLuW+ETds341775WybzVONmSgeWAS2+7Yba9X1ePuHVhzdD8asjq1AZ+SutgubeeWz8q2bDyDA1ZFqtUdxamNKui4ARtVPe++F/fukMDRmtuadqMMyFTZyHeGJcQ4KgPejXfca7cVa3vuwMZxabPuPGATbrba7y34rJTX+lPjGNq2G7dY7fkz0vancLQ6ghuS/N5xt5T/Vqvtbd25A9ulfE/UBqMzTW34lJ0nlb6UwcYzElQ3rL+RZ+tn7La/XdrHzi2QRgM7eQlsjuzDSdf+dstnP4NN5knrezN4RrBZlvmQvB1WA/WtG+3Bade6eQKH957AyE61j9nzP/uZTeqkjcsQNnzqDtx9h2rL0hakLe/YPoXxE/ZA/XoJbIdOHnfyLaTtHDmzHls3zLxcZM60zbhF6nXj9ddLW70Rn7lFq7WdZpMTR7Fh23Zsvn5YYiI1cP88bu54jeEmqXupY0lbBZUTJw7JfnEHbt28EdfLZzdslf1o23F8ywlEjcmTOLX1Ztx4wwg0Tcr9VukHq6Np8zgOH1qPz+y+0Urv+o2S7ztuhmf/UTsIluWv37BeOo712OCszwpAZLC+bftmXD8sg/GNN+KOz9/c/rJI7QbZ14dx+M7PYc8eCUZv34MTGyS/tWtPW9Gk/7sFmzdKnq6/ATd+5hZoB046AeUExvdNSD9yqzN/o2zTHbhlat8sH5bTWI5SUDh5aituvvEGjGgaRjbfKv276z5GF8+wrNdVLiO1bT+Jq6X8t0u7s+8h7i2vJ4e3yD6t6m8jtt68AxvG12CjlK9qPxs3b5fA8wROdXp21PkN0n9Wl78VO26exJFTTnszjuPQviHcfIdTx6o8pa/ZcPgArCYiQd5W6Veq+8OEHM+237xd+uEzslcL8wxOntiGTa77XWdoONYYmJK8rpe20WwNzsv/hDElrWg9Zi4iR6jz9V+khuU4OOIkPGWcxAZZTytTVkZ7WO9CUg9ywoYW20RERCtNn/7EjiYByw4MnzyJk5tk0F4bGE3g1JEpOaB/yPXLrUemZeA9fsoZDM3Nh9a7jlLDMoiRgYscky0eGfRtlFHPxBNP4OTxIzh0QIKd2nkoTda/GVNHfmwPECVwPH50CNtl8Kku7zwl26BGTKZ89wnnZaoPTkzO6kzWnKhftDcP4dBXvoT9R45LIGNYA7X64Kw3mzZtcA1mRrBB0pyS0Vc1XoD7IO8ZlmGMDDDckXXbKNuDDZs2Y+jQV/Cl/UdwXAICQ75fe9iMDMS2bDiJ/V/Zi0PjxzExacr4Wwbt9czUGKekrWBz46BMDeTWn8GJ2q8RYoPk1XmrMjbkytvIhi3YYD1A5BDGj09g0pRBr+SlxepqGtqNCpymNkr6E7W6fkIa5fCGKRmsuvIwPGyfpFeGhqz8WCd9WlEBx/VS3hOS1vFxHNkveZOPO/1gs2GDK+xeM9S++B0N2zDkDtllAHcCTfubJvW/yXnfm651I+Wmzn5vdp/t0DagcTVSFzJYH5pSZXsc40f2S5uQj6sFMbIR29efkG7ALueJU0dwRgKxTa2ilblqLsuGRt5oeGQLTu37CvbKfjeh6t6jucqwhYa0DZyRcl8v5V9rR/KanNJkH7ajHhUYbzh0H770kL1fm9JKa/uFKk9pA+dd331CXfowdQrPuZpho2GMbDmFfbKvHVFt38pyhxxLELXvK+O4+sYd2PGZz2DnZ27EmvH72p5ttjXub2q6NmmcwY+ljTT+5qBh/aYhHD8zi569uY60YWzccAj3fekhu3+R9uJp1YF00RBn9ZrXGTu17Pe1jzR1mOl81q5pW4aGN9TPfE+ewgnZQTY0rEKOU5tO4glroevxIQmST1rv5bg5vgkf2vohbD3h/GgwcRJHt2xsGczX9BwhuuqxnQ77SjuertXUw3r7YsFDZSIiWgb693diZZCrxrCbNm9oHPzJWKz5eOgZUktMYaGu4rEuEY3uwt5vjeOUrH990yW9no2bsWXqCNTJWPPUcRwd2ooPVQfsagwhA+8zZ87UXxL07dgxUg9keuKxLl2WUU9TAGNawXDr472GG3bei3tv3gjz5FHs3zOK6G172l7K3M5Q02hiSAIrlY9+BOHaDTtx7703Y6Mpg6r9ezAavc11WeQIbtydxk4JmifHD+O+22OItr0ET5VK81nqISsmm6j+GtHNyI3Ynd6JzUOTGD98H26PRRsuEezFlCw96a7rM1MY2rwDN9inu2ZPXeJ8Wwx79h3FiSkJVTZI8OLMWhQt9rfZ6143U10HpOrS8tsQ27MPR0/IPuDZIMGJM8sygg1b1+PEuDozq4LAM03B9+LybLwVX773U9KHncLhfXtw26z2O2lFsuzUpLsdncHU0CbsGPHY+//IVtydvgObtTM4LsHsrujttQDSmJIyPS+BqOu78n9s2LGpQ5/jwcZbv4x7PyW97qnD2CdlfVuby24VdUXM1LaduHXz9RiWYHf4+s24dec2TO0bb/udjqTznpDAuzl/Q9JI6pcsz8UItt6dxh2bNZw5LsHsrtnv0zMsWF57Z9Xx8HBT+/ZI3yzZM+1MjGzcgqPqSgH145r0GyMeFdiehIqzJ06NY7PsQO16Jc3aOd0/VGrW/trwY5xFHX+cVDT1g9ypmZf4qkuI2qxoSNuIE3IsaXb+fDWA72G9s2IfL3umDWPD0Kn6VVnNGv4Uj6Q92XZTiYhometfENuSHCTVGOtM4zVYExI4Yn3jJT8Nv52qI8ucTWD8vnGsl2Dwi7tvtS5DvWHD+sYBt2cjNm+bwhF1xun4UQxt2+Rc/qzukZGhzpDMl++pyzHrL+dSy555sH6jbPzR4zJMcHnix9ZZrI0b2qWmYeSGrbj1s7vxxa/JYG7DyaZLmRt/ZW5VVKcm3R+a9tllGcTJ2KIvtJEbsPXWz2L3F7+G9B0bcPKAfT+0xaPOdN+Cnbvvxpez92L7mnHc13htrkUb3iCt48eNgw11OfUJYFPH+/QaeWRQtfmWndh995eRvXe7dXapxepak9GW+uFlw6bmut6KzdXr52bFkADlAE5u/Ty+fPdO63LjzTe4zyQvNHt/O3FCPbim7szJdn+PprWudWOVW/OllZM442rohgQgB05uxee/fDd2qkuON9+gmmCDkQ1bsV5dCq32iZOb2tzHtng8mroMWLXdL+JrO6/Ggb1t7q+eQcp9o7pXcGY72rq5/qAddZb+hs3bZd+WfePLEkCqP70lFaUNr5cUrsem5u/Kq/Of4vJAu172RdX+ZV/cefUB7HXfhFljYGpiCuub71NUZw6lA7EvA52l4RFsOiEBVtN3J0+dwGbnNKgVWDXr6SSZ6gM3Y7v0MXd/+cvYNnUfDlXvOZ+LHvK60NQ+tf5489VHhuwzQ7Jf2JXs2XADtoyfwrjka3ijfYvGiASuJ87IMWR8AzY1nsZtJOlvOnGmIeAb3iB7aVNfYB1/Nm6EffiRgG/TCZxQTyFzeeLHcoSS9VqLqAc73RbFnUfsnV1b/yEMNV9FZaj9t36mu/t6m9nH3eZxgmXiDE4Ozeby4BFs3GbgoaOt9oMnsP/2+3Ci1q9NShtYXyt/IiIaLAscxEpAs3ULIAP7QyftI4cxMY7Dh85g442b7LOj6vKx9bKIejDUpCHzj2Dv/tkNupt51GVfEsjZB1EDJ48eliF3o+s3bQcO78W+o+uxXV177BjZuB0bxg9j//EJ+/vqKZF7b0N07+zv4dU2bsWWoaM49MBx64/Cq6efPiABH7Zsw6ZWx01jHHuit9Uv8TOnMCWDvqEhjzWgUZckrsch7JOgdtIwMHFkL1oV1dThQziiLllUf8D+uLqMcwhbJJiaS1jWSP393yhuq50ZMTFlZ9C+lOyJQ7gteiceesIpKWPSusR7Q6vrzNTlpOrS4wPjmFCLqyeSHj6M8aFt2NzxPr26Jw5Jvdz5EOqrk8E6ZDt73VAJgLdumZLmKWk4RW6cPIQ7o59reCBL75yz7xPP1cpnQtrSEev9YtBww7ZtMsjch/seOm5dlnr8oS/h8Bl1wXh71v5y6ox16aalW904lw4flrZ8Ur6k2tnJQ99q2E6PXRC1y2HV01sPNxfEyCbcuPEE9t23Hyc3b3YFbAaOP7AHX3pIXcq/GNSf63Dtd8I+czYkwWUvpNxlnx6XdmSVl0U9pK1+tnXioduth/hUZ5uyYxgS5FmXq45sxi3YjwOu9ZsTD+HOzzWdWT0/VY8BjeP40m3uqxyk7VtZbpVjDRtu2Cj1Vd9X1PKqXzy15YamS1x7ZP0QeAKHZEepbZPk+cD4FmkjTkVK8LjxxDhOOA9yUvvWgW47g6Rxu3qwWb2gMGUMyXbNJZOOXvK60FRb1w7hsLuNHT+A/eZ269YXi+yIGzfIsUcOETc40Z56INea/ftwSJN66pRV2Sdv2CjBrqvBaDdsw7aTh3HYOfaqY9lDUgEbt1SveLD7C7Vv1xeRcjmysf6DkuRp8/bt2Fr9BUq1VbUd4/Xj6/ED+2HevLn2HIzu651pZPMtGJFxwgOu8pEGI+OCffBs73IZdZORG3di88k92CP9Ry014wk8tOc+nNp2c/1PB6n7r7G18TJz6acOHXF9j4iIlq0FDmLV+OFW3L1zWAZ0o4hGoxjddQjm9nuty8VsI9bDbzZNHcJ9t4/irgPAtlu2OfPmwk5PG78LMVlf9Lav4NTwZuuMW4PrN2GbhDxT65sOYiNbsfvzm/DcgV3292O7cEgGGvfumMMfRJfB061378TwqX3YNRqTbb8PPx7agd23qvtvW9A24zO7N2Nqn11Wat2H17iWl7zt3LEJU+qJtKN34YBsQaui2rZjO0yV/9godt33Ywzv2N3lAS690rD5M7uxeWofRlX+ojHsOrwGO3Y7f5vw+u3YvWMIR++K2fkf3YfnNqsH2LQ4I6PqaffnsU3qfVdMbeso9p7agDvurf+94W6u364eWnUUd6nvy/pG9z2HzbvvQMvVtaQuybwbtwyN475RJ429p7Dhjt2uJ1jOhqS3/Q5sntzvlI+qPxlAO3MXxfW34N7Pb8fQj4/iW9/6Fk54tmPHtk4FMoJN0oi08T0YjT1gnRnsXjfqsvfP42bPOPZIu47F7sL4+puxw3W5sGfjdtnHJ7HfKVfVTjbOKAgNH9q8UYKvKQmK3fvEeUydOYlTp5ovxV8osj07dmLo6C7c9jn10CPJ7/iwtOVZ/O1RKfe7t03hgHz39s99DrdF78JR2derD4cauVHaxan7ELv9Tuz53G2IfWVCyvhGKWlF9itpcxukz4re9jl8TqWx9ww276zOFxI83DF0GLdLWVpPwpagZsdO2dd23YbP7bnTun1ifFj2hzZPdtI234F7N5/BPknb2jdl+f2Tm9v3RT24/pa7pY0ckHXfjtudPG+92/V3SqU/u3kHcFjdVhC9DV+ZkD63W9c+cqO0m1O4LyZB/x4px9hXMLF197z/JnjXvC44dx1LHm6L4q6j63HHbvdDq9T96xusy9Brt72r4HRkSqq/26X2si9tGa4/SMpyPW65eysm9++y6zwmQdzm3djpbiOq3W6V/XSX3S5i952SPnSn6wFhGq7fuh2ba5lU23EH1kt/YR0fpR0dHdqJOxoqqIf1NpO2svvL2+CRfdBun/LatR+Tm++tPRm5d+q2lt3YdEaOu7W09uHMpt3W32uvMqSPPF/9Md1hnJEg9tD4ol1mTkREc7fqlVdemXbeLzjTNOHp+TTZ/M17fer+Gfl+X3I827T6sW5Jo/fTkrOlzsBJ/tokP7uyl7RkS+ee08556U0/0nDpZ9uZJ+P4lyTA34B7v+YKinrWpW66bmfncjWP75WB8xA+n+39x4sF1Yd669z2O5dH9/kzzbqfk+VntYKuZp/nXizM8WJh8jo7kodO+9ScqfvQxzFyxy0zg/Me6nz2zaKH7ZhTW+tvHbXOwgQO3TmOD929TPodIiJq67nnX8C1vpkj2EUNYoloYRnje7Br/xC2774Zm4c9MCfHcWDPPkxsuxdfnO/prH4yJnDyjHrI0V6c2rTM8kZEREREywKDWKILgomJI/tx4PBRnFTPSRnegM3bbsbNW6/vcjni4jJP7sd9h9XDkLbh5htn+9A0IiIiIroQMIglIiIiIiKigdEuiF3wBzsRERERERER9QuDWCIiIiIiIhoYDGKJiIiIiIhoYDCIJSIiIiIiooHBIJaIiIiIiIgGBoNYIiIiIiIiGhgMYomIiIiIiGhgMIglIiIiIiKigcEgloiIiIiIiAYGg1giIiIiIiIaGAxiiYiIiIiIaGAwiCUiIiIiIqKBwSCWiIiIiIiIBgaDWCIiIiIiIhoYDGKJiIiIiIhoYDCIJSIiIiIiooHBIJaIiIiIiIgGBoNYIiIiIiIiGhgMYomIiIiIiGhgMIglIiIiIiKigcEgloiIiIiIiAYGg1giIiIiIiIaGAxiiYiIiIiIaGAwiCUiIiIiIqKBwSCWiIiIiIiIBsaqaeG8JyIiIiIiIloWTusTuNY34kzV8UwsERERERERDQwGsURERERERDQwGMQSERERERHRwGAQS0RERERERAODQSwRERERERENDAaxRERERERENDAYxBIREREREdHAYBBLREREREREA4NBLBEREREREQ0MBrFEREREREQ0MBjEEhERERER0cBgEEtEREREREQDg0EsERERERERDQwGsURERERERDQwGMQSERERERHRwGAQS0RERERERAODQSwRERERERENDAaxRERERERENDAYxBIREREREdHAYBBLREREREREA4NBLBEREREREQ0MBrFEREREREQ0MBjEEhERERER0cBgEEtEREREREQDg0EsERERERERDQwGsURERERERDQwGMQSERERERHRwGAQS0RERERERAODQSwRERERERENDAaxRERERERENDAYxBIREREREdHAYBBLREREREREA4NBLBEREREREQ0MBrFEREREREQ0MBjEEhERERER0cDoXxBrGtDLOiqG6XywhEwTyyAXRERERERE1GerpoXzfo505JNJpIsVZxrQAhHE4zEENOcDQ0e54oHP74XH+WhBmBUUMykk82UglkIu4nNmEBERERER0SA5rU/gWt+IM1U3zzOxJkrpMaSNEMYyOeRy8sqmENMKGEvmUQ1rjXIWiUSxNr0gDFnnaAJ5TxCRgPMZERERERERrSjzDGIr0PMGgpFw/ayrx4dQNI7RkEdd1QujlEfeOktbQj6fR0F3XeirzpzmM0iNpZDJF+GeZX2voMMwyihkUhhLZVAoG87cFmRWICHLxULwL+jpXiIiIiIiIloq8wxiNWgBoJjLo+SOL70BhMMh+DoFk0YRqdFRZEoSfIaD8JZziI+mUHTSMfQ00oUs0qkcdK8fQa2CbCKOVHWBZr4QIv5qJE1EREREREQr0byD2FAiiZingLFYBLH4GFKZggS09VOqWiCMcNAr71RgG0bIiWzL+TQKgQRSiRhCwSDC8t1EoCCBq27Nt0iAG4onEJPvhWMJJOM+FNJ5lJ3ZREREREREdGGZ/9OJPX5ExtLIZVIYjfjh0bMS0I5iLOcKRmfQJYg1EJDYVi+XUbZesrzXD6NcUVcG24IhuE+uaoEQAkYReqekiYiIiIiIaMWafxBbpfkk5oxiVALaTMKPUiaDQpsrfy0yz6joEpDWX4YWwmiw0xOMPfI/nX8+h4iIiIiI6AI1vyC2UkBqbAz5pjOjmjcAnwSbRtsgVoM3KP/4g9Ylxg2vkK8exLrPyiqVMooIwctbX4mIiIiIiC5I8wtivT74zRLS6TQKugHTNGFUishmstD9UQScP9Pq8aios4yyWsb6RENAAlYjm0Gu+sRho4RsIoJ4Q0ScQyZbgiHpmmp+JgctHKo/CZmIiIiIiIguKKumhfN+bkwd+XQKWfXncJyPvMFRJOJh19OJZZlkEuliBb7RFFJhO7qtFFJIZgqQ2FZIYBsZRTwWlHfyjZwEtGVJJ1BCJm3/jVkr3YSkqxZvy0AxGUPSn0Iu0nlJIiIiIiIiWp5O6xO41jfiTNXNP4itMa2/CwuPum91dtQZXI98z80OYhPIJFRQK2lb98MSERERERHRhaBdENu/BzupIHMOAazSHMDOxACWiIiIiIiI+hrE9pkngICXoSsRERERERHV9fFyYiIiIiIiIqL+WITLiYmIiIiIiIgWFoNYIiIiIiIiGhgMYomIiIiIiGhgMIglIiIiIiKigcEgloiIiIiIiAYGn0683Bk6yoYGv09zPpgrA3rZgOb3Yb4pdWJWdOiGCXi8Vp4NvQxD82Pe2SdaYdTT9lppfgJfr8s9W6nANM87U3Xv9g43/C3ufi931jBgGFPOVJ2mDWGtVt/xl2o50zRlWyadqTqPZ41si9eZUsudt7a5mWeNLPfu+nKvv/46nnr6GWeq7uKLL8a6a97jTAFvvvkmzvziKWeq7qKLLsL6965zpmy91rE+cQatDtm+kfVYtWqVMwX84qmn8cYbbzhTde9ddw1Wr17tTAFPP/MsXnvtNWeq7j3veTfWvP3tzhRQmZzEuXPSrzfxDl+NSy65xJkCnnv+Bbz66qvOVN1VV12Jyy691JkCXvzlL/HSSy87U3VXvOtduPzydzpTctSS+lX13Ky5jl96+WW8+OIvnam6y9/5TlxxxbucKUjefiV5fN6Zqrv00nfg6quucqaAc9JmKi3bjMdq/1Wq7FQZNnu7lN01UoZVvbYFVbeqjpupulV17NZrW1DrVetvptar1l/19DPPyPa87kzVqe1Q21Ol9iW1TzXzSrlc4uoXnnvuebz6q185U3WqnFV5V70g9fay1F8zVW+q/qrOnpX9fWrm/q7agWoPVVMvvYRf/vKsM1Wn2pVqX1WvSDt9XtprM9VOVXutOnfunLT/55ypOtXuVfuvOn/+NTzz7My2oPYjtT9Vqf1S7Z/N1H6p9s+qt96axsSZ3tpCr/3HmTO/wJtvveVM1TW3BdW/qX6umerfVD9X9eyzcow43+oY4bX616pJaQu/atUWrpa28A5XW3jhRbz8yivOVN2VV1yBd77zMmcK+OXZs5iaesmZqlu7VtrCkKstyDJq2WZDl1+Od71rrTMFa51q3c0uu+wyXHXlFc4UZBvOybbMbAvvkLYw3NAWzktbmHksWSPHkvc0HEvekLKe2RYulrawrqEtvCVt4RfOVN3b3vY2jKx/rzNl67UtDBq1Xa22YZ5nYk3ohQwypZkHGRglZDIF6DP7ujYMlDIZFHr/whws7DpMvSDbXJK19IuUb6mAYlGff5oSDBeLBZQWsnwrReTyRVRUZtXBzNRRKhRR1O3c9798iIiIiIjoQjPPM7EqiM2ioEUQC9R/FbWoIDZnIBQNwVf/ca4DFWDmYISiCPX2hTlY2HWoIC1b0BCJBRb0bOdyZZQyyBkhREM+tCrdC718iNyqv5gO+i+kREREtPyslHHGAp2J7Z1ZKaOsGzDNCvRiAflCEXql21lBExW9hGIhj0JRR6vF1eWrJUmvUCxZ6TdTl7MWCwUUy72dzTTV5btO/kp6RXJQpS7HLTfmQbal3DJdWdZJozFPsj2Shrrctpav6nxnvYWimm9/pFTLrc5dJo3LKrPKv/VZEYW8Uz4z5snykr5hra9zGartKaurJ9T6rW1Un1a3V71vw5XfVvVHRERERETktohBbFGCIBUMSWCkeeHzmCjmcx0u7TVQymVRKBvweH3wooxCNoui6zLzSjGLbEGHKfP9XkjgmEPOdWlzpZRFToJfU9anmbqsu/OlrOpMYS5Xkvz5EFD3c5by8n1nhaYKTIszgljrUt+GTdAlKJTlnG0sFdx5kqBO0ihJQFiSZDWPLK3my3RBrUfd42OU7O9Xv6HKTYI7exXVMgG8/oCkL9uUy0GKyDKr/Et5FLI5qzy9Pi88lZJ8N19Lq7q8CpZLFY+TNUlflbezSHf29lr3yLZgnZnNqW2V+pP8Vko5uz6d+URERERERM0W9+nEEjD5QiEE/X74gyFEQpoEShLUOrPdTF2CPdOPUDiEgLV8GOGgB2VZvhpnaX5JIyLp+STI9QUQCvpgVM8WqvsxS4A/FEYoIN8PhBAOSGBnfbO1ii4BVCCIkF+lJ+uOROT97C98VXmtbqO6tNaQjDTE6j5ZR9CeHw6qhx954A8H4ZfANBQKwmfaZ0BnMCoSZHoRDEkA65UgORC2tr/60KTZ5L9SluBSU3Wg1utHICTLeiUoL+nOEjaPlJuVV1V+Ib9E3a3PiGuyPvVDgryx0uv+ICfZlqIOr7q0W+rNZ+U3BK/Uey2QJiIiIiIiarK4QawKNl03S3q8fngl2Jz58EF1yayKeNUZ2DpNlteM+plPjzrDKmFppVKBrs7yqutZnXnqMmN1hs/XkIBMO29b8cr6PCXnkl6JIk1J3atOl86K5NkdwHnVOhvP1mquND0etbCn5T2kM8j2+jUJNNWZXAkmVbl5NK323d7zL2VWNuGVqNM91yfBp3yx4UeFhu+7njw4byogN1X9yfqk/uyXKhtTtqtFlEy0wqj7O3g/LBERES2ElT7OWNwgtgWPBFRtQ5bmoEmmVdBqxzj2Q6UyORXQqXs/NQlYm0//9RgcOjw+dWY3KIGzOkuYRzaTRb7Vk5c7aQ4aJc/qkxZPpJ8DDYFIFCG/lJoE7flcBpls/QnQs8q/fGdG2VjlbfYpr93JmiRgVX8mo/oy4fEH4Zv1DwdERERERHShmGcQKwGaijess36NDOvv7Tnzq5qXMyrQ4ZsR96nvWWcrm5dXf4O0eqbTKKOge61LZsPBAPzqElpXQuoMpbpkteGknmk0nGVsxaMuh1WX+UqwGA1JONh8KbBbq2hPtqkhbJTgrCLBZ//iMg+86nLkcATRWAQBj27dN1zVW/6lfH2qeBsDXEPKV53tXZQY0qNZZ8XVZc/q8mP3q/ulyEREREREdKGa95lY9YAhrVJAXj09WEWMKlDUi9aDirSAv+FyYKCMYsl5Yq5ZQalYhkcFLS2CJs2n0q3/jVFr+ZIuy1cvMXbOylbjMPWkYPf9nBKlBdSlt9UHLzkPKmoM29xM6PlMw4OFrD/orc6kqvxJ0KWC51JBgkJJ0FRBtKQ9g8e+19Naj7WNsk5NyqEfgVmlhGwmZz0UyiLbpLJoB51d8t/AY186XCpKWvbS6qnGpZIBb8An5boIPOreWVOyUKrdY2uqh0vJ9vGeWCIiIiIiamf+lxNrAesSVhVw5nNZZLI5CWglgA1GEGn+27HeAPyesgQq6jLYPMpaEOFgY5hbI4FfJOyHWcwhYy1fQMUbQqS6vMwPqQc9SeCm5mcLsk4JcOs0BEIheI0icllZJifBZCAECd3akMAuFIbPLEqgaKeZK3kQDKvLcxUNfuuhSyUUZDslOQSCLVLzBhH06shXt1HWGJbt6EtgKOWnHgRV3eZMVrbJF0bYenhTt/w3kXyG1YO11CXZsqx6SjACEYQX7G/0zuRVD8BSZ5JV/ag8SB16ZRvm8CwtooHzbKUir0lnioiIiKh/Vvo4Y9W0cN4vKKMkQZVhP6138cIkIqLlaaX8EXIiIiJaflbKOENtR6ttWPIHOxERERERERH1avGCWI8X3pk3ZxIRERERERH1bNGCWM0ftu5/ZRhLREREREREc8XLiYmIiIiIiGhgMIglIloC7/YOWy8iIiKiflvp4wwGsURES8Bj/Q1n3mBBRERE/bfSxxkMYomIiIiIiGhgMIglIiIiIiKigcEglohoCZw1DBjGlDNFRERE1D8rfZzBIJaIaAmoA4s6wBARERH120ofZzCIJSIiIiIiooHBIJaIiIiIiIgGBoNYIiIiIiIiGhgMYomIiIiIiGhgMIglIloCmjZkvYiIiIj6baWPM1ZNC+c9ERERERER0bJwWp/Atb4RZ6qOZ2KJiIiIiIhoYDCIJSIiIiIiooHBIJaIiIiIiIgGBoNYIqIloO7xUC8iIiKiflvp4wwGsURERERERDQwGMQSERERERHRwGAQS0RERERERAODQSwRERERERENDAaxRERERMvYOdPEj07+2Hqp90REF7pV08J5T0RERETLyIsvvoivfu0BvPDCi9b0lVdegf9w67/H1VdfZU0TEa1k6gnL1/pGnKk6noklIiIiWoaaA1hFvf/LB/4Kzz33vPMJEdGFh0EsERER0TLTKoCtYiBLRBc6BrFEREREy0inALaKgSwRXcgYxBIRLYFnKxXrRUTk1ksAW8VAlojaWenjDAaxRERLwDTPWy8ioqrZBLBVDGSJqJWVPs5gEEtERES0xOYSwFYxkCWiCw2DWCIiIqIlNJ8AtoqBLBFdSBjEEhERES2RfgSwVQxkiehCwSCWiIiIaAn0M4CtYiBLRBcCBrFEREvg3d5h60VEF6aFCGCrGMgS0UofZzCIJSJaAh6Px3oR0YVnIQPYKgayRBe2lT7OYBBLREREtEgWI4CtYiBLRCsVg1giIiKiRbCYAWwVA1kiWokYxBIRLYGzhmG9iOjCsBQBbBUDWaILz0ofZzCIJSJaAoYxZb2IaOVbygC2ioEs0YVlpY8zGMQSERERLZDlEMBWMZAlopWCQSwRERHRAlhOAWwVA1kiWgkYxBIRERH12WuvvY6/OfTgsgpgq1SeDmb/BqZpOp8QEQ0WBrFEREREfXbu3K9QmXzOmVp+1ANfzp8/70wREQ0WBrFEREtA04asFxGtTJdc8g54h692ppYflTeVRyJamVb6OINBLBHREliradaLiFamt7/9YkRuuhHrrrnG+WT5GJYA9t/+221WHoloZVrp44xV08J5T0RERERL5NvfOYqH899xpmbnd8OfwCc/scWZIiJaGU7rE7jWN+JM1fFMLBEREREREQ0MBrFEREtAPRWUTwYlIiKihbDSxxkMYomIlsCzlUnrRURERNRvK32cwSCWiIiIiIiIBgaDWCIiIiIiIhoYDGKJiIiIiIhoYDCIJSIiIiIiooHBIJaIaAl4PGusFxEREVG/rfRxBoNYIqIl8G6v13oRERER9dtKH2cwiCUiIiIiIqKBwSCWiIiIiIiIBgaDWCIiIiIiIhoYDGKJiJbAs5WK9SIiIiLqt5U+zmAQS0S0BEzzvPUiIiIi6reVPs5gEEtEREREREQDg0EsERERERERDQwGsURERERERDQwGMQSERERLQPvfe86XHTRRc5U79R31HeJiC4UDGKJiJbAu73D1ouIqOoD/utx47b/EWvWrHE+6U4tq76jvktEVLXSxxmrpoXznoiIiIjaOH/+PP5/D/03HD/xA7z++uvOp3Pzjne8Azv/P/8B11zzHueT/nr66Wew96t/iV/96lfOJ3Nz8cUX44ZNH8G/vXF2wTURUT+c1idwrW/EmarjmVgiIiKiLl577XX8H//nX+Mfv3ds3gGsooLLv/v7At58803nk/5Raaq05xvAKmpb1TarbVdlQES0HDCIJSIiIuriZz/7GR4vP+FM9cdjpR/h6N89gn5eFKfSUmmqtPtJbbsqAyKi5YBBLBHREjhrGNaLiAbDmV88hbfeesuZ6g8VcOa/fQT/93/L9+Usp0pDpaXS7PfdYmrbVRkQ0WBY6eMMBrFEREvAMKasFxFd2KpnTvck/yu+970iXnr55VkFoGpZ9R31XZVGv8/sEtFgWunjDD7YiYhoCagHFSitHlZARMvPt79zFA/nv+NMXZh+N/wJfPITW5wpIlrOVso4gw92IiIiIiIiooHHIJaIiIiIiIgGBoNYIiIiIiIiGhgMYomIloCmDVkvIiIion5b6eMMBrFEREtgraZZLyKihbJq1Sr8duhf4957vmC91Hv1WbNelyOiwbHSxxkMYomIiIhWoP/hf/gAtv1Pv4s1a9ZYL/Vefdas1+WIiJYLBrFEREREK9B7163DRRdd5EzBeq8+a9brckREywWDWCKiJWCapvUiIloov3jqKbz55pvOFKz36rNmvS5HRINjpY8zGMQSES2BZyuT1ouIaKH89//+OA7/3w/j/Pnz1ku9V58163U5IhocK32csWpaOO+JiGiRnNYnrH+v9Y1Y/xLR8vbt7xzFw/nvOFMXpt8NfwKf/MQWZ4qIlrOVMs5Q29FqG3gmloiIiIiIiAYGg1giIiKiLta/dx3e9rYLd9iktl2VARHRcsAgloiIiKiL6667Dh/wX+9MXXjUtqsyICJaDhjEEhEtAY9njfUiosHw9rdfjP/X//MP8dHf+k1cfPHFzqcrn9pWtc1q21UZENFgWOnjDD7YiYiIiIiIiJYdPtiJiIiIiIiIBh6DWCIiIiIiIhoYDGKJiIiIiIhoYDCIJSJaAuoej+ofIiciIiLqp5U+zmAQS0RERERERAODQSwRERERERENDAaxRERERERENDAYxBIREREREdHAYBBLREREREREA2PVtHDeExERERERES0L6gnL1/pGnKk6noklIiIiIiKigcEgloiIiIiIiAYGg1giIiIiIiIaGAxiiYiWwFnDsF5ERERE/bbSxxkMYomIloBhTFkvIiIion5b6eMMBrFEREREREQ0MBjEEhERERER0cBgEEtEREREREQDg0EsERERERERDQwGsURES0DThqwXERERUb+t9HHGqmnhvCciIiIiIiJaFk7rE7jWN+JM1fFMLBEREREREQ0MBrFEREREREQ0MBjEEhEtAdM0rRcRERFRv630cQaDWCKiJfBsZdJ6EREREfXbSh9nMIglIiIiIiKigcEgloiIiIiIiAYGg1giIiIiIiIaGAxiiYiIiIiIaGAwiCUiWgIezxrrRURERNRvK32csWpaOO+JiIiIiIiIloXT+gSu9Y04U3U8E0tEREREREQDg0EsERERERERDQwGsURERERERDQwGMQSES0BdY+HehERERH120ofZzCIJSIiIiIiooHBIJaIiIiIiIgGBoNYIiIiIiIiGhj8O7FEREug3X0qzX8Lrdflnq1UYJrnnam6d3uH4fF4nKn+L3fWMGAYU85UnaYNYa2mOVNLt5xpmrItk85UnfoD8O/2ep0ptdx5a5ubedbIcu+uL/f666/jqaefcabqLr74Yqy75j3OFPDmm2/izC+ecqbqLrroIqx/7zpnytZrHesTZ9DqkO0bWY9Vq1Y5U8Avnnoab7zxhjNV995112D16tXOFPD0M8/itddec6bq3vOed2PN29/uTAGVyUmcO2c6U3Xe4atxySWXOFPAc8+/gFdffdWZqrvqqitx2aWXOlPAi7/8JV566WVnqu6Kd70Ll1/+TmcKVv2qem7WXMcvvfwyXnzxl85U3eXvfCeuuOJdzhQkb7+SPD7vTNVdeuk7cPVVVzlTwDlpM5WWbcZjtf8qVXaqDJu9XcruGinDql7bgqpbVcfNVN2qOnbrtS2o9ar1N1PrVeuvevqZZ2R7Xnem6tR2qO2pUvuS2qeaeaVcLnH1C8899zxe/dWvnKk6Vc6qvKtekHp7Weqvmao3VX9VZ8/K/j41c39X7UC1h6qpl17CL3951pmqU+1Kta+qV6SdPi/ttZlqp6q9Vp07d07a/3POVJ1q96r9V50//xqeeXZmW1D7kdqfqtR+qfbPZmq/VPtn1VtvTWPiTG9todf+48yZX+DNt95ypuqa24Lq31Q/10z1b6qfq3r2WTlGnG91jPBa/WvVpLSFX7VqC1dLW3iHqy288CJefuUVZ6ruyiuuwDvfeZkzBfzy7FlMTb3kTNWtXSttYcjVFmQZtWyzocsvx7vetdaZgrVOte5ml112Ga668gpnCrIN52RbZraFd0hbGG5oC+elLcw8lqyRY8l7Go4lb0hZz2wLF0tbWNfQFt6StvALZ6rubW97G0bWv9eZsvXaFgaN2q5W28AzsURERERERDQweCaWiIiIiIiIlh2eiSUiIiIiIqKBxyCWiIiIiIiIBgaDWCIiIiIiIhoYDGKJiIiIiIhoYDCIJSIiIiIiooHBIJaIiIiIiIgGBoNYIiIiIiIiGhgMYomIiIiIiGhgMIglIiIiIiKigcEgloiIiIiIiAYGg1giIiIiIiIaGAxiiYiIiIiIaGAwiCUiIiIiIqKBwSCWiIiIiIiIBgaDWCIiIiIiIhoYDGKJiIiIiIhoYDCIJSIiIiIiooHBIJaIiIiIiIgGBoNYIiIiIiIiGhgMYomIiIiIiGhgMIglIiIiIiKigcEgloiIiIiIiAYGg1giIiIiIiIaGAxiiYiIiIiIaGAwiCUiIiIiIqKBwSCWiIiIiIiIBsaqaeG8JyKiGgPlfBG6M1XlC4bhRxn5vIFANAivtVwF3rAfmrNMdx3S7j0RIloyah8uwRMKwedxPrLMpT/ozKwUUUIAQW/DihacqReQKxrQvAGEQj64167yVCgZzpQHms8Hv9/Xn202KyiWgEDQC4/h7mtnQfKXLWoIR/pXD0S0NE7rE7jWN+JM1fFMLBFRG2bFA78EluFw/WUFmZofoXCgNqgyK6bzrndt014Kpo5CQcfst4LowmVWZL/JlyVsbTSX/qAj01T/X2QmKrqJYCSCcFMAa5EMVSS4tfuuEAKagWK2iIoze37U9job3NTXttXch1l5YwBLtJIxiCUi6qTlyQ8TRsVoE/TJPL2McrkMvdtgtu2JlXZpGDItQ2ZDl3kVa/1qIG2oAaW1vLxXi5kV6PLdsm4vUyffr6ZrVOfIZ+p7Vppl9Hv8TbRy+RDwVVxnJJvJfunspzb3tNpnpQ+p7at2Gmp/btt3OPtoq3nV76l06nNn9hczte5r1Geqj7Dy1rZTqHdgHgkag35d0rCn7X5J9S0qHfszONOqn5qRpLvPapjX3Ne2ym+rPsz+Xl0vfapav/s7olOeiWhJMYglIpo1GYAWWw0KZdBXKKAML3w+L1ApIN92gNtOYxoedxpqQFUsoqADmuaxhpBmpYRiUX3gg9cjA+p8HoWyKZPqUrwi8uXqd3UUskUYHidv5TxkE4RH0tLg8WjOv9bSRNQDzR9EQPaz1rt5cz/hnpb3pSLsXdfZz/Oy35safF4PjGIe1V1XMcpqHTKvuU8QRkn2+YoHXp/0AWYJ+eoZyRb9RaP2fY1H+gJNOgPVJ6h/e+JaTvVLhWJZrVi+rz5QZ0pl2uuT7VNdY75eZkYZubxkUs3TTJRLJQktqxrLrLF/zSNnJdKiD1PbXgvou/epxYpTtkbBSVOpoOjk2e/zyOry0OuVSURLjEEsEVFbFZRksJWXwYv1ahm4ulTKKHmDCPrsAZUvEIRPPmt9iV2btGX5ohaopeENhOCvFOuDJ82PYEAGq97qhXKGLOOHV0aKms8v69Pgl/maWr8/AK16FsPjQygaRkC+Z+XN70PZOlMh33M+83q9vPyOaFY88AX9EnS6A68eGV4E/LLPOftjRfbtgNrvNQmaAhoqtaslZNHqvFqfULL7BAkOi4Yf4YBKR/ZlfwhBj8yrZmZGf+HSoa/xaE560ie0+qqtnj/T0FEqSZBYu+7XsPs/1adIUFkpl+ANyrQKpmX7AkHZ3rLdM6p5vpBrnvRnLTXl1xeIIGStr0sf1kOfGvBX0wzCq1fsujQq0CU/Kl/wSF1Fwk33PxPRUmIQS0TUlgxcQq77VtWDRpw5rZimBIzlYj0wzRdRloFo6/vZWqet0vBq7mGYGqDJoKplGq20OuNiU5f4lYrqjI/kTZ1hIKL58/gQ9BsdLivuUYcznr6GSFL1CepyXXkr/UVFAtp6n5NHseGS4vbm3de4+rpi2YQ/0u7hS9IHSqLlYj2P+WLZug3C+p9pB7o1Knh23rrNzK/En+0j7JrZbaf0n9UZEtyGUEI2l7fOKjdfaUxES4tBLBFRH6lf+WuBqbwi0eanl87FvBOAelpnXlcPk3LyF2pztoOIZs3jCyFoqkv0e40AZ0cFfG6mqdV7BX9znxNDoHts18Ys+hrXekNBPzo/PLnpR7twBNFWD4xaNL2s2QNvMIxoJIygX4NRzKLUnydXEVEfMIglIuoTj9cHs/pwJYuBctE93Z2VRsn1xFNTR6msLhd2pudIPe3TuuTOmTYquvPOYZ0VIaK58gZDgHXvpYvHqJ/xk32uaa/rmeHuV6RPKFecPkGT4FA9zMieI0zopVJPDyFaqL5mJnW/rtn40CSjbJ0xrs4ruW4Ath4q5bx3a5XffN71ROI2fdict9PKo52iurza55NAtunHBCJaOgxiiYj6Rd13GjBQzOWsS+ZyuSIMX4t7tDpRaQTNehoySPP28icmuvD4AtDKKj37cj7ddKUo6/R7ZUCYa3yYDBHNhhfBkM95r2jwhzwo57LIZnMoqIc2OXNmy+fXoDv7rtUnhKp/PkaC2LAm67D7C7UP67I/9/QnZReor2lFnalWD8DKSf7y+Zz192erl0jb8wr2PNUHqXtUrTlNWuTXH3TO5nbqw+a6neq+YL3aZ0r9VfwI8qZYomVj1bRw3hMREREREREtC6f1CVzrG3Gm6ngmloiIiIiIiAYGg1giIiIiIiIaGAxiiYiIiIiIaGAwiCUiIiIiIqKBwSCWiIiIiIiIBgaDWCIiIiIiIhoYDGKJiIiIiIhoYDCIJSIiIiIiooHBIJaIiIiIiIgGBoNYIiIiIqJ+MZ1/iWjBXDQmnPdEROQwimmkfnIlPvZ+zfnEpueTyL3yEQS8q51Plp6eH0NxdQhNWZ2lCvJjf4yjWhgfmcO2lTIxpCpBbHn/Zc4nC6c/29vIKGWQrfikXj3OJy56HmPF1QjNWKEuZVbE6tD7Mb+il/T/+Ci08Ecw+6I3UM5n8MD+wzhaKMHw+OBbdxnqybSbX0Z27Ae4bEbeDRRTGTzl/wjWtSgKsqk2WJA26K8VXgWF5J+jvM7dLvvUPpaIKYHY6g7tUcVptdlGCZlsBb6AF4vdbDruu00a8izfi6UqCG55P/rXa6k6T+AvHv0B4AvhlVy9X5xrv9WtHtpZiH5y9kwp5j9DWurH3X+a0qc+kN6Pw0ftPskvfZKi8pzaX0Ch4H6ZUpTvh9Fh3uJtoiHbk0XFF4DXmEW/7a7EefX3FybDmMJabWYt80wsEVELWjCMQCGDguF8oMiBN10MIhJYZqN7s9SHH/69CMWTiM5x2wKRJBIhrzO1wPqyvU3MCiptE5WBWJt5ZrsZs+ENIZ6MYvZFryOXSKLgCWM0kUAiHoVXTyORrpaP5DudQF7NHxvDWCIGn57CWF6XeX4EfFkUy9aCdRKM5A2/KzijVnw+H3IlVY4Oo4xCUcqu7PpMLyPv9cqeNYCMIlKpogzZ29BziOZc2yptrdJ+B1pYHfddl+Y8ByJIJkL9rR+9hLQvjpTsb2FfU784l36rWz10shD95GyVs8iVm/pP9aNgFgjHpU8aU31SGqmivYW+sPRjqi+rvmJB2QaPFaR2mreYzErFLtee+231w2AKzibOo7+nZgxiiYha8iE8GkA+XR1AyIEoW0AwFnIOmqaM9wvI5/PIF/WGQYZRyqPk+sA9rb6jGxUU5XsFvcUQwzRQKkiaMr/omt8pzapKsfo91wxTR6EkB91K0ZpXKKt5MuCsLusa/ZkyAKt9tU0+1Hfd212dY8ogvuQeSRq6tY35fEHy6V6HTMty9by6027SNg9C5pWr85pGsKYEYgVr3cX69gi1bneZN0+7VcvLvY3t2fXZvD5Lm3JoZMrY12lDTfXVaf1GIYOSDOxGQz5oHg88mhfBaAJRMyPbpZaoyHgxjIiaryY9GgIyf9SJUP3BsKyrMYrVizl4woFFHxgOHK8fgWqdCaNcBCIReF19gVEpwRvwOWcmDSlb1Q5kH5Qdt1Obatl+VXuQtGtkf8tLJat0rH1KlqvuU/Y+7tZp3S3mqTYo6644bbC5n5EOQD4vAdIHqXbt3oVq7bZQrpWDrcft77TP97Avtd3HW+VZ9SFqX7MXbZ9+r/tkdR2yzuo6ZvSLLu36qZq29dB7W7K2sV0/Kek2r98oy3RD+5G+Sb5f+6in/qyqjEzGg1g06EzbDDn++cNB+KwdQ/qkUBCVcsWaJ50UPKovc16qP/JHq8fcTvPcVBuSOrLKz94+96Zb+4t8oLYrXyvUzvuIXYbN2+zqty2txgT2eooS+FrlZq2v+Xvt1m1vh6F+IFPfVVfSOHOa9b5NKh8l+a/DKiNXuqpfqfUzrY/1ywmDWCKidnwRxLwZZEsmzFIWOd8oIj57lp5LIqXLATgYhN/MN/xabujphkGJe9rQc0in8zC9Pvi05p9ideSTKejeIEJBP8xcHFknxuiUplLKSkDjCSCovpdP1X7ZlpGKBN8ZGZhIgBP0wciOYSyZRUnWIYuimEij6Byd6mm2z4e6nDqlS1oy8PCbOcSdGWpAVBskWWcPZBv9so6ABj2VRPUEiFoum3bWr+alE7V5jdrnQSlkCzB8ahs8KEn6tTPmUr7JlA4toOaZyLt+AW/Io2ierjJLacTTFQlAgghoZWQzEqC0VZL5JXharK+xHDwou8qhkQw20s6gxqqvtLQ5VV8STEqdJFp+SQZWRQ/CUoaNPAjGU9ZZIDVA1AJ28FPfSg0+n/MdyVdYBkb1YtVRzvsQmpEmzaBJEIuiM7hXg9KK7BMRBKU91D8zpU2osrTPxORNv1WnnnIKydYNoan9GsiNOe1JgmatKPux9TVJL5OF6bMDZNWOc5J+QXKk9n8UJP3aDtFp3c3zkhhT8zyqjXihaV7rjPOMq3Q96nPZLk36MJlf68YqOeRKqk9Ul1pmkajtsL1uf4d9vkOf4tZ2H2+VZ7WvFZ0gtlP6ve6TLdbRro9pW89uLeuhsSw1vUNbEu36SaOYsvo4e/2Qck9bZ0s1WUkx6w5qpH8reOC1mnGv/ZlNl+OORLBynHM+cGiBGGKuPsbUpZKtFTQxClL/UUQkfzN0mie513MZpKTx+OT4HPBWkE5ka/2cqpNsWrZX3VphFWqn9iltUl3tAjXPJ8fWDHK1CNDVb4uGMYGRQ8IaE3ikOUjdaRq88m91ffXvdapPtR1ppPOGdNXqeFtAPNn6rHy3baqnq8Gjy1jBWYVZlrFLOlf7gcQo52Q8YNdFu2P9csIgloioA390FFCBX1r9ouxEsHIAzZRCiEdksCYHJ19oFFEJdvM99fE6AtGYBAr+GQd3GBU50KpBhRxoZCAUiqcRbXmQbiEQloBGDXjke6NRaOmCrMmhhRBSZ+Nk4B0Ke4FgRIIcCXB8YUQiBVRqB2VH23wYqMg2qoGypgZYoTjSLTKo7sH0SrmF1Dq8AUTiIZQyMphy5mthZ/0yWI3I9wvuSzCrupRFMCYBg7UNIUQjMvCyIgcDBQkoQ/GIDFzseaNRLzK9VYxDDv45AzEnDa8/jKgqsw4C4bBrfRrS9mlQKYcc/LFqOQQRHZUQJ9/DJX6a1ItEoWrwGoxE4S+U63VZI3VRVIMjZ7IlDaGxOAISXIyNjiIhA1X1K319/T4EIjLIrhaPuvzVH+Jlbj2R9h+syGBQlWZFAtYQ/FLPvqAO+6SStN9iwN7HZaCY88fsM+bW2fJRBNWVFDMagmq/OsKJavsNIx7zIGudGdGkzYet/Ugv5ZD3xWo/qCmG7NPRYH3/92Xz9qC907plXsYbdc0bQ1yCHVNtm18CZHWvot/fMoj1y3xZyPq31gS9koewLC9pBSLSx8mg12q3vW5/h32+W5/SVbs8O7qm38s+2WUddZ3q2a1FPTTVWSASR6jUdNuLS+t+UlIOSt89Vl1/UI4deeiq3WoBhD3qjKO1mMSwErSGJAiS97PqzyRIzxjR7scvCYzTeR9GW/Sx5Vy2zZnWzvMsEkyGomHZ/6QPD0TkWF2WYLxeSFpY9h85jvlVoXbcRyRYDo4683wyL4qQnUSj5jFBOI5kxN4mTdqDz+ORunTW59atPvUAotGgk6bsX5VSw5UPbs3b1DpdD/wBX+1qLV0qenTU67QL+4c3+0fM3o71S41BLBFRJx45iIQ90GQwUOvCDQMlORC4D6DqV1ZdPu9F85iwRpOgLliSgCOBZDprXQLUK7/fPQhQg6kyKm2+LsfTztrmQwbSERm4jNkBUbbl5U0GDF39GuxMKnLwD0garbKjLoFteVDuUhatN0HWUXIChyp1xlsO2G2KogWVhhqIO5PCI2m0pwYNzlvFK9MSxag1GjIqzGfUfV/OKy0DRcPsHsS6yQDC27qAZLypt63jOjXolgFVOo3kaBieonO2zeGTIL0k9ajWoMuALSgD1m7Ng2w+CfhLauQvwX9BBnuqlajPiupHGfmsGLI/MwypJwmSau1gLI28tEn1rJdGqu2VkUu62kzWNWiVfSIWLCCe8UhA0tgmA9L/1Kkzd+oyxM7rVvPUmb46jzTf/j2YqZpOz9vfdp9X+1LvfcrszTL9tvtkr7rUcwcz60wCjID0w20Kon1dqktVs0g7eUgVnI8lvUBIc8peLaMhHLSDmt77M12WqyAS69KXqDO7Y0UE4xFrP2mgzrTqUYRbxU2d5lUFAvC7Vq75AhKYty6kzvtIRfp39wFFBfDOW7cWYwJ1BtY93Ur3+nSXoFp3q35jpk7pevxBOQ6oy/11lPWgdaZWnZqVEBalSgj2SfJejvVLj0EsEVE3raK+FgeSjgfsHqmHV6TTScTVfURFOaC2+4m9idF0f5Jpat2D1Q7a5sMXRkIFRPEogijKAb+3syHOFUqzMrey6EfFNKfRadQgg7uG2TKo0zzOKv2IWg8vqb5SyCSCXQc2vVGDEgmUyjPzpufGnMtOJTfu2ers1ugoAjkZMDsfwSeBQ6WIsikDmFwAgeX3Y/vy5fMjWJA60IvW2Y3aZzIgbPhM+KNxVzuQoCGTgBUbzBCyH8JVfckAMlcLWO1LyEO+Uu1ywKpK0wDdNOuNvv26+9Fj9abX7Z/NPj+XPmU2Fjb9TvU8S7POqHrgWxIlLYxYwl5/POzMEp5ACF4VtKh7drWg68qM3vozo5hDuqLXg3QJdpFPYyzjDoRkfqqIQCLesh3M6yys0vwDhGl0XL73/bM9rdNhYjYWquFV09WkjzLlGFAuoxRUZ2r9CEldl2W6rKbtpdTOOKdj/WJiEEtENFsyUI0Wcq57mHQUcqYEANXuX0NZd2aaMsit/crdhXVplX1tp3U5XdDvOrvbOU31QJF6dvLIaY2/RM9K23wYKMqAxJpjXWIUhF/yVFuvRYM/aCLnXFKrqEFNIWyflepZx7JoxyeDkQJyrpvLdKknUyIzu2Y8qOjVB7moswyt7nVtTkMGfAUZhLXlfpCGKvocNFmfemamKod80XWtttRLxj09T+oydmTSKLjuuTNKWesJ2uqqRphShqOZhss2zXIRxYD7ibnqzEtFxpg55MPyPedT6oVP9vk8sjkPAvZTauzPvLL/5eufaf4gTPVwGWtKUWeq3NNVdtsruCpM7Ts55xJQ9We/8sEo4qNRGJlc/YcIUXQ/SEk9WAiy/0uj77RuzR+AmXPddmAUGgaqHhn4dxqXa90vA7D0vP1t9/nZ9Cmd9/HWee5Tn9WzzvXczF0PVlk21FlR8h229/eemRLTyTb7NOdnDB3quWQ1ngBC0q7T6YLEMUFnmd77My04imxqrP4UYQk4EYrKv/ZlyVb9j6n7ZeNo+UD7+Z6FtRRQvzpbjlvS/sJtCqnzPtJU3hX1jAHnvZuMCcINY4IyMqP1+3ClEpt+7LT1pz5n6pyu3ednpH4D1geqbnXr2Q6h2oo7HetN60FcnfqGxcK/E0tE1IX51KP4AT6Cj9X+cOaV+OAHDexP/gWOFuWglivhslviiFQHrV4fnsyOIZXNo6D78TH/o3hlXdQaVBrlLCpe+/0Mnsuw+tEHkMzKAfhRCY7KfvxxLIgrV3dPU/vgx/DoAw8gLwGXerhKbHSb/Xc+zaeg/mThRz62zhqMNG+LOz+19952+fDgstWP4oFkFoXioxI4l+H/4xiCkkF3uh5fAFfKgNv+vgRHTwXxn0btX+xnlKVRRrbiRbS5QDqURXMZutO88oMfhLE/ib84KsGaBJSly25BPGI/AMezTkZMh/8cif2HUfzBagQ+4oHusb83I40HJA0ZABfzP4C2ZRtWy6DvYzMqzUA5q+GDH5MyeUDqRa1Pi2F0m13Wqhy0R/+itg25kgfhbR+beY+hlU4F3qgE20311TDPmnbxrEPwIzJcS0u7kDZYzGVw9JWP4I//Uxg+9fcHV6+TQYqOB8ZSyP/gB3g0n8UhVY7xLQ1/n9CjefBo6lGEYtEl/puSg2Y1PG+UkJH2fWu4+hRi9dkP8IDu+swjga32KP6iut9IXXnC2/CxmQ3BanuVzJ/Z7VcGxfmn/IhEPghNBXj7PbjlVtmPVnvxfo8EGT/wyqBTs9puRdb0k0NZZ/+/DLeoSzRV8p3WreZdKek683J5A+G47FfqT3Z6rpSAL4vkAwWs9rf4W6OaBu3onyN56AWsCwXgfaNDu+11+zvs8732KZ328U55VpebtktfVtD7PtnUn7nz5u632taz9S2X5nqQ40BjnT2F4H8abXnWsH0/qWHduhekH89YaRQKkp91JeD99WWvXC3zc1cieusH5Whn670/W43Vq10v80lkX/Dhlg/aieu5OP4sr6Mk/VE267x0H8JO+ZazSbwR/mN8pLpil07z6lT9GFjtPSxpF1DI5fFU8D9h1Ckkd51Yuu0jl+WR/HMJUItHUZB2Ef7YkxK0fkyOr+520Dwm+AnW/fGtCKnGK1t1pVZBNvkACqv9CL1fbYdr32hbn83tzMRTdkOc8Te8W25Th3YicSmKmdUIjUq7V9OS9uHDV2JbrLqu9sd6GI/iz//4MC4Lz8zHQmn3d2JXTQvnPRERzZa6XnM+1+22pO4zql6SOjv9zU77fPS2nrlvR91c0+jDumdVmJ3Xp361nl85dNNlDbItpmzLwuaBuuq5IfTefo1iEmmMIqFGqJ3S7zBvQbqxVnra/k7b3of9uqOFTr/Z3NfXjzqbaxo9VeOS0ZGLlBDIqXttZ5nTDov3nNIcC3Wh9sH5prtQ+ZqN0/oErvWNOFN1vJyYiGg+FqR3n/sgqr/ZaZ+P3tbTj8HgXNPow7pnVZid1zf/cuimyxpkWxY+D9RVz5Uwx/rq9KUO8xakG2ulp/V02vaFbseLvZ/MfX39qLO5prG4ZTQfs8xph8V7TmmOhbpQ++B8012ofPUDz8QSERERDSpDhw7fzD/ZRXRBUvdsGtD6+KRtWlrtzsQyiCUiIiIiIqJlh5cTExERERER0cBjEEtEREREREQDg0EsERERERERDQwGsURERERERDQwGMQSEXWh/j4cEdGSY2dERGRhEEtE1I6ex9hoHMmxPHTno8XX26jVKKaRzM/MpZ5PIlNa4SNfo4RMpgTDmeyLLmk2lGinZUsZxBJ5VJzJ7irIj8WQXul1NuAMqdexsbEWrwxKqiH0tU0ourSLUcSTY1C7eSkTQyJvp6DykrFW2g9qPf3v7/S8ne9W2s5biP26z/pb9m2o41C7wlumVJ3W94kUMgV3PS5MGyPborTJZYJBLBFRG3opDV88JQfhMHzOZ4tNz0WR6+ForwXDCBQyKLiPXTL4SReDiARW+l/LM1Gp9Dvo65CmnkO0oVI6LBuIIJkIwetMdudFKJ5EdMXX2WDTAlEkEgnrFfGX4I/Y7xOJKALW32vtZ5sQeglpXxwpCQrC0hkFIkkkQk4KZgX9bP7mQvyAYpYaf/hxaztvIfbrPutz2bdmYuB+05I69YRGnX0ihpCniORYoRbILkgbI9uitMnlgUEsEVELRimPfEnGjgX5t6A7gyxTPi8gn5fPinrDGQL1uW5UUJR5BV2WNnUUShU5nhSt5QtltbQMyoryXZkuNhxlDJSdzwslw1lXPQ8ltb5aHtrxITwaQD5ddPJloJgtIBgLwRpTd8x73j575GiebmDo1jbm8wVZpjFHRtne1rz61b02y0BJ8m4YZRSq85w5zTrlwypf07TrQ9JpLL8mHfKoDvDFahp6U07ceWyXvFGS71qVYqWvqrqqWtf5Qrm+jabUrWoHzmRj3pzPmpgSsFSzZrcrScPKc/vvKGr9Vv7zxdr3aaF44PHYL80jU/Kf6rRbX9pEtc3pav+125wpbbXUZh8wZfme2kGH9ar0q2k0rqYf/YirH3TvQG20LENLq35T9cGy3dZ7R0XKr1g9790+/81a92et1LfH7uddOvRFnfbX2jZLHmeu2oDe4nhRO+ZY7WRmP6s+V23G6kNrFdM6LbU9kpTD/k69LqXcm8u4FWd/8Hg0+IJRRDw5qW9nXoM226N06K8N3VU/zme2Duk1aGwLDct1OoZ0mufWdv9q1W7FLMYMfTseDjgGsURELXi8Pvgk+tN88q+8UUNTPZdEStcQCAbhN/NIpaoBozpO5JBO52Fa35Ol1cE3m0G+7EUw6IORHcNYMouSN4igHygm0ihaxxMduUQSBdOPYCgIr56qXTrWKg8d+SKIeTPIlkyYpSxyvlFEnFPInfOebhhENU/XGEX5nmyjX7Yh4EE5OVY7S6znEkgWTPiDIQS9OlK1y8VkQJFLI503ZJ5adwHxZH3dbp3yoco3k8qi7FPr9qKSTiBbtuc1aMijBj2VrJ/JVvPiaVS0gNSJVEI+Wb9sV88jkSxAMomgz0Q+k2t9uafHa9WFVIr867MCGEslh1xJlW8AXiOLRDVzqh3IANpai1lCWvKm1hEKalb5NZw5dzRvt2pXhsqX30QhnkSx1XeKKcTTFWgBtZzatPTgnb1ZafrVJlq0OTXQbTlwlfaSTOlOOzCQG0u1bC+d11tAViZ8an/1lJCS/aI6a/79iIlSOo50xWuVi1bOIlN0ZrXSrgzb9pteaEYGRVffoBfTMDT7rHVD/o0cxlz5d2vfn81UyeVQUn2K9EtG1tUvNfeXrr6o0/5qltLWPK/MC2hlZBsKyEAxlUJebbeUiaecQrKaqHXMkb625JF24p1xvFBtJpuW9XikHXnV3Ma0NCnDalqaR0emVE23jHwqLfXglJRRRk4OXvaPo72SYLblFzpsT4f+WpWR3XylfqSM6md5O6TXRN1qk9Ll+Cztx2/mEK9WXId66zjPre3+1f54b9dfL2MGycacjocd8juopomIqKXTD940/eBpZ+LsI9N33fXI9FlnUnn84G3TBx+336tlD1aXVc4em77nnmO15c8eu2f6rkfq325I263pe22Xa+fcY9Nf3bVretdtX592stZT3t3raLdO93cs556dfvzZc86E29npY/fcM33MWuHp6QdvOij/rTo9/fDtX51+rMXXOuVDvb//mOtL7m1yldmMPLbY9prTB6dvclbw+Nc/3bjNpx+evt1VDw1OP1j7nqWpzmSB6YM3PWhvs3uefO/TX31sulWJuTVvt7tdnX749umvtiq8JqcPtq5D6r/mdmvpc5tQy7nbnOpP7rF3MNf7s9OP3HX/tHs3mX7sq9O3P9yiIbRdb/P+6tqX59GP1N6rNBrK5dz0sfvbtNVOZdisqUxvq3UCj08fvO2g3Reqdd9/rGGbH/vq7dOtiqeRuz9r5K4Hi7tPObirMe1nH56+q01d1/dXVYeN6zp37P563T9+cHpXY6LTD9/l9KczyqvRjLxKWvVyUtS675q2DlPnjk3fX63rx78+fc/DD09/1Un7nLQp97GsFVXf9zzy7PS5c+es19nHJN+7HnbqTrUxpx47bU8zV9mefvDTrfvBntOTOr3/rumHn3UmXTrVW8912ut+7a6zpvrrNGZQ79sdD931PJs2uJz9/LTuvGvEM7FERL0wDJQCvoZfn70+H9SlnlXdzpQ2XWlYY6rLojLq3lv7l9dWP6j2zBNANOyBFovA73zUS967M2Do6hd8Z1LxeOG3ftEXprpkKWPdszc2lmz6Vdi94Ro0rwGzxUmkzgII+F3paD4ESpInZ9LWIo9Ny6nLsLLppF3WqUL1UxgVP7zuAtK02d2z2KRlVftCiHtyiMfHkMr0diml0lB6mhdGy8JTl21nkU6q8pf0q5tGy0Y/20Rr0o5LZeScNmC9sqWGS95rOq63ZU4l+T70IyoNv9eVhkfScN72wJ2ztv2mL4BIsWhPl0soRYJ2X6jWXc4hWS0beWVLbW7T6NifdVLNoeqLKpK/+rrG0nkpK9NZX7v9VdVhY1+krsipMgwdFclXLc2xNPL6XPpTOy11xrZOk6IrqWKSlfoR9EgZynu9rCMYDEoPbLclvVRByL7xu6NyLo1kMmm9MtIvx1s8W6Lb9rTur1XzjcOTi0uaKWTUpc3V5XsuHw1BaRelsVEkkmlka5ckd6q3bnXq0mH/ms3xvt2YoffjYY/5HVAMYomIetWi5297jOlVJS8DTQP+SNw+yCSi9eBzrlod+fqR97ZfUE/UzcLwR2RQoQ6WCUTnvRHNnMFVjQwpuo+jLKaznLoELVnSEI4l7LKOh+0Zi0ZDIDaGdGoMsbAXlczoLAbHnahLNJMoaWHEEvZgZdE3jeao320ihFFrH3ReMkDPVe8paDDH9fajH2lOYy4j6o79pg/+cAnFsikxbAkhv2v7Q6P1spFXMp2r3XJR16/+zI+oBDH19UnAlQhKyXfbXzsXkD/qbLPzSmUSCPbYF3ZV7Swll/6g5FMvSxkG4dNkOqR+BJDpspp2FuvAnc+4BIzV3zubtduejv21FkBMAtTUWAxhbwWZ0Xow2HP5+MJIpGUd8SiCKMqy1UuS29Vbt3lubfavvh3vez0e9prfwcQgloioFz45GBRyrvvLdBRyJgL+eR4OTBloSdrVQYFRLjX9Mquh4j5YGTpm3mfWRde8ayhXEzXLKLY8iyeDmICJXKF+Q41RkIOidaOPKV+TgWN9I2SwY7+dnc75KLieCmIU8yiGpdycaZs98GrIYzGHgrOcaRrQZEBbvY9VL1fvNZv5PfUwjU636mkNldIjPY+MUwmaV93n5ZO6nUM6M0j5ywhGlb+9aTpqm0bLW1/bhOyD0QIK1ZsrhWr/ueaHDSlzWW8/+pHmNEz1ECrn/Wx06Td9wQj0XEq2PQzZNOdDte6C615xA8Vczjrb2Kgf/Zndp9QfKCWsMlfTnfZXuw5z9QJCyVVAmj8IUz1sy5lW381n3NO9s9LKFSQFh1GUPjAs+bIntUBIgq80CgG7/1TL69kMSiGn3zUrKHd6oFAPOm1P+/5aFWXGaUOade9w0Fexgrrey0fqPp2324x68JS6L1barqyxQ711mtek3f7V9Xjfu16Phz3ld0AxiCUi6okMgBJ+FMbsX1AT8QyMaByh6vhtrnwhJCop5xf/MWQqcuBxZim+YAxGehTxjP1nKMrq7+/N+m8Gds67ujTLW4gjNirrSasHutifN9NkuaiRQdw6eyBplUIYtRLxIZSoIFX9xTdTkcGE/Z3Z6JYP9ZAZ+9dkWXfBj0SL0yMz8uhaTgtG4ZfySzhlXTLrh3z1vYgu9aC+J6+cN4yYM28GyVjMSGNUytEVL3QngxevBP7VszspGWDH+nIKRUNQtjEvadrlI22lcTRDy1Wf24Q/moA3n3DSU+3f0/qHtjmttx/9iJ1GvppGqoJArE2H00mXflOdqQuZRZihgOwdVWrdXuQT9rrHpL8qeAKYWTz96c+sPqWSdvoiqRNJJ+BXl+923l9VHap+ytq2RAqVQAy1EtJCiEcqSMft76o6qEiQOadbH1RaUQMZJ634WAF+95lBVYaaDn8tqvUhKIFrwJlWf5s8Md+/49thezr11z4px2o7VGVUDksZqXrsuXxUgFdBtrpcIgdvwr7cuX29dZ7XoN3+1a3dzkKvx8Oe8jugVqkbY533RETUC3WDTfubVeZI3afimf2lebPVl7y3z+uCFI3QcxGUAvalfypu7L6KDuXZMZO9pT4/C1fXC1X+tND63SZ6TW+O6+1DQ+tPW13Y/Pdrf5JkWuaxY/rdVt4u0Tno13bOy1wKqeM8efWwTXNNorfk27XP+e3vsz8e9r7ccnRan8C1vhFnqo5nYomIZmtBjvZzP6DNSl/y3j6vC1I0TXpbRYfy7JjJRdiATnmbp8Uof1oI/W4TvaY3x/X2oaH1p60ubP77tT+1S6Zj+t1W3qe8Kf3aznmZSyF1nOf828Vck+gt+Xbts3/7e6/p9Gt9ywnPxBIR0bJnVsowNH/bh4MQERFdCC6042G7M7EMYomIiIiIiGjZ4eXERERERERENPAYxBIREREREdHAYBBLREREREREA4NBLBEREREREQ0MBrFERItA/S26fuhXOra+JrbirJjSYTXTImFTI6LFwiCWiGiWSpkYEvmKM9UDPY+xvO5MzEO/0rGYKKVTKBo68mNjGGt+9W09s6Hykpf/tlCRbY+lUVqQUXJF1htDupq4KufROJLt8jIwVHmOIp4cw5JUJ82g5/tQF/PcF2bdf/WiYZ9x708d9unF0PSrX1/Kf4azyGeOIf+iM9nJqy/DfMN5T0Tzwj+xQ0Q0W0YFhscLrce/0WYUxpDzjiHmdz6Yo36lYysjM1ZBZCwETQZ67qFeRdaT8SQwFtKcTxaLjlykhEAuAp/zSZ0pxW5C8y5MnkypU1OTOpX3uqy/4M/1qZyXkJ5DpOBHbuA3ZOVQbasUkHqZ2cBnYZ77wiz7r1407zP1/anTPr3QDBSTaWA0gaBTVP0p/2Znkf3aT4Df24zo1c5HbRSzf4fCB38HiQ86HxBRV+3+xM5FY+ondyIiamTqKBwtovzkk3iy+npqNdb5NLxR+QF+8IoXPm01jFIBFRmsGY8eRbH8JF64bB3WXbbaSUQxUc4/CW/oI/BaH5uoFI/i0Z/IsqvX4UrjUfxEhndejwm9YKdRW9+TT2H1Oh9kNU3pGCgVKvB4yig8+mRtGbNSxKOP/kTy/AJWX7muNki18ujxoFx4FE/KOlW+of8AOc/7EX6/jO5Wr5b/V19PIv/nJrb8cRBXWt/No1By5+lJvHLl+1v+kXWjXEThBz+RcnoFV3q98Fj5bpNXo4RHC6WmvBooZyvQwsBPCj+w5l22bh3s4nwF5Ud1eN7vhVmWPL1wJd5/ZTUTdtlVtPfD+sjQUSwU8RMpv1eu9EperQQ6eqX8KHQpD4+knZN1P/WCBvMVu77d364U8/jJG+/Hulr8UEEpLwPY90s+Zar1dtnlWJb0q+XWPF2j2p0k50MJeanLJ596A1f6roS92CzKUj7L5wr4wVMvQDNf6VLuavEWbYQ6M6U+Hi2gpPZ7KbN1Tpl1qmujnEXFG4Um7czuA66U7zkLWnVvwis9wlGp+6feuBJS9fX+ota31PcF65tt8iEzZN2Pyv5bxpMvSFuWRqvmmK7+y1qqTZsw9QJ+YnplZ6z3V/W069T2Ne8zprM/eT32Pu2N+q0fiJrzdKXkyVndDPPLl+oTDuPoD8p4ypQ8Slm+XyrAKn+7g8EPWvXXvfYdb5xFIf9T5ErPw1j7dpinzgIfGMEHL1Uzz0EvPYHs+C/w6MQr8F6tSd7fBv37/4S/+JmJ0gtn8cIzb8D/L4Zk29+E8c+nkP37CRR+/ktg7Vqsu/QiaxVuxk9+hII5hDdKP8H+E8+g/PolCHgvceaKF5+ROjiFfGkS+rQHH7zaNa8hr0NY/dOfovxOL9ZZ5fmq5OtxZI49jdLTb2DdyBAu4zWatMwYxhTWajN/tGNTJSJqxaPB5/PVXiinUZLP1HFfBYvFin3u0tBzyKSyKPuCCAa8qKQTyJatWQ4dJSMAnzVgUJfwxpGueBEIBmQgm0Uqk4NuqHkeaK71+VBGuiSf1UZ47nQM6Lk00nkZ8MqyahmjmEI8LQFgQPLhB/LJ+uWGKo/pdB6mV9J1EjT0IgL+macjjIJsSzSC6rk7j/pONU+aIYMhAy2OJZKfBJIFE/5gCEGvjlTtEsKZeZUPkEzpTl4N5BLqsmZrYVFAtmDAFwzC7ykhlSxICoqkk9at95oMRovZkvO5kMFutuCBdWLKKCKVkm31q/qQoCyVRK6HywcNPW3Vg7W9ko5dFzMH2F4pg0zRVcFSjmlDk8BDvXdvl4l8qr5d1fSrmqdrzAqKuRRSBUgbkTKQ8mgog25lOeas0yNBir0hVt11XFa0aiPUiS77WAq6N4iQ7HBmLl7b77vVdSmbkb4kgKD6Xl7quloJqu5lXr7slXk+GNkxjCWzKMk61D5dTKRRtPbp+r7QKR96PomULmmFpB2ZOcSdGe7+q1ObVctl0876A5qsM9FyX2q1z7Rr33pO5Umz27aRw1iqWN+P3eadL7s/9UpnpfYVn+vXokJW9ifVX/s9KEn/IN2Nree+4ymkviJ9Dq5C5KNXwPiHnyH1qjML51H6myKipTcR+OgGRN4zhdFvlFCSOdrVQ5Bk4b1C/r32UqucKn//PQS+8zK8H3kfJM5HJnu85WXJ5jMvIfXQD5HBuxH96FXSiE4i8t+cS8Kf+ymif/XPKF9xDaIfl3nfL2H0uy/b82bk9YcY/cFL0M+reeekvf0Ao2cuQfjj6xE4/wuE9v0Ufb7QnGjhqMuJiYiog9MPTt91/7Hps87k2WP3TN9zzJ46/eBN0/cfO2e9t5x9ZPquux6pLau+u+vh0/Z7Ne+eejrT0+emj91/0/SDzuy609MP3nX/tLMKmzsdNf+mg/Lf9k4frKer8niwYeGz08fu+er0Y65s2x6f/vptB+W/rch37r+rRV5bUenf4+S/Oa9npx+5667pR9zbdvb09Ok2yzam86AzT31eT+PsI3dN3+VMPH5w13StmJRnH56+66uPSUl3psrIXV7tt1Py4Sqjxw/eNn3QmmixXY8fnL7NnjkjzbbrOHts+p7bH3aVgXsdrcpS2ol74x776vTt1QKQNnNTbSWdl53ZRqgjqaf773p4+lln0q1TXav3dz3s/pbsc5922rWqe1f/oPqZartW6um49oW2+bD314ZVOer9V+c26+7nlHPuttWk/Ta78yr9n/SjjU3w9sb91dKvfLn7D5vKl7udu9Pqte84d+J708MNO8svpu//0j9MH5x0Jl83Xd95YfrgX9TnHTt4dPqeH9vvbbLs687b6TdazLc9++1/mP7w//ULZ0qc++fpXV8sTj9ireiN6XPnXrM+tjxWnIaTv455nShNf/KB/15rb9PTv5p++Ot/P33/KWeSaJn4+WndedeIZ2KJiDpRv85ngFg86FwO1yyAgN915krzIVAyamcX9HIRweoZT8NAyW/fd2nzwDvjZKiBor3C2n1cSkM6Ftc6LepS0yzSSfvBTOpMnlvD0qaOkuTbPqtbp87C6tFw7Sysm55LoRiMt7+XTNIs5jNIWQ+GSjadjXavSMqmJOt2F6Y6W1ibbt6uVjQEQhoKUs72dmsIW4UlaesV5DPOw6nUK52HbjTe8zs/Ur+RIuyTsWWUShGpF/W+xXapM1R6vS30LCDfc94q6kySLm3H1lyWZeScOrde2RL0lhvbfdleSp4cWhCRYAljowkk01mnLfbGL31AnVemy6i0+bqnW6W0zYeGYCSI0tgoEsk0sgXXlQs1s2uzHs3bpm31SPV/5RyS1fYnr2xJb7FvLmy+WheppN1j32H88g0E3zXkTCmXwmtdRuyYmkTuoe8j9r99F6H/7STGfuV83sqrL6Hwne9jdK9a9h8Q+4XzeQuh917lvBOeKxC4/DVUXlIT8u+PfopEZlzSeAShv3/FWkTpmNeXXsO3fzmJiJVP9TqOseffgmmdpSVa/hjEEhG1pS7Vy8EX6/RQEhkcNoysTBi1wZcBveiHO/bUZFDUoGlSXQKY88WagsWZ6TRSlyknUdLCiCXsAVg87MxqRS+hIpGXe4yoArJc1o9oi4c5maU0krqk7Y6qG6inkWZh+COIWwPAhHVpXFvaLEacbXgCIXjVwNwooSADeXWZnk22Ie4aiI6lkEm0+wFibnz+MEoSxZrlEkohv6tttNiuuUSGEtE0NimzQzIhjNa2VV4SsOTa/tIwm2WpG184gbTsd/FoEChKedauS+3MaOoDTFPrHqx20DYfvjASadl341EEUZQ6r16W7tanNtur0Gi9/ckrmW73kKVFzpdlNn3HW86/iryvPXH4GaQPTEhfuAHpz3wchf8YwNjlzqwZXkb+b36C/BXvQ3LHx2TZ30bmvc6sFvRfuqPh81aw6blI2tP3S4j+8xqM/rsbrDQKn3CtcLXMf8MdlbrzKt57rXxH5dN+Ff8zHzpFg4NBLBFRG3oug3Ik0fVJloVi/cYpo5hHMewENkYZRW+gHuT4AoiUc8g796OZlQJy7jOmeg6ZcgSJ5hU2pzODCVMiZ7+veg+njnLRetOSXi4j2HCaQ1bR7iysUUQ650Wi7ZloRdZf9lnrt0h+Sw1nYt1kubBsd/UGN1HOjDadue2BJ4CQPy+D94KM1YPOdksZBE3ki667uvQ8Mq7pvvydXV8QEamrVK6McLBaK7Jd0cbt0gs5mIHqjwUaytWbBE2pz6Yz5Q1kZrmWjI5CHgj4W5W+vc6C62+tGMUccvUvu8xmWZmnV++5pJbUfpG3G61H81n3o9bPlneu63zedVZU2mdOC8B9McestM2HgWI6D2uOur9f3Rc740xmtzbbZz4JEgsF158Gkjzmcq62XtXHfHlMNP9u2Fr3vqPK679cqvXnKFbvgz19BplafPkajPNvR+BfrLUfbPfisyhYZ0ttKujUXz3nTL0hy65G8L1XQVMz3ngKxeecWS387emnpTewmT/5BdIXXY7AFfJ+6g14r74KvkvXyJzXUfrn+plY7wevgPfJ08g/97pMvY7K959EuprX96/Frl88i/zUm84HLyKXPYGCkwf2AbTcMYglImpFgpSxTAmFZAyRSMR+JVs/hEQ9gMj+5T6OsYIfieppyIoMIQM+1wkEHyJjUSCbtJZPl3wIhpxZMjzJjWVQKiQRq64vkrQfZjIjnWYagrLO/FjCyUcJZtuI14BekgFtw/x2Z2FlkJlJSuCTQbyWp0iLh53I4DlRQap6FiNTgdbhTKw/moC/MGaftU3EkfXEEel05rYNfyCActnvXM5r00KSViWNuHVGOoG45CVQvXzTKCCZbvMgmVlRlzObKJohBFxF1rxdGSOKuFOmPsmXtxBHbHQU8bR6cJX1cWsSGFecyxoT8QyMaBzt/tqRWqc3L9tp1btqf542Ae9sli1LW+Lflu1IGniwkq21s4T6oSds71Td6joq+3zGqgPVPk3EYtUfYeagbT5UUFZBNm73CYlEDt5EWPbURp3abP9JH5PwIi/rsfoJ6S8KHgngW6yuP/mS/TTsR1G19R4ac8e+w239B5H+4GuIfe0R6/Ld8HcvRax2BvW9iP6rNxC7z54Xyr0K7R3OLBH4yJWo/MP34N9/SvqhtYh81IN0Vi37XYS+9izMtmdtgZuGzmFMpSmvwN+/gbHf+6BVn96PvhfB8kkErUuCv4f8eVdruvrXkLnxncj/zfdkXhHJqbWIVtfheT/Gtsn69/2Dvf77TiJz6bsRtP5MEPsAWv74d2KJiObB/XcH1Q/+7sGonhuDHhprG4Aoela+H+z8dwt7SadKnWnseGmiIQOZnIbEAv3t0K7rb6DuN/PMfQDfRXN9oJzBWCXSl79/q/5mb1qC70TLS6znsV2qfqw/banOfM/Ygg5ms86FLfcLy9zLcnb7Sjft89Hbeha5TfS88UvTVnva8944Z51J1S692PnAxZr3Npmnzo52cx7G1FvQhlx/FqdJ5TvjGMUHkfvEZTBffQueGem+KZ//CljzTudPm7m88TqwuprHF5Hd+1Pg37n/pq36rmzxpfYTk4mWm3Z/J5ZnYomI+qR5AKAFRhsezqTOtqqzpelCCbquo1TIIFOOqZOsHc1Mp72u40KPD9G5nPbs0ewG5Qs7OG1O26hUZlxGPWumulQ7h1TWh0jbSunXds0mldmsc/GDgpVr7mXZvwBWaZ+P3tazyG2i541fmrba0zpXX9I6gFWseb0EsMqajgFso4tbBLDKRfJ5iwD2xTJi938Pye+eQemfzyD3Nz/F2OorEKoFsIr6LgNYGjw8E0tENA9mpQxD88P1Zwi7UA9pKqGsbtTSfAiq+7w4ehgcZgVl3fV3WvtO2ocO+2+8EhEJ85kzKGMYgff0Ghi7TD2PwvefQkmd7b16GOGProO3OdglWsbanYllEEtERERERETLDi8nJiIiIiIiooHHIJaIiIiIiIgGBoNYIiIiIiIiGhgMYomIiIiIiGhgMIglIiIiIiKigcEgloiIiIiIiAYGg1giIiIiIiIaGAxiiYiIiIiIaGAwiCUiIiIiIqKBwSCWiIiIiIiIBgaDWCIiIiIiIhoYDGKJiIiIiIhoYDCIJSIiIiIiooHBIJaIiIiIiIgGBoNYIiIiIiIiGhgMYomIiIiIiGhgMIglIiIiIiKigcEgloiIiIiIiAYGg1giIiIiIiIaGAxiiYiIiIiIaGAwiCUiIiIiIqKBwSCWiIiIiIiIBgaDWCIiIiIiIhoYDGKJiIiIiIhoYDCIJSIiIiIiooHBIJaIiIiIiIgGBoNYIiIiIiIiGhgMYomIiIiIiGhgMIglIiIiIiKigcEgloiIiIiIiAYGg1giIiIiIiIaGAxiiYiIiIiIaGAwiCUiIiIiIqKBsWpaOO9n7exZw3lHREREREREF5K1azXn3cI4rU/gWt+IM1U3ryCWiIiIiIiIaCG0C2J5OTERERERERENDAaxRERERERENDAYxBIREREREdHAYBBLREREREREA4NBLBEREREREQ0MBrFEREREREQ0MBjEEhERERER0cBgEEtEREREREQDg0EsERERERERDQwGsURERERERDQwGMQSERERERHRwGAQS0RERERERAODQSwRERERERENDAaxRERERERENDAYxBIREREREdHAYBBLREREREREA4NBLBEREREREQ0MBrFEREREREQ0MBjEEhERERER0cBgEEtEREREREQDg0EsERERERERDQwGsURERERERDQwGMQSERERERHRwGAQS0RERERERAODQSwRERERERENDAaxRERERERENDAYxBIREREREdHAYBBLRESL7oUXX3Te0YWKbYDYBhYey5hWKgaxRERERERENDAYxBIREREREdHAYBBLREREREREA4NBLBEREREREQ0MBrFEREREREQ0MBjEEhERERER0cBgEEtEREREREQDo39BrGlAL+uoGKbzwdIxDR1l3cDS54SIiIiIiIj6adW0cN7PkY58Mol0seJMA1oggng8hoDmfKCCyooHPr8XHuejBVEpIDWWQqGaFS2ASDyOWC0jRES0HKg/wH/lFVc4U3QhYhsgtoGFxzKmQXdan8C1vhFnqm6eZ2JNlNJjSBshjGVyyOXklU0hphUwlsyjGksa5SwSiWJtemFIMJ1KQQ+OIaPykcsiHfUgN5ZBkadkiYiIiIhoiVlXjBYLyEuskslkrFc2l0ehWIa+DK5oHRTzPBOrIxeJo5zIIBF0ne2slJAvGfCHQtDKeeQLeWQLGsKjQfj9IYR8zvlYs4KizCsWDWjBIEKhIKqzjJJ8bvgRDEigrCrW0BAKRxDytzmrapSQSeXgjY0h7Kt+VkQyloRfPo9UPyMioiXHswPENkBsAwtvfmVsoJTJoeRMzV0AkVgAC3JdpFFGIV+EPtfYz+NDMBxCu/Cir1ReC6Xugepi5mkAtDsTO88g1kBhLIaUGcVYIlq/fNhFBaMtg1gJMFPxJMr+CKIhP8xiDumSF4lUHCoe1nMRxEtBBCUNbzAArwTGuVwZ/kQKcXfA3ImeRzxeRCQzhhAbAhHRsrEwg9e5DLgWcHBV0zlfHq8fwWAQvmVxnOpWhv0rLwYwNPc2UG2ni7H/zp1ZqcDwaPBqC3ozXUcrO4g1UM7lUDScybnSgohE/Avajgy9IPGQbj2vx+MLIBjwS5/f2C6sM7SlIkpWRO6R+CeMMCPZhQpihVlGLplCplSBJpUSCEiQGglKQFuvGKOYRCzpR0oC0+oJ0XI2hkRlFNl40LlP1kQxFUXaJ2lFfHYQmwkikUlYQa1iFMYQy/iRzEThtz/qQEcuEUcxmEKSp2GJiJYVBrHNNAQikZY/Bi8uBrG0eOYfYOnw1drjXAOuBeoDKkVk82UZ3XoQCEcR8C5N/voTxLbLw3znz9dcy7TZQuXPZqirUosVmB4vAqGQtIXOP2qYlZJ1xrZieuALRepXsF6gFuieWOHxIzKWRi6TwmjED4+exVhsFGM53VmgFR3lvCGVKO/KZZStlyzv9f//27t/2MbRM4/jz+a8CXfXQbiA78BigjDBFCymUDGFiilUTKEihUqXBoIAG6TZcrpMuvxpFkiKLV0FApJCxRYqriCCKVhMwcIFERgJN5mCuFsgPOzsLrHrIPc8JCVRsmTLtmSL4+8HEGyJEvnyJW3xx/flS93Qme6Ste58U7qrAbmTR5JeNOtSKuPnz2XkPZNnBFgAwM7wJOh2y5bX8hH49YlcPRgLk9n3H3DLijSU8II+mZdNB7BEroG0DLC+9Ab9SwOscbyO9Ac98Z1C0nAsMV8MS21gdOLzqpbXQj6su/Geb4mtrqUNe4fnm8k1FPd6vmTWEps8k+Nn3dmZkbWucc0l+uhD+TgfyPPns5ZfANi+XNLUEf+enDUt0lQK37/W2evba4Vrnqnf7tn21S4uQ56MZFT2h9ODnEM7cKlev1uZxEM9eLLMsqWudhvZB/JUoiiWNFu8rd6knpe11Djier50bqUL96qWoovKZ253X7WAOiq7OnrS1QPtcz0Y80TGIxugc7MtQ5ttid09b0534lX7402n39Sqv5+r2l75qu7O1+xpowF4NIolv4XuzrtsOy2x5S1tnst4oWXU9Tr6VZxKvvLMgf5B28WuQVf6/f78QwPs9E+92SprskQi6ek/g/r5OVWA/VVGgAVwN/JwtLy1wu6lnUYSjscyGlajER4PRzIehxJpGLzbAQlzyVaVLVletuqgl9PDb6w0qQKs8jrXO1GxbXaN2XAU6qHCVe8LX0iuxxPhaKh/q+zD0wBrXR2XBVjjBtIfdMQrW4ZW/I+7dRoMdjjAGsfz7jTA4o5ladWKapdb1jtqnuj/rWP733P+b8j+FstpSf1/ydXPWZjRMJtu9xYvrXSzEOv5EhSxfPzxx+UXQVHYF0NUboA0OKwqXjmObblEEntP+Yr+49HAmuvB0miyoXQDDZ8N5MO5RDzSA6lYD6AKPf7T6ccjcfu9FWcy6gAb+nJ0GEgx7aZsw1XXbwGArVs8yMsl0edDDYVhqP+P7Mz8ZJIG20y/5JJQDyKHQxlHGhjrSbdDg3U0Lv+3jleVLarKNmp0dZ212twVO/teh+2VD/3uqN+9W6xes+kj1QOacDIqie9rSKh+vVu6D9slPiX9nt/FngXWRa8MXtZF70iOjhYfk3BjQWfJ9GlXvfBed9WbC7B6XHZhS5EeUPf7uxZkgd2VZ3H5PRkEk2Y1+8617077G1q8fMSOFeppjWMBP7BRgIryZB3m3fCaWF/6zz+SD7xEjj88ksPDQzn64FcSOofy0fP+tCXU6fTlg24qH+t7ntUh1el8IL86ciX81ZEMBgMZHH0kSfBMnk/vj6M0CPfdsTzT+R4ePZfQ/UCef9CZtdQ2lcNW2waO5fj5M3n2bPYYToIyANyK+iAvjmWs4TWansBzxPWrkWgnj8B36/9phWQaaEbD8HZOvFn3QAvWSbZW2fI00rKNJY7vOsC2XSrReCzj+hFODla8jgyaPZHuUp5KXJ/1d2wEzerXnZIldpLCLW9Dca0uwa6G375drpRLrH8D99GVAuzEzgTZ5omsXT1hpXVsJ6vutpsN7ox+b5Y7pv4P9coXlCt+19P/847+XOzhYtPsO8BGJW5MswZD/VHozNiT5m3wmthCCqtdx6r/aqwF19HPNZWjE0+vibXzElefLwDcrlXX59gXVk+6gX15LWMBNpJoEmiuclB5HZPrbMon9sVpAwxdXDYLW+e/QK9/HdFmrtO6yKRszfdu67qny6xTXj1w6fSlv7WNvr4sHsq4uhhWuoPB1u5VeP19QOtzqPXpLF4ndlk9L27/+nq1Ql8/3NZ+sapMy/bPpu3uq9cKsE36P2Q8vvnoqTe9Ltpu4xi79a0bL93+q2yprt+o0Ylvalv78y6Xb1K2m857U/Npr+2NTjylIfMaAdYsBtjzCLAA2svt9qW3MiQaDTBBTw/I60F9ikzisQ2isg2ZRHrwWYVlG0hID0DXKFt/3ftz34pmF9GBfrVP2Jf85PVd/bJfGJ242xG/7ENcaHgcS3TnjYJ2n8L6dIWNb3Efj5jQChbEI+ne+9uPYE3lpQe7MnAeNmEroxNvQjp+LsfZQD68p2cdALTRqrPCV2itKFIJrUux/mqXYhzavcg2KIuGMk4spKw/Eu7qa2Cvf2b4pi0wM806X1aey6bfhsvKoNv8uNrm0hnI0R22xhbpWIZhlaT93pHus+WvW3GTfSCLjnU/vmFLcZ7IaBRJHvTlqLvZv7Ol9G97rH/bVruOLvNwcZmT8uivS6dv2LVbYzfUCmtu1Bp/53/Xl2N04sum31RzP5hwxPNdydPJpTKmMTrwXE+kiW2Uz7rc2wBOgfSPunL9v+ZMouOxJH5PDnflkpNbdgstsZvl95/L8x39pwQAV3OF68ccX7q96uuuiGPZ6CVnehAdlwFWxOt1bxhgsTmN3kbldTl3JZd0djGsTMci2UFeYMcHuUTja15DnqcSji0w6sFtcAsBVmXxpHfF8mVW1/kaT7obPnm1jKMHxeV12GXPjzXvRbnBAHszzd4Yu3usyOjEt8+1yzJ6zUszbF9tnKRxO9K7lROFjrjltrdBE6tXymOBcXMAwhWPceM71wZYtJ/uZIwKTOxsiAWAN8v6QdYph+P3Jejpwdkmv7UcPfDrBeKXw/ZfPmMC7DbMj06cpTbQU1gdpChv9T3ktsRaMiYHT3Y/w/rlQsNK+dqODppjB6JlANMwOpqUv/mYlLu5fo3HSMNvGcRW3fFgwxonkJyge771eG5659a6PF4pyO5MgAVWaARUC7O2jzp+V7oL+2o1rX6yRa4XlMEzmY72Xv3PufBPx7o9N1pc08S+HRzp3Pp3w+7b2e7EAIA31/3tTnwBPQAbDG67fJeVbXt1tpF9IE8liuweiosjd07KvWz9HD249KXT7d7aNb+zbvzLu0BfNn3bZiesPF3+knvF2mjmI2tJ3myApTvx9t2b7sRLr3m9YGDY8gSYncyyJ9srXzl4XN7ozly+bP+3Ikmy+f9ajoZeGyth+n9p0vXZXRzEbrN++tOfyve//335zne+I//617/krbfeEouH9vPTTz8tb6V6l1Z1JybEAgBuHSG2yQbP6ujBy/YOUla7rGzbq7PN7QPYBAuyFw2UdNn067jZPmAjp8cSR450y330sn15lS3t42/U6MSrynDT6Tc1mf9CSFzX9PrYbZVPTZaxLGTnuWT1JSSO41mP4ZnykgcL2ddctyv47W9/K3/84x/lF7/4hXz00Ufym9/8Rv7+97/LO++8I//4xz/kJz/5Sf3Ou0GIBQDsjPsVYrEMIRaE2HXcrHz3I8Te1LbKV5n2dLBB1OwShnJE+tWKLJYwvL2u+7/+9a/l97//vfzoRz8qW2N/+ctfyh/+8IfyFqidTkd+/vOf1++8G4RYAMDOIMCAfQDX3wea4WW7AeQm3pzuxDe1vRBbddetn17XlrvrmlyD7LgeY8LGveh2bHyK+f2iyO0WZ5HEZR9nC7B27e7292xrebWxAv785z/Ln/70J3n8+LG8evVKvve978lf//pXWmLvhO0MuSvBfbrR3cbWOZc0ycUN/J38YgDQbgQYsA+AfWD73uwQq/KkHGn82iP52x0B+r3buQ7dyhrGkuYXF9Zx/bLF9raujf/Zz35WtsI6jiNnZ2fyrW99q3yYv/zlL/K73/2u/P2ubCnETu6BVD+tnbsw+U7UZcv0D+fQ/nCqP8S8d7j1Zvl1WfeCYehu8A97cZ1vII9lOIrF26H6AvDm4OAV7ANgH9g+6nj3WItrmujDRqivA63jeuJ5vviBPu6w5X4XbTfEun05qu9pVuS6QZJIwkS2fiHy1dyHEAsA7cCBFdgHwD6wfdQx2m5ViP2P56r+/RrOJE9PJHUeTS9S3nP2xX0QiFfE8uJ0X4KHruyVU1TZ1zuWl6eZfnJfDpb0BT+tp7/WT7nu/uyzqshSOTmJJdbpe86BuPuTqdb1NZVib19epy/l5cvX4j48EE3TcvrZXr2cQrI4kcJ/pGU71fecyKtcy+u6Mp1NSd+n63Si710+fd7qMtdl2j+Yfb7IJDn9TPYOqhsWn+lnT1JHgo4jWRRJdK5ebNCCU/lM10uyU4ljLbPG3Qc2va7Lk1eFiC5j8pFibp3LV+r1ieU0O5t7r7lS+cvXtP5fnko5q31dj7lptg0O5CzT91j9lUXj5swAzvvyq6/k3XffrZ/hPmIfAPvA9lHHaLs8/z95f27o5krV4XkLvCDQ4JXK5BZIZatjeY8xv7xeM4tHMmzcRL8cuWsUS2b9wHV6Ho9lFGX1VF2B8v2J5I4nvltIEg5lNLkrd6EBykJgOJY4c8SrA3WR6Wvp/L3jbL5hUojrueX08fQeUSaXeDTU6bm4vq9hN5FwOFp58+8Ly1yXae4WUBpioyiV+a7wNoS2vs/V9XIKicPRbL0sgOo84jDU9ZIyfKY2XZ+HthzboHlcfX7yibl1nqyPbQ+7eXoq0WgkunqlK5Xf7qeldWGTPd8TR4PqaDSezmtxG1RFm9x3DgAAAAA2Y2shVhxX4+oksGWSaHgrr6/s+uL7QXmvJC+NpiEoSzXsdLrSCzQ8ltMH+nudujVARXEhgY3S1Qkk6PSk3+tokEqm4c04nX75etBZPRhR7naq92io6/X70rVgVxei0PLE0pW+XeCtIdbv6vy6InG8PIhdWOYrCHQ5XQ39Qbcnhz1fw188f4G6r8voVtP7XQ2b1nqrBSvXodcVX8N2NgmTTbnWe+5JV9fX9zQka/0M7B5VdRGvUn7rIp66PRno8gIta8eG/PY0lGvdNDm6bcqyltso0NQ9O5EBAAAAADe1vRCr7N5YJQtThafBMpPMLmIuH9aQWEheN0t6Ghqd2FoYE0k1kRX67smQ5NaNOBMNRtVltxVPw6gGubmXmv1kV/D95id0Gb4jRW7Ls263Vihb3qycVg5ZaM2duKjM69MA2cyNdlH3NPxX3MY8Hcfe7KzXRdf1JHA1aFpLroZJXU1x3Fn33vXLn2uILcTTDdCc6ltru9ZZ80TC3OedtUoJAAAAAGvbXoi1AZ40Yk4yjYXEXFPU7KERN7ARjKs3OH5PBgMLpdZqO5bh8VDGq/rx3oANH91koc4S4zQzFs0y6kNL1O3Oh7eJjZR5MTRq+eyVYiOtl650BofSCxzJk1jGo2M5Hs66T1+p/PqZc3VQ1qXW3UbKCgAAAACX21KIzSWJEw2pgZQDAZddi63lLyi7ojYfk66txu6LVHaZ1eB12NNoVXerrVoPs4VrSXPJytbDq8k0mDaVra+eq3HPruPUwjreuTIGCy2QTavKvNSytKdhf65EWr5MS7OYba/P0XrvSq8/kMOjgXSctLzmd2K98mvd6AZcrLs8S8vW3s2VFQAAAAAutpkQa62uky64qd10eCxR7ku3vu2O3Ug4CAqJo3g20JMNDHQ8GWSokHR8PD/QkwU+a5W0gGQDD1m32MmgSDaIUDiWcWTdfa+m0JCWVDOR3K6BtetL6y7Grt8RN43LgZEqtpyhHC/eCLd0SZk1uFs34bi+qXFhNzjW8p/jWCuorpf9XmRaR5HkbjDfxfi6tI6HdpPqSX9frTcrYhU6Lyn/HKfqOhxrfdUb0EY1juNcvAuuPwYAAACATdvMLXbSV3J6elo9stcaBh9L72lHvOntV0T2HzyQ/VexvHgRyUsNkievRPwnT6VTvmlP3AeevD59IeGLlxqONGh+diDd/pOqJVdD1EHgyVmi0yOdfpJI5jyUp7qMA/v4mYbNk1ScQJfZCGAWlJPCl0e+3ean0EyXyMHTnpy9/ETGL3Ra+lq8bl+eTO4b6xxI4BVy8iKUFy+r28Rk7mP5ce/hkpbYNcqshckTK++JnOYP5MljV5LTQvxHGvy03OUtds4eydMHaTlK8suTU8n3g9l61WW22wL59gE1uy1P3Tq8sO5z67zvyQMNyXZNrNV5fJLJ3sOn8rRzoKW/pPyLdbr/QB64GrJfvJBI6+YkycR9/GN5+nDfSrF8G1goT2brCwAT3PYB7ANgH9g+6hhtt+oWO2/9W9W/AwBwK7gBP9gHwD6wfdQx2u5v6afyQ/8H9bMZQiwAAAAAYOesCrFbvcUOAAAAAACbRIgFAAAAALQGIRYAAAAA0BqEWAAAAABAaxBiAQAAAACtQYgFAAAAALQGIRYAAAAA0BrcJxYAVjg7O5PPX7+WL774Ur755pv6VQAAgPvp7bfflvfee1e+u78ve3t79avbs+o+sYRYAFjCAuz//O//yjvOO+U/629/+9v1FAAAgPvp66+/Lk/uf1V8Jf/1n/+59SC7KsTSnRgAlrAWWAuw77/vEmABAACUHRPZsdE777wjn3/+un719hFiAWAJO8toLbAAAACY996778oXX35ZP7t9hFgAWMKugaUFFgAA4Dw7RrrL8UIIsQAAAACA1iDEAgAAAABagxALAAAAAGgNQiwAAAAAoDUIsQAAAACA1iDEAgAAAABagxALAAAAAGgNQiwAAAAAoDUIsQAAAACA1iDEAgAAAABagxALAAAAAGgNQiwAAAAAoDUIsQAAAACA1iDEAgAAAABagxALAAAAAGgNQiwAAAAAoDUIsQAAAACA1iDEAgAAAABagxALAAAAAGgNQiwAAAAAoDUIsQAAAACA1iDEAgAAAABagxALAAAAAGgNQiwAAAAAoDUIsQAAAACA1iDEAgAAAABagxALAAAAAGgNQiwAAAAAoDUIsQDQZkUmWV7/vqYiSyVJEkmyon7lzVJkmVyxSrAB+VV3xKXyK+/PAID7hxALAHeukDQ8luPj+cdwnFwaxrI4lDDJ6mdryCIZRZk4riue6+iiUwmPQ0k3mGfz+FjCTc7wSjKJw1ADev00j+U4TLWGMZNLvOFtLnki4Vjr/YYBNE9CGYeX7/cAgPuNEAsAO8LvHcrR0dH00fcSGccXB1SveyiHXa9+drmiKKTwA/E9TyzDvnk86R4eyhWqBJvgBjI4Gkjg1s+vyQ0GcjQI5IazAQC84QixALCjXN+XIs3rVqlCsiSVvMglTSIJo6xsXSyy892CrbtwHIX6nljSxrQ81ffq/HRGZXfi872Jbd66jPrZRL5kGU1FnkpSLi8Rm/15WvY0ligMJYrTJcu16bpO42r6uVnU8x+HUVX+KSuvdR3Wnza9bAa0elqxbkvnUVu5jEXr1dGqbbC8fNV6TF6ybZrmRbm9Ii3P+XWpTOp9eb0slLHIlq5XPqn3xffbvK1fr/6Mw7Gux2S6zVs/o8ucX6/FZU7Kb589v1+sLLu9vvjmles5qSv9Rd9TLWvZ/gUAeNMQYgFgR+VZJo7v1q1SGn40DEQainLHlyBwxRpSiyySqHHUnidjGcW5BuBAAv1sFo+mXXutC7Frza+O/dTPn2uJ1dfyUDRHNmSShql+ZHmzbZGGMgqtnLY8R/JYPz+XM3JJxiN9zRU/CMR3M4lHza6sOn1k0z3p9LoS6PRwpOtYT7X5D8daIC+QTuCLpGMZTlqnLdBrfURhLIVN96ymrJ4Wgl9hAScRLYDOw5OirqOJchn1Otj0uWWcc3kdLW6DXLfBbHnLymfr0QyxGtb0PXHulHW2tOqtW3hZ5o70On65TtMu3OX8NFDOLSOTSNPe7KWiDPWJ6L7UCcQrEhk3691CYaJ1W1Z9R3wnlpGG3VDXU1es3NaJhsbZas0vM4t0v8u0/J2edPxC94HGNr+g7OVyG+Wc3za+OJk9n3UPL+vKutRrsfyynInuP1q/9XQAwJuJEAsAO8Kubx2Px9VjNJQw78ig0+wXm4kbWCjwqutZz0kljl3p9fVg3tP3eL50+13RNFIe1Dtu/Tn7ad2Jqw/N8TQspGnjGlIN0omrIWdphtVpUVEuY7K8Ti/QoFFPNmkssduTvoYVW6bnd6Uq0iyIZnkgXZ3uaqp2dfpAy1+VTYORpqROv6ehqSpz0OtL1ymmYctYUCqnr+qDqonR7zbKqPPzkqgOVbaM+XWwZXS03LOgPe/COtLAHEeOzm+2DeaXt55M52cBz9OVWlb11vLrdWwZOl23Z6c/kK4Gy/VpaNa67tb16nf60vMSDZCNQhZa9nq7lWE0y+tl6mc0gHYDDeRzSXlCt2miZbLP6v7meh3pD7R+6+KtX/Zc9y/d/r3JttFydHX7FxpcG/tY5kzqqipnV9cjJcUCwBuNEAsAO8Ja7jp6cF8+LHTloYSNFkNzvvW0QcNUaklOf2bTh4aMQgPLugHKQlc265KZWeCwFrDq6TydaeZY+KyflzRI+PWvKtN5VUVqlKksUlGFQMcGmIplHFq327oFbjI/a90TDYdz4dRadHWZ9TN784V1YtxlZdRyWNWWy9C55Y3yWTk0iZfTl7mojnQ+qVbA/CW5jeWt65KVcr1AMuuubF14yyCp9VBNWpPW48KJEE/Lbes+dW6GGjobr1kAXR5idZsGmVj3cev+WxVv9sG1y24nOMSCcP28ZCc6HEnzZjmbn9bp+n679hsA8OYixALAjihbSusWp0kLnnuFFrzywF0P/HM9wJ89NJx0V4TQpTRwaQCpru/U4JXMh9I5tiwNEIvznmUKDaplkRbKpMuYtby5EgwOpW/dblMNs8PjWXfRFfO/Mg1ry8o4rS9d2lz5NFg5fndF67NZXUflPK2rdvV0arq8TfG6cjjoaMTLJI7GMhw2uvauZT6QlqpCVnV/Qzbg2KCjlZLFEo2HMhzPuiqvXXbbNtZaWz+dcBzdVzZYlQCA9iHEAsDOcjXMZmsfsNs1r04ZsAIJFh6rA9l5rt+RwgZMssGJ/EDDxgrWipot3pNVA+G0K6e1iumCrYvuuTJ5jXBirWsa2rs9GRwOpFOEUl6SqqHetxbP6k3Xly4rY102W4dca+1c+ez63frtS6yqIzsR4V60PFvXTY2c7Ni27kqvP5DDnivx5NY0awV/rdeF4Fjohqv2oc1wbLvrNu0PDqXnxhI277+zquxNtv3P1aU1dqfnWpEBAPcLIRYAdpIGH7ueNOssdKe8gBtIV6L56xrzWEaNAXvWouEhKDR0RGl5/e1K5QBTqUSNZrQi1eU3FuZqUJFovjV5bqAjLd9wrnzWeqshrMwoFnQyiZvNdDYo0OiK9xF17FrhxhKsjEWnCqlL1sGuaw2Hl9xHdVUduRrGHd1ujQ/PLU8jouM5jdGIbUCkqw5EZPcVHs7di7dqAZ6EVzv5kUo6Gcm3sBbPpPp9SssQN+rdBr+KCl2XdXe2C5yrv6pF3q55tt8vLnuTbf+FbaP7S5QG5cBSAID76z+eq/p3AEAtz/9P3reL627FmQbWEw1a9tAAVD5ONdh40n2qIXbP3lNIFmsQCfR54/i9yGJJxEbmtRf3xH34QIr4E/kkOpX0JJL4lSOPel15UH/mLE/lpPDq95cv6PtycR/54pbLMY7sa/B7mfrS7TZbTM/bf/BAJBnXy4vl1f4T6R4k8pnzSEObznDPlYcPCok/+USiU112pO/Rab3ug2q+jicPdA3Gn0Rymp1K/OJU9jp96dYFtvk7id1eJZaT5KWcZPvyuPe4qoOlZV+oJwtwrx/KUy+R0TiWU62Tk9ee9LReD+rPlMvQoDn+75dyqtshOnktXu+JPJrNdIlVddTcBieSnLyU5LUvvR8/koP6HfvugeS6TuGLlxInhfhPHsmZ/vQ61Xzmt+kyugzvQLKXY3lx8kpO4xflOj3V+VRF1ukHGlJf/LeEL3Ven2mddQ70p+4LGlL3yjp6LQ+fepKMxhKfTtb5qXTqSin3k9yt32/sM5k4jbqe25ea28Jatw8yeTnWcr2ybXoir72n8uSRzevisi8ut7ltyu2v+/Pjp0+m+/OyurLXssn+BwDYmts4Vlq1jLf+rerfAQC1v6Wfyg/9H9TP7p8iHcu46MoguK0g3z7UEQDgPruNY6VVy6A7MQBgnrVexrKZrqVvKuoIAIA7Q4gFAEzlqXXdTcTp9qb39cQ86ggAgLtFd2IAWOK+dycGAAC4CN2JAQAAAABYAyEWAAAAANAahFgAAAAAQGsQYgEAAAAArUGIBQAAAAC0BiEWAAAAANAahFgAAAAAQGsQYgEAAAAArUGIBQAAAAC0BiEWAAAAANAahFgAAAAAQGsQYgEAAAAArUGIBQAAAAC0BiEWAAAAANAahFgAAAAAQGsQYgEAAAAArUGIBQAAAAC0BiEWAAAAANAahFgAAAAAQGsQYgEAAAAArUGIBQAAAAC0BiEWAAAAANAahFgAAAAAQGsQYgEAAAAArUGIBQAAAAC0BiEWAAAAANAahFgAAAAAQGsQYgEAAAAArUGIBQAAAAC0BiEWAAAAANAahFgAAAAAQGsQYgEAAAAArUGIBQAAAAC0BiEWAAAAANAahFgAAAAAQGsQYgEAAAAArUGIBQAAAAC0BiEWAAAAANAahFgAAAAAQGsQYgEAAAAArUGIBQAAAAC0BiEWAAAAANAahFgAAAAAQGsQYgEAAAAArUGIBQAAAAC0BiEWAAAAANAahFgAAAAAQGsQYgEAAAAArUGIBQAAAAC0BiEWAAAAANAahFgAAAAAQGsQYgEAAAAArUGIBQAAAAC0BiEWAAAAANAahFgAAAAAQGsQYgEAAAAArUGIBQAAAAC0BiEWAAAAANAahFgAAAAAQGsQYgEAAAAArUGIBYAl3n77bfn666/rZwAAAJiwYyQ7VrorhFgAWOK9996VL774sn4GAACAiS++/FLee/fd+tntI8QCwBLf3d+Xr4qv5J95TossAACAsmMiOzb66quv5Lvf3a9fvX1v/VvVvwMAGs7OzuTzz1+XZxu/+eab+lUAAID7yboQWwusBdi9vb361e35W/qp/ND/Qf1shhALAAAAANg5q0Is3YkBAAAAAK1BiAUAAAAAtAYhFgAAAADQGoRYAAAAAEBrEGIBAAAAAK1BiAUAAAAAtAYhFgAAAADQGoRYAAAAAEBrEGIBAAAAAK1BiAUAAAAAtAYhFgAAAADQGoRYAAAAAEBrEGIBAAAAAK1BiAUAAAAAtAYhFgAAAADQGoRYAAAAAEBrEGIBAAAAAK1BiAUAAAAAtAYhFgAAAADQGoRYAAAAAEBrEGIBAAAAAK1BiAUAAAAAtAYhFgAAAADQGoRYAAAAAEBrEGIBAAAAAK1BiAUAAAAAtAYhFgAAAADQGoRYAAAAAEBrEGIBAAAAAK1BiAUAAAAAtAYhFgAAAADQGm/9W9W/X9k//5nXvwEAAAAA7pP333fr37bjb+mn8kP/B/WzmRuFWAAAAAAAtmFViKU7MQAAAACgNQixAAAAAIDWIMQCAAAAAFqDEAsAAAAAaAmR/wewFZE0UrdNwgAAAABJRU5ErkJggg==)"
      ],
      "metadata": {
        "id": "LfLgqeUOffQX"
      }
    },
    {
      "cell_type": "markdown",
      "source": [
        "Pronto se tudo estiver certo, você irá ver na próxima tela sua pontuação e rank."
      ],
      "metadata": {
        "id": "5I1q29NwgoBP"
      }
    },
    {
      "cell_type": "markdown",
      "source": [
        "![image.png](data:image/png;base64,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)"
      ],
      "metadata": {
        "id": "dvJtWH96gwKn"
      }
    },
    {
      "cell_type": "markdown",
      "source": [
        "### REFERÊNCIAS"
      ],
      "metadata": {
        "id": "-12r39g_YwtS"
      }
    },
    {
      "cell_type": "markdown",
      "source": [
        "Conjunto de dados Kaggle: https://www.kaggle.com/c/spaceship-titanic/data"
      ],
      "metadata": {
        "id": "S6weRLQkZ6sy"
      }
    },
    {
      "cell_type": "markdown",
      "source": [
        "Como usar API do kaggle: https://www.flai.com.br/renanbispo/como-utilizar-o-api-kaggle-no-google-colab/"
      ],
      "metadata": {
        "id": "oga21q9SY1KM"
      }
    },
    {
      "cell_type": "markdown",
      "source": [
        "Conhecendo o Naive Bayes: https://www.digitalhouse.com/br/blog/naive-bayes/"
      ],
      "metadata": {
        "id": "QPEY2MWeBm4X"
      }
    },
    {
      "cell_type": "markdown",
      "source": [
        "Conhecendo o Kfold: https://drigols.medium.com/introdu%C3%A7%C3%A3o-a-valida%C3%A7%C3%A3o-cruzada-k-fold-2a6bced32a90"
      ],
      "metadata": {
        "id": "MQdpnDIoE5y8"
      }
    }
  ]
}