{
 "cells": [
  {
   "cell_type": "markdown",
   "metadata": {},
   "source": [
    "<center> <h2>UNIFACISA - MACHINE LEARNING</h2><h3>Aluno: Adolfo de Luna Matias </h3><h5>Data: 23 de novembro de 2019.</h5></center>"
   ]
  },
  {
   "cell_type": "markdown",
   "metadata": {},
   "source": [
    "Irei a partir da base de dados do titanic aplicar 3 modelos de aprendizado de máquina para prever possíveis respostas as nossas questões alvo, seriam eles: \n",
    "- Regressão Logísitca;\n",
    "- Arvóres de decisão;\n",
    "- Floresta aleatória;"
   ]
  },
  {
   "cell_type": "markdown",
   "metadata": {},
   "source": [
    "<h2>BASE DE DADOS TITANIC</h2>"
   ]
  },
  {
   "cell_type": "code",
   "execution_count": 1,
   "metadata": {},
   "outputs": [],
   "source": [
    "#importando nossas bibliotecas necessárias\n",
    "import pandas as pd\n",
    "import numpy as np\n",
    "import matplotlib.pyplot as plt\n",
    "import seaborn as sb\n",
    "from sklearn.linear_model import LogisticRegression # modelo de Regressão Logística\n",
    "from sklearn import metrics # s métricas de avaliação\n",
    "from sklearn.metrics import confusion_matrix"
   ]
  },
  {
   "cell_type": "markdown",
   "metadata": {},
   "source": [
    "Particularmente prefiro retirar a base não de arquivos locais, mas sim de repositórios ou websites, mas sempre baixo a versão em caso de remoção online;"
   ]
  },
  {
   "cell_type": "code",
   "execution_count": 2,
   "metadata": {},
   "outputs": [],
   "source": [
    "#chamando nossa base de dados\n",
    "base_tita = pd.read_csv('https://raw.githubusercontent.com/talitalobo/EspecializacaoUnifacisa2019/master/dados/titanic3.csv', sep=',')"
   ]
  },
  {
   "cell_type": "code",
   "execution_count": 3,
   "metadata": {},
   "outputs": [
    {
     "data": {
      "text/html": [
       "<div>\n",
       "<style scoped>\n",
       "    .dataframe tbody tr th:only-of-type {\n",
       "        vertical-align: middle;\n",
       "    }\n",
       "\n",
       "    .dataframe tbody tr th {\n",
       "        vertical-align: top;\n",
       "    }\n",
       "\n",
       "    .dataframe thead th {\n",
       "        text-align: right;\n",
       "    }\n",
       "</style>\n",
       "<table border=\"1\" class=\"dataframe\">\n",
       "  <thead>\n",
       "    <tr style=\"text-align: right;\">\n",
       "      <th></th>\n",
       "      <th>pclass</th>\n",
       "      <th>survived</th>\n",
       "      <th>name</th>\n",
       "      <th>sex</th>\n",
       "      <th>age</th>\n",
       "      <th>sibsp</th>\n",
       "      <th>parch</th>\n",
       "      <th>ticket</th>\n",
       "      <th>fare</th>\n",
       "      <th>cabin</th>\n",
       "      <th>embarked</th>\n",
       "      <th>boat</th>\n",
       "      <th>body</th>\n",
       "      <th>home.dest</th>\n",
       "    </tr>\n",
       "  </thead>\n",
       "  <tbody>\n",
       "    <tr>\n",
       "      <th>0</th>\n",
       "      <td>1</td>\n",
       "      <td>1</td>\n",
       "      <td>Allen, Miss. Elisabeth Walton</td>\n",
       "      <td>female</td>\n",
       "      <td>29.00</td>\n",
       "      <td>0</td>\n",
       "      <td>0</td>\n",
       "      <td>24160</td>\n",
       "      <td>211.3375</td>\n",
       "      <td>B5</td>\n",
       "      <td>S</td>\n",
       "      <td>2</td>\n",
       "      <td>NaN</td>\n",
       "      <td>St Louis, MO</td>\n",
       "    </tr>\n",
       "    <tr>\n",
       "      <th>1</th>\n",
       "      <td>1</td>\n",
       "      <td>1</td>\n",
       "      <td>Allison, Master. Hudson Trevor</td>\n",
       "      <td>male</td>\n",
       "      <td>0.92</td>\n",
       "      <td>1</td>\n",
       "      <td>2</td>\n",
       "      <td>113781</td>\n",
       "      <td>151.5500</td>\n",
       "      <td>C22 C26</td>\n",
       "      <td>S</td>\n",
       "      <td>11</td>\n",
       "      <td>NaN</td>\n",
       "      <td>Montreal, PQ / Chesterville, ON</td>\n",
       "    </tr>\n",
       "    <tr>\n",
       "      <th>2</th>\n",
       "      <td>1</td>\n",
       "      <td>0</td>\n",
       "      <td>Allison, Miss. Helen Loraine</td>\n",
       "      <td>female</td>\n",
       "      <td>2.00</td>\n",
       "      <td>1</td>\n",
       "      <td>2</td>\n",
       "      <td>113781</td>\n",
       "      <td>151.5500</td>\n",
       "      <td>C22 C26</td>\n",
       "      <td>S</td>\n",
       "      <td>NaN</td>\n",
       "      <td>NaN</td>\n",
       "      <td>Montreal, PQ / Chesterville, ON</td>\n",
       "    </tr>\n",
       "    <tr>\n",
       "      <th>3</th>\n",
       "      <td>1</td>\n",
       "      <td>0</td>\n",
       "      <td>Allison, Mr. Hudson Joshua Creighton</td>\n",
       "      <td>male</td>\n",
       "      <td>30.00</td>\n",
       "      <td>1</td>\n",
       "      <td>2</td>\n",
       "      <td>113781</td>\n",
       "      <td>151.5500</td>\n",
       "      <td>C22 C26</td>\n",
       "      <td>S</td>\n",
       "      <td>NaN</td>\n",
       "      <td>135.0</td>\n",
       "      <td>Montreal, PQ / Chesterville, ON</td>\n",
       "    </tr>\n",
       "    <tr>\n",
       "      <th>4</th>\n",
       "      <td>1</td>\n",
       "      <td>0</td>\n",
       "      <td>Allison, Mrs. Hudson J C (Bessie Waldo Daniels)</td>\n",
       "      <td>female</td>\n",
       "      <td>25.00</td>\n",
       "      <td>1</td>\n",
       "      <td>2</td>\n",
       "      <td>113781</td>\n",
       "      <td>151.5500</td>\n",
       "      <td>C22 C26</td>\n",
       "      <td>S</td>\n",
       "      <td>NaN</td>\n",
       "      <td>NaN</td>\n",
       "      <td>Montreal, PQ / Chesterville, ON</td>\n",
       "    </tr>\n",
       "  </tbody>\n",
       "</table>\n",
       "</div>"
      ],
      "text/plain": [
       "   pclass  survived                                             name     sex  \\\n",
       "0       1         1                    Allen, Miss. Elisabeth Walton  female   \n",
       "1       1         1                   Allison, Master. Hudson Trevor    male   \n",
       "2       1         0                     Allison, Miss. Helen Loraine  female   \n",
       "3       1         0             Allison, Mr. Hudson Joshua Creighton    male   \n",
       "4       1         0  Allison, Mrs. Hudson J C (Bessie Waldo Daniels)  female   \n",
       "\n",
       "     age  sibsp  parch  ticket      fare    cabin embarked boat   body  \\\n",
       "0  29.00      0      0   24160  211.3375       B5        S    2    NaN   \n",
       "1   0.92      1      2  113781  151.5500  C22 C26        S   11    NaN   \n",
       "2   2.00      1      2  113781  151.5500  C22 C26        S  NaN    NaN   \n",
       "3  30.00      1      2  113781  151.5500  C22 C26        S  NaN  135.0   \n",
       "4  25.00      1      2  113781  151.5500  C22 C26        S  NaN    NaN   \n",
       "\n",
       "                         home.dest  \n",
       "0                     St Louis, MO  \n",
       "1  Montreal, PQ / Chesterville, ON  \n",
       "2  Montreal, PQ / Chesterville, ON  \n",
       "3  Montreal, PQ / Chesterville, ON  \n",
       "4  Montreal, PQ / Chesterville, ON  "
      ]
     },
     "execution_count": 3,
     "metadata": {},
     "output_type": "execute_result"
    }
   ],
   "source": [
    "#vendo o cabeçalho dos dados pelo nosso .head():\n",
    "base_tita.head()"
   ]
  },
  {
   "cell_type": "markdown",
   "metadata": {},
   "source": [
    "**I - Quais os tipos de variáveis temos?**"
   ]
  },
  {
   "cell_type": "code",
   "execution_count": 4,
   "metadata": {},
   "outputs": [
    {
     "name": "stdout",
     "output_type": "stream",
     "text": [
      "<class 'pandas.core.frame.DataFrame'>\n",
      "RangeIndex: 1309 entries, 0 to 1308\n",
      "Data columns (total 14 columns):\n",
      "pclass       1309 non-null int64\n",
      "survived     1309 non-null int64\n",
      "name         1309 non-null object\n",
      "sex          1309 non-null object\n",
      "age          1046 non-null float64\n",
      "sibsp        1309 non-null int64\n",
      "parch        1309 non-null int64\n",
      "ticket       1309 non-null object\n",
      "fare         1308 non-null float64\n",
      "cabin        295 non-null object\n",
      "embarked     1307 non-null object\n",
      "boat         486 non-null object\n",
      "body         121 non-null float64\n",
      "home.dest    745 non-null object\n",
      "dtypes: float64(3), int64(4), object(7)\n",
      "memory usage: 107.4+ KB\n"
     ]
    }
   ],
   "source": [
    "#informação dos meus dados, observe que existe tatno as variáveis categóricas quanto as númericas:\n",
    "base_tita.info()"
   ]
  },
  {
   "cell_type": "markdown",
   "metadata": {},
   "source": [
    "**II -Interpretação do sumário dos meus dados númericos:**"
   ]
  },
  {
   "cell_type": "code",
   "execution_count": 5,
   "metadata": {},
   "outputs": [
    {
     "data": {
      "text/html": [
       "<div>\n",
       "<style scoped>\n",
       "    .dataframe tbody tr th:only-of-type {\n",
       "        vertical-align: middle;\n",
       "    }\n",
       "\n",
       "    .dataframe tbody tr th {\n",
       "        vertical-align: top;\n",
       "    }\n",
       "\n",
       "    .dataframe thead th {\n",
       "        text-align: right;\n",
       "    }\n",
       "</style>\n",
       "<table border=\"1\" class=\"dataframe\">\n",
       "  <thead>\n",
       "    <tr style=\"text-align: right;\">\n",
       "      <th></th>\n",
       "      <th>pclass</th>\n",
       "      <th>survived</th>\n",
       "      <th>age</th>\n",
       "      <th>sibsp</th>\n",
       "      <th>parch</th>\n",
       "      <th>fare</th>\n",
       "      <th>body</th>\n",
       "    </tr>\n",
       "  </thead>\n",
       "  <tbody>\n",
       "    <tr>\n",
       "      <th>count</th>\n",
       "      <td>1309.000000</td>\n",
       "      <td>1309.000000</td>\n",
       "      <td>1046.000000</td>\n",
       "      <td>1309.000000</td>\n",
       "      <td>1309.000000</td>\n",
       "      <td>1308.000000</td>\n",
       "      <td>121.000000</td>\n",
       "    </tr>\n",
       "    <tr>\n",
       "      <th>mean</th>\n",
       "      <td>2.294882</td>\n",
       "      <td>0.381971</td>\n",
       "      <td>29.881138</td>\n",
       "      <td>0.498854</td>\n",
       "      <td>0.385027</td>\n",
       "      <td>33.295479</td>\n",
       "      <td>160.809917</td>\n",
       "    </tr>\n",
       "    <tr>\n",
       "      <th>std</th>\n",
       "      <td>0.837836</td>\n",
       "      <td>0.486055</td>\n",
       "      <td>14.413493</td>\n",
       "      <td>1.041658</td>\n",
       "      <td>0.865560</td>\n",
       "      <td>51.758668</td>\n",
       "      <td>97.696922</td>\n",
       "    </tr>\n",
       "    <tr>\n",
       "      <th>min</th>\n",
       "      <td>1.000000</td>\n",
       "      <td>0.000000</td>\n",
       "      <td>0.170000</td>\n",
       "      <td>0.000000</td>\n",
       "      <td>0.000000</td>\n",
       "      <td>0.000000</td>\n",
       "      <td>1.000000</td>\n",
       "    </tr>\n",
       "    <tr>\n",
       "      <th>25%</th>\n",
       "      <td>2.000000</td>\n",
       "      <td>0.000000</td>\n",
       "      <td>21.000000</td>\n",
       "      <td>0.000000</td>\n",
       "      <td>0.000000</td>\n",
       "      <td>7.895800</td>\n",
       "      <td>72.000000</td>\n",
       "    </tr>\n",
       "    <tr>\n",
       "      <th>50%</th>\n",
       "      <td>3.000000</td>\n",
       "      <td>0.000000</td>\n",
       "      <td>28.000000</td>\n",
       "      <td>0.000000</td>\n",
       "      <td>0.000000</td>\n",
       "      <td>14.454200</td>\n",
       "      <td>155.000000</td>\n",
       "    </tr>\n",
       "    <tr>\n",
       "      <th>75%</th>\n",
       "      <td>3.000000</td>\n",
       "      <td>1.000000</td>\n",
       "      <td>39.000000</td>\n",
       "      <td>1.000000</td>\n",
       "      <td>0.000000</td>\n",
       "      <td>31.275000</td>\n",
       "      <td>256.000000</td>\n",
       "    </tr>\n",
       "    <tr>\n",
       "      <th>max</th>\n",
       "      <td>3.000000</td>\n",
       "      <td>1.000000</td>\n",
       "      <td>80.000000</td>\n",
       "      <td>8.000000</td>\n",
       "      <td>9.000000</td>\n",
       "      <td>512.329200</td>\n",
       "      <td>328.000000</td>\n",
       "    </tr>\n",
       "  </tbody>\n",
       "</table>\n",
       "</div>"
      ],
      "text/plain": [
       "            pclass     survived          age        sibsp        parch  \\\n",
       "count  1309.000000  1309.000000  1046.000000  1309.000000  1309.000000   \n",
       "mean      2.294882     0.381971    29.881138     0.498854     0.385027   \n",
       "std       0.837836     0.486055    14.413493     1.041658     0.865560   \n",
       "min       1.000000     0.000000     0.170000     0.000000     0.000000   \n",
       "25%       2.000000     0.000000    21.000000     0.000000     0.000000   \n",
       "50%       3.000000     0.000000    28.000000     0.000000     0.000000   \n",
       "75%       3.000000     1.000000    39.000000     1.000000     0.000000   \n",
       "max       3.000000     1.000000    80.000000     8.000000     9.000000   \n",
       "\n",
       "              fare        body  \n",
       "count  1308.000000  121.000000  \n",
       "mean     33.295479  160.809917  \n",
       "std      51.758668   97.696922  \n",
       "min       0.000000    1.000000  \n",
       "25%       7.895800   72.000000  \n",
       "50%      14.454200  155.000000  \n",
       "75%      31.275000  256.000000  \n",
       "max     512.329200  328.000000  "
      ]
     },
     "execution_count": 5,
     "metadata": {},
     "output_type": "execute_result"
    }
   ],
   "source": [
    "#sumarização dos dados, aqui atráves dos dados númericos são entregues, media, desvio padrão, percentis e etc:\n",
    "base_tita.describe()"
   ]
  },
  {
   "cell_type": "markdown",
   "metadata": {},
   "source": [
    "**III - Quais as minhas variáveis tem dados nulos e faltantes?**"
   ]
  },
  {
   "cell_type": "code",
   "execution_count": 6,
   "metadata": {},
   "outputs": [
    {
     "data": {
      "text/plain": [
       "pclass          0\n",
       "survived        0\n",
       "name            0\n",
       "sex             0\n",
       "age           263\n",
       "sibsp           0\n",
       "parch           0\n",
       "ticket          0\n",
       "fare            1\n",
       "cabin        1014\n",
       "embarked        2\n",
       "boat          823\n",
       "body         1188\n",
       "home.dest     564\n",
       "dtype: int64"
      ]
     },
     "execution_count": 6,
     "metadata": {},
     "output_type": "execute_result"
    }
   ],
   "source": [
    "#quais as colunas apresentam dados NaN?  atráves do isnull() e do sum() para somar podemos ver isso:\n",
    "base_tita.isnull().sum()"
   ]
  },
  {
   "cell_type": "markdown",
   "metadata": {},
   "source": [
    "**IV - Correlação de features:**"
   ]
  },
  {
   "cell_type": "code",
   "execution_count": 7,
   "metadata": {
    "scrolled": true
   },
   "outputs": [
    {
     "data": {
      "text/html": [
       "<div>\n",
       "<style scoped>\n",
       "    .dataframe tbody tr th:only-of-type {\n",
       "        vertical-align: middle;\n",
       "    }\n",
       "\n",
       "    .dataframe tbody tr th {\n",
       "        vertical-align: top;\n",
       "    }\n",
       "\n",
       "    .dataframe thead th {\n",
       "        text-align: right;\n",
       "    }\n",
       "</style>\n",
       "<table border=\"1\" class=\"dataframe\">\n",
       "  <thead>\n",
       "    <tr style=\"text-align: right;\">\n",
       "      <th></th>\n",
       "      <th>pclass</th>\n",
       "      <th>survived</th>\n",
       "      <th>age</th>\n",
       "      <th>sibsp</th>\n",
       "      <th>parch</th>\n",
       "      <th>fare</th>\n",
       "      <th>body</th>\n",
       "    </tr>\n",
       "  </thead>\n",
       "  <tbody>\n",
       "    <tr>\n",
       "      <th>pclass</th>\n",
       "      <td>1.000000</td>\n",
       "      <td>-0.312469</td>\n",
       "      <td>-0.408106</td>\n",
       "      <td>0.060832</td>\n",
       "      <td>0.018322</td>\n",
       "      <td>-0.558629</td>\n",
       "      <td>-0.034642</td>\n",
       "    </tr>\n",
       "    <tr>\n",
       "      <th>survived</th>\n",
       "      <td>-0.312469</td>\n",
       "      <td>1.000000</td>\n",
       "      <td>-0.055512</td>\n",
       "      <td>-0.027825</td>\n",
       "      <td>0.082660</td>\n",
       "      <td>0.244265</td>\n",
       "      <td>NaN</td>\n",
       "    </tr>\n",
       "    <tr>\n",
       "      <th>age</th>\n",
       "      <td>-0.408106</td>\n",
       "      <td>-0.055512</td>\n",
       "      <td>1.000000</td>\n",
       "      <td>-0.243699</td>\n",
       "      <td>-0.150917</td>\n",
       "      <td>0.178740</td>\n",
       "      <td>0.058809</td>\n",
       "    </tr>\n",
       "    <tr>\n",
       "      <th>sibsp</th>\n",
       "      <td>0.060832</td>\n",
       "      <td>-0.027825</td>\n",
       "      <td>-0.243699</td>\n",
       "      <td>1.000000</td>\n",
       "      <td>0.373587</td>\n",
       "      <td>0.160238</td>\n",
       "      <td>-0.099961</td>\n",
       "    </tr>\n",
       "    <tr>\n",
       "      <th>parch</th>\n",
       "      <td>0.018322</td>\n",
       "      <td>0.082660</td>\n",
       "      <td>-0.150917</td>\n",
       "      <td>0.373587</td>\n",
       "      <td>1.000000</td>\n",
       "      <td>0.221539</td>\n",
       "      <td>0.051099</td>\n",
       "    </tr>\n",
       "    <tr>\n",
       "      <th>fare</th>\n",
       "      <td>-0.558629</td>\n",
       "      <td>0.244265</td>\n",
       "      <td>0.178740</td>\n",
       "      <td>0.160238</td>\n",
       "      <td>0.221539</td>\n",
       "      <td>1.000000</td>\n",
       "      <td>-0.043110</td>\n",
       "    </tr>\n",
       "    <tr>\n",
       "      <th>body</th>\n",
       "      <td>-0.034642</td>\n",
       "      <td>NaN</td>\n",
       "      <td>0.058809</td>\n",
       "      <td>-0.099961</td>\n",
       "      <td>0.051099</td>\n",
       "      <td>-0.043110</td>\n",
       "      <td>1.000000</td>\n",
       "    </tr>\n",
       "  </tbody>\n",
       "</table>\n",
       "</div>"
      ],
      "text/plain": [
       "            pclass  survived       age     sibsp     parch      fare      body\n",
       "pclass    1.000000 -0.312469 -0.408106  0.060832  0.018322 -0.558629 -0.034642\n",
       "survived -0.312469  1.000000 -0.055512 -0.027825  0.082660  0.244265       NaN\n",
       "age      -0.408106 -0.055512  1.000000 -0.243699 -0.150917  0.178740  0.058809\n",
       "sibsp     0.060832 -0.027825 -0.243699  1.000000  0.373587  0.160238 -0.099961\n",
       "parch     0.018322  0.082660 -0.150917  0.373587  1.000000  0.221539  0.051099\n",
       "fare     -0.558629  0.244265  0.178740  0.160238  0.221539  1.000000 -0.043110\n",
       "body     -0.034642       NaN  0.058809 -0.099961  0.051099 -0.043110  1.000000"
      ]
     },
     "execution_count": 7,
     "metadata": {},
     "output_type": "execute_result"
    }
   ],
   "source": [
    "#chamando a correlação entre as variáveis\n",
    "#fazemos a correlação pois no modelo de regressão logistíca que iremos implantar não podemos ter correlação:\n",
    "#observe os que tiverem  forem menor que -0.50 e maiores que 0.50, ou seja próximo de -1 e 1, alta correlaçao:\n",
    "base_tita.corr()"
   ]
  },
  {
   "cell_type": "markdown",
   "metadata": {},
   "source": [
    "**V -Separando nosso alvo dos previsores:**"
   ]
  },
  {
   "cell_type": "markdown",
   "metadata": {},
   "source": [
    "Aqui está o sentido do ensaio, ou seja, o alvo e seus preditores, minha pergunta é baseado nos preditores:<br>\n",
    "\n",
    "Nosso alvo é saber quem sobriveu então vamos utlizar a coluna, survived como classe:<br>\n",
    "Suvived: Informa se o passageiro sobreviveu ao desastre. 0 = Não; 1 = Sim\n"
   ]
  },
  {
   "cell_type": "code",
   "execution_count": 8,
   "metadata": {},
   "outputs": [],
   "source": [
    "#separando a nossa classe pelo .iloc que faz a busca por número da coluna:\n",
    "classe = base_tita.iloc[:, 1].values\n"
   ]
  },
  {
   "cell_type": "markdown",
   "metadata": {},
   "source": [
    "Logo nossos previsores serão:\n",
    "\n",
    "pclass: Classe na qual o passageiro viajou, mas vamos transofrmar mais trede em 0 ou 1, rico ou pobre;<br>\n",
    "sex: sexo do passageiro;<br>\n",
    "age: Idade do passageiro;<br>\n",
    "sibsp: Informa a quantidade de irmãos e cônjuges que o paciente possuía na embarcação;<br>\n",
    "parch: Quantidade de crianças e idosos (pais) relativos ao passageiro;<br>\n",
    "fare: Valor da passagem"
   ]
  },
  {
   "cell_type": "code",
   "execution_count": 9,
   "metadata": {},
   "outputs": [],
   "source": [
    "#aqui chamamos então nosso previsores:\n",
    "previsores  = base_tita.loc[:, ['pclass','sex', 'age', 'sibsp', 'parch']]"
   ]
  },
  {
   "cell_type": "code",
   "execution_count": 10,
   "metadata": {},
   "outputs": [],
   "source": [
    "#Aqui estou transformando um dado categórico em númerico, o OneHotEncoder faz binarizaçãpo entre 0 e 1, o labelencoder atribui valores n\n",
    "previsores['pclass']= pd.get_dummies(previsores['pclass'])\n",
    "previsores['sex']= pd.get_dummies(previsores['sex'])"
   ]
  },
  {
   "cell_type": "markdown",
   "metadata": {},
   "source": [
    "**VI - Imputando a moda nos dados faltantes**"
   ]
  },
  {
   "cell_type": "code",
   "execution_count": 11,
   "metadata": {},
   "outputs": [],
   "source": [
    "#imputando pela mediana\n",
    "from sklearn.impute import SimpleImputer\n",
    "imputador = SimpleImputer(missing_values= np.nan, strategy ='median')\n",
    "imputacao = imputador.fit(previsores)\n",
    "imputacao = imputacao.transform(previsores)"
   ]
  },
  {
   "cell_type": "code",
   "execution_count": 12,
   "metadata": {},
   "outputs": [],
   "source": [
    "#transformando em um dataframe e dando nome as colunas\n",
    "previsores = pd.DataFrame(imputacao)\n",
    "previsores.columns = ['pclass','sex', 'age', 'sibsp', 'parch']"
   ]
  },
  {
   "cell_type": "code",
   "execution_count": 13,
   "metadata": {},
   "outputs": [
    {
     "name": "stdout",
     "output_type": "stream",
     "text": [
      "<class 'pandas.core.frame.DataFrame'>\n",
      "RangeIndex: 1309 entries, 0 to 1308\n",
      "Data columns (total 5 columns):\n",
      "pclass    1309 non-null float64\n",
      "sex       1309 non-null float64\n",
      "age       1309 non-null float64\n",
      "sibsp     1309 non-null float64\n",
      "parch     1309 non-null float64\n",
      "dtypes: float64(5)\n",
      "memory usage: 51.2 KB\n"
     ]
    }
   ],
   "source": [
    "previsores.info()"
   ]
  },
  {
   "cell_type": "markdown",
   "metadata": {},
   "source": [
    "**VII - Usando um scaler para trazer a métrica dos dados mais próxima (Não Utilizei)**"
   ]
  },
  {
   "cell_type": "markdown",
   "metadata": {},
   "source": [
    "Regressão logística não necessita de uma métrica padronizada, mas se fosse outro modelo  como o naive bayes teriamos que padronizar ou normalizar, então seria dessaforma:"
   ]
  },
  {
   "cell_type": "raw",
   "metadata": {},
   "source": [
    "Usando o scaler para trazer a métrica dos dados mais próxima com fins de produzir um valor melhorado \n",
    "from sklearn.preprocessing import StandardScaler\n",
    "padronizando = StandardScaler()\n",
    "previsores = padronizando.fit_transform(previsores).round(3)"
   ]
  },
  {
   "cell_type": "raw",
   "metadata": {},
   "source": [
    "Transformando nosso modelo de volta a um dataframe e dando nome a suas colunas, aqui o modelo já está padronizado\n",
    "previsores = pd.DataFrame(previsores)\n",
    "previsores.columns = ['pclass','sex', 'age', 'sibsp', 'parch']\n",
    "previsores.head()"
   ]
  },
  {
   "cell_type": "markdown",
   "metadata": {},
   "source": [
    "**VIII - Criando os testes e treinamentos**"
   ]
  },
  {
   "cell_type": "markdown",
   "metadata": {},
   "source": [
    "O treino e teste do conjunto de dados sinteticamente nos serve para aplicarmos um treinamento do algoritmo nos dados e posteriormente testar os dados e prever se nosso modelo foi validado corretamente."
   ]
  },
  {
   "cell_type": "code",
   "execution_count": 14,
   "metadata": {},
   "outputs": [],
   "source": [
    "#criando nosso teste e treinamento, utiizei o modelo padrão 70/30 , porém de acordo com o volume de daods pode reduzir ou aumentar:\n",
    "# esse modúlo da biblioteca é muito útil para separação e com o random state garanto uma saída sempre igual nos dados:\n",
    "from sklearn.model_selection import train_test_split\n",
    "previsores_teste,previsores_treino, classe_teste, classe_treino = train_test_split(previsores,classe, test_size =0.30, random_state=0)"
   ]
  },
  {
   "cell_type": "markdown",
   "metadata": {},
   "source": [
    "<center><h3>Finalmente aplicando os modelos </h3><center>"
   ]
  },
  {
   "cell_type": "markdown",
   "metadata": {},
   "source": [
    "**Regressão Logistica**\n",
    "- Nos possibilita a predição de dados de acordo com os features d variáveis categóricas:"
   ]
  },
  {
   "cell_type": "code",
   "execution_count": 15,
   "metadata": {},
   "outputs": [],
   "source": [
    "#usando nosso modelo de regressão\n",
    "modelo_relog = LogisticRegression(solver='lbfgs')\n",
    "regol = modelo_relog.fit(previsores_treino, classe_treino)\n",
    "regressao = regol.predict(previsores_teste)\n"
   ]
  },
  {
   "cell_type": "code",
   "execution_count": 16,
   "metadata": {},
   "outputs": [
    {
     "name": "stdout",
     "output_type": "stream",
     "text": [
      "[[457 106]\n",
      " [109 244]]\n"
     ]
    }
   ],
   "source": [
    "#gerando a matriz de confusão, marca elementos verdadeiros positivos ou falsos positivos e os verdadeiros negativos e falsos negativos:\n",
    "\n",
    "print(confusion_matrix(classe_teste, regressao))"
   ]
  },
  {
   "cell_type": "code",
   "execution_count": 17,
   "metadata": {},
   "outputs": [
    {
     "data": {
      "text/plain": [
       "<matplotlib.axes._subplots.AxesSubplot at 0xd7f05b0>"
      ]
     },
     "execution_count": 17,
     "metadata": {},
     "output_type": "execute_result"
    },
    {
     "data": {
      "image/png": "[encoded data removed]",
      "text/plain": [
       "<Figure size 432x288 with 2 Axes>"
      ]
     },
     "metadata": {
      "needs_background": "light"
     },
     "output_type": "display_data"
    }
   ],
   "source": [
    "#vamos tornar a visuaização mais sofisticada\n",
    "matriz_confusao = pd.crosstab(classe_teste, regressao, rownames=['Atual'], colnames=['Previsto'])\n",
    "\n",
    "# Gera o gráfico da matriz de confusão\n",
    "sb.heatmap(matriz_confusao, annot = True)"
   ]
  },
  {
   "cell_type": "code",
   "execution_count": 18,
   "metadata": {},
   "outputs": [
    {
     "name": "stdout",
     "output_type": "stream",
     "text": [
      "Acurácia:  0.7652838427947598\n",
      "Precisão:  0.6971428571428572\n",
      "Revocação:  0.6912181303116147\n",
      "F1-Measure:  0.6941678520625889\n",
      "ROC AUC:  0.7514705216389335\n"
     ]
    }
   ],
   "source": [
    "#Gerando os relatórios de precisões e acurácias:\n",
    "print('Acurácia: ', metrics.accuracy_score(classe_teste, regressao)) \n",
    "print('Precisão: ', metrics.precision_score(classe_teste, regressao))\n",
    "print('Revocação: ', metrics.recall_score(classe_teste, regressao))\n",
    "print('F1-Measure: ', metrics.f1_score(classe_teste, regressao))\n",
    "print('ROC AUC: ', metrics.roc_auc_score(classe_teste, regressao))"
   ]
  },
  {
   "cell_type": "markdown",
   "metadata": {},
   "source": [
    "**Árvore de Decisão**\n",
    "- Pelo modelo de árvore de deicsão são feitos caminhos em que a árvore toma de acordo com regras que ela estabelece em seu algoritmo, esse modelo é muito favorável contra dados faltantes e outliers."
   ]
  },
  {
   "cell_type": "code",
   "execution_count": 19,
   "metadata": {},
   "outputs": [],
   "source": [
    "#Importando a biblioteca da nossa árvore de decisão\n",
    "from sklearn.tree import DecisionTreeClassifier\n",
    "\n",
    "#ajustando ao nosso modelo de acordo com nossa árvore:\n",
    "arvo = DecisionTreeClassifier()\n",
    "decisao = arvo.fit(previsores_treino, classe_treino)\n",
    "arvores = arvo.predict(previsores_teste)"
   ]
  },
  {
   "cell_type": "code",
   "execution_count": 20,
   "metadata": {},
   "outputs": [
    {
     "name": "stdout",
     "output_type": "stream",
     "text": [
      "[[474  89]\n",
      " [156 197]]\n"
     ]
    }
   ],
   "source": [
    "print(confusion_matrix(classe_teste,arvores))"
   ]
  },
  {
   "cell_type": "code",
   "execution_count": 21,
   "metadata": {},
   "outputs": [
    {
     "data": {
      "text/plain": [
       "<matplotlib.axes._subplots.AxesSubplot at 0xe47ba90>"
      ]
     },
     "execution_count": 21,
     "metadata": {},
     "output_type": "execute_result"
    },
    {
     "data": {
      "image/png": "[encoded data removed]",
      "text/plain": [
       "<Figure size 432x288 with 2 Axes>"
      ]
     },
     "metadata": {
      "needs_background": "light"
     },
     "output_type": "display_data"
    }
   ],
   "source": [
    "#dando um visual na nossa matriz confusão\n",
    "matriz_confu = pd.crosstab(classe_teste, arvores, rownames=['Atualidade'], colnames=['Previstos'])\n",
    "sb.heatmap(matriz_confu, annot = True)                                                          "
   ]
  },
  {
   "cell_type": "code",
   "execution_count": 22,
   "metadata": {
    "scrolled": true
   },
   "outputs": [
    {
     "name": "stdout",
     "output_type": "stream",
     "text": [
      "Acurácia:  0.732532751091703\n",
      "Precisão:  0.6888111888111889\n",
      "Revocação:  0.5580736543909348\n",
      "F1-Measure:  0.6165884194053207\n",
      "ROC AUC:  0.699995974619979\n"
     ]
    }
   ],
   "source": [
    "#visualizando nosso modelo de acurácia e precisão\n",
    "print(\"Acurácia: \", metrics.accuracy_score(classe_teste, arvores))\n",
    "print('Precisão: ', metrics.precision_score(classe_teste, arvores))\n",
    "print('Revocação: ', metrics.recall_score(classe_teste, arvores))\n",
    "print('F1-Measure: ', metrics.f1_score(classe_teste, arvores))\n",
    "print('ROC AUC: ', metrics.roc_auc_score(classe_teste, arvores))"
   ]
  },
  {
   "cell_type": "code",
   "execution_count": 23,
   "metadata": {},
   "outputs": [
    {
     "data": {
      "text/html": [
       "<div>\n",
       "<style scoped>\n",
       "    .dataframe tbody tr th:only-of-type {\n",
       "        vertical-align: middle;\n",
       "    }\n",
       "\n",
       "    .dataframe tbody tr th {\n",
       "        vertical-align: top;\n",
       "    }\n",
       "\n",
       "    .dataframe thead th {\n",
       "        text-align: right;\n",
       "    }\n",
       "</style>\n",
       "<table border=\"1\" class=\"dataframe\">\n",
       "  <thead>\n",
       "    <tr style=\"text-align: right;\">\n",
       "      <th></th>\n",
       "      <th>Importância % na árvore</th>\n",
       "    </tr>\n",
       "  </thead>\n",
       "  <tbody>\n",
       "    <tr>\n",
       "      <th>age</th>\n",
       "      <td>38.92</td>\n",
       "    </tr>\n",
       "    <tr>\n",
       "      <th>sex</th>\n",
       "      <td>36.35</td>\n",
       "    </tr>\n",
       "    <tr>\n",
       "      <th>sibsp</th>\n",
       "      <td>10.54</td>\n",
       "    </tr>\n",
       "    <tr>\n",
       "      <th>pclass</th>\n",
       "      <td>9.61</td>\n",
       "    </tr>\n",
       "    <tr>\n",
       "      <th>parch</th>\n",
       "      <td>4.58</td>\n",
       "    </tr>\n",
       "  </tbody>\n",
       "</table>\n",
       "</div>"
      ],
      "text/plain": [
       "        Importância % na árvore\n",
       "age                       38.92\n",
       "sex                       36.35\n",
       "sibsp                     10.54\n",
       "pclass                     9.61\n",
       "parch                      4.58"
      ]
     },
     "execution_count": 23,
     "metadata": {},
     "output_type": "execute_result"
    }
   ],
   "source": [
    "#quais os features mais importantes para determinação da nossa árvore?\n",
    "importantes_arvores = pd.DataFrame(decisao.feature_importances_ *100,\n",
    "                              index = previsores_treino.columns,columns =['Importância % na árvore']).sort_values(by= ['Importância % na árvore'],\n",
    "                                                                                                      ascending=False).round(2)\n",
    "\n",
    "#observe em graus percentuais os melhores:\n",
    "importantes_arvores"
   ]
  },
  {
   "cell_type": "markdown",
   "metadata": {},
   "source": [
    "**Floresta Aleatória**\n",
    "- A floresta de acordo com um conjunto de árvores de decisões nos fornece um resultado mais apurado que o da árvore sozinha, mas isso tem suas vangatens e desvantagens, todavia aplicaremos aqui esse modelo:"
   ]
  },
  {
   "cell_type": "code",
   "execution_count": 24,
   "metadata": {},
   "outputs": [],
   "source": [
    "from sklearn.ensemble import RandomForestClassifier\n",
    "# Instanciao objeto da Floresta Aleatória e define o número de árvores a serem utilizadas\n",
    "floresta = RandomForestClassifier(n_estimators=1000)\n",
    "\n",
    "# x_train, x_test, y_train, y_test\n",
    "\n",
    "# Treinamento do modelo\n",
    "floresta = floresta.fit(previsores_treino, classe_treino)\n",
    "\n",
    "# Prevê a partir dos preditores de testes\n",
    "jungle = floresta.predict(previsores_teste)\n"
   ]
  },
  {
   "cell_type": "code",
   "execution_count": 25,
   "metadata": {},
   "outputs": [
    {
     "name": "stdout",
     "output_type": "stream",
     "text": [
      "Acurácia:  0.7532751091703057\n",
      "Precisão:  0.7095709570957096\n",
      "Revocação:  0.6090651558073654\n",
      "F1-Measure:  0.6554878048780488\n",
      "ROC AUC:  0.7263798247953346\n"
     ]
    }
   ],
   "source": [
    "#odelos de acurácia e precisao da nossa floresta:\n",
    "print(\"Acurácia: \", metrics.accuracy_score(classe_teste, jungle))\n",
    "print('Precisão: ', metrics.precision_score(classe_teste, jungle))\n",
    "print('Revocação: ', metrics.recall_score(classe_teste, jungle))\n",
    "print('F1-Measure: ', metrics.f1_score(classe_teste, jungle))\n",
    "print('ROC AUC: ', metrics.roc_auc_score(classe_teste, jungle))"
   ]
  },
  {
   "cell_type": "code",
   "execution_count": 26,
   "metadata": {},
   "outputs": [
    {
     "data": {
      "text/html": [
       "<div>\n",
       "<style scoped>\n",
       "    .dataframe tbody tr th:only-of-type {\n",
       "        vertical-align: middle;\n",
       "    }\n",
       "\n",
       "    .dataframe tbody tr th {\n",
       "        vertical-align: top;\n",
       "    }\n",
       "\n",
       "    .dataframe thead th {\n",
       "        text-align: right;\n",
       "    }\n",
       "</style>\n",
       "<table border=\"1\" class=\"dataframe\">\n",
       "  <thead>\n",
       "    <tr style=\"text-align: right;\">\n",
       "      <th></th>\n",
       "      <th>Importância % na floresta</th>\n",
       "    </tr>\n",
       "  </thead>\n",
       "  <tbody>\n",
       "    <tr>\n",
       "      <th>age</th>\n",
       "      <td>42.73</td>\n",
       "    </tr>\n",
       "    <tr>\n",
       "      <th>sex</th>\n",
       "      <td>30.00</td>\n",
       "    </tr>\n",
       "    <tr>\n",
       "      <th>pclass</th>\n",
       "      <td>9.81</td>\n",
       "    </tr>\n",
       "    <tr>\n",
       "      <th>sibsp</th>\n",
       "      <td>8.92</td>\n",
       "    </tr>\n",
       "    <tr>\n",
       "      <th>parch</th>\n",
       "      <td>8.54</td>\n",
       "    </tr>\n",
       "  </tbody>\n",
       "</table>\n",
       "</div>"
      ],
      "text/plain": [
       "        Importância % na floresta\n",
       "age                         42.73\n",
       "sex                         30.00\n",
       "pclass                       9.81\n",
       "sibsp                        8.92\n",
       "parch                        8.54"
      ]
     },
     "execution_count": 26,
     "metadata": {},
     "output_type": "execute_result"
    }
   ],
   "source": [
    "#quais os features mais importantes para determinação da nossa floresta\n",
    "importantes_arvores = pd.DataFrame(floresta.feature_importances_ *100,\n",
    "                              index = previsores_treino.columns,columns =['Importância % na floresta']).sort_values(by= ['Importância % na floresta'],\n",
    "                                                                                                      ascending=False).round(2)\n",
    "\n",
    "importantes_arvores"
   ]
  },
  {
   "cell_type": "markdown",
   "metadata": {},
   "source": [
    "**Qual modelo escolher então?**"
   ]
  },
  {
   "cell_type": "markdown",
   "metadata": {},
   "source": [
    "Isso irá depender do que queremos como objetivo mediante a uma questão que você ou o cliente tem como meta para atingir. Todavia podemos olhar pelo modelo atráves das probabilidades entre verdadeiros positivos e falsos positivos, isso seria o modelo ROC que faz essa probabilidadedo pelo número de vezes que o classificador acertou a previsão contra o número de vezes que o classificador erra previsão."
   ]
  },
  {
   "cell_type": "markdown",
   "metadata": {},
   "source": [
    "O AUC é um grau de separabilidade entre os falsos positivos e verdadeiros positivos:"
   ]
  },
  {
   "cell_type": "code",
   "execution_count": 27,
   "metadata": {
    "scrolled": true
   },
   "outputs": [
    {
     "data": {
      "image/png": "[encoded data removed]",
      "text/plain": [
       "<Figure size 432x288 with 1 Axes>"
      ]
     },
     "metadata": {
      "needs_background": "light"
     },
     "output_type": "display_data"
    }
   ],
   "source": [
    "#Aqui vamos aplicar um modeo gráfico para o AUC de todos os 3 modelos\n",
    "reg_logistica = regol.predict_proba(previsores_teste)[::, 1]\n",
    "fpr, tpr, thresholds= metrics.roc_curve(classe_teste,  reg_logistica)\n",
    "\n",
    "treee = decisao.predict_proba(previsores_teste)[::, 1]\n",
    "fpr1, tpr1, thresholds= metrics.roc_curve(classe_teste, treee)\n",
    "\n",
    "jungles = floresta.predict_proba(previsores_teste)[::, 1]\n",
    "fpr2, tpr2, thresholds = metrics.roc_curve (classe_teste,  jungles)\n",
    "\n",
    "\n",
    "\n",
    "# aqui os resultados de auc já feitos:\n",
    "auc = metrics.roc_auc_score(classe_teste, regressao) #logistica\n",
    "auc1 = metrics.roc_auc_score(classe_teste, arvores)#arvore\n",
    "auc2 = metrics.roc_auc_score(classe_teste, jungle) #floresta\n",
    "\n",
    "\n",
    "plt.plot(fpr,tpr, fpr1,tpr1, fpr2,tpr2,)\n",
    "plt.legend({'Regressão - '+'auc: '+ str(auc.round(4)):[fpr,tpr],\n",
    "            'Árvores - ' + 'auc: '+ str(auc1.round(4)) :[fpr1,tpr1], \n",
    "            'Floresta - ' + 'auc: '+ str(auc2.round(4)) :[fpr2,tpr2] },\n",
    "           loc=4)\n",
    "plt.show()\n",
    "#plt.plot(fpr1, tpr1 ,label=\"Floresta Aleatória, auc=\"+str(auc))"
   ]
  },
  {
   "cell_type": "markdown",
   "metadata": {},
   "source": [
    "O melhor comportamento da probabilidades de AUC foi o modelo de regressão logística como pode ser visualmente conferido."
   ]
  },
  {
   "cell_type": "code",
   "execution_count": null,
   "metadata": {},
   "outputs": [],
   "source": []
  }
 ],
 "metadata": {
  "kernelspec": {
   "display_name": "Python 3",
   "language": "python",
   "name": "python3"
  },
  "language_info": {
   "codemirror_mode": {
    "name": "ipython",
    "version": 3
   },
   "file_extension": ".py",
   "mimetype": "text/x-python",
   "name": "python",
   "nbconvert_exporter": "python",
   "pygments_lexer": "ipython3",
   "version": "3.7.3"
  }
 },
 "nbformat": 4,
 "nbformat_minor": 2
}
