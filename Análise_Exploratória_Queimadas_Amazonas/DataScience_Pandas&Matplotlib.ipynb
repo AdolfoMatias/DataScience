{
 "cells": [
  {
   "cell_type": "markdown",
   "metadata": {},
   "source": [
    "<center><h1> Análise Exploratória de Dados </h1>\n",
    "        <h3>Developer: Adolfo de Luna Matias <br>\n",
    "            DataScience</h3></center>"
   ]
  },
  {
   "cell_type": "markdown",
   "metadata": {},
   "source": [
    "<center><h2> Projeto utilizando os registros de queimadas do governo federal, 2012- 2018.</h2><center>"
   ]
  },
  {
   "cell_type": "markdown",
   "metadata": {},
   "source": [
    "<h5> Primeiro passo é importar as bibliotecas do Python - Pandas, Numpy e Matplotlib - o as é como as vamos chamar. </h5>"
   ]
  },
  {
   "cell_type": "code",
   "execution_count": 1,
   "metadata": {},
   "outputs": [],
   "source": [
    "import pandas as pd\n",
    "import numpy as np\n",
    "import matplotlib.pyplot as plt\n",
    "%matplotlib inline\n",
    "#%matplotlib inline nos diz que a demonstração gráfica será na linha do código."
   ]
  },
  {
   "cell_type": "markdown",
   "metadata": {},
   "source": [
    "<h5>Em seguida, chamamos a base pelo pandas, utlizando o sep como um delimitador das colunas, pedi apenas o cabeçalho da\n",
    "coluna para demonstranção e observação de alguns dados com o comando head()</h5>"
   ]
  },
  {
   "cell_type": "code",
   "execution_count": 2,
   "metadata": {
    "scrolled": true
   },
   "outputs": [
    {
     "data": {
      "text/html": [
       "<div>\n",
       "<style scoped>\n",
       "    .dataframe tbody tr th:only-of-type {\n",
       "        vertical-align: middle;\n",
       "    }\n",
       "\n",
       "    .dataframe tbody tr th {\n",
       "        vertical-align: top;\n",
       "    }\n",
       "\n",
       "    .dataframe thead th {\n",
       "        text-align: right;\n",
       "    }\n",
       "</style>\n",
       "<table border=\"1\" class=\"dataframe\">\n",
       "  <thead>\n",
       "    <tr style=\"text-align: right;\">\n",
       "      <th></th>\n",
       "      <th>Código CNUC</th>\n",
       "      <th>Nome da UC</th>\n",
       "      <th>Categoria da UC: sigla federal</th>\n",
       "      <th>Categoria da UC: nomenclatura nacional</th>\n",
       "      <th>Grupo de Proteção</th>\n",
       "      <th>Ano de criação</th>\n",
       "      <th>Coordenação Regional do ICMBio</th>\n",
       "      <th>Área estimada da UC (ha)</th>\n",
       "      <th>Bioma referencial</th>\n",
       "      <th>Área queimada em 2018</th>\n",
       "      <th>Área queimada em 2017</th>\n",
       "      <th>Área queimada em 2016</th>\n",
       "      <th>Área queimada em 2015</th>\n",
       "      <th>Área queimada em 2014</th>\n",
       "      <th>Área queimada em 2013</th>\n",
       "      <th>Área queimada em 2012</th>\n",
       "    </tr>\n",
       "  </thead>\n",
       "  <tbody>\n",
       "    <tr>\n",
       "      <th>0</th>\n",
       "      <td>0000.00.0001</td>\n",
       "      <td>APA Anhatomirim</td>\n",
       "      <td>APA</td>\n",
       "      <td>Área de Proteção Ambiental</td>\n",
       "      <td>uso sustentável</td>\n",
       "      <td>1992</td>\n",
       "      <td>CR9 Florianópolis/SC</td>\n",
       "      <td>4.437</td>\n",
       "      <td>Marinho-Costeiro</td>\n",
       "      <td>NaN</td>\n",
       "      <td>NaN</td>\n",
       "      <td>NaN</td>\n",
       "      <td>NaN</td>\n",
       "      <td>NaN</td>\n",
       "      <td>NaN</td>\n",
       "      <td>NaN</td>\n",
       "    </tr>\n",
       "    <tr>\n",
       "      <th>1</th>\n",
       "      <td>0000.00.1521</td>\n",
       "      <td>APA Bacia Hidrográfica do Rio Paraíba do Sul</td>\n",
       "      <td>APA</td>\n",
       "      <td>Área de Proteção Ambiental</td>\n",
       "      <td>uso sustentável</td>\n",
       "      <td>1982</td>\n",
       "      <td>CR8 Rio de Janeiro/RJ</td>\n",
       "      <td>292.600</td>\n",
       "      <td>Mata Atlântica</td>\n",
       "      <td>NaN</td>\n",
       "      <td>182,1</td>\n",
       "      <td>NaN</td>\n",
       "      <td>NaN</td>\n",
       "      <td>NaN</td>\n",
       "      <td>NaN</td>\n",
       "      <td>NaN</td>\n",
       "    </tr>\n",
       "    <tr>\n",
       "      <th>2</th>\n",
       "      <td>0000.00.0007</td>\n",
       "      <td>APA Barra do Rio Mamanguape</td>\n",
       "      <td>APA</td>\n",
       "      <td>Área de Proteção Ambiental</td>\n",
       "      <td>uso sustentável</td>\n",
       "      <td>1993</td>\n",
       "      <td>CR6 Cabedelo/PB</td>\n",
       "      <td>14.918</td>\n",
       "      <td>Marinho-Costeiro</td>\n",
       "      <td>NaN</td>\n",
       "      <td>NaN</td>\n",
       "      <td>NaN</td>\n",
       "      <td>NaN</td>\n",
       "      <td>NaN</td>\n",
       "      <td>NaN</td>\n",
       "      <td>NaN</td>\n",
       "    </tr>\n",
       "    <tr>\n",
       "      <th>3</th>\n",
       "      <td>0000.00.0020</td>\n",
       "      <td>APA Carste da Lagoa Santa</td>\n",
       "      <td>APA</td>\n",
       "      <td>Área de Proteção Ambiental</td>\n",
       "      <td>uso sustentável</td>\n",
       "      <td>1990</td>\n",
       "      <td>CR11 Lagoa Santa/MG</td>\n",
       "      <td>39.957</td>\n",
       "      <td>Cerrado</td>\n",
       "      <td>NaN</td>\n",
       "      <td>NaN</td>\n",
       "      <td>NaN</td>\n",
       "      <td>NaN</td>\n",
       "      <td>NaN</td>\n",
       "      <td>NaN</td>\n",
       "      <td>NaN</td>\n",
       "    </tr>\n",
       "    <tr>\n",
       "      <th>4</th>\n",
       "      <td>0000.00.0002</td>\n",
       "      <td>APA Cavernas do Peruaçu</td>\n",
       "      <td>APA</td>\n",
       "      <td>Área de Proteção Ambiental</td>\n",
       "      <td>uso sustentável</td>\n",
       "      <td>1989</td>\n",
       "      <td>CR11 Lagoa Santa/MG</td>\n",
       "      <td>143.356</td>\n",
       "      <td>Cerrado</td>\n",
       "      <td>NaN</td>\n",
       "      <td>260,7</td>\n",
       "      <td>NaN</td>\n",
       "      <td>NaN</td>\n",
       "      <td>NaN</td>\n",
       "      <td>NaN</td>\n",
       "      <td>NaN</td>\n",
       "    </tr>\n",
       "  </tbody>\n",
       "</table>\n",
       "</div>"
      ],
      "text/plain": [
       "    Código CNUC                                    Nome da UC  \\\n",
       "0  0000.00.0001                               APA Anhatomirim   \n",
       "1  0000.00.1521  APA Bacia Hidrográfica do Rio Paraíba do Sul   \n",
       "2  0000.00.0007                   APA Barra do Rio Mamanguape   \n",
       "3  0000.00.0020                     APA Carste da Lagoa Santa   \n",
       "4  0000.00.0002                       APA Cavernas do Peruaçu   \n",
       "\n",
       "  Categoria da UC: sigla federal Categoria da UC: nomenclatura nacional  \\\n",
       "0                            APA             Área de Proteção Ambiental   \n",
       "1                            APA             Área de Proteção Ambiental   \n",
       "2                            APA             Área de Proteção Ambiental   \n",
       "3                            APA             Área de Proteção Ambiental   \n",
       "4                            APA             Área de Proteção Ambiental   \n",
       "\n",
       "  Grupo de Proteção  Ano de criação Coordenação Regional do ICMBio  \\\n",
       "0   uso sustentável            1992           CR9 Florianópolis/SC   \n",
       "1   uso sustentável            1982          CR8 Rio de Janeiro/RJ   \n",
       "2   uso sustentável            1993                CR6 Cabedelo/PB   \n",
       "3   uso sustentável            1990            CR11 Lagoa Santa/MG   \n",
       "4   uso sustentável            1989            CR11 Lagoa Santa/MG   \n",
       "\n",
       "  Área estimada da UC (ha) Bioma referencial Área queimada em 2018  \\\n",
       "0                    4.437  Marinho-Costeiro                   NaN   \n",
       "1                  292.600    Mata Atlântica                   NaN   \n",
       "2                   14.918  Marinho-Costeiro                   NaN   \n",
       "3                   39.957           Cerrado                   NaN   \n",
       "4                  143.356           Cerrado                   NaN   \n",
       "\n",
       "  Área queimada em 2017 Área queimada em 2016 Área queimada em 2015  \\\n",
       "0                   NaN                   NaN                   NaN   \n",
       "1                 182,1                   NaN                   NaN   \n",
       "2                   NaN                   NaN                   NaN   \n",
       "3                   NaN                   NaN                   NaN   \n",
       "4                 260,7                   NaN                   NaN   \n",
       "\n",
       "  Área queimada em 2014 Área queimada em 2013 Área queimada em 2012  \n",
       "0                   NaN                   NaN                   NaN  \n",
       "1                   NaN                   NaN                   NaN  \n",
       "2                   NaN                   NaN                   NaN  \n",
       "3                   NaN                   NaN                   NaN  \n",
       "4                   NaN                   NaN                   NaN  "
      ]
     },
     "execution_count": 2,
     "metadata": {},
     "output_type": "execute_result"
    }
   ],
   "source": [
    "base = pd.read_csv('http://www.icmbio.gov.br/acessoainformacao/images/stories/PDA/Planilhas/Planilhas_CSV/DIMIF-queima.csv', sep =';')\n",
    "base.head()\n",
    "#observe que temos dados NaN e outras inconsistências como vírgulas ao invés de ponto."
   ]
  },
  {
   "cell_type": "markdown",
   "metadata": {},
   "source": [
    "<h5>Pedi a informação do conteúdo da base desde as LinhasxColuna quanto as informações do tipo de conteúdo: </h5>"
   ]
  },
  {
   "cell_type": "code",
   "execution_count": 3,
   "metadata": {},
   "outputs": [
    {
     "name": "stdout",
     "output_type": "stream",
     "text": [
      "<class 'pandas.core.frame.DataFrame'>\n",
      "RangeIndex: 325 entries, 0 to 324\n",
      "Data columns (total 16 columns):\n",
      "Código CNUC                               325 non-null object\n",
      "Nome da UC                                325 non-null object\n",
      "Categoria da UC: sigla federal            325 non-null object\n",
      "Categoria da UC: nomenclatura nacional    325 non-null object\n",
      "Grupo de Proteção                         325 non-null object\n",
      "Ano de criação                            325 non-null int64\n",
      "Coordenação Regional do ICMBio            325 non-null object\n",
      "Área estimada da UC (ha)                  325 non-null object\n",
      "Bioma referencial                         325 non-null object\n",
      "Área queimada em 2018                     39 non-null object\n",
      "Área queimada em 2017                     78 non-null object\n",
      "Área queimada em 2016                     52 non-null object\n",
      "Área queimada em 2015                     50 non-null object\n",
      "Área queimada em 2014                     32 non-null object\n",
      "Área queimada em 2013                     28 non-null object\n",
      "Área queimada em 2012                     39 non-null object\n",
      "dtypes: int64(1), object(15)\n",
      "memory usage: 21.6+ KB\n"
     ]
    }
   ],
   "source": [
    "#aqui vemos que colunas que deveriam ser númericas estão como object, então devemos tratar primeiro.\n",
    "base.info()\n"
   ]
  },
  {
   "cell_type": "markdown",
   "metadata": {},
   "source": [
    "<h5>Fiz a troca das vírgulas por ponto para posteriormente transformar em tipo float, utilizei o .iloc, assim pelo iloc consigo selecionar as linhas e colunas que quero, utilizei o .replace() já que estou com  um dataframe e o regex=True para interpretar todos os strings.\n",
    "<br>Note os comentários: </h5>"
   ]
  },
  {
   "cell_type": "code",
   "execution_count": 4,
   "metadata": {},
   "outputs": [],
   "source": [
    "base.iloc[:,9:16] = base.iloc[:, 9:16].replace(',','.', regex=True)\n",
    "\n",
    "## Eu poderia ter feito um comando coluna a coluna, mas seria mais demorado o exemplo seria:\n",
    "\n",
    "#   base['Área queimada em 2018'] = base['Área queimada em 2018'].str.replace(',','.')\n",
    "\n",
    "##A diferença é que o str.replace apenas faz em Series, não aceita a mudança em Dataframe, mas o comando replace() aceita!\n",
    "#Note abaixo a situação pelo .head():"
   ]
  },
  {
   "cell_type": "code",
   "execution_count": 5,
   "metadata": {},
   "outputs": [
    {
     "data": {
      "text/html": [
       "<div>\n",
       "<style scoped>\n",
       "    .dataframe tbody tr th:only-of-type {\n",
       "        vertical-align: middle;\n",
       "    }\n",
       "\n",
       "    .dataframe tbody tr th {\n",
       "        vertical-align: top;\n",
       "    }\n",
       "\n",
       "    .dataframe thead th {\n",
       "        text-align: right;\n",
       "    }\n",
       "</style>\n",
       "<table border=\"1\" class=\"dataframe\">\n",
       "  <thead>\n",
       "    <tr style=\"text-align: right;\">\n",
       "      <th></th>\n",
       "      <th>Código CNUC</th>\n",
       "      <th>Nome da UC</th>\n",
       "      <th>Categoria da UC: sigla federal</th>\n",
       "      <th>Categoria da UC: nomenclatura nacional</th>\n",
       "      <th>Grupo de Proteção</th>\n",
       "      <th>Ano de criação</th>\n",
       "      <th>Coordenação Regional do ICMBio</th>\n",
       "      <th>Área estimada da UC (ha)</th>\n",
       "      <th>Bioma referencial</th>\n",
       "      <th>Área queimada em 2018</th>\n",
       "      <th>Área queimada em 2017</th>\n",
       "      <th>Área queimada em 2016</th>\n",
       "      <th>Área queimada em 2015</th>\n",
       "      <th>Área queimada em 2014</th>\n",
       "      <th>Área queimada em 2013</th>\n",
       "      <th>Área queimada em 2012</th>\n",
       "    </tr>\n",
       "  </thead>\n",
       "  <tbody>\n",
       "    <tr>\n",
       "      <th>0</th>\n",
       "      <td>0000.00.0001</td>\n",
       "      <td>APA Anhatomirim</td>\n",
       "      <td>APA</td>\n",
       "      <td>Área de Proteção Ambiental</td>\n",
       "      <td>uso sustentável</td>\n",
       "      <td>1992</td>\n",
       "      <td>CR9 Florianópolis/SC</td>\n",
       "      <td>4.437</td>\n",
       "      <td>Marinho-Costeiro</td>\n",
       "      <td>NaN</td>\n",
       "      <td>NaN</td>\n",
       "      <td>NaN</td>\n",
       "      <td>NaN</td>\n",
       "      <td>NaN</td>\n",
       "      <td>NaN</td>\n",
       "      <td>NaN</td>\n",
       "    </tr>\n",
       "    <tr>\n",
       "      <th>1</th>\n",
       "      <td>0000.00.1521</td>\n",
       "      <td>APA Bacia Hidrográfica do Rio Paraíba do Sul</td>\n",
       "      <td>APA</td>\n",
       "      <td>Área de Proteção Ambiental</td>\n",
       "      <td>uso sustentável</td>\n",
       "      <td>1982</td>\n",
       "      <td>CR8 Rio de Janeiro/RJ</td>\n",
       "      <td>292.600</td>\n",
       "      <td>Mata Atlântica</td>\n",
       "      <td>NaN</td>\n",
       "      <td>182.1</td>\n",
       "      <td>NaN</td>\n",
       "      <td>NaN</td>\n",
       "      <td>NaN</td>\n",
       "      <td>NaN</td>\n",
       "      <td>NaN</td>\n",
       "    </tr>\n",
       "    <tr>\n",
       "      <th>2</th>\n",
       "      <td>0000.00.0007</td>\n",
       "      <td>APA Barra do Rio Mamanguape</td>\n",
       "      <td>APA</td>\n",
       "      <td>Área de Proteção Ambiental</td>\n",
       "      <td>uso sustentável</td>\n",
       "      <td>1993</td>\n",
       "      <td>CR6 Cabedelo/PB</td>\n",
       "      <td>14.918</td>\n",
       "      <td>Marinho-Costeiro</td>\n",
       "      <td>NaN</td>\n",
       "      <td>NaN</td>\n",
       "      <td>NaN</td>\n",
       "      <td>NaN</td>\n",
       "      <td>NaN</td>\n",
       "      <td>NaN</td>\n",
       "      <td>NaN</td>\n",
       "    </tr>\n",
       "    <tr>\n",
       "      <th>3</th>\n",
       "      <td>0000.00.0020</td>\n",
       "      <td>APA Carste da Lagoa Santa</td>\n",
       "      <td>APA</td>\n",
       "      <td>Área de Proteção Ambiental</td>\n",
       "      <td>uso sustentável</td>\n",
       "      <td>1990</td>\n",
       "      <td>CR11 Lagoa Santa/MG</td>\n",
       "      <td>39.957</td>\n",
       "      <td>Cerrado</td>\n",
       "      <td>NaN</td>\n",
       "      <td>NaN</td>\n",
       "      <td>NaN</td>\n",
       "      <td>NaN</td>\n",
       "      <td>NaN</td>\n",
       "      <td>NaN</td>\n",
       "      <td>NaN</td>\n",
       "    </tr>\n",
       "    <tr>\n",
       "      <th>4</th>\n",
       "      <td>0000.00.0002</td>\n",
       "      <td>APA Cavernas do Peruaçu</td>\n",
       "      <td>APA</td>\n",
       "      <td>Área de Proteção Ambiental</td>\n",
       "      <td>uso sustentável</td>\n",
       "      <td>1989</td>\n",
       "      <td>CR11 Lagoa Santa/MG</td>\n",
       "      <td>143.356</td>\n",
       "      <td>Cerrado</td>\n",
       "      <td>NaN</td>\n",
       "      <td>260.7</td>\n",
       "      <td>NaN</td>\n",
       "      <td>NaN</td>\n",
       "      <td>NaN</td>\n",
       "      <td>NaN</td>\n",
       "      <td>NaN</td>\n",
       "    </tr>\n",
       "  </tbody>\n",
       "</table>\n",
       "</div>"
      ],
      "text/plain": [
       "    Código CNUC                                    Nome da UC  \\\n",
       "0  0000.00.0001                               APA Anhatomirim   \n",
       "1  0000.00.1521  APA Bacia Hidrográfica do Rio Paraíba do Sul   \n",
       "2  0000.00.0007                   APA Barra do Rio Mamanguape   \n",
       "3  0000.00.0020                     APA Carste da Lagoa Santa   \n",
       "4  0000.00.0002                       APA Cavernas do Peruaçu   \n",
       "\n",
       "  Categoria da UC: sigla federal Categoria da UC: nomenclatura nacional  \\\n",
       "0                            APA             Área de Proteção Ambiental   \n",
       "1                            APA             Área de Proteção Ambiental   \n",
       "2                            APA             Área de Proteção Ambiental   \n",
       "3                            APA             Área de Proteção Ambiental   \n",
       "4                            APA             Área de Proteção Ambiental   \n",
       "\n",
       "  Grupo de Proteção  Ano de criação Coordenação Regional do ICMBio  \\\n",
       "0   uso sustentável            1992           CR9 Florianópolis/SC   \n",
       "1   uso sustentável            1982          CR8 Rio de Janeiro/RJ   \n",
       "2   uso sustentável            1993                CR6 Cabedelo/PB   \n",
       "3   uso sustentável            1990            CR11 Lagoa Santa/MG   \n",
       "4   uso sustentável            1989            CR11 Lagoa Santa/MG   \n",
       "\n",
       "  Área estimada da UC (ha) Bioma referencial Área queimada em 2018  \\\n",
       "0                    4.437  Marinho-Costeiro                   NaN   \n",
       "1                  292.600    Mata Atlântica                   NaN   \n",
       "2                   14.918  Marinho-Costeiro                   NaN   \n",
       "3                   39.957           Cerrado                   NaN   \n",
       "4                  143.356           Cerrado                   NaN   \n",
       "\n",
       "  Área queimada em 2017 Área queimada em 2016 Área queimada em 2015  \\\n",
       "0                   NaN                   NaN                   NaN   \n",
       "1                 182.1                   NaN                   NaN   \n",
       "2                   NaN                   NaN                   NaN   \n",
       "3                   NaN                   NaN                   NaN   \n",
       "4                 260.7                   NaN                   NaN   \n",
       "\n",
       "  Área queimada em 2014 Área queimada em 2013 Área queimada em 2012  \n",
       "0                   NaN                   NaN                   NaN  \n",
       "1                   NaN                   NaN                   NaN  \n",
       "2                   NaN                   NaN                   NaN  \n",
       "3                   NaN                   NaN                   NaN  \n",
       "4                   NaN                   NaN                   NaN  "
      ]
     },
     "execution_count": 5,
     "metadata": {},
     "output_type": "execute_result"
    }
   ],
   "source": [
    "base.head()"
   ]
  },
  {
   "cell_type": "markdown",
   "metadata": {},
   "source": [
    "<h5>Próximo passo irei transformar linhas e colunas, nos formatos de strings para dados númericos\n",
    "<br>Descobri uma forma tanto de Serie quanto de números:</h5>"
   ]
  },
  {
   "cell_type": "code",
   "execution_count": 6,
   "metadata": {},
   "outputs": [],
   "source": [
    "#Esse metódo faz apenas em uma coluna,por Serie:\n",
    "base['Área estimada da UC (ha)'] = pd.to_numeric(base['Área estimada da UC (ha)'] , errors='coerce')\n",
    "\n",
    "#Caso queira utilizar em um DataFrame completo ou em determinadas colunas utilizamos o seguinte algoritmo:\n",
    "base.iloc[:, 9:16] = base.iloc[:, 9:16].apply(pd.to_numeric, errors='coerce')\n",
    "\n",
    "#pd.to_numeric serve para a transofmração de strings em dados númerico, \n",
    "#O coerce serve para converter os não numericos em tipo NaN."
   ]
  },
  {
   "cell_type": "code",
   "execution_count": 7,
   "metadata": {},
   "outputs": [
    {
     "name": "stdout",
     "output_type": "stream",
     "text": [
      "<class 'pandas.core.frame.DataFrame'>\n",
      "RangeIndex: 325 entries, 0 to 324\n",
      "Data columns (total 16 columns):\n",
      "Código CNUC                               325 non-null object\n",
      "Nome da UC                                325 non-null object\n",
      "Categoria da UC: sigla federal            325 non-null object\n",
      "Categoria da UC: nomenclatura nacional    325 non-null object\n",
      "Grupo de Proteção                         325 non-null object\n",
      "Ano de criação                            325 non-null int64\n",
      "Coordenação Regional do ICMBio            325 non-null object\n",
      "Área estimada da UC (ha)                  310 non-null float64\n",
      "Bioma referencial                         325 non-null object\n",
      "Área queimada em 2018                     15 non-null float64\n",
      "Área queimada em 2017                     38 non-null float64\n",
      "Área queimada em 2016                     14 non-null float64\n",
      "Área queimada em 2015                     14 non-null float64\n",
      "Área queimada em 2014                     14 non-null float64\n",
      "Área queimada em 2013                     10 non-null float64\n",
      "Área queimada em 2012                     8 non-null float64\n",
      "dtypes: float64(8), int64(1), object(7)\n",
      "memory usage: 31.8+ KB\n"
     ]
    }
   ],
   "source": [
    "#Se pedirmos a base veremos a mudança para float64:\n",
    "base.info()"
   ]
  },
  {
   "cell_type": "markdown",
   "metadata": {},
   "source": [
    "<h5> Agora iremos tratar os valores NaN, para fins apenas de resolução de dados iremos converter os NaN em 0.</h5>"
   ]
  },
  {
   "cell_type": "code",
   "execution_count": 8,
   "metadata": {},
   "outputs": [],
   "source": [
    "#selecionei as linhas e colunas do DataFrame e utilizei o comando fillna() que busca os NaN para substituir:\n",
    "base.iloc[:,9:16] = base.iloc[:, 9:16].fillna(0)\n",
    "\n",
    "#Poderia ter feito a seleção em Serie também com alguns comandos do tipo:\n",
    "    #base['Área queimada em 2018'] = base['Área queimada em 2018'].fillna(0)"
   ]
  },
  {
   "cell_type": "code",
   "execution_count": 9,
   "metadata": {},
   "outputs": [
    {
     "data": {
      "text/html": [
       "<div>\n",
       "<style scoped>\n",
       "    .dataframe tbody tr th:only-of-type {\n",
       "        vertical-align: middle;\n",
       "    }\n",
       "\n",
       "    .dataframe tbody tr th {\n",
       "        vertical-align: top;\n",
       "    }\n",
       "\n",
       "    .dataframe thead th {\n",
       "        text-align: right;\n",
       "    }\n",
       "</style>\n",
       "<table border=\"1\" class=\"dataframe\">\n",
       "  <thead>\n",
       "    <tr style=\"text-align: right;\">\n",
       "      <th></th>\n",
       "      <th>Código CNUC</th>\n",
       "      <th>Nome da UC</th>\n",
       "      <th>Categoria da UC: sigla federal</th>\n",
       "      <th>Categoria da UC: nomenclatura nacional</th>\n",
       "      <th>Grupo de Proteção</th>\n",
       "      <th>Ano de criação</th>\n",
       "      <th>Coordenação Regional do ICMBio</th>\n",
       "      <th>Área estimada da UC (ha)</th>\n",
       "      <th>Bioma referencial</th>\n",
       "      <th>Área queimada em 2018</th>\n",
       "      <th>Área queimada em 2017</th>\n",
       "      <th>Área queimada em 2016</th>\n",
       "      <th>Área queimada em 2015</th>\n",
       "      <th>Área queimada em 2014</th>\n",
       "      <th>Área queimada em 2013</th>\n",
       "      <th>Área queimada em 2012</th>\n",
       "    </tr>\n",
       "  </thead>\n",
       "  <tbody>\n",
       "    <tr>\n",
       "      <th>0</th>\n",
       "      <td>0000.00.0001</td>\n",
       "      <td>APA Anhatomirim</td>\n",
       "      <td>APA</td>\n",
       "      <td>Área de Proteção Ambiental</td>\n",
       "      <td>uso sustentável</td>\n",
       "      <td>1992</td>\n",
       "      <td>CR9 Florianópolis/SC</td>\n",
       "      <td>4.437</td>\n",
       "      <td>Marinho-Costeiro</td>\n",
       "      <td>0.0</td>\n",
       "      <td>0.0</td>\n",
       "      <td>0.0</td>\n",
       "      <td>0.0</td>\n",
       "      <td>0.0</td>\n",
       "      <td>0.0</td>\n",
       "      <td>0.0</td>\n",
       "    </tr>\n",
       "    <tr>\n",
       "      <th>1</th>\n",
       "      <td>0000.00.1521</td>\n",
       "      <td>APA Bacia Hidrográfica do Rio Paraíba do Sul</td>\n",
       "      <td>APA</td>\n",
       "      <td>Área de Proteção Ambiental</td>\n",
       "      <td>uso sustentável</td>\n",
       "      <td>1982</td>\n",
       "      <td>CR8 Rio de Janeiro/RJ</td>\n",
       "      <td>292.600</td>\n",
       "      <td>Mata Atlântica</td>\n",
       "      <td>0.0</td>\n",
       "      <td>182.1</td>\n",
       "      <td>0.0</td>\n",
       "      <td>0.0</td>\n",
       "      <td>0.0</td>\n",
       "      <td>0.0</td>\n",
       "      <td>0.0</td>\n",
       "    </tr>\n",
       "    <tr>\n",
       "      <th>2</th>\n",
       "      <td>0000.00.0007</td>\n",
       "      <td>APA Barra do Rio Mamanguape</td>\n",
       "      <td>APA</td>\n",
       "      <td>Área de Proteção Ambiental</td>\n",
       "      <td>uso sustentável</td>\n",
       "      <td>1993</td>\n",
       "      <td>CR6 Cabedelo/PB</td>\n",
       "      <td>14.918</td>\n",
       "      <td>Marinho-Costeiro</td>\n",
       "      <td>0.0</td>\n",
       "      <td>0.0</td>\n",
       "      <td>0.0</td>\n",
       "      <td>0.0</td>\n",
       "      <td>0.0</td>\n",
       "      <td>0.0</td>\n",
       "      <td>0.0</td>\n",
       "    </tr>\n",
       "    <tr>\n",
       "      <th>3</th>\n",
       "      <td>0000.00.0020</td>\n",
       "      <td>APA Carste da Lagoa Santa</td>\n",
       "      <td>APA</td>\n",
       "      <td>Área de Proteção Ambiental</td>\n",
       "      <td>uso sustentável</td>\n",
       "      <td>1990</td>\n",
       "      <td>CR11 Lagoa Santa/MG</td>\n",
       "      <td>39.957</td>\n",
       "      <td>Cerrado</td>\n",
       "      <td>0.0</td>\n",
       "      <td>0.0</td>\n",
       "      <td>0.0</td>\n",
       "      <td>0.0</td>\n",
       "      <td>0.0</td>\n",
       "      <td>0.0</td>\n",
       "      <td>0.0</td>\n",
       "    </tr>\n",
       "    <tr>\n",
       "      <th>4</th>\n",
       "      <td>0000.00.0002</td>\n",
       "      <td>APA Cavernas do Peruaçu</td>\n",
       "      <td>APA</td>\n",
       "      <td>Área de Proteção Ambiental</td>\n",
       "      <td>uso sustentável</td>\n",
       "      <td>1989</td>\n",
       "      <td>CR11 Lagoa Santa/MG</td>\n",
       "      <td>143.356</td>\n",
       "      <td>Cerrado</td>\n",
       "      <td>0.0</td>\n",
       "      <td>260.7</td>\n",
       "      <td>0.0</td>\n",
       "      <td>0.0</td>\n",
       "      <td>0.0</td>\n",
       "      <td>0.0</td>\n",
       "      <td>0.0</td>\n",
       "    </tr>\n",
       "  </tbody>\n",
       "</table>\n",
       "</div>"
      ],
      "text/plain": [
       "    Código CNUC                                    Nome da UC  \\\n",
       "0  0000.00.0001                               APA Anhatomirim   \n",
       "1  0000.00.1521  APA Bacia Hidrográfica do Rio Paraíba do Sul   \n",
       "2  0000.00.0007                   APA Barra do Rio Mamanguape   \n",
       "3  0000.00.0020                     APA Carste da Lagoa Santa   \n",
       "4  0000.00.0002                       APA Cavernas do Peruaçu   \n",
       "\n",
       "  Categoria da UC: sigla federal Categoria da UC: nomenclatura nacional  \\\n",
       "0                            APA             Área de Proteção Ambiental   \n",
       "1                            APA             Área de Proteção Ambiental   \n",
       "2                            APA             Área de Proteção Ambiental   \n",
       "3                            APA             Área de Proteção Ambiental   \n",
       "4                            APA             Área de Proteção Ambiental   \n",
       "\n",
       "  Grupo de Proteção  Ano de criação Coordenação Regional do ICMBio  \\\n",
       "0   uso sustentável            1992           CR9 Florianópolis/SC   \n",
       "1   uso sustentável            1982          CR8 Rio de Janeiro/RJ   \n",
       "2   uso sustentável            1993                CR6 Cabedelo/PB   \n",
       "3   uso sustentável            1990            CR11 Lagoa Santa/MG   \n",
       "4   uso sustentável            1989            CR11 Lagoa Santa/MG   \n",
       "\n",
       "   Área estimada da UC (ha) Bioma referencial  Área queimada em 2018  \\\n",
       "0                     4.437  Marinho-Costeiro                    0.0   \n",
       "1                   292.600    Mata Atlântica                    0.0   \n",
       "2                    14.918  Marinho-Costeiro                    0.0   \n",
       "3                    39.957           Cerrado                    0.0   \n",
       "4                   143.356           Cerrado                    0.0   \n",
       "\n",
       "   Área queimada em 2017  Área queimada em 2016  Área queimada em 2015  \\\n",
       "0                    0.0                    0.0                    0.0   \n",
       "1                  182.1                    0.0                    0.0   \n",
       "2                    0.0                    0.0                    0.0   \n",
       "3                    0.0                    0.0                    0.0   \n",
       "4                  260.7                    0.0                    0.0   \n",
       "\n",
       "   Área queimada em 2014  Área queimada em 2013  Área queimada em 2012  \n",
       "0                    0.0                    0.0                    0.0  \n",
       "1                    0.0                    0.0                    0.0  \n",
       "2                    0.0                    0.0                    0.0  \n",
       "3                    0.0                    0.0                    0.0  \n",
       "4                    0.0                    0.0                    0.0  "
      ]
     },
     "execution_count": 9,
     "metadata": {},
     "output_type": "execute_result"
    }
   ],
   "source": [
    "#Observe o preenchimento:\n",
    "base.head()"
   ]
  },
  {
   "cell_type": "markdown",
   "metadata": {},
   "source": [
    "<center><h4> Realizado observações, limpezas e tratamentos de dados podemos responder algumas  questões. </h4></center>"
   ]
  },
  {
   "cell_type": "markdown",
   "metadata": {},
   "source": [
    "<h1>PROJETO 1 - ANÁLISE EXPLORATÓRIA DE DADOS</h1>\n",
    "<h3> Base de dados das Queimadas</h3>"
   ]
  },
  {
   "cell_type": "markdown",
   "metadata": {},
   "source": [
    "<h3> 1 - Ano com maior criação de Unidades de conservação (UC):</h3>\n",
    "<h5> Fiz a partir dos anos de 1980, o ano que mais se criou UC foi:\n",
    "<br>1º lugar: FHC = (2001, 2002)\n",
    "<br>2º lugar: Lula = (2005, 2006)<h5>\n"
   ]
  },
  {
   "cell_type": "code",
   "execution_count": 10,
   "metadata": {
    "scrolled": false
   },
   "outputs": [
    {
     "data": {
      "text/plain": [
       "<matplotlib.axes._subplots.AxesSubplot at 0xbd1e930>"
      ]
     },
     "execution_count": 10,
     "metadata": {},
     "output_type": "execute_result"
    },
    {
     "data": {
      "image/png": "[encoded data removed]",
      "text/plain": [
       "<Figure size 432x288 with 1 Axes>"
      ]
     },
     "metadata": {
      "needs_background": "light"
     },
     "output_type": "display_data"
    }
   ],
   "source": [
    "#localização \".loc\" e contagem \".value_counts()\" dos anos de criação, utilizando uma filtragem a partir dos anos de 1980.\n",
    "a = base['Ano de criação'].loc[base['Ano de criação']>=1980].value_counts(sort=False ) \n",
    "df = pd.DataFrame(a) #transformei uma Serie em DataFrame\n",
    "\n",
    "#Fiz a contagem de valores ecoloquei em um gráfico com cor e legenda.\n",
    "gf = df.plot.bar( color='purple', title=' Gráfico 1: Criações de UC por ano, 1980 - 2018') \n",
    "plt.ylabel('Quantidade de UCs')\n",
    "gf\n"
   ]
  },
  {
   "cell_type": "code",
   "execution_count": 11,
   "metadata": {
    "scrolled": false
   },
   "outputs": [
    {
     "data": {
      "text/html": [
       "<div>\n",
       "<style scoped>\n",
       "    .dataframe tbody tr th:only-of-type {\n",
       "        vertical-align: middle;\n",
       "    }\n",
       "\n",
       "    .dataframe tbody tr th {\n",
       "        vertical-align: top;\n",
       "    }\n",
       "\n",
       "    .dataframe thead th {\n",
       "        text-align: right;\n",
       "    }\n",
       "</style>\n",
       "<table border=\"1\" class=\"dataframe\">\n",
       "  <thead>\n",
       "    <tr style=\"text-align: right;\">\n",
       "      <th></th>\n",
       "      <th>Quantidade de UCs</th>\n",
       "    </tr>\n",
       "    <tr>\n",
       "      <th>Ano de criação</th>\n",
       "      <th></th>\n",
       "    </tr>\n",
       "  </thead>\n",
       "  <tbody>\n",
       "    <tr>\n",
       "      <th>1937</th>\n",
       "      <td>1</td>\n",
       "    </tr>\n",
       "    <tr>\n",
       "      <th>1939</th>\n",
       "      <td>2</td>\n",
       "    </tr>\n",
       "    <tr>\n",
       "      <th>1946</th>\n",
       "      <td>1</td>\n",
       "    </tr>\n",
       "    <tr>\n",
       "      <th>1959</th>\n",
       "      <td>3</td>\n",
       "    </tr>\n",
       "    <tr>\n",
       "      <th>1961</th>\n",
       "      <td>9</td>\n",
       "    </tr>\n",
       "  </tbody>\n",
       "</table>\n",
       "</div>"
      ],
      "text/plain": [
       "                Quantidade de UCs\n",
       "Ano de criação                   \n",
       "1937                            1\n",
       "1939                            2\n",
       "1946                            1\n",
       "1959                            3\n",
       "1961                            9"
      ]
     },
     "execution_count": 11,
     "metadata": {},
     "output_type": "execute_result"
    }
   ],
   "source": [
    "# Contagem com .count() no Ano de criação,e  utilizando o comando .groupby() para agrupar\n",
    "b = base['Ano de criação'].groupby(base['Ano de criação']).count() #Colocando em grupo a contagem dos anos de criação\n",
    "df1=pd.DataFrame(data = b) #transformando em um dataframe;\n",
    "\n",
    "#Coloquei um nome para a coluna e pedi a demonstração, apenas o cabeçalho:\n",
    "df1.columns =['Quantidade de UCs']\n",
    "df1.head()"
   ]
  },
  {
   "cell_type": "markdown",
   "metadata": {},
   "source": [
    "<h3> 2 - Construção de DataFrame e gráfico do Bioma Referencial por categoria de UC.</h3>\n",
    "<h5> Para essa construção utilizei o groupby, para melhor visuaização e didática pedi o agrupamento das UCs pelo Bioma referencial</h5>"
   ]
  },
  {
   "cell_type": "code",
   "execution_count": 12,
   "metadata": {
    "scrolled": true
   },
   "outputs": [
    {
     "data": {
      "text/html": [
       "<div>\n",
       "<style scoped>\n",
       "    .dataframe tbody tr th:only-of-type {\n",
       "        vertical-align: middle;\n",
       "    }\n",
       "\n",
       "    .dataframe tbody tr th {\n",
       "        vertical-align: top;\n",
       "    }\n",
       "\n",
       "    .dataframe thead th {\n",
       "        text-align: right;\n",
       "    }\n",
       "</style>\n",
       "<table border=\"1\" class=\"dataframe\">\n",
       "  <thead>\n",
       "    <tr style=\"text-align: right;\">\n",
       "      <th></th>\n",
       "      <th></th>\n",
       "      <th>Categoria da UC: nomenclatura nacional</th>\n",
       "    </tr>\n",
       "    <tr>\n",
       "      <th>Bioma referencial</th>\n",
       "      <th>Categoria da UC: nomenclatura nacional</th>\n",
       "      <th></th>\n",
       "    </tr>\n",
       "  </thead>\n",
       "  <tbody>\n",
       "    <tr>\n",
       "      <th rowspan=\"8\" valign=\"top\">Amazônia</th>\n",
       "      <th>Reserva Extrativista</th>\n",
       "      <td>42</td>\n",
       "    </tr>\n",
       "    <tr>\n",
       "      <th>Floresta</th>\n",
       "      <td>34</td>\n",
       "    </tr>\n",
       "    <tr>\n",
       "      <th>Parque</th>\n",
       "      <td>21</td>\n",
       "    </tr>\n",
       "    <tr>\n",
       "      <th>Estação Ecológica</th>\n",
       "      <td>11</td>\n",
       "    </tr>\n",
       "    <tr>\n",
       "      <th>Reserva Biológica</th>\n",
       "      <td>10</td>\n",
       "    </tr>\n",
       "    <tr>\n",
       "      <th>Área de Proteção Ambiental</th>\n",
       "      <td>3</td>\n",
       "    </tr>\n",
       "    <tr>\n",
       "      <th>Área de Relevante Interesse Ecológico</th>\n",
       "      <td>3</td>\n",
       "    </tr>\n",
       "    <tr>\n",
       "      <th>Reserva de Desenvolvimento Sustentável</th>\n",
       "      <td>1</td>\n",
       "    </tr>\n",
       "    <tr>\n",
       "      <th rowspan=\"7\" valign=\"top\">Caatinga</th>\n",
       "      <th>Parque</th>\n",
       "      <td>9</td>\n",
       "    </tr>\n",
       "    <tr>\n",
       "      <th>Floresta</th>\n",
       "      <td>6</td>\n",
       "    </tr>\n",
       "    <tr>\n",
       "      <th>Estação Ecológica</th>\n",
       "      <td>4</td>\n",
       "    </tr>\n",
       "    <tr>\n",
       "      <th>Área de Proteção Ambiental</th>\n",
       "      <td>3</td>\n",
       "    </tr>\n",
       "    <tr>\n",
       "      <th>Monumento Natural</th>\n",
       "      <td>1</td>\n",
       "    </tr>\n",
       "    <tr>\n",
       "      <th>Reserva Biológica</th>\n",
       "      <td>1</td>\n",
       "    </tr>\n",
       "    <tr>\n",
       "      <th>Reserva Extrativista</th>\n",
       "      <td>1</td>\n",
       "    </tr>\n",
       "    <tr>\n",
       "      <th rowspan=\"9\" valign=\"top\">Cerrado</th>\n",
       "      <th>Parque</th>\n",
       "      <td>14</td>\n",
       "    </tr>\n",
       "    <tr>\n",
       "      <th>Área de Proteção Ambiental</th>\n",
       "      <td>9</td>\n",
       "    </tr>\n",
       "    <tr>\n",
       "      <th>Floresta</th>\n",
       "      <td>6</td>\n",
       "    </tr>\n",
       "    <tr>\n",
       "      <th>Reserva Extrativista</th>\n",
       "      <td>6</td>\n",
       "    </tr>\n",
       "    <tr>\n",
       "      <th>Estação Ecológica</th>\n",
       "      <td>5</td>\n",
       "    </tr>\n",
       "    <tr>\n",
       "      <th>Área de Relevante Interesse Ecológico</th>\n",
       "      <td>2</td>\n",
       "    </tr>\n",
       "    <tr>\n",
       "      <th>Refúgio de Vida Silvestre</th>\n",
       "      <td>1</td>\n",
       "    </tr>\n",
       "    <tr>\n",
       "      <th>Reserva Biológica</th>\n",
       "      <td>1</td>\n",
       "    </tr>\n",
       "    <tr>\n",
       "      <th>Reserva de Desenvolvimento Sustentável</th>\n",
       "      <td>1</td>\n",
       "    </tr>\n",
       "    <tr>\n",
       "      <th rowspan=\"8\" valign=\"top\">Marinho-Costeiro</th>\n",
       "      <th>Área de Proteção Ambiental</th>\n",
       "      <td>10</td>\n",
       "    </tr>\n",
       "    <tr>\n",
       "      <th>Reserva Extrativista</th>\n",
       "      <td>7</td>\n",
       "    </tr>\n",
       "    <tr>\n",
       "      <th>Reserva Biológica</th>\n",
       "      <td>4</td>\n",
       "    </tr>\n",
       "    <tr>\n",
       "      <th>Parque</th>\n",
       "      <td>3</td>\n",
       "    </tr>\n",
       "    <tr>\n",
       "      <th>Refúgio de Vida Silvestre</th>\n",
       "      <td>3</td>\n",
       "    </tr>\n",
       "    <tr>\n",
       "      <th>Área de Relevante Interesse Ecológico</th>\n",
       "      <td>3</td>\n",
       "    </tr>\n",
       "    <tr>\n",
       "      <th>Estação Ecológica</th>\n",
       "      <td>2</td>\n",
       "    </tr>\n",
       "    <tr>\n",
       "      <th>Monumento Natural</th>\n",
       "      <td>1</td>\n",
       "    </tr>\n",
       "    <tr>\n",
       "      <th rowspan=\"9\" valign=\"top\">Mata Atlântica</th>\n",
       "      <th>Parque</th>\n",
       "      <td>25</td>\n",
       "    </tr>\n",
       "    <tr>\n",
       "      <th>Floresta</th>\n",
       "      <td>21</td>\n",
       "    </tr>\n",
       "    <tr>\n",
       "      <th>Reserva Biológica</th>\n",
       "      <td>15</td>\n",
       "    </tr>\n",
       "    <tr>\n",
       "      <th>Estação Ecológica</th>\n",
       "      <td>8</td>\n",
       "    </tr>\n",
       "    <tr>\n",
       "      <th>Área de Proteção Ambiental</th>\n",
       "      <td>7</td>\n",
       "    </tr>\n",
       "    <tr>\n",
       "      <th>Reserva Extrativista</th>\n",
       "      <td>6</td>\n",
       "    </tr>\n",
       "    <tr>\n",
       "      <th>Área de Relevante Interesse Ecológico</th>\n",
       "      <td>5</td>\n",
       "    </tr>\n",
       "    <tr>\n",
       "      <th>Refúgio de Vida Silvestre</th>\n",
       "      <td>4</td>\n",
       "    </tr>\n",
       "    <tr>\n",
       "      <th>Monumento Natural</th>\n",
       "      <td>1</td>\n",
       "    </tr>\n",
       "    <tr>\n",
       "      <th rowspan=\"3\" valign=\"top\">Pampas</th>\n",
       "      <th>Estação Ecológica</th>\n",
       "      <td>1</td>\n",
       "    </tr>\n",
       "    <tr>\n",
       "      <th>Parque</th>\n",
       "      <td>1</td>\n",
       "    </tr>\n",
       "    <tr>\n",
       "      <th>Área de Proteção Ambiental</th>\n",
       "      <td>1</td>\n",
       "    </tr>\n",
       "    <tr>\n",
       "      <th rowspan=\"2\" valign=\"top\">Pantanal</th>\n",
       "      <th>Estação Ecológica</th>\n",
       "      <td>1</td>\n",
       "    </tr>\n",
       "    <tr>\n",
       "      <th>Parque</th>\n",
       "      <td>1</td>\n",
       "    </tr>\n",
       "  </tbody>\n",
       "</table>\n",
       "</div>"
      ],
      "text/plain": [
       "                                                          Categoria da UC: nomenclatura nacional\n",
       "Bioma referencial Categoria da UC: nomenclatura nacional                                        \n",
       "Amazônia          Reserva Extrativista                                                        42\n",
       "                  Floresta                                                                    34\n",
       "                  Parque                                                                      21\n",
       "                  Estação Ecológica                                                           11\n",
       "                  Reserva Biológica                                                           10\n",
       "                  Área de Proteção Ambiental                                                   3\n",
       "                  Área de Relevante Interesse Ecológico                                        3\n",
       "                  Reserva de Desenvolvimento Sustentável                                       1\n",
       "Caatinga          Parque                                                                       9\n",
       "                  Floresta                                                                     6\n",
       "                  Estação Ecológica                                                            4\n",
       "                  Área de Proteção Ambiental                                                   3\n",
       "                  Monumento Natural                                                            1\n",
       "                  Reserva Biológica                                                            1\n",
       "                  Reserva Extrativista                                                         1\n",
       "Cerrado           Parque                                                                      14\n",
       "                  Área de Proteção Ambiental                                                   9\n",
       "                  Floresta                                                                     6\n",
       "                  Reserva Extrativista                                                         6\n",
       "                  Estação Ecológica                                                            5\n",
       "                  Área de Relevante Interesse Ecológico                                        2\n",
       "                  Refúgio de Vida Silvestre                                                    1\n",
       "                  Reserva Biológica                                                            1\n",
       "                  Reserva de Desenvolvimento Sustentável                                       1\n",
       "Marinho-Costeiro  Área de Proteção Ambiental                                                  10\n",
       "                  Reserva Extrativista                                                         7\n",
       "                  Reserva Biológica                                                            4\n",
       "                  Parque                                                                       3\n",
       "                  Refúgio de Vida Silvestre                                                    3\n",
       "                  Área de Relevante Interesse Ecológico                                        3\n",
       "                  Estação Ecológica                                                            2\n",
       "                  Monumento Natural                                                            1\n",
       "Mata Atlântica    Parque                                                                      25\n",
       "                  Floresta                                                                    21\n",
       "                  Reserva Biológica                                                           15\n",
       "                  Estação Ecológica                                                            8\n",
       "                  Área de Proteção Ambiental                                                   7\n",
       "                  Reserva Extrativista                                                         6\n",
       "                  Área de Relevante Interesse Ecológico                                        5\n",
       "                  Refúgio de Vida Silvestre                                                    4\n",
       "                  Monumento Natural                                                            1\n",
       "Pampas            Estação Ecológica                                                            1\n",
       "                  Parque                                                                       1\n",
       "                  Área de Proteção Ambiental                                                   1\n",
       "Pantanal          Estação Ecológica                                                            1\n",
       "                  Parque                                                                       1"
      ]
     },
     "execution_count": 12,
     "metadata": {},
     "output_type": "execute_result"
    }
   ],
   "source": [
    "c = base['Categoria da UC: nomenclatura nacional'].groupby(base['Bioma referencial']).value_counts()\n",
    "df2 = pd.DataFrame(data = c)\n",
    "df2\n",
    "# Agrupei as categorias de UC pelo bioma referencial, pedi a contagem dos valores e por fim e pedi a descrição dos dados:"
   ]
  },
  {
   "cell_type": "markdown",
   "metadata": {},
   "source": [
    "<h5> Agora construindo os gráficos: </h5>"
   ]
  },
  {
   "cell_type": "code",
   "execution_count": 13,
   "metadata": {},
   "outputs": [
    {
     "data": {
      "text/plain": [
       "<matplotlib.axes._subplots.AxesSubplot at 0xc00d6b0>"
      ]
     },
     "execution_count": 13,
     "metadata": {},
     "output_type": "execute_result"
    },
    {
     "data": {
      "image/png": "[encoded data removed]",
      "text/plain": [
       "<Figure size 432x288 with 1 Axes>"
      ]
     },
     "metadata": {
      "needs_background": "light"
     },
     "output_type": "display_data"
    }
   ],
   "source": [
    "#pedi a contagem dos valores na coluna Bioma referencial, transformei em um dataframe e passei um novo nome;\n",
    "e = base['Bioma referencial'].value_counts().sort_values(ascending=True)\n",
    "df3 = pd.DataFrame(e)\n",
    "df3.columns=['Quantidade de UCs']\n",
    "\n",
    "#estilizando e plotando o gráfico:\n",
    "gf0= df3.plot.bar(color= 'Green', title= 'Gráfico 2: Categorias de Conservação por Bioma referencial')\n",
    "plt.ylabel('Quantitades de UCs')\n",
    "gf0\n",
    "\n",
    "#No gráfico vemos os quantidades de cada categoria uc por bioma referencial:"
   ]
  },
  {
   "cell_type": "code",
   "execution_count": 14,
   "metadata": {},
   "outputs": [
    {
     "data": {
      "text/plain": [
       "<matplotlib.legend.Legend at 0xc1001b0>"
      ]
     },
     "execution_count": 14,
     "metadata": {},
     "output_type": "execute_result"
    },
    {
     "data": {
      "image/png": "[encoded data removed]",
      "text/plain": [
       "<Figure size 432x288 with 1 Axes>"
      ]
     },
     "metadata": {
      "needs_background": "light"
     },
     "output_type": "display_data"
    }
   ],
   "source": [
    "#Um gráfico para visualizar as siglas das categorias de UC por bioma referencial:\n",
    "\n",
    "#Agrupando diretamente na base de dados as siglas de UC por Bioma refencial\n",
    "op = base.groupby(['Bioma referencial','Categoria da UC: sigla federal'])\n",
    "\n",
    "#O modo size() permite verificar o tamanho dos dados,\n",
    "# aliado ao unstack() faz a plotagem de vários dados em um grupo e o stacked=True empilha esses dados em apenas um grupo\n",
    "#legend(loc=1) movimenta a legenda da tabela dentro do gráfico\n",
    "gfop = op.size().unstack().plot(kind=\"bar\", stacked=True,\n",
    "    title = 'Gráfico 3: Sigla UC por Bioma',).legend(loc=1)\n",
    "\n",
    "#personalizando o gráfico:\n",
    "plt.xlabel('')\n",
    "plt.ylabel('Quantitades de UCs por sigla')\n",
    "gfop\n",
    "\n"
   ]
  },
  {
   "cell_type": "markdown",
   "metadata": {},
   "source": [
    "<h3> 3 - Evolução das áreas queimadas em hectares por ano. </h3>\n",
    "<h5> O ano de 2014 teve uma das maiores areas em hectares com volumes de queimadas seguido por 2017.</h5>"
   ]
  },
  {
   "cell_type": "code",
   "execution_count": 15,
   "metadata": {},
   "outputs": [
    {
     "data": {
      "text/plain": [
       "Área queimada em 2018    4536.0\n",
       "Área queimada em 2017    8984.1\n",
       "Área queimada em 2016    6002.8\n",
       "Área queimada em 2015    6963.1\n",
       "Área queimada em 2014    9325.0\n",
       "Área queimada em 2013    3545.9\n",
       "Área queimada em 2012    3541.7\n",
       "dtype: float64"
      ]
     },
     "execution_count": 15,
     "metadata": {},
     "output_type": "execute_result"
    }
   ],
   "source": [
    "#utilizei o comando iloc para capturar as linhas e colunas do DataFrame que eu quis selecionar, utilizando a soma por coluna;\n",
    "f= base.iloc[:,9:16].sum()\n",
    "f\n"
   ]
  },
  {
   "cell_type": "code",
   "execution_count": 16,
   "metadata": {},
   "outputs": [
    {
     "data": {
      "text/plain": [
       "<matplotlib.axes._subplots.AxesSubplot at 0xc270fb0>"
      ]
     },
     "execution_count": 16,
     "metadata": {},
     "output_type": "execute_result"
    },
    {
     "data": {
      "image/png": "[encoded data removed]",
      "text/plain": [
       "<Figure size 432x288 with 1 Axes>"
      ]
     },
     "metadata": {
      "needs_background": "light"
     },
     "output_type": "display_data"
    }
   ],
   "source": [
    "#Aqui fiz a localização  da soma das queimadas por ano e pedi para ordenar de forma ascendente.\n",
    "f = base.iloc[:, 9:16].sum().sort_index(ascending=True)\n",
    "\n",
    "#Para melhor visualização renomeei os indices e pedi o gráfico em formato de linha com pontos;\n",
    "f.index=(['2012', '2013','2014', '2015','2016', '2017','2018'])\n",
    "gf2 = f.plot(color= 'orange', title=' Gráfico 4: Evolução das queimadas em hectares: 2012-2018', marker='o' )\n",
    "\n",
    "#veja que usei marcador e agora estou personalizando o nome do eixo y\n",
    "plt.ylabel('Áreas de ha queimados')\n",
    "gf2"
   ]
  },
  {
   "cell_type": "markdown",
   "metadata": {},
   "source": [
    "<h3> 4 - Estados e áreas de queimadas em hectares. </h3>\n"
   ]
  },
  {
   "cell_type": "code",
   "execution_count": 17,
   "metadata": {},
   "outputs": [
    {
     "data": {
      "text/html": [
       "<div>\n",
       "<style scoped>\n",
       "    .dataframe tbody tr th:only-of-type {\n",
       "        vertical-align: middle;\n",
       "    }\n",
       "\n",
       "    .dataframe tbody tr th {\n",
       "        vertical-align: top;\n",
       "    }\n",
       "\n",
       "    .dataframe thead th {\n",
       "        text-align: right;\n",
       "    }\n",
       "</style>\n",
       "<table border=\"1\" class=\"dataframe\">\n",
       "  <thead>\n",
       "    <tr style=\"text-align: right;\">\n",
       "      <th></th>\n",
       "      <th>Coordenação Regional do ICMBio</th>\n",
       "      <th>Área queimada em 2018</th>\n",
       "      <th>Área queimada em 2017</th>\n",
       "      <th>Área queimada em 2016</th>\n",
       "      <th>Área queimada em 2015</th>\n",
       "      <th>Área queimada em 2014</th>\n",
       "      <th>Área queimada em 2013</th>\n",
       "      <th>Área queimada em 2012</th>\n",
       "      <th>Total_queimadas</th>\n",
       "    </tr>\n",
       "  </thead>\n",
       "  <tbody>\n",
       "    <tr>\n",
       "      <th>0</th>\n",
       "      <td>CR9 Florianópolis/SC</td>\n",
       "      <td>0.0</td>\n",
       "      <td>0.0</td>\n",
       "      <td>0.0</td>\n",
       "      <td>0.0</td>\n",
       "      <td>0.0</td>\n",
       "      <td>0.0</td>\n",
       "      <td>0.0</td>\n",
       "      <td>0.0</td>\n",
       "    </tr>\n",
       "    <tr>\n",
       "      <th>1</th>\n",
       "      <td>CR8 Rio de Janeiro/RJ</td>\n",
       "      <td>0.0</td>\n",
       "      <td>182.1</td>\n",
       "      <td>0.0</td>\n",
       "      <td>0.0</td>\n",
       "      <td>0.0</td>\n",
       "      <td>0.0</td>\n",
       "      <td>0.0</td>\n",
       "      <td>182.1</td>\n",
       "    </tr>\n",
       "    <tr>\n",
       "      <th>2</th>\n",
       "      <td>CR6 Cabedelo/PB</td>\n",
       "      <td>0.0</td>\n",
       "      <td>0.0</td>\n",
       "      <td>0.0</td>\n",
       "      <td>0.0</td>\n",
       "      <td>0.0</td>\n",
       "      <td>0.0</td>\n",
       "      <td>0.0</td>\n",
       "      <td>0.0</td>\n",
       "    </tr>\n",
       "    <tr>\n",
       "      <th>3</th>\n",
       "      <td>CR11 Lagoa Santa/MG</td>\n",
       "      <td>0.0</td>\n",
       "      <td>0.0</td>\n",
       "      <td>0.0</td>\n",
       "      <td>0.0</td>\n",
       "      <td>0.0</td>\n",
       "      <td>0.0</td>\n",
       "      <td>0.0</td>\n",
       "      <td>0.0</td>\n",
       "    </tr>\n",
       "    <tr>\n",
       "      <th>4</th>\n",
       "      <td>CR11 Lagoa Santa/MG</td>\n",
       "      <td>0.0</td>\n",
       "      <td>260.7</td>\n",
       "      <td>0.0</td>\n",
       "      <td>0.0</td>\n",
       "      <td>0.0</td>\n",
       "      <td>0.0</td>\n",
       "      <td>0.0</td>\n",
       "      <td>260.7</td>\n",
       "    </tr>\n",
       "  </tbody>\n",
       "</table>\n",
       "</div>"
      ],
      "text/plain": [
       "  Coordenação Regional do ICMBio  Área queimada em 2018  \\\n",
       "0           CR9 Florianópolis/SC                    0.0   \n",
       "1          CR8 Rio de Janeiro/RJ                    0.0   \n",
       "2                CR6 Cabedelo/PB                    0.0   \n",
       "3            CR11 Lagoa Santa/MG                    0.0   \n",
       "4            CR11 Lagoa Santa/MG                    0.0   \n",
       "\n",
       "   Área queimada em 2017  Área queimada em 2016  Área queimada em 2015  \\\n",
       "0                    0.0                    0.0                    0.0   \n",
       "1                  182.1                    0.0                    0.0   \n",
       "2                    0.0                    0.0                    0.0   \n",
       "3                    0.0                    0.0                    0.0   \n",
       "4                  260.7                    0.0                    0.0   \n",
       "\n",
       "   Área queimada em 2014  Área queimada em 2013  Área queimada em 2012  \\\n",
       "0                    0.0                    0.0                    0.0   \n",
       "1                    0.0                    0.0                    0.0   \n",
       "2                    0.0                    0.0                    0.0   \n",
       "3                    0.0                    0.0                    0.0   \n",
       "4                    0.0                    0.0                    0.0   \n",
       "\n",
       "   Total_queimadas  \n",
       "0              0.0  \n",
       "1            182.1  \n",
       "2              0.0  \n",
       "3              0.0  \n",
       "4            260.7  "
      ]
     },
     "execution_count": 17,
     "metadata": {},
     "output_type": "execute_result"
    }
   ],
   "source": [
    "# localizando e criando um DataFrame único de cada coluna que quero concatenar:\n",
    "g = base.iloc[:, 6]\n",
    "h = base.iloc[:, 9:16]\n",
    "df4 = pd.DataFrame(g)\n",
    "df5 = pd.DataFrame(h)\n",
    "\n",
    "#Aqui fiz a concatenação dos DataFrames, o axis=1 é para  concatenar por colunas\n",
    "df6 = pd.concat([df4,df5], axis=1) \n",
    "\n",
    "# Criei uma coluna com a soma dos valores nas coluna, totalizando \"ha\" queimados, a soma foi usando o axis=1:\n",
    "df6['Total_queimadas']= df6.iloc[:, 1:8].sum(axis=1) \n",
    "df6.head()"
   ]
  },
  {
   "cell_type": "code",
   "execution_count": 18,
   "metadata": {},
   "outputs": [
    {
     "data": {
      "text/html": [
       "<div>\n",
       "<style scoped>\n",
       "    .dataframe tbody tr th:only-of-type {\n",
       "        vertical-align: middle;\n",
       "    }\n",
       "\n",
       "    .dataframe tbody tr th {\n",
       "        vertical-align: top;\n",
       "    }\n",
       "\n",
       "    .dataframe thead th {\n",
       "        text-align: right;\n",
       "    }\n",
       "</style>\n",
       "<table border=\"1\" class=\"dataframe\">\n",
       "  <thead>\n",
       "    <tr style=\"text-align: right;\">\n",
       "      <th></th>\n",
       "      <th>2012</th>\n",
       "      <th>2013</th>\n",
       "      <th>2014</th>\n",
       "      <th>2015</th>\n",
       "      <th>2016</th>\n",
       "      <th>2017</th>\n",
       "      <th>2018</th>\n",
       "      <th>Total</th>\n",
       "    </tr>\n",
       "    <tr>\n",
       "      <th>Coordenação Regional do ICMBio</th>\n",
       "      <th></th>\n",
       "      <th></th>\n",
       "      <th></th>\n",
       "      <th></th>\n",
       "      <th></th>\n",
       "      <th></th>\n",
       "      <th></th>\n",
       "      <th></th>\n",
       "    </tr>\n",
       "  </thead>\n",
       "  <tbody>\n",
       "    <tr>\n",
       "      <th>CR1 Porto Velho/RO</th>\n",
       "      <td>785.4</td>\n",
       "      <td>527.9</td>\n",
       "      <td>2311.2</td>\n",
       "      <td>410.3</td>\n",
       "      <td>1106.9</td>\n",
       "      <td>2024.8</td>\n",
       "      <td>1226.3</td>\n",
       "      <td>8392.8</td>\n",
       "    </tr>\n",
       "    <tr>\n",
       "      <th>CR10 Cuiabá/MT</th>\n",
       "      <td>673.0</td>\n",
       "      <td>854.5</td>\n",
       "      <td>0.0</td>\n",
       "      <td>0.0</td>\n",
       "      <td>0.0</td>\n",
       "      <td>736.4</td>\n",
       "      <td>0.0</td>\n",
       "      <td>2263.9</td>\n",
       "    </tr>\n",
       "    <tr>\n",
       "      <th>CR11 Lagoa Santa/MG</th>\n",
       "      <td>809.7</td>\n",
       "      <td>1123.4</td>\n",
       "      <td>2491.9</td>\n",
       "      <td>2166.4</td>\n",
       "      <td>787.3</td>\n",
       "      <td>1661.0</td>\n",
       "      <td>1592.7</td>\n",
       "      <td>10632.4</td>\n",
       "    </tr>\n",
       "    <tr>\n",
       "      <th>CR2 Manaus/AM</th>\n",
       "      <td>0.0</td>\n",
       "      <td>0.0</td>\n",
       "      <td>291.7</td>\n",
       "      <td>696.9</td>\n",
       "      <td>917.8</td>\n",
       "      <td>211.6</td>\n",
       "      <td>0.0</td>\n",
       "      <td>2118.0</td>\n",
       "    </tr>\n",
       "    <tr>\n",
       "      <th>CR3 Santarém/PA</th>\n",
       "      <td>1273.6</td>\n",
       "      <td>0.0</td>\n",
       "      <td>2284.4</td>\n",
       "      <td>2145.9</td>\n",
       "      <td>877.8</td>\n",
       "      <td>939.0</td>\n",
       "      <td>1080.8</td>\n",
       "      <td>8601.5</td>\n",
       "    </tr>\n",
       "    <tr>\n",
       "      <th>CR4 Belém/PA</th>\n",
       "      <td>0.0</td>\n",
       "      <td>332.6</td>\n",
       "      <td>416.2</td>\n",
       "      <td>0.0</td>\n",
       "      <td>237.7</td>\n",
       "      <td>992.2</td>\n",
       "      <td>231.4</td>\n",
       "      <td>2210.1</td>\n",
       "    </tr>\n",
       "    <tr>\n",
       "      <th>CR5 Parnaíba/PI</th>\n",
       "      <td>0.0</td>\n",
       "      <td>0.0</td>\n",
       "      <td>0.0</td>\n",
       "      <td>0.0</td>\n",
       "      <td>0.0</td>\n",
       "      <td>155.0</td>\n",
       "      <td>0.0</td>\n",
       "      <td>155.0</td>\n",
       "    </tr>\n",
       "    <tr>\n",
       "      <th>CR6 Cabedelo/PB</th>\n",
       "      <td>0.0</td>\n",
       "      <td>549.8</td>\n",
       "      <td>0.0</td>\n",
       "      <td>0.0</td>\n",
       "      <td>0.0</td>\n",
       "      <td>0.0</td>\n",
       "      <td>0.0</td>\n",
       "      <td>549.8</td>\n",
       "    </tr>\n",
       "    <tr>\n",
       "      <th>CR7 Porto Seguro/BA</th>\n",
       "      <td>0.0</td>\n",
       "      <td>0.0</td>\n",
       "      <td>695.4</td>\n",
       "      <td>1040.7</td>\n",
       "      <td>1588.1</td>\n",
       "      <td>830.0</td>\n",
       "      <td>328.8</td>\n",
       "      <td>4483.0</td>\n",
       "    </tr>\n",
       "    <tr>\n",
       "      <th>CR8 Rio de Janeiro/RJ</th>\n",
       "      <td>0.0</td>\n",
       "      <td>0.0</td>\n",
       "      <td>834.2</td>\n",
       "      <td>502.9</td>\n",
       "      <td>0.0</td>\n",
       "      <td>300.4</td>\n",
       "      <td>76.0</td>\n",
       "      <td>1713.5</td>\n",
       "    </tr>\n",
       "    <tr>\n",
       "      <th>CR9 Florianópolis/SC</th>\n",
       "      <td>0.0</td>\n",
       "      <td>157.7</td>\n",
       "      <td>0.0</td>\n",
       "      <td>0.0</td>\n",
       "      <td>487.2</td>\n",
       "      <td>1133.7</td>\n",
       "      <td>0.0</td>\n",
       "      <td>1778.6</td>\n",
       "    </tr>\n",
       "  </tbody>\n",
       "</table>\n",
       "</div>"
      ],
      "text/plain": [
       "                                  2012    2013    2014    2015    2016  \\\n",
       "Coordenação Regional do ICMBio                                           \n",
       "CR1 Porto Velho/RO               785.4   527.9  2311.2   410.3  1106.9   \n",
       "CR10 Cuiabá/MT                   673.0   854.5     0.0     0.0     0.0   \n",
       "CR11 Lagoa Santa/MG              809.7  1123.4  2491.9  2166.4   787.3   \n",
       "CR2 Manaus/AM                      0.0     0.0   291.7   696.9   917.8   \n",
       "CR3 Santarém/PA                 1273.6     0.0  2284.4  2145.9   877.8   \n",
       "CR4 Belém/PA                       0.0   332.6   416.2     0.0   237.7   \n",
       "CR5 Parnaíba/PI                    0.0     0.0     0.0     0.0     0.0   \n",
       "CR6 Cabedelo/PB                    0.0   549.8     0.0     0.0     0.0   \n",
       "CR7 Porto Seguro/BA                0.0     0.0   695.4  1040.7  1588.1   \n",
       "CR8 Rio de Janeiro/RJ              0.0     0.0   834.2   502.9     0.0   \n",
       "CR9 Florianópolis/SC               0.0   157.7     0.0     0.0   487.2   \n",
       "\n",
       "                                  2017    2018    Total  \n",
       "Coordenação Regional do ICMBio                           \n",
       "CR1 Porto Velho/RO              2024.8  1226.3   8392.8  \n",
       "CR10 Cuiabá/MT                   736.4     0.0   2263.9  \n",
       "CR11 Lagoa Santa/MG             1661.0  1592.7  10632.4  \n",
       "CR2 Manaus/AM                    211.6     0.0   2118.0  \n",
       "CR3 Santarém/PA                  939.0  1080.8   8601.5  \n",
       "CR4 Belém/PA                     992.2   231.4   2210.1  \n",
       "CR5 Parnaíba/PI                  155.0     0.0    155.0  \n",
       "CR6 Cabedelo/PB                    0.0     0.0    549.8  \n",
       "CR7 Porto Seguro/BA              830.0   328.8   4483.0  \n",
       "CR8 Rio de Janeiro/RJ            300.4    76.0   1713.5  \n",
       "CR9 Florianópolis/SC            1133.7     0.0   1778.6  "
      ]
     },
     "execution_count": 18,
     "metadata": {},
     "output_type": "execute_result"
    }
   ],
   "source": [
    "#Fiz o agrupamento das queimadas pelas coordenações de cada estado, utilizando o sum() das colunas\n",
    "i =df6[['Área queimada em 2012','Área queimada em 2013','Área queimada em 2014','Área queimada em 2015'\n",
    "        ,'Área queimada em 2016','Área queimada em 2017','Área queimada em 2018'\n",
    "        , 'Total_queimadas']].groupby(base['Coordenação Regional do ICMBio']).sum()\n",
    "\n",
    "#dei um novo nome as colunas das queiadas\n",
    "i.columns=(['2012','2013','2014','2015','2016', '2017','2018','Total'])\n",
    "i\n",
    "\n"
   ]
  },
  {
   "cell_type": "code",
   "execution_count": 19,
   "metadata": {
    "scrolled": true
   },
   "outputs": [
    {
     "data": {
      "text/plain": [
       "<matplotlib.axes._subplots.AxesSubplot at 0xc33a3b0>"
      ]
     },
     "execution_count": 19,
     "metadata": {},
     "output_type": "execute_result"
    },
    {
     "data": {
      "image/png": "[encoded data removed]",
      "text/plain": [
       "<Figure size 432x288 with 1 Axes>"
      ]
     },
     "metadata": {
      "needs_background": "light"
     },
     "output_type": "display_data"
    }
   ],
   "source": [
    "#Gráfico da soma dos valores, veja que o estado de Minas Gerais obteve o maior número de queimadas seguido de Rôndonia e pelo Pará;\n",
    "gf3 = i.iloc[:, 0:7].plot.barh(color='grey', stacked=True, title= 'Gráfico 5: Área queimadas em ha por Estado', legend=None)\n",
    "\n",
    "# no gráfico utilizei o localizador de colunas, passei o empilhamento e fiz estilos.\n",
    "plt.xlabel('Áreas de ha queimados')\n",
    "gf3\n",
    "# eu chamei pelo indíce(index) e pedi em formato de barh"
   ]
  },
  {
   "cell_type": "markdown",
   "metadata": {},
   "source": [
    "****"
   ]
  },
  {
   "cell_type": "markdown",
   "metadata": {},
   "source": [
    "<h2> Criei mais 6 perguntas  dentro do projeto 1 para treinar, porém ainda não é o projeto 2, ele virá em seguida! </h2>"
   ]
  },
  {
   "cell_type": "markdown",
   "metadata": {},
   "source": [
    "<h3>5 - Qual tamanho estimado das áreas das unidades de conservação e os anos que foram criadas?</h3>"
   ]
  },
  {
   "cell_type": "code",
   "execution_count": 20,
   "metadata": {},
   "outputs": [
    {
     "data": {
      "text/plain": [
       "<BarContainer object of 325 artists>"
      ]
     },
     "execution_count": 20,
     "metadata": {},
     "output_type": "execute_result"
    },
    {
     "data": {
      "image/png": "[encoded data removed]",
      "text/plain": [
       "<Figure size 432x288 with 1 Axes>"
      ]
     },
     "metadata": {
      "needs_background": "light"
     },
     "output_type": "display_data"
    }
   ],
   "source": [
    "#Aqui fiz a comparação entre os anos de criação das UCS e a a área estimada das UC's em ha;\n",
    "j = base['Área estimada da UC (ha)']\n",
    "k = base['Ano de criação']\n",
    "plt.xlabel('Ano de criação')\n",
    "\n",
    "#Personalizando o gráfico colocando títulos e legendas de eixos:\n",
    "plt.ylabel('Tamamnho em hectares das UCs')\n",
    "plt.title('Gráfico 6: Tamanho das UCs e ano por ano de criação')\n",
    "gf4 = plt.bar(k,j, color='red')\n",
    "gf4\n",
    "\n"
   ]
  },
  {
   "cell_type": "markdown",
   "metadata": {},
   "source": [
    "<h3>6 - Qual estado tem mais área de conservação em ha e qual tem o menor?</h3>\n",
    "<h5>Estado com maior unidade de conservação: Rondônia\n",
    "<br>Estado com menor unidade de coservação: Mato Grosso</h5>"
   ]
  },
  {
   "cell_type": "code",
   "execution_count": 21,
   "metadata": {},
   "outputs": [
    {
     "data": {
      "text/html": [
       "<div>\n",
       "<style scoped>\n",
       "    .dataframe tbody tr th:only-of-type {\n",
       "        vertical-align: middle;\n",
       "    }\n",
       "\n",
       "    .dataframe tbody tr th {\n",
       "        vertical-align: top;\n",
       "    }\n",
       "\n",
       "    .dataframe thead th {\n",
       "        text-align: right;\n",
       "    }\n",
       "</style>\n",
       "<table border=\"1\" class=\"dataframe\">\n",
       "  <thead>\n",
       "    <tr style=\"text-align: right;\">\n",
       "      <th></th>\n",
       "      <th>Área estimada da UC (ha)</th>\n",
       "    </tr>\n",
       "    <tr>\n",
       "      <th>Coordenação Regional do ICMBio</th>\n",
       "      <th></th>\n",
       "    </tr>\n",
       "  </thead>\n",
       "  <tbody>\n",
       "    <tr>\n",
       "      <th>CR1 Porto Velho/RO</th>\n",
       "      <td>14001.184</td>\n",
       "    </tr>\n",
       "    <tr>\n",
       "      <th>CR10 Cuiabá/MT</th>\n",
       "      <td>1565.043</td>\n",
       "    </tr>\n",
       "    <tr>\n",
       "      <th>CR11 Lagoa Santa/MG</th>\n",
       "      <td>3108.072</td>\n",
       "    </tr>\n",
       "    <tr>\n",
       "      <th>CR2 Manaus/AM</th>\n",
       "      <td>9609.992</td>\n",
       "    </tr>\n",
       "    <tr>\n",
       "      <th>CR3 Santarém/PA</th>\n",
       "      <td>9121.570</td>\n",
       "    </tr>\n",
       "    <tr>\n",
       "      <th>CR4 Belém/PA</th>\n",
       "      <td>5086.840</td>\n",
       "    </tr>\n",
       "    <tr>\n",
       "      <th>CR5 Parnaíba/PI</th>\n",
       "      <td>4069.301</td>\n",
       "    </tr>\n",
       "    <tr>\n",
       "      <th>CR6 Cabedelo/PB</th>\n",
       "      <td>5116.364</td>\n",
       "    </tr>\n",
       "    <tr>\n",
       "      <th>CR7 Porto Seguro/BA</th>\n",
       "      <td>3398.113</td>\n",
       "    </tr>\n",
       "    <tr>\n",
       "      <th>CR8 Rio de Janeiro/RJ</th>\n",
       "      <td>3850.383</td>\n",
       "    </tr>\n",
       "    <tr>\n",
       "      <th>CR9 Florianópolis/SC</th>\n",
       "      <td>5150.115</td>\n",
       "    </tr>\n",
       "  </tbody>\n",
       "</table>\n",
       "</div>"
      ],
      "text/plain": [
       "                                Área estimada da UC (ha)\n",
       "Coordenação Regional do ICMBio                          \n",
       "CR1 Porto Velho/RO                             14001.184\n",
       "CR10 Cuiabá/MT                                  1565.043\n",
       "CR11 Lagoa Santa/MG                             3108.072\n",
       "CR2 Manaus/AM                                   9609.992\n",
       "CR3 Santarém/PA                                 9121.570\n",
       "CR4 Belém/PA                                    5086.840\n",
       "CR5 Parnaíba/PI                                 4069.301\n",
       "CR6 Cabedelo/PB                                 5116.364\n",
       "CR7 Porto Seguro/BA                             3398.113\n",
       "CR8 Rio de Janeiro/RJ                           3850.383\n",
       "CR9 Florianópolis/SC                            5150.115"
      ]
     },
     "execution_count": 21,
     "metadata": {},
     "output_type": "execute_result"
    }
   ],
   "source": [
    "#Aqui fiz soma total da área estimada da uc em \"ha\" e agrupei pelo estado coordenador da ICMBio, por fim transformei em dataframe;\n",
    "l = base['Área estimada da UC (ha)'].groupby(base['Coordenação Regional do ICMBio']).sum()\n",
    "df8 = pd.DataFrame(l)\n",
    "df8"
   ]
  },
  {
   "cell_type": "code",
   "execution_count": 22,
   "metadata": {},
   "outputs": [
    {
     "data": {
      "text/plain": [
       "<matplotlib.axes._subplots.AxesSubplot at 0xc69ec50>"
      ]
     },
     "execution_count": 22,
     "metadata": {},
     "output_type": "execute_result"
    },
    {
     "data": {
      "image/png": "[encoded data removed]",
      "text/plain": [
       "<Figure size 432x288 with 1 Axes>"
      ]
     },
     "metadata": {
      "needs_background": "light"
     },
     "output_type": "display_data"
    }
   ],
   "source": [
    "#Pela visualização da tabela e gráfica podemos ver que o estado com maior área estimada de UC é Rôndonia seguido do  Amazonas e Pará;\n",
    "gf5 = df8.plot.barh(color='black', )\n",
    "\n",
    "#Personalização:\n",
    "plt.title('Gráfico 8: Tamanho da UC por estado')\n",
    "plt.xlabel('Tamanho em Hectares')\n",
    "gf5"
   ]
  },
  {
   "cell_type": "markdown",
   "metadata": {},
   "source": [
    "<h3> 7 - Qual Biomal referencial tem mais áreas queimadas no decorrer dos anos e o que teve menos?</h3>\n",
    "<h5> Amazônia: volume em ha = 21210.7\n",
    "<br>Marinho-Costeiro: volume em ha = 0.0</h5>\n"
   ]
  },
  {
   "cell_type": "code",
   "execution_count": 23,
   "metadata": {},
   "outputs": [
    {
     "data": {
      "text/html": [
       "<div>\n",
       "<style scoped>\n",
       "    .dataframe tbody tr th:only-of-type {\n",
       "        vertical-align: middle;\n",
       "    }\n",
       "\n",
       "    .dataframe tbody tr th {\n",
       "        vertical-align: top;\n",
       "    }\n",
       "\n",
       "    .dataframe thead th {\n",
       "        text-align: right;\n",
       "    }\n",
       "</style>\n",
       "<table border=\"1\" class=\"dataframe\">\n",
       "  <thead>\n",
       "    <tr style=\"text-align: right;\">\n",
       "      <th></th>\n",
       "      <th>Área queimada em 2018</th>\n",
       "      <th>Área queimada em 2017</th>\n",
       "      <th>Área queimada em 2016</th>\n",
       "      <th>Área queimada em 2015</th>\n",
       "      <th>Área queimada em 2014</th>\n",
       "      <th>Área queimada em 2013</th>\n",
       "      <th>Área queimada em 2012</th>\n",
       "      <th>Areas_queimadas</th>\n",
       "    </tr>\n",
       "  </thead>\n",
       "  <tbody>\n",
       "    <tr>\n",
       "      <th>0</th>\n",
       "      <td>0.0</td>\n",
       "      <td>0.0</td>\n",
       "      <td>0.0</td>\n",
       "      <td>0.0</td>\n",
       "      <td>0.0</td>\n",
       "      <td>0.0</td>\n",
       "      <td>0.0</td>\n",
       "      <td>0.0</td>\n",
       "    </tr>\n",
       "    <tr>\n",
       "      <th>1</th>\n",
       "      <td>0.0</td>\n",
       "      <td>182.1</td>\n",
       "      <td>0.0</td>\n",
       "      <td>0.0</td>\n",
       "      <td>0.0</td>\n",
       "      <td>0.0</td>\n",
       "      <td>0.0</td>\n",
       "      <td>182.1</td>\n",
       "    </tr>\n",
       "    <tr>\n",
       "      <th>2</th>\n",
       "      <td>0.0</td>\n",
       "      <td>0.0</td>\n",
       "      <td>0.0</td>\n",
       "      <td>0.0</td>\n",
       "      <td>0.0</td>\n",
       "      <td>0.0</td>\n",
       "      <td>0.0</td>\n",
       "      <td>0.0</td>\n",
       "    </tr>\n",
       "    <tr>\n",
       "      <th>3</th>\n",
       "      <td>0.0</td>\n",
       "      <td>0.0</td>\n",
       "      <td>0.0</td>\n",
       "      <td>0.0</td>\n",
       "      <td>0.0</td>\n",
       "      <td>0.0</td>\n",
       "      <td>0.0</td>\n",
       "      <td>0.0</td>\n",
       "    </tr>\n",
       "    <tr>\n",
       "      <th>4</th>\n",
       "      <td>0.0</td>\n",
       "      <td>260.7</td>\n",
       "      <td>0.0</td>\n",
       "      <td>0.0</td>\n",
       "      <td>0.0</td>\n",
       "      <td>0.0</td>\n",
       "      <td>0.0</td>\n",
       "      <td>260.7</td>\n",
       "    </tr>\n",
       "  </tbody>\n",
       "</table>\n",
       "</div>"
      ],
      "text/plain": [
       "   Área queimada em 2018  Área queimada em 2017  Área queimada em 2016  \\\n",
       "0                    0.0                    0.0                    0.0   \n",
       "1                    0.0                  182.1                    0.0   \n",
       "2                    0.0                    0.0                    0.0   \n",
       "3                    0.0                    0.0                    0.0   \n",
       "4                    0.0                  260.7                    0.0   \n",
       "\n",
       "   Área queimada em 2015  Área queimada em 2014  Área queimada em 2013  \\\n",
       "0                    0.0                    0.0                    0.0   \n",
       "1                    0.0                    0.0                    0.0   \n",
       "2                    0.0                    0.0                    0.0   \n",
       "3                    0.0                    0.0                    0.0   \n",
       "4                    0.0                    0.0                    0.0   \n",
       "\n",
       "   Área queimada em 2012  Areas_queimadas  \n",
       "0                    0.0              0.0  \n",
       "1                    0.0            182.1  \n",
       "2                    0.0              0.0  \n",
       "3                    0.0              0.0  \n",
       "4                    0.0            260.7  "
      ]
     },
     "execution_count": 23,
     "metadata": {},
     "output_type": "execute_result"
    }
   ],
   "source": [
    "#Adicionei ao DataFrame a coluna \"Areas_queimadas\" e fiz a soma das colunas das áreas queimadas, usando o axis=1;\n",
    "base['Areas_queimadas'] = base.iloc[:, 9:16].sum(axis=1)\n",
    "\n",
    "#pedi apenas a localização e e inciais da tabela para visualização:\n",
    "base.iloc[:, 9:17].head() "
   ]
  },
  {
   "cell_type": "markdown",
   "metadata": {},
   "source": [
    "<h5> Gerando o DataFrame do total de áreas queimadas agrupado pelo bioma:</h5>"
   ]
  },
  {
   "cell_type": "code",
   "execution_count": 24,
   "metadata": {},
   "outputs": [
    {
     "data": {
      "text/html": [
       "<div>\n",
       "<style scoped>\n",
       "    .dataframe tbody tr th:only-of-type {\n",
       "        vertical-align: middle;\n",
       "    }\n",
       "\n",
       "    .dataframe tbody tr th {\n",
       "        vertical-align: top;\n",
       "    }\n",
       "\n",
       "    .dataframe thead th {\n",
       "        text-align: right;\n",
       "    }\n",
       "</style>\n",
       "<table border=\"1\" class=\"dataframe\">\n",
       "  <thead>\n",
       "    <tr style=\"text-align: right;\">\n",
       "      <th></th>\n",
       "      <th>Areas_queimadas</th>\n",
       "    </tr>\n",
       "    <tr>\n",
       "      <th>Bioma referencial</th>\n",
       "      <th></th>\n",
       "    </tr>\n",
       "  </thead>\n",
       "  <tbody>\n",
       "    <tr>\n",
       "      <th>Amazônia</th>\n",
       "      <td>21210.7</td>\n",
       "    </tr>\n",
       "    <tr>\n",
       "      <th>Caatinga</th>\n",
       "      <td>356.0</td>\n",
       "    </tr>\n",
       "    <tr>\n",
       "      <th>Cerrado</th>\n",
       "      <td>9721.6</td>\n",
       "    </tr>\n",
       "    <tr>\n",
       "      <th>Marinho-Costeiro</th>\n",
       "      <td>0.0</td>\n",
       "    </tr>\n",
       "    <tr>\n",
       "      <th>Mata Atlântica</th>\n",
       "      <td>10571.7</td>\n",
       "    </tr>\n",
       "    <tr>\n",
       "      <th>Pampas</th>\n",
       "      <td>69.6</td>\n",
       "    </tr>\n",
       "    <tr>\n",
       "      <th>Pantanal</th>\n",
       "      <td>969.0</td>\n",
       "    </tr>\n",
       "  </tbody>\n",
       "</table>\n",
       "</div>"
      ],
      "text/plain": [
       "                   Areas_queimadas\n",
       "Bioma referencial                 \n",
       "Amazônia                   21210.7\n",
       "Caatinga                     356.0\n",
       "Cerrado                     9721.6\n",
       "Marinho-Costeiro               0.0\n",
       "Mata Atlântica             10571.7\n",
       "Pampas                        69.6\n",
       "Pantanal                     969.0"
      ]
     },
     "execution_count": 24,
     "metadata": {},
     "output_type": "execute_result"
    }
   ],
   "source": [
    "#Agrupei o a soma total por sum() de áreas queimadas pelo bioma referencial:\n",
    "m = base['Areas_queimadas'].groupby(base['Bioma referencial']).sum()\n",
    "df9 = pd.DataFrame(m)\n",
    "df9"
   ]
  },
  {
   "cell_type": "code",
   "execution_count": 25,
   "metadata": {
    "scrolled": true
   },
   "outputs": [
    {
     "data": {
      "text/plain": [
       "<BarContainer object of 7 artists>"
      ]
     },
     "execution_count": 25,
     "metadata": {},
     "output_type": "execute_result"
    },
    {
     "data": {
      "image/png": "[encoded data removed]",
      "text/plain": [
       "<Figure size 432x288 with 1 Axes>"
      ]
     },
     "metadata": {
      "needs_background": "light"
     },
     "output_type": "display_data"
    }
   ],
   "source": [
    "#Chamei o total de áreas queimadas pelo bioma referencial;\n",
    "gf6 = plt.barh(df9.index,m, color ='gold')\n",
    "\n",
    "#títulos e nome dos eixos:\n",
    "plt.title('Gráfico 9: Áreas queimadas em hectares por bioma referencial')\n",
    "plt.xlabel('Área queimada em hectares')\n",
    "plt.ylabel('Bioma referencial')\n",
    "gf6\n",
    "#O bioma da Amazônia tem o maior ha de bioma queimado desde 2012 áte 2018;\n",
    "#O que não apresenta é o marinho-costeiro por ser área de alto mar, mas os pampas ainda apresenta o mais baixo."
   ]
  },
  {
   "cell_type": "markdown",
   "metadata": {},
   "source": [
    "<h3> 8 - Qual a evolução média de queimadas desde 2012 até 2018?</h3>"
   ]
  },
  {
   "cell_type": "code",
   "execution_count": 26,
   "metadata": {
    "scrolled": true
   },
   "outputs": [
    {
     "data": {
      "text/plain": [
       "[<matplotlib.lines.Line2D at 0xc83d7b0>]"
      ]
     },
     "execution_count": 26,
     "metadata": {},
     "output_type": "execute_result"
    },
    {
     "data": {
      "image/png": "[encoded data removed]",
      "text/plain": [
       "<Figure size 432x288 with 1 Axes>"
      ]
     },
     "metadata": {
      "needs_background": "light"
     },
     "output_type": "display_data"
    }
   ],
   "source": [
    "# Vemos o grau de evolução da média de queimadas, o ano de 2014 apresentou a maior.\n",
    "n = base.iloc[:, 9:16].mean().sort_index(ascending=True) #localização entre todas linhas e as coluna, pedindo a média\n",
    "o = n.index=(['2012','2013','2014','2015','2016', '2017','2018'])# aqui no índice utlizei outra rotulação;\n",
    "gf7 = plt.plot(o,n, color='darkred', marker='*') \n",
    "\n",
    "#plotei o gráfico  com estilos e marcas no formato linha, colocando nomes de eixos e títulos\n",
    "plt.xlabel('Anos')\n",
    "plt.ylabel('Média de queimadas')\n",
    "plt.title('Gráfico 10: Evolução da média de queimadas por ano')\n",
    "gf7"
   ]
  },
  {
   "cell_type": "code",
   "execution_count": 27,
   "metadata": {},
   "outputs": [
    {
     "data": {
      "text/html": [
       "<div>\n",
       "<style scoped>\n",
       "    .dataframe tbody tr th:only-of-type {\n",
       "        vertical-align: middle;\n",
       "    }\n",
       "\n",
       "    .dataframe tbody tr th {\n",
       "        vertical-align: top;\n",
       "    }\n",
       "\n",
       "    .dataframe thead th {\n",
       "        text-align: right;\n",
       "    }\n",
       "</style>\n",
       "<table border=\"1\" class=\"dataframe\">\n",
       "  <thead>\n",
       "    <tr style=\"text-align: right;\">\n",
       "      <th></th>\n",
       "      <th>Medias_queimadas</th>\n",
       "    </tr>\n",
       "  </thead>\n",
       "  <tbody>\n",
       "    <tr>\n",
       "      <th>2012</th>\n",
       "      <td>10.897538</td>\n",
       "    </tr>\n",
       "    <tr>\n",
       "      <th>2013</th>\n",
       "      <td>10.910462</td>\n",
       "    </tr>\n",
       "    <tr>\n",
       "      <th>2014</th>\n",
       "      <td>28.692308</td>\n",
       "    </tr>\n",
       "    <tr>\n",
       "      <th>2015</th>\n",
       "      <td>21.424923</td>\n",
       "    </tr>\n",
       "    <tr>\n",
       "      <th>2016</th>\n",
       "      <td>18.470154</td>\n",
       "    </tr>\n",
       "    <tr>\n",
       "      <th>2017</th>\n",
       "      <td>27.643385</td>\n",
       "    </tr>\n",
       "    <tr>\n",
       "      <th>2018</th>\n",
       "      <td>13.956923</td>\n",
       "    </tr>\n",
       "  </tbody>\n",
       "</table>\n",
       "</div>"
      ],
      "text/plain": [
       "      Medias_queimadas\n",
       "2012         10.897538\n",
       "2013         10.910462\n",
       "2014         28.692308\n",
       "2015         21.424923\n",
       "2016         18.470154\n",
       "2017         27.643385\n",
       "2018         13.956923"
      ]
     },
     "execution_count": 27,
     "metadata": {},
     "output_type": "execute_result"
    }
   ],
   "source": [
    "#Aqui criei um dataframe aplicando a coluna o nome queimadas e logo depois ao dataframe apliquei nomes de índices.\n",
    "p = pd.DataFrame(n, columns=['Medias_queimadas'])\n",
    "\n",
    "#observe que 2014 e 2017 tiveram os maiores médias de queimadas;\n",
    "p\n"
   ]
  },
  {
   "cell_type": "markdown",
   "metadata": {},
   "source": [
    "<h3>9 - Quais os números de queimadas por grupos de proteção? monte uma tabela e gráfico.</h3>"
   ]
  },
  {
   "cell_type": "code",
   "execution_count": 28,
   "metadata": {},
   "outputs": [
    {
     "data": {
      "text/html": [
       "<div>\n",
       "<style scoped>\n",
       "    .dataframe tbody tr th:only-of-type {\n",
       "        vertical-align: middle;\n",
       "    }\n",
       "\n",
       "    .dataframe tbody tr th {\n",
       "        vertical-align: top;\n",
       "    }\n",
       "\n",
       "    .dataframe thead th {\n",
       "        text-align: right;\n",
       "    }\n",
       "</style>\n",
       "<table border=\"1\" class=\"dataframe\">\n",
       "  <thead>\n",
       "    <tr style=\"text-align: right;\">\n",
       "      <th></th>\n",
       "      <th>Areas_queimadas</th>\n",
       "    </tr>\n",
       "    <tr>\n",
       "      <th>Grupo de Proteção</th>\n",
       "      <th></th>\n",
       "    </tr>\n",
       "  </thead>\n",
       "  <tbody>\n",
       "    <tr>\n",
       "      <th>Proteção Integral</th>\n",
       "      <td>148</td>\n",
       "    </tr>\n",
       "    <tr>\n",
       "      <th>uso sustentável</th>\n",
       "      <td>177</td>\n",
       "    </tr>\n",
       "  </tbody>\n",
       "</table>\n",
       "</div>"
      ],
      "text/plain": [
       "                   Areas_queimadas\n",
       "Grupo de Proteção                 \n",
       "Proteção Integral              148\n",
       "uso sustentável                177"
      ]
     },
     "execution_count": 28,
     "metadata": {},
     "output_type": "execute_result"
    }
   ],
   "source": [
    "#corrigindo um erro que separava duas variáveis por erro ortográfico;\n",
    "base['Grupo de Proteção'] = base['Grupo de Proteção'].str.replace('proteção integral','Proteção Integral')\n",
    "\n",
    "#agrupando os casos totais de queimadas através dos grupos de proteção;\n",
    "r = base['Areas_queimadas'].groupby(base['Grupo de Proteção']).count()\n",
    "s = pd.DataFrame(r)\n",
    "s\n",
    "\n"
   ]
  },
  {
   "cell_type": "code",
   "execution_count": 29,
   "metadata": {},
   "outputs": [
    {
     "data": {
      "text/plain": [
       "<matplotlib.axes._subplots.AxesSubplot at 0xc905250>"
      ]
     },
     "execution_count": 29,
     "metadata": {},
     "output_type": "execute_result"
    },
    {
     "data": {
      "image/png": "[encoded data removed]",
      "text/plain": [
       "<Figure size 504x504 with 1 Axes>"
      ]
     },
     "metadata": {},
     "output_type": "display_data"
    }
   ],
   "source": [
    "#Fiz o gráfico de pizza  do percentual de números de incêndios por grupo de proteção;\n",
    "#utilizei o autopct para dizer o nível percentual de cada um;\n",
    "\n",
    "\n",
    "#Personalização: o gráfico tem uma leve sombra em shadow=True e uma angulação de 189 para melhor visualização.\n",
    "t = s.plot.pie(y='Areas_queimadas', figsize=(7,7), autopct='%1.1f%%', shadow=True, startangle=189, colors=['darkgreen','gold'],\n",
    "               title='Gráfico 11: Número de queimadas por grupo de proteçã - valores %' )\n",
    "\n",
    "#retirando sujeiras no gráfico:\n",
    "plt.ylabel(None)\n",
    "t"
   ]
  },
  {
   "cell_type": "markdown",
   "metadata": {},
   "source": [
    "<h5>54,5% das areás queimadas são de proteção para uso sustentáve;\n",
    "<br>45,4% das áreas queiadas são de proteção iintegra</h5>"
   ]
  },
  {
   "cell_type": "markdown",
   "metadata": {},
   "source": [
    "<h3>10 - Qual  a quantidade de categorias da UC: sigla federal por grupo de proteção? Demonstrando graficamente</h3>"
   ]
  },
  {
   "cell_type": "code",
   "execution_count": 30,
   "metadata": {},
   "outputs": [
    {
     "data": {
      "text/html": [
       "<div>\n",
       "<style scoped>\n",
       "    .dataframe tbody tr th:only-of-type {\n",
       "        vertical-align: middle;\n",
       "    }\n",
       "\n",
       "    .dataframe tbody tr th {\n",
       "        vertical-align: top;\n",
       "    }\n",
       "\n",
       "    .dataframe thead th {\n",
       "        text-align: right;\n",
       "    }\n",
       "</style>\n",
       "<table border=\"1\" class=\"dataframe\">\n",
       "  <thead>\n",
       "    <tr style=\"text-align: right;\">\n",
       "      <th></th>\n",
       "      <th></th>\n",
       "      <th>Quantidade de UCs</th>\n",
       "    </tr>\n",
       "    <tr>\n",
       "      <th>Grupo de Proteção</th>\n",
       "      <th>Categoria da UC: sigla federal</th>\n",
       "      <th></th>\n",
       "    </tr>\n",
       "  </thead>\n",
       "  <tbody>\n",
       "    <tr>\n",
       "      <th rowspan=\"5\" valign=\"top\">Proteção Integral</th>\n",
       "      <th>PARNA</th>\n",
       "      <td>74</td>\n",
       "    </tr>\n",
       "    <tr>\n",
       "      <th>ESEC</th>\n",
       "      <td>32</td>\n",
       "    </tr>\n",
       "    <tr>\n",
       "      <th>REBIO</th>\n",
       "      <td>31</td>\n",
       "    </tr>\n",
       "    <tr>\n",
       "      <th>RVS</th>\n",
       "      <td>8</td>\n",
       "    </tr>\n",
       "    <tr>\n",
       "      <th>MONA</th>\n",
       "      <td>3</td>\n",
       "    </tr>\n",
       "    <tr>\n",
       "      <th rowspan=\"5\" valign=\"top\">uso sustentável</th>\n",
       "      <th>FLONA</th>\n",
       "      <td>67</td>\n",
       "    </tr>\n",
       "    <tr>\n",
       "      <th>RESEX</th>\n",
       "      <td>62</td>\n",
       "    </tr>\n",
       "    <tr>\n",
       "      <th>APA</th>\n",
       "      <td>33</td>\n",
       "    </tr>\n",
       "    <tr>\n",
       "      <th>ARIE</th>\n",
       "      <td>13</td>\n",
       "    </tr>\n",
       "    <tr>\n",
       "      <th>RDS</th>\n",
       "      <td>2</td>\n",
       "    </tr>\n",
       "  </tbody>\n",
       "</table>\n",
       "</div>"
      ],
      "text/plain": [
       "                                                  Quantidade de UCs\n",
       "Grupo de Proteção Categoria da UC: sigla federal                   \n",
       "Proteção Integral PARNA                                          74\n",
       "                  ESEC                                           32\n",
       "                  REBIO                                          31\n",
       "                  RVS                                             8\n",
       "                  MONA                                            3\n",
       "uso sustentável   FLONA                                          67\n",
       "                  RESEX                                          62\n",
       "                  APA                                            33\n",
       "                  ARIE                                           13\n",
       "                  RDS                                             2"
      ]
     },
     "execution_count": 30,
     "metadata": {},
     "output_type": "execute_result"
    }
   ],
   "source": [
    "#Fiz a chamada de um dataframe agrupando as UC's pelos grupos de proteção \n",
    "#pedi a contagem da soma valores por linhas com o value_counts():\n",
    "z= pd.DataFrame(base['Categoria da UC: sigla federal'].groupby(base['Grupo de Proteção']).value_counts())\n",
    "\n",
    "#mudei o nome da coluna para ficar didático\n",
    "z.columns=['Quantidade de UCs']\n",
    "z\n"
   ]
  },
  {
   "cell_type": "markdown",
   "metadata": {},
   "source": [
    "<h5> Plotando o gráfico de forma mais direta: </h5>"
   ]
  },
  {
   "cell_type": "code",
   "execution_count": 31,
   "metadata": {},
   "outputs": [
    {
     "data": {
      "text/plain": [
       "<matplotlib.legend.Legend at 0xc91ff90>"
      ]
     },
     "execution_count": 31,
     "metadata": {},
     "output_type": "execute_result"
    },
    {
     "data": {
      "image/png": "[encoded data removed]",
      "text/plain": [
       "<Figure size 432x288 with 1 Axes>"
      ]
     },
     "metadata": {
      "needs_background": "light"
     },
     "output_type": "display_data"
    }
   ],
   "source": [
    "#Transformei minha base em um dataframe agrupando pelas colunas solicitadas e fiz a plotagem gráfica usando o size() e unstakc()\n",
    "#utilizei o tipo bar e mudei as cores para visualização\n",
    "wu = base.groupby(['Categoria da UC: sigla federal','Grupo de Proteção']).size().unstack().plot(kind='bar', \n",
    "                                                                                                color=['red','navy'])\n",
    "#personalizando gráfico:\n",
    "plt.title('Gráfico 12: Quantidade de sglas de UC por grupo de proteção')\n",
    "plt.ylabel('Quantidade de grupos')\n",
    "plt.legend(loc='best')\n"
   ]
  },
  {
   "cell_type": "markdown",
   "metadata": {},
   "source": [
    "<h1>PROJETO 2 - ANÁLISE EXPLORATÓRIA DE DADOS</h1>\n",
    "<h3> Base de dados do Desmatamento </h3>"
   ]
  },
  {
   "cell_type": "code",
   "execution_count": 32,
   "metadata": {},
   "outputs": [
    {
     "data": {
      "text/html": [
       "<div>\n",
       "<style scoped>\n",
       "    .dataframe tbody tr th:only-of-type {\n",
       "        vertical-align: middle;\n",
       "    }\n",
       "\n",
       "    .dataframe tbody tr th {\n",
       "        vertical-align: top;\n",
       "    }\n",
       "\n",
       "    .dataframe thead th {\n",
       "        text-align: right;\n",
       "    }\n",
       "</style>\n",
       "<table border=\"1\" class=\"dataframe\">\n",
       "  <thead>\n",
       "    <tr style=\"text-align: right;\">\n",
       "      <th></th>\n",
       "      <th>Código CNUC</th>\n",
       "      <th>Nome da UC</th>\n",
       "      <th>Categoria da UC: sigla federal</th>\n",
       "      <th>Categoria da UC: nomenclatura nacional</th>\n",
       "      <th>Grupo de Proteção</th>\n",
       "      <th>Ano de criação</th>\n",
       "      <th>Coordenação Regional do ICMBio</th>\n",
       "      <th>Área estimada da UC (ha)</th>\n",
       "      <th>Bioma referencial</th>\n",
       "      <th>Monitoramento PRODES</th>\n",
       "      <th>...</th>\n",
       "      <th>PRODES 2006</th>\n",
       "      <th>PRODES 2005</th>\n",
       "      <th>PRODES 2004</th>\n",
       "      <th>PRODES 2003</th>\n",
       "      <th>PRODES 2002</th>\n",
       "      <th>PRODES 2001</th>\n",
       "      <th>PRODES (1998 até 2000)</th>\n",
       "      <th>PRODES (acumulado até 1997)</th>\n",
       "      <th>Unnamed: 31</th>\n",
       "      <th>Unnamed: 32</th>\n",
       "    </tr>\n",
       "  </thead>\n",
       "  <tbody>\n",
       "    <tr>\n",
       "      <th>0</th>\n",
       "      <td>cnuc</td>\n",
       "      <td>uc</td>\n",
       "      <td>catsigla</td>\n",
       "      <td>catnome</td>\n",
       "      <td>grupo</td>\n",
       "      <td>criacao</td>\n",
       "      <td>cr</td>\n",
       "      <td>area_geo</td>\n",
       "      <td>biocgfun</td>\n",
       "      <td>prodes</td>\n",
       "      <td>...</td>\n",
       "      <td>2006</td>\n",
       "      <td>2005</td>\n",
       "      <td>2004</td>\n",
       "      <td>2003</td>\n",
       "      <td>2002</td>\n",
       "      <td>2001</td>\n",
       "      <td>2000</td>\n",
       "      <td>1997</td>\n",
       "      <td>NaN</td>\n",
       "      <td>NaN</td>\n",
       "    </tr>\n",
       "    <tr>\n",
       "      <th>1</th>\n",
       "      <td>0000.00.0001</td>\n",
       "      <td>APA Anhatomirim</td>\n",
       "      <td>APA</td>\n",
       "      <td>Área de Proteção Ambiental</td>\n",
       "      <td>uso sustentável</td>\n",
       "      <td>1992</td>\n",
       "      <td>CR9 Florianópolis/SC</td>\n",
       "      <td>4.437</td>\n",
       "      <td>Marinho-Costeiro</td>\n",
       "      <td>Não</td>\n",
       "      <td>...</td>\n",
       "      <td>NaN</td>\n",
       "      <td>NaN</td>\n",
       "      <td>NaN</td>\n",
       "      <td>NaN</td>\n",
       "      <td>NaN</td>\n",
       "      <td>NaN</td>\n",
       "      <td>NaN</td>\n",
       "      <td>NaN</td>\n",
       "      <td>NaN</td>\n",
       "      <td>NaN</td>\n",
       "    </tr>\n",
       "    <tr>\n",
       "      <th>2</th>\n",
       "      <td>0000.00.1521</td>\n",
       "      <td>APA Bacia Hidrográfica do Rio Paraíba do Sul</td>\n",
       "      <td>APA</td>\n",
       "      <td>Área de Proteção Ambiental</td>\n",
       "      <td>uso sustentável</td>\n",
       "      <td>1982</td>\n",
       "      <td>CR8 Rio de Janeiro/RJ</td>\n",
       "      <td>292.600</td>\n",
       "      <td>Mata Atlântica</td>\n",
       "      <td>Não</td>\n",
       "      <td>...</td>\n",
       "      <td>NaN</td>\n",
       "      <td>NaN</td>\n",
       "      <td>NaN</td>\n",
       "      <td>NaN</td>\n",
       "      <td>NaN</td>\n",
       "      <td>NaN</td>\n",
       "      <td>NaN</td>\n",
       "      <td>NaN</td>\n",
       "      <td>NaN</td>\n",
       "      <td>NaN</td>\n",
       "    </tr>\n",
       "    <tr>\n",
       "      <th>3</th>\n",
       "      <td>0000.00.0007</td>\n",
       "      <td>APA Barra do Rio Mamanguape</td>\n",
       "      <td>APA</td>\n",
       "      <td>Área de Proteção Ambiental</td>\n",
       "      <td>uso sustentável</td>\n",
       "      <td>1993</td>\n",
       "      <td>CR6 Cabedelo/PB</td>\n",
       "      <td>14.918</td>\n",
       "      <td>Marinho-Costeiro</td>\n",
       "      <td>Não</td>\n",
       "      <td>...</td>\n",
       "      <td>NaN</td>\n",
       "      <td>NaN</td>\n",
       "      <td>NaN</td>\n",
       "      <td>NaN</td>\n",
       "      <td>NaN</td>\n",
       "      <td>NaN</td>\n",
       "      <td>NaN</td>\n",
       "      <td>NaN</td>\n",
       "      <td>NaN</td>\n",
       "      <td>NaN</td>\n",
       "    </tr>\n",
       "    <tr>\n",
       "      <th>4</th>\n",
       "      <td>0000.00.0020</td>\n",
       "      <td>APA Carste da Lagoa Santa</td>\n",
       "      <td>APA</td>\n",
       "      <td>Área de Proteção Ambiental</td>\n",
       "      <td>uso sustentável</td>\n",
       "      <td>1990</td>\n",
       "      <td>CR11 Lagoa Santa/MG</td>\n",
       "      <td>39.957</td>\n",
       "      <td>Cerrado</td>\n",
       "      <td>Sim</td>\n",
       "      <td>...</td>\n",
       "      <td>293,4</td>\n",
       "      <td>293,4</td>\n",
       "      <td>390,7</td>\n",
       "      <td>390,7</td>\n",
       "      <td>333,1</td>\n",
       "      <td>333,1</td>\n",
       "      <td>24.379,8</td>\n",
       "      <td>NaN</td>\n",
       "      <td>NaN</td>\n",
       "      <td>NaN</td>\n",
       "    </tr>\n",
       "  </tbody>\n",
       "</table>\n",
       "<p>5 rows × 33 columns</p>\n",
       "</div>"
      ],
      "text/plain": [
       "    Código CNUC                                    Nome da UC  \\\n",
       "0          cnuc                                            uc   \n",
       "1  0000.00.0001                               APA Anhatomirim   \n",
       "2  0000.00.1521  APA Bacia Hidrográfica do Rio Paraíba do Sul   \n",
       "3  0000.00.0007                   APA Barra do Rio Mamanguape   \n",
       "4  0000.00.0020                     APA Carste da Lagoa Santa   \n",
       "\n",
       "  Categoria da UC: sigla federal Categoria da UC: nomenclatura nacional  \\\n",
       "0                       catsigla                                catnome   \n",
       "1                            APA             Área de Proteção Ambiental   \n",
       "2                            APA             Área de Proteção Ambiental   \n",
       "3                            APA             Área de Proteção Ambiental   \n",
       "4                            APA             Área de Proteção Ambiental   \n",
       "\n",
       "  Grupo de Proteção Ano de criação Coordenação Regional do ICMBio  \\\n",
       "0             grupo        criacao                             cr   \n",
       "1   uso sustentável           1992           CR9 Florianópolis/SC   \n",
       "2   uso sustentável           1982          CR8 Rio de Janeiro/RJ   \n",
       "3   uso sustentável           1993                CR6 Cabedelo/PB   \n",
       "4   uso sustentável           1990            CR11 Lagoa Santa/MG   \n",
       "\n",
       "  Área estimada da UC (ha) Bioma referencial Monitoramento PRODES  ...  \\\n",
       "0                 area_geo          biocgfun               prodes  ...   \n",
       "1                    4.437  Marinho-Costeiro                  Não  ...   \n",
       "2                  292.600    Mata Atlântica                  Não  ...   \n",
       "3                   14.918  Marinho-Costeiro                  Não  ...   \n",
       "4                   39.957           Cerrado                  Sim  ...   \n",
       "\n",
       "  PRODES 2006 PRODES 2005 PRODES 2004 PRODES 2003 PRODES 2002 PRODES 2001  \\\n",
       "0        2006        2005        2004        2003        2002        2001   \n",
       "1         NaN         NaN         NaN         NaN         NaN         NaN   \n",
       "2         NaN         NaN         NaN         NaN         NaN         NaN   \n",
       "3         NaN         NaN         NaN         NaN         NaN         NaN   \n",
       "4       293,4       293,4       390,7       390,7       333,1       333,1   \n",
       "\n",
       "  PRODES (1998 até 2000) PRODES (acumulado até 1997) Unnamed: 31 Unnamed: 32  \n",
       "0                   2000                        1997         NaN         NaN  \n",
       "1                    NaN                         NaN         NaN         NaN  \n",
       "2                    NaN                         NaN         NaN         NaN  \n",
       "3                    NaN                         NaN         NaN         NaN  \n",
       "4               24.379,8                         NaN         NaN         NaN  \n",
       "\n",
       "[5 rows x 33 columns]"
      ]
     },
     "execution_count": 32,
     "metadata": {},
     "output_type": "execute_result"
    }
   ],
   "source": [
    "#Chamando a base de dados\n",
    "dados = pd.read_csv('http://www.icmbio.gov.br/acessoainformacao/images/stories/PDA/Planilhas/Planilhas_CSV/DIMIF_desmatamento.csv', sep=';')\n",
    "\n",
    "#Chamando a base de dados para primeiras observações:\n",
    "dados.head()"
   ]
  },
  {
   "cell_type": "code",
   "execution_count": 33,
   "metadata": {},
   "outputs": [
    {
     "name": "stdout",
     "output_type": "stream",
     "text": [
      "<class 'pandas.core.frame.DataFrame'>\n",
      "RangeIndex: 328 entries, 0 to 327\n",
      "Data columns (total 33 columns):\n",
      "Código CNUC                               328 non-null object\n",
      "Nome da UC                                328 non-null object\n",
      "Categoria da UC: sigla federal            328 non-null object\n",
      "Categoria da UC: nomenclatura nacional    328 non-null object\n",
      "Grupo de Proteção                         328 non-null object\n",
      "Ano de criação                            328 non-null object\n",
      "Coordenação Regional do ICMBio            328 non-null object\n",
      "Área estimada da UC (ha)                  328 non-null object\n",
      "Bioma referencial                         328 non-null object\n",
      "Monitoramento PRODES                      328 non-null object\n",
      "PRODES 2018                               102 non-null object\n",
      "PRODES 2017                               98 non-null object\n",
      "PRODES 2016                               96 non-null object\n",
      "PRODES 2015                               98 non-null object\n",
      "PRODES 2014                               101 non-null object\n",
      "PRODES 2013                               107 non-null object\n",
      "PRODES 2012                               91 non-null object\n",
      "PRODES 2011                               102 non-null object\n",
      "PRODES 2010                               113 non-null object\n",
      "PRODES 2009                               100 non-null object\n",
      "PRODES 2008                               123 non-null object\n",
      "Unnamed: 21                               0 non-null float64\n",
      "PRODES 2007                               114 non-null object\n",
      "PRODES 2006                               113 non-null object\n",
      "PRODES 2005                               126 non-null object\n",
      "PRODES 2004                               136 non-null object\n",
      "PRODES 2003                               139 non-null object\n",
      "PRODES 2002                               120 non-null object\n",
      "PRODES 2001                               137 non-null object\n",
      "PRODES (1998 até 2000)                    127 non-null object\n",
      "PRODES (acumulado até 1997)               109 non-null object\n",
      "Unnamed: 31                               0 non-null float64\n",
      "Unnamed: 32                               0 non-null float64\n",
      "dtypes: float64(3), object(30)\n",
      "memory usage: 46.2+ KB\n"
     ]
    }
   ],
   "source": [
    "#Pedindo informações da base de dados\n",
    "dados.info()"
   ]
  },
  {
   "cell_type": "code",
   "execution_count": 34,
   "metadata": {},
   "outputs": [],
   "source": [
    "#Eliminando a primeira linha do conjunto de dados com o comando .drop(), na linha usei o index e  axis para linha ou coluna;\n",
    "#Estes conjuntos eliminados não agregavam nada ao Dataframe, só poluindo visualmente\n",
    "dados =dados.drop(index=0, axis=0)\n",
    "dados =dados.drop(columns=['Unnamed: 21', 'Unnamed: 31','Unnamed: 32'], axis=1)\n"
   ]
  },
  {
   "cell_type": "code",
   "execution_count": 35,
   "metadata": {},
   "outputs": [],
   "source": [
    "# substituindo pontos por linhas para posteriormente transformar em númerico pelo comando .replace()\n",
    "dados.iloc[:, 10:]=dados.iloc[:, 10:].replace(',','.', regex=True)"
   ]
  },
  {
   "cell_type": "code",
   "execution_count": 36,
   "metadata": {},
   "outputs": [],
   "source": [
    "#Transformando o Dataframe em númerico usando o .apply e pedindo para númerico forçando so valores strings para NaN\n",
    "dados.iloc[:, 10:]=dados.iloc[:, 10:].apply(pd.to_numeric, errors='coerce')"
   ]
  },
  {
   "cell_type": "code",
   "execution_count": 37,
   "metadata": {},
   "outputs": [],
   "source": [
    "#Preenchendo com zero os valores NaN atráves da localização de or indeice de colunas .iloc()\n",
    "dados.iloc[:, 10:]=dados.iloc[:, 10:].fillna(0)"
   ]
  },
  {
   "cell_type": "markdown",
   "metadata": {},
   "source": [
    "<h3>1 - Qual é o total de monitoramento do PRODES por bioma referencial? </h3>\n",
    "<h5> Fiz o agrupamento bem detalhado pelo DataFrame e fiz o gráfico com as repestas:\n",
    "<br> Não monitorados: 153 \n",
    "<br> Monitorados: 174</h5>"
   ]
  },
  {
   "cell_type": "code",
   "execution_count": 38,
   "metadata": {},
   "outputs": [
    {
     "data": {
      "text/html": [
       "<div>\n",
       "<style scoped>\n",
       "    .dataframe tbody tr th:only-of-type {\n",
       "        vertical-align: middle;\n",
       "    }\n",
       "\n",
       "    .dataframe tbody tr th {\n",
       "        vertical-align: top;\n",
       "    }\n",
       "\n",
       "    .dataframe thead th {\n",
       "        text-align: right;\n",
       "    }\n",
       "</style>\n",
       "<table border=\"1\" class=\"dataframe\">\n",
       "  <thead>\n",
       "    <tr style=\"text-align: right;\">\n",
       "      <th></th>\n",
       "      <th></th>\n",
       "      <th>Quantidade por Bioma</th>\n",
       "    </tr>\n",
       "    <tr>\n",
       "      <th>Monitoramento PRODES</th>\n",
       "      <th>Bioma referencial</th>\n",
       "      <th></th>\n",
       "    </tr>\n",
       "  </thead>\n",
       "  <tbody>\n",
       "    <tr>\n",
       "      <th rowspan=\"7\" valign=\"top\">Não</th>\n",
       "      <th>Mata Atlântica</th>\n",
       "      <td>91</td>\n",
       "    </tr>\n",
       "    <tr>\n",
       "      <th>Marinho-Costeiro</th>\n",
       "      <td>30</td>\n",
       "    </tr>\n",
       "    <tr>\n",
       "      <th>Caatinga</th>\n",
       "      <td>22</td>\n",
       "    </tr>\n",
       "    <tr>\n",
       "      <th>Amazônia</th>\n",
       "      <td>3</td>\n",
       "    </tr>\n",
       "    <tr>\n",
       "      <th>Pampas</th>\n",
       "      <td>3</td>\n",
       "    </tr>\n",
       "    <tr>\n",
       "      <th>Cerrado</th>\n",
       "      <td>2</td>\n",
       "    </tr>\n",
       "    <tr>\n",
       "      <th>Pantanal</th>\n",
       "      <td>2</td>\n",
       "    </tr>\n",
       "    <tr>\n",
       "      <th rowspan=\"5\" valign=\"top\">Sim</th>\n",
       "      <th>Amazônia</th>\n",
       "      <td>125</td>\n",
       "    </tr>\n",
       "    <tr>\n",
       "      <th>Cerrado</th>\n",
       "      <td>43</td>\n",
       "    </tr>\n",
       "    <tr>\n",
       "      <th>Marinho-Costeiro</th>\n",
       "      <td>3</td>\n",
       "    </tr>\n",
       "    <tr>\n",
       "      <th>Caatinga</th>\n",
       "      <td>2</td>\n",
       "    </tr>\n",
       "    <tr>\n",
       "      <th>Mata Atlântica</th>\n",
       "      <td>1</td>\n",
       "    </tr>\n",
       "  </tbody>\n",
       "</table>\n",
       "</div>"
      ],
      "text/plain": [
       "                                        Quantidade por Bioma\n",
       "Monitoramento PRODES Bioma referencial                      \n",
       "Não                  Mata Atlântica                       91\n",
       "                     Marinho-Costeiro                     30\n",
       "                     Caatinga                             22\n",
       "                     Amazônia                              3\n",
       "                     Pampas                                3\n",
       "                     Cerrado                               2\n",
       "                     Pantanal                              2\n",
       "Sim                  Amazônia                            125\n",
       "                     Cerrado                              43\n",
       "                     Marinho-Costeiro                      3\n",
       "                     Caatinga                              2\n",
       "                     Mata Atlântica                        1"
      ]
     },
     "execution_count": 38,
     "metadata": {},
     "output_type": "execute_result"
    }
   ],
   "source": [
    "dados.iloc[:, 10:]=dados.iloc[:, 10:].apply(pd.to_numeric, errors='coerce')\n",
    "#Agrupando os dados com o groupby e pedindo a contagens de valores\n",
    "moni= dados['Bioma referencial'].groupby(dados['Monitoramento PRODES']).value_counts()\n",
    "#chamando um dataframe:\n",
    "moniD= pd.DataFrame(moni)\n",
    "moniD.columns=['Quantidade por Bioma']\n",
    "moniD"
   ]
  },
  {
   "cell_type": "code",
   "execution_count": 39,
   "metadata": {},
   "outputs": [
    {
     "data": {
      "text/plain": [
       "Monitoramento PRODES\n",
       "Não    153\n",
       "Sim    174\n",
       "Name: Bioma referencial, dtype: int64"
      ]
     },
     "execution_count": 39,
     "metadata": {},
     "output_type": "execute_result"
    },
    {
     "data": {
      "image/png": "[encoded data removed]",
      "text/plain": [
       "<Figure size 432x288 with 1 Axes>"
      ]
     },
     "metadata": {
      "needs_background": "light"
     },
     "output_type": "display_data"
    }
   ],
   "source": [
    "#Realizando o gráfico do Dataframe mas por contagem:\n",
    "moniG = dados['Bioma referencial'].groupby(dados['Monitoramento PRODES']).count()\n",
    "\n",
    "#Estilizando e criando o gráfico:\n",
    "moniG.plot.bar(title='Gráfico 13: Total de Biomas monitorados pelo PRODES', color=['red','navy'])\n",
    "plt.ylabel('Quantidade de Biomas')\n",
    "moniG"
   ]
  },
  {
   "cell_type": "markdown",
   "metadata": {},
   "source": [
    "<h3> 2 - Demonstre a evolução das aréas de desmatamento segundo os dados do PRODES de 1998 até 2018, qual governo tem o maior ano de desmatamento e o que tem o menor?</h3>\n",
    "<h5> O ano com maior desmatamento é o de 2003, durante o primeiro mandata do presidente Lula;\n",
    "<br> O ano com menor desmatamento  é o de 2015, durante o íncio do segundo mantado de Dilma Roussef.</h5>"
   ]
  },
  {
   "cell_type": "code",
   "execution_count": 40,
   "metadata": {},
   "outputs": [
    {
     "data": {
      "text/html": [
       "<div>\n",
       "<style scoped>\n",
       "    .dataframe tbody tr th:only-of-type {\n",
       "        vertical-align: middle;\n",
       "    }\n",
       "\n",
       "    .dataframe tbody tr th {\n",
       "        vertical-align: top;\n",
       "    }\n",
       "\n",
       "    .dataframe thead th {\n",
       "        text-align: right;\n",
       "    }\n",
       "</style>\n",
       "<table border=\"1\" class=\"dataframe\">\n",
       "  <thead>\n",
       "    <tr style=\"text-align: right;\">\n",
       "      <th></th>\n",
       "      <th>Evolução do Desmatamento</th>\n",
       "    </tr>\n",
       "  </thead>\n",
       "  <tbody>\n",
       "    <tr>\n",
       "      <th>PRODES (1998 até 2000)</th>\n",
       "      <td>20772.1</td>\n",
       "    </tr>\n",
       "    <tr>\n",
       "      <th>PRODES 2001</th>\n",
       "      <td>16514.4</td>\n",
       "    </tr>\n",
       "    <tr>\n",
       "      <th>PRODES 2002</th>\n",
       "      <td>17502.7</td>\n",
       "    </tr>\n",
       "    <tr>\n",
       "      <th>PRODES 2003</th>\n",
       "      <td>21161.5</td>\n",
       "    </tr>\n",
       "    <tr>\n",
       "      <th>PRODES 2004</th>\n",
       "      <td>17719.0</td>\n",
       "    </tr>\n",
       "    <tr>\n",
       "      <th>PRODES 2005</th>\n",
       "      <td>19473.8</td>\n",
       "    </tr>\n",
       "    <tr>\n",
       "      <th>PRODES 2006</th>\n",
       "      <td>16823.8</td>\n",
       "    </tr>\n",
       "    <tr>\n",
       "      <th>PRODES 2007</th>\n",
       "      <td>15795.6</td>\n",
       "    </tr>\n",
       "    <tr>\n",
       "      <th>PRODES 2008</th>\n",
       "      <td>18707.8</td>\n",
       "    </tr>\n",
       "    <tr>\n",
       "      <th>PRODES 2009</th>\n",
       "      <td>12992.7</td>\n",
       "    </tr>\n",
       "    <tr>\n",
       "      <th>PRODES 2010</th>\n",
       "      <td>15629.5</td>\n",
       "    </tr>\n",
       "    <tr>\n",
       "      <th>PRODES 2011</th>\n",
       "      <td>13201.4</td>\n",
       "    </tr>\n",
       "    <tr>\n",
       "      <th>PRODES 2012</th>\n",
       "      <td>11266.1</td>\n",
       "    </tr>\n",
       "    <tr>\n",
       "      <th>PRODES 2013</th>\n",
       "      <td>12210.5</td>\n",
       "    </tr>\n",
       "    <tr>\n",
       "      <th>PRODES 2014</th>\n",
       "      <td>9913.6</td>\n",
       "    </tr>\n",
       "    <tr>\n",
       "      <th>PRODES 2015</th>\n",
       "      <td>9447.0</td>\n",
       "    </tr>\n",
       "    <tr>\n",
       "      <th>PRODES 2016</th>\n",
       "      <td>9922.8</td>\n",
       "    </tr>\n",
       "    <tr>\n",
       "      <th>PRODES 2017</th>\n",
       "      <td>11933.6</td>\n",
       "    </tr>\n",
       "    <tr>\n",
       "      <th>PRODES 2018</th>\n",
       "      <td>11404.7</td>\n",
       "    </tr>\n",
       "  </tbody>\n",
       "</table>\n",
       "</div>"
      ],
      "text/plain": [
       "                        Evolução do Desmatamento\n",
       "PRODES (1998 até 2000)                   20772.1\n",
       "PRODES 2001                              16514.4\n",
       "PRODES 2002                              17502.7\n",
       "PRODES 2003                              21161.5\n",
       "PRODES 2004                              17719.0\n",
       "PRODES 2005                              19473.8\n",
       "PRODES 2006                              16823.8\n",
       "PRODES 2007                              15795.6\n",
       "PRODES 2008                              18707.8\n",
       "PRODES 2009                              12992.7\n",
       "PRODES 2010                              15629.5\n",
       "PRODES 2011                              13201.4\n",
       "PRODES 2012                              11266.1\n",
       "PRODES 2013                              12210.5\n",
       "PRODES 2014                               9913.6\n",
       "PRODES 2015                               9447.0\n",
       "PRODES 2016                               9922.8\n",
       "PRODES 2017                              11933.6\n",
       "PRODES 2018                              11404.7"
      ]
     },
     "execution_count": 40,
     "metadata": {},
     "output_type": "execute_result"
    }
   ],
   "source": [
    "#localização dos registro no dataframe pelo comando .iloc() para somar por .sum() e ordenação pelo .sort_index():\n",
    "evoD = dados.iloc[:, 10:29].sum().sort_index()\n",
    "\n",
    "#criação do dataframe:\n",
    "evoData = pd.DataFrame(evoD)\n",
    "\n",
    "#dando um nome a coluna do DataFrame:\n",
    "evoData.columns=['Evolução do Desmatamento']\n",
    "evoData"
   ]
  },
  {
   "cell_type": "markdown",
   "metadata": {},
   "source": [
    "<h5>gerando o gráfico de evolução das áreas desmatadas:</h5>"
   ]
  },
  {
   "cell_type": "code",
   "execution_count": 41,
   "metadata": {},
   "outputs": [
    {
     "data": {
      "text/plain": [
       "Text(0.5, 1.0, 'Gráfico 14: Evolução da área de desmatamento, 1998 - 2018.')"
      ]
     },
     "execution_count": 41,
     "metadata": {},
     "output_type": "execute_result"
    },
    {
     "data": {
      "image/png": "[encoded data removed]",
      "text/plain": [
       "<Figure size 432x288 with 1 Axes>"
      ]
     },
     "metadata": {
      "needs_background": "light"
     },
     "output_type": "display_data"
    }
   ],
   "source": [
    "#pedindo pra plotar o gráfico do tiro bar:\n",
    "evoData.plot.bar(color='brown')\n",
    "\n",
    "#rotulando eixos e títulos:\n",
    "plt.ylabel('Total e áreas queimadas')\n",
    "plt.xlabel('Ano segundo o PRODES')\n",
    "plt.title('Gráfico 14: Evolução da área de desmatamento, 1998 - 2018.')"
   ]
  },
  {
   "cell_type": "markdown",
   "metadata": {},
   "source": [
    "<h3> 3 - Qual o total de área desmatada por bioma referencial? 1998-2018</h3>\n",
    "<h5> Veja que a área mais desmatada é o bioma da Amazônia seguido pelo bioma do cerrado, panpas e pantanal não apresentaram dados de desmatamento pelo PRODES.</h5>"
   ]
  },
  {
   "cell_type": "code",
   "execution_count": 42,
   "metadata": {},
   "outputs": [
    {
     "data": {
      "text/html": [
       "<div>\n",
       "<style scoped>\n",
       "    .dataframe tbody tr th:only-of-type {\n",
       "        vertical-align: middle;\n",
       "    }\n",
       "\n",
       "    .dataframe tbody tr th {\n",
       "        vertical-align: top;\n",
       "    }\n",
       "\n",
       "    .dataframe thead th {\n",
       "        text-align: right;\n",
       "    }\n",
       "</style>\n",
       "<table border=\"1\" class=\"dataframe\">\n",
       "  <thead>\n",
       "    <tr style=\"text-align: right;\">\n",
       "      <th></th>\n",
       "      <th>Desmata_1998-2018</th>\n",
       "    </tr>\n",
       "    <tr>\n",
       "      <th>Bioma referencial</th>\n",
       "      <th></th>\n",
       "    </tr>\n",
       "  </thead>\n",
       "  <tbody>\n",
       "    <tr>\n",
       "      <th>Amazônia</th>\n",
       "      <td>195823.4</td>\n",
       "    </tr>\n",
       "    <tr>\n",
       "      <th>Caatinga</th>\n",
       "      <td>3442.6</td>\n",
       "    </tr>\n",
       "    <tr>\n",
       "      <th>Cerrado</th>\n",
       "      <td>75598.0</td>\n",
       "    </tr>\n",
       "    <tr>\n",
       "      <th>Marinho-Costeiro</th>\n",
       "      <td>7507.2</td>\n",
       "    </tr>\n",
       "    <tr>\n",
       "      <th>Mata Atlântica</th>\n",
       "      <td>21.4</td>\n",
       "    </tr>\n",
       "    <tr>\n",
       "      <th>Pampas</th>\n",
       "      <td>0.0</td>\n",
       "    </tr>\n",
       "    <tr>\n",
       "      <th>Pantanal</th>\n",
       "      <td>0.0</td>\n",
       "    </tr>\n",
       "  </tbody>\n",
       "</table>\n",
       "</div>"
      ],
      "text/plain": [
       "                   Desmata_1998-2018\n",
       "Bioma referencial                   \n",
       "Amazônia                    195823.4\n",
       "Caatinga                      3442.6\n",
       "Cerrado                      75598.0\n",
       "Marinho-Costeiro              7507.2\n",
       "Mata Atlântica                  21.4\n",
       "Pampas                           0.0\n",
       "Pantanal                         0.0"
      ]
     },
     "execution_count": 42,
     "metadata": {},
     "output_type": "execute_result"
    }
   ],
   "source": [
    "#criei uma nova coluna localizando os valores pelo .iloc que eu quis somar para inserir na coluna via .sum() e usando o axis=1\n",
    "dados['Desmata_1998-2018'] = dados.iloc[:, 10:29].sum(axis=1)\n",
    "\n",
    "#Fiz o agrpamento da nova coluna pelo.groupby() pelo bioma refencial e ainda pedi a soma dos valores\n",
    "medI = dados['Desmata_1998-2018'].groupby(dados['Bioma referencial']).sum()\n",
    "\n",
    "#transformei meus dados em um DataFrame\n",
    "biomeD = pd.DataFrame(medI)\n",
    "biomeD"
   ]
  },
  {
   "cell_type": "markdown",
   "metadata": {},
   "source": [
    "<h5>plotando a base gráfica do desmatamento pela bioma referencial:</h5>"
   ]
  },
  {
   "cell_type": "code",
   "execution_count": 43,
   "metadata": {},
   "outputs": [
    {
     "data": {
      "text/plain": [
       "Text(0.5, 1.0, 'Gráfico 15: Área desmatada por bioma referencial,  1998 - 2018.')"
      ]
     },
     "execution_count": 43,
     "metadata": {},
     "output_type": "execute_result"
    },
    {
     "data": {
      "image/png": "[encoded data removed]",
      "text/plain": [
       "<Figure size 432x288 with 1 Axes>"
      ]
     },
     "metadata": {
      "needs_background": "light"
     },
     "output_type": "display_data"
    }
   ],
   "source": [
    "#criando o tipo de gráfico bar com cor laranja\n",
    "biomeD.plot(kind='bar',color='orange')\n",
    "\n",
    "#estilizando texto de eixos e títulos\n",
    "plt.ylabel('Área total desmatada')\n",
    "plt.xlabel(None)\n",
    "plt.Text(1.0)\n",
    "plt.title('Gráfico 15: Área desmatada por bioma referencial,  1998 - 2018.')"
   ]
  },
  {
   "cell_type": "markdown",
   "metadata": {},
   "source": [
    "<h3> 4 - Frequência da Categoria da UC: sigla federal. </h3>"
   ]
  },
  {
   "cell_type": "code",
   "execution_count": 44,
   "metadata": {},
   "outputs": [
    {
     "data": {
      "text/html": [
       "<div>\n",
       "<style scoped>\n",
       "    .dataframe tbody tr th:only-of-type {\n",
       "        vertical-align: middle;\n",
       "    }\n",
       "\n",
       "    .dataframe tbody tr th {\n",
       "        vertical-align: top;\n",
       "    }\n",
       "\n",
       "    .dataframe thead th {\n",
       "        text-align: right;\n",
       "    }\n",
       "</style>\n",
       "<table border=\"1\" class=\"dataframe\">\n",
       "  <thead>\n",
       "    <tr style=\"text-align: right;\">\n",
       "      <th>Monitoramento PRODES</th>\n",
       "      <th>Não</th>\n",
       "      <th>Sim</th>\n",
       "    </tr>\n",
       "    <tr>\n",
       "      <th>Coordenação Regional do ICMBio</th>\n",
       "      <th></th>\n",
       "      <th></th>\n",
       "    </tr>\n",
       "  </thead>\n",
       "  <tbody>\n",
       "    <tr>\n",
       "      <th>CR4 Belém/PA</th>\n",
       "      <td>1.0</td>\n",
       "      <td>38.0</td>\n",
       "    </tr>\n",
       "    <tr>\n",
       "      <th>CR1 Porto Velho/RO</th>\n",
       "      <td>1.0</td>\n",
       "      <td>40.0</td>\n",
       "    </tr>\n",
       "    <tr>\n",
       "      <th>CR10 Cuiabá/MT</th>\n",
       "      <td>2.0</td>\n",
       "      <td>8.0</td>\n",
       "    </tr>\n",
       "    <tr>\n",
       "      <th>CR2 Manaus/AM</th>\n",
       "      <td>2.0</td>\n",
       "      <td>27.0</td>\n",
       "    </tr>\n",
       "    <tr>\n",
       "      <th>CR5 Parnaíba/PI</th>\n",
       "      <td>7.0</td>\n",
       "      <td>11.0</td>\n",
       "    </tr>\n",
       "    <tr>\n",
       "      <th>CR11 Lagoa Santa/MG</th>\n",
       "      <td>7.0</td>\n",
       "      <td>22.0</td>\n",
       "    </tr>\n",
       "    <tr>\n",
       "      <th>CR7 Porto Seguro/BA</th>\n",
       "      <td>28.0</td>\n",
       "      <td>1.0</td>\n",
       "    </tr>\n",
       "    <tr>\n",
       "      <th>CR8 Rio de Janeiro/RJ</th>\n",
       "      <td>32.0</td>\n",
       "      <td>3.0</td>\n",
       "    </tr>\n",
       "    <tr>\n",
       "      <th>CR6 Cabedelo/PB</th>\n",
       "      <td>32.0</td>\n",
       "      <td>NaN</td>\n",
       "    </tr>\n",
       "    <tr>\n",
       "      <th>CR9 Florianópolis/SC</th>\n",
       "      <td>41.0</td>\n",
       "      <td>NaN</td>\n",
       "    </tr>\n",
       "    <tr>\n",
       "      <th>CR3 Santarém/PA</th>\n",
       "      <td>NaN</td>\n",
       "      <td>24.0</td>\n",
       "    </tr>\n",
       "  </tbody>\n",
       "</table>\n",
       "</div>"
      ],
      "text/plain": [
       "Monitoramento PRODES             Não   Sim\n",
       "Coordenação Regional do ICMBio            \n",
       "CR4 Belém/PA                     1.0  38.0\n",
       "CR1 Porto Velho/RO               1.0  40.0\n",
       "CR10 Cuiabá/MT                   2.0   8.0\n",
       "CR2 Manaus/AM                    2.0  27.0\n",
       "CR5 Parnaíba/PI                  7.0  11.0\n",
       "CR11 Lagoa Santa/MG              7.0  22.0\n",
       "CR7 Porto Seguro/BA             28.0   1.0\n",
       "CR8 Rio de Janeiro/RJ           32.0   3.0\n",
       "CR6 Cabedelo/PB                 32.0   NaN\n",
       "CR9 Florianópolis/SC            41.0   NaN\n",
       "CR3 Santarém/PA                  NaN  24.0"
      ]
     },
     "execution_count": 44,
     "metadata": {},
     "output_type": "execute_result"
    }
   ],
   "source": [
    "#O algoritmo abaixo agrupei o monitoraento do Prodes pelos Estados, utilizei o value_counts()  para ver as frequências dos valores Não e sim\n",
    "#O unstack foi para reunir os valores agrupados para cada índice e dei um sort_values para ordenar pelas colunas e por ascedenten:\n",
    "fs = dados['Monitoramento PRODES'].groupby(dados['Coordenação Regional do ICMBio']).value_counts().unstack().sort_values(by=['Não','Sim'],ascending=True)\n",
    "\n",
    "#criando o DataFrame\n",
    "fsD = pd.DataFrame(fs)\n",
    "fsD\n",
    "#Caso interessante de NaN, significado: não existe registro de Não ou Sim para aquela coordenação regional."
   ]
  },
  {
   "cell_type": "code",
   "execution_count": 45,
   "metadata": {},
   "outputs": [
    {
     "data": {
      "text/plain": [
       "array(['Não', 'Sim'], dtype=object)"
      ]
     },
     "execution_count": 45,
     "metadata": {},
     "output_type": "execute_result"
    }
   ],
   "source": [
    "#O NaN significa que não possui registro para aquela coordenação o valor de não ou sim, essa array é de strings...\n",
    "# Ou seja, esses estados \"possuem ou não\" monitoramento pelo PRODES, tirando a prova de que no array só existe dois elementos:\n",
    "\n",
    "dados['Monitoramento PRODES'].unique()\n",
    "#bserve que são strings a presença do NaN é possível."
   ]
  },
  {
   "cell_type": "markdown",
   "metadata": {},
   "source": [
    "<h5> montando o gráfico observamos quais estados possuem ou não monitoramento pelo PRODES </h5>"
   ]
  },
  {
   "cell_type": "code",
   "execution_count": 46,
   "metadata": {},
   "outputs": [
    {
     "data": {
      "text/plain": [
       "Text(0, 0.5, 'Frequência')"
      ]
     },
     "execution_count": 46,
     "metadata": {},
     "output_type": "execute_result"
    },
    {
     "data": {
      "image/png": "[encoded data removed]",
      "text/plain": [
       "<Figure size 432x288 with 1 Axes>"
      ]
     },
     "metadata": {
      "needs_background": "light"
     },
     "output_type": "display_data"
    }
   ],
   "source": [
    "#Contruindo o bar através de empilhamento pelo stacked=True com largura=0.02\n",
    "fsD.plot.bar(stacked=True, width=0.2, color=['darkred','green'])\n",
    "\n",
    "#Estilizando o gráfico\n",
    "plt.legend(loc='upper center')\n",
    "plt.title('Gráfico 16: Monitoramento do PRODES por Coordenações de estados')\n",
    "plt.ylabel('Frequência')"
   ]
  },
  {
   "cell_type": "markdown",
   "metadata": {},
   "source": [
    "<h3> 5 - Tamanho da área desmatada em relação a existência de monitoramento do PRODES? 1998 até 2018.</h3>"
   ]
  },
  {
   "cell_type": "code",
   "execution_count": 47,
   "metadata": {},
   "outputs": [
    {
     "data": {
      "text/html": [
       "<div>\n",
       "<style scoped>\n",
       "    .dataframe tbody tr th:only-of-type {\n",
       "        vertical-align: middle;\n",
       "    }\n",
       "\n",
       "    .dataframe tbody tr th {\n",
       "        vertical-align: top;\n",
       "    }\n",
       "\n",
       "    .dataframe thead th {\n",
       "        text-align: right;\n",
       "    }\n",
       "</style>\n",
       "<table border=\"1\" class=\"dataframe\">\n",
       "  <thead>\n",
       "    <tr style=\"text-align: right;\">\n",
       "      <th></th>\n",
       "      <th>Desmata_1998-2018</th>\n",
       "    </tr>\n",
       "    <tr>\n",
       "      <th>Monitoramento PRODES</th>\n",
       "      <th></th>\n",
       "    </tr>\n",
       "  </thead>\n",
       "  <tbody>\n",
       "    <tr>\n",
       "      <th>Não</th>\n",
       "      <td>12.6</td>\n",
       "    </tr>\n",
       "    <tr>\n",
       "      <th>Sim</th>\n",
       "      <td>282380.0</td>\n",
       "    </tr>\n",
       "  </tbody>\n",
       "</table>\n",
       "</div>"
      ],
      "text/plain": [
       "                      Desmata_1998-2018\n",
       "Monitoramento PRODES                   \n",
       "Não                                12.6\n",
       "Sim                            282380.0"
      ]
     },
     "execution_count": 47,
     "metadata": {},
     "output_type": "execute_result"
    }
   ],
   "source": [
    "#Agrupando a base de dados do Desmatamento \n",
    "DesPro =dados['Desmata_1998-2018'].groupby(dados['Monitoramento PRODES']).sum()\n",
    "DesPro\n",
    "dsp = pd.DataFrame(DesPro)\n",
    "dsp\n",
    "#Observe que a área que não tem monitoramento do PRODES não teve muita área desmatada:"
   ]
  },
  {
   "cell_type": "markdown",
   "metadata": {},
   "source": [
    "<h5>A área é tão pequena que some perante ao total monitorado pelo PRODES:</h5>"
   ]
  },
  {
   "cell_type": "code",
   "execution_count": 48,
   "metadata": {},
   "outputs": [
    {
     "data": {
      "text/plain": [
       "Text(0.5, 1.0, 'Gráfico 17: Área total desmatada sob monitoramento do PRODES')"
      ]
     },
     "execution_count": 48,
     "metadata": {},
     "output_type": "execute_result"
    },
    {
     "data": {
      "image/png": "[encoded data removed]",
      "text/plain": [
       "<Figure size 432x288 with 1 Axes>"
      ]
     },
     "metadata": {
      "needs_background": "light"
     },
     "output_type": "display_data"
    }
   ],
   "source": [
    "#Plotando o gráfico escolhando a largura da barra e plotando o nome dos eixos e títulos:\n",
    "DesPro.plot(kind='bar', width=0.1, color='purple')\n",
    "plt.ylabel('Área total desmatada')\n",
    "plt.title('Gráfico 17: Área total desmatada sob monitoramento do PRODES')"
   ]
  },
  {
   "cell_type": "markdown",
   "metadata": {},
   "source": [
    "<h3>6 - Qual o valor da área queimada por bioma até 1997  </h3>\n",
    "\n",
    "<h5>Para anos abaixo de 1997 existe poucos volumes de desmatamento registrados, apenas no bioma da amazônia e cerrado como <br>podemos ver, na busca por respostas identifiquei que o PRODES existe monitorando desde os anos de 1988, mas as informações\n",
    "<br>só tiveram legislação para acesso ao púlico em geral só depois de 2004.</h5>"
   ]
  },
  {
   "cell_type": "code",
   "execution_count": 49,
   "metadata": {},
   "outputs": [],
   "source": [
    "#Agrupando os dados dos desmatamentos pelo Bioma referencial e pedindo a soma dos valores das áreas desmatadas?\n",
    "sd97= dados['PRODES (acumulado até 1997)'].groupby(dados['Bioma referencial']).sum()"
   ]
  },
  {
   "cell_type": "code",
   "execution_count": 50,
   "metadata": {},
   "outputs": [
    {
     "data": {
      "text/html": [
       "<div>\n",
       "<style scoped>\n",
       "    .dataframe tbody tr th:only-of-type {\n",
       "        vertical-align: middle;\n",
       "    }\n",
       "\n",
       "    .dataframe tbody tr th {\n",
       "        vertical-align: top;\n",
       "    }\n",
       "\n",
       "    .dataframe thead th {\n",
       "        text-align: right;\n",
       "    }\n",
       "</style>\n",
       "<table border=\"1\" class=\"dataframe\">\n",
       "  <thead>\n",
       "    <tr style=\"text-align: right;\">\n",
       "      <th></th>\n",
       "      <th>PRODES (acumulado até 1997)</th>\n",
       "    </tr>\n",
       "    <tr>\n",
       "      <th>Bioma referencial</th>\n",
       "      <th></th>\n",
       "    </tr>\n",
       "  </thead>\n",
       "  <tbody>\n",
       "    <tr>\n",
       "      <th>Amazônia</th>\n",
       "      <td>18202.2</td>\n",
       "    </tr>\n",
       "    <tr>\n",
       "      <th>Caatinga</th>\n",
       "      <td>0.0</td>\n",
       "    </tr>\n",
       "    <tr>\n",
       "      <th>Cerrado</th>\n",
       "      <td>413.3</td>\n",
       "    </tr>\n",
       "    <tr>\n",
       "      <th>Marinho-Costeiro</th>\n",
       "      <td>0.0</td>\n",
       "    </tr>\n",
       "    <tr>\n",
       "      <th>Mata Atlântica</th>\n",
       "      <td>0.0</td>\n",
       "    </tr>\n",
       "    <tr>\n",
       "      <th>Pampas</th>\n",
       "      <td>0.0</td>\n",
       "    </tr>\n",
       "    <tr>\n",
       "      <th>Pantanal</th>\n",
       "      <td>0.0</td>\n",
       "    </tr>\n",
       "  </tbody>\n",
       "</table>\n",
       "</div>"
      ],
      "text/plain": [
       "                   PRODES (acumulado até 1997)\n",
       "Bioma referencial                             \n",
       "Amazônia                               18202.2\n",
       "Caatinga                                   0.0\n",
       "Cerrado                                  413.3\n",
       "Marinho-Costeiro                           0.0\n",
       "Mata Atlântica                             0.0\n",
       "Pampas                                     0.0\n",
       "Pantanal                                   0.0"
      ]
     },
     "execution_count": 50,
     "metadata": {},
     "output_type": "execute_result"
    }
   ],
   "source": [
    "#Pela visualização do dataframe criado abaixo vemos que apenas a amazônia e o cerrado contam com números de áreas desmatadas;\n",
    "df97 = pd.DataFrame(sd97)\n",
    "df97"
   ]
  },
  {
   "cell_type": "markdown",
   "metadata": {},
   "source": [
    "<h5>plotando o gráfico: </h5>"
   ]
  },
  {
   "cell_type": "code",
   "execution_count": 51,
   "metadata": {},
   "outputs": [
    {
     "data": {
      "text/plain": [
       "Text(0, 0.5, 'Área desmatada')"
      ]
     },
     "execution_count": 51,
     "metadata": {},
     "output_type": "execute_result"
    },
    {
     "data": {
      "image/png": "[encoded data removed]",
      "text/plain": [
       "<Figure size 432x288 with 1 Axes>"
      ]
     },
     "metadata": {
      "needs_background": "light"
     },
     "output_type": "display_data"
    }
   ],
   "source": [
    "#Aplicando o plot em bar e color navy, colocando eixos e colunas:\n",
    "df97.plot.bar(color='navy')\n",
    "plt.title('Gráfico 18: Áreas desmatada no acumulado até 1997')\n",
    "plt.ylabel('Área desmatada')"
   ]
  },
  {
   "cell_type": "markdown",
   "metadata": {},
   "source": [
    "<center><h3>FIM</h3><center>"
   ]
  }
 ],
 "metadata": {
  "kernelspec": {
   "display_name": "Python 3",
   "language": "python",
   "name": "python3"
  },
  "language_info": {
   "codemirror_mode": {
    "name": "ipython",
    "version": 3
   },
   "file_extension": ".py",
   "mimetype": "text/x-python",
   "name": "python",
   "nbconvert_exporter": "python",
   "pygments_lexer": "ipython3",
   "version": "3.7.3"
  }
 },
 "nbformat": 4,
 "nbformat_minor": 2
}
